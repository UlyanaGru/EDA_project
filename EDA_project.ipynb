{
 "cells": [
  {
   "cell_type": "code",
   "execution_count": 1,
   "id": "368af0ea",
   "metadata": {},
   "outputs": [
    {
     "data": {
      "text/html": [
       "<div>\n",
       "<style scoped>\n",
       "    .dataframe tbody tr th:only-of-type {\n",
       "        vertical-align: middle;\n",
       "    }\n",
       "\n",
       "    .dataframe tbody tr th {\n",
       "        vertical-align: top;\n",
       "    }\n",
       "\n",
       "    .dataframe thead th {\n",
       "        text-align: right;\n",
       "    }\n",
       "</style>\n",
       "<table border=\"1\" class=\"dataframe\">\n",
       "  <thead>\n",
       "    <tr style=\"text-align: right;\">\n",
       "      <th></th>\n",
       "      <th>hotel_address</th>\n",
       "      <th>additional_number_of_scoring</th>\n",
       "      <th>review_date</th>\n",
       "      <th>average_score</th>\n",
       "      <th>hotel_name</th>\n",
       "      <th>reviewer_nationality</th>\n",
       "      <th>negative_review</th>\n",
       "      <th>review_total_negative_word_counts</th>\n",
       "      <th>total_number_of_reviews</th>\n",
       "      <th>positive_review</th>\n",
       "      <th>review_total_positive_word_counts</th>\n",
       "      <th>total_number_of_reviews_reviewer_has_given</th>\n",
       "      <th>reviewer_score</th>\n",
       "      <th>tags</th>\n",
       "      <th>days_since_review</th>\n",
       "      <th>lat</th>\n",
       "      <th>lng</th>\n",
       "    </tr>\n",
       "  </thead>\n",
       "  <tbody>\n",
       "    <tr>\n",
       "      <th>0</th>\n",
       "      <td>Stratton Street Mayfair Westminster Borough Lo...</td>\n",
       "      <td>581</td>\n",
       "      <td>2/19/2016</td>\n",
       "      <td>8.4</td>\n",
       "      <td>The May Fair Hotel</td>\n",
       "      <td>United Kingdom</td>\n",
       "      <td>Leaving</td>\n",
       "      <td>3</td>\n",
       "      <td>1994</td>\n",
       "      <td>Staff were amazing</td>\n",
       "      <td>4</td>\n",
       "      <td>7</td>\n",
       "      <td>10.0</td>\n",
       "      <td>[' Leisure trip ', ' Couple ', ' Studio Suite ...</td>\n",
       "      <td>531 day</td>\n",
       "      <td>51.507894</td>\n",
       "      <td>-0.143671</td>\n",
       "    </tr>\n",
       "    <tr>\n",
       "      <th>1</th>\n",
       "      <td>130 134 Southampton Row Camden London WC1B 5AF...</td>\n",
       "      <td>299</td>\n",
       "      <td>1/12/2017</td>\n",
       "      <td>8.3</td>\n",
       "      <td>Mercure London Bloomsbury Hotel</td>\n",
       "      <td>United Kingdom</td>\n",
       "      <td>poor breakfast</td>\n",
       "      <td>3</td>\n",
       "      <td>1361</td>\n",
       "      <td>location</td>\n",
       "      <td>2</td>\n",
       "      <td>14</td>\n",
       "      <td>6.3</td>\n",
       "      <td>[' Business trip ', ' Couple ', ' Standard Dou...</td>\n",
       "      <td>203 day</td>\n",
       "      <td>51.521009</td>\n",
       "      <td>-0.123097</td>\n",
       "    </tr>\n",
       "    <tr>\n",
       "      <th>2</th>\n",
       "      <td>151 bis Rue de Rennes 6th arr 75006 Paris France</td>\n",
       "      <td>32</td>\n",
       "      <td>10/18/2016</td>\n",
       "      <td>8.9</td>\n",
       "      <td>Legend Saint Germain by Elegancia</td>\n",
       "      <td>China</td>\n",
       "      <td>No kettle in room</td>\n",
       "      <td>6</td>\n",
       "      <td>406</td>\n",
       "      <td>No Positive</td>\n",
       "      <td>0</td>\n",
       "      <td>14</td>\n",
       "      <td>7.5</td>\n",
       "      <td>[' Leisure trip ', ' Solo traveler ', ' Modern...</td>\n",
       "      <td>289 day</td>\n",
       "      <td>48.845377</td>\n",
       "      <td>2.325643</td>\n",
       "    </tr>\n",
       "    <tr>\n",
       "      <th>3</th>\n",
       "      <td>216 Avenue Jean Jaures 19th arr 75019 Paris Fr...</td>\n",
       "      <td>34</td>\n",
       "      <td>9/22/2015</td>\n",
       "      <td>7.5</td>\n",
       "      <td>Mercure Paris 19 Philharmonie La Villette</td>\n",
       "      <td>United Kingdom</td>\n",
       "      <td>No Negative</td>\n",
       "      <td>0</td>\n",
       "      <td>607</td>\n",
       "      <td>Friendly staff quiet comfortable room spotles...</td>\n",
       "      <td>11</td>\n",
       "      <td>8</td>\n",
       "      <td>10.0</td>\n",
       "      <td>[' Leisure trip ', ' Solo traveler ', ' Standa...</td>\n",
       "      <td>681 day</td>\n",
       "      <td>48.888697</td>\n",
       "      <td>2.394540</td>\n",
       "    </tr>\n",
       "    <tr>\n",
       "      <th>4</th>\n",
       "      <td>Molenwerf 1 1014 AG Amsterdam Netherlands</td>\n",
       "      <td>914</td>\n",
       "      <td>3/5/2016</td>\n",
       "      <td>8.5</td>\n",
       "      <td>Golden Tulip Amsterdam West</td>\n",
       "      <td>Poland</td>\n",
       "      <td>Torn sheets</td>\n",
       "      <td>4</td>\n",
       "      <td>7586</td>\n",
       "      <td>The staff was very friendly and helpful Break...</td>\n",
       "      <td>20</td>\n",
       "      <td>10</td>\n",
       "      <td>9.6</td>\n",
       "      <td>[' Business trip ', ' Couple ', ' Standard Dou...</td>\n",
       "      <td>516 day</td>\n",
       "      <td>52.385601</td>\n",
       "      <td>4.847060</td>\n",
       "    </tr>\n",
       "  </tbody>\n",
       "</table>\n",
       "</div>"
      ],
      "text/plain": [
       "                                       hotel_address  \\\n",
       "0  Stratton Street Mayfair Westminster Borough Lo...   \n",
       "1  130 134 Southampton Row Camden London WC1B 5AF...   \n",
       "2   151 bis Rue de Rennes 6th arr 75006 Paris France   \n",
       "3  216 Avenue Jean Jaures 19th arr 75019 Paris Fr...   \n",
       "4          Molenwerf 1 1014 AG Amsterdam Netherlands   \n",
       "\n",
       "   additional_number_of_scoring review_date  average_score  \\\n",
       "0                           581   2/19/2016            8.4   \n",
       "1                           299   1/12/2017            8.3   \n",
       "2                            32  10/18/2016            8.9   \n",
       "3                            34   9/22/2015            7.5   \n",
       "4                           914    3/5/2016            8.5   \n",
       "\n",
       "                                  hotel_name reviewer_nationality  \\\n",
       "0                         The May Fair Hotel      United Kingdom    \n",
       "1            Mercure London Bloomsbury Hotel      United Kingdom    \n",
       "2          Legend Saint Germain by Elegancia               China    \n",
       "3  Mercure Paris 19 Philharmonie La Villette      United Kingdom    \n",
       "4                Golden Tulip Amsterdam West              Poland    \n",
       "\n",
       "       negative_review  review_total_negative_word_counts  \\\n",
       "0             Leaving                                   3   \n",
       "1       poor breakfast                                  3   \n",
       "2   No kettle in room                                   6   \n",
       "3          No Negative                                  0   \n",
       "4         Torn sheets                                   4   \n",
       "\n",
       "   total_number_of_reviews                                    positive_review  \\\n",
       "0                     1994                                 Staff were amazing   \n",
       "1                     1361                                           location   \n",
       "2                      406                                        No Positive   \n",
       "3                      607   Friendly staff quiet comfortable room spotles...   \n",
       "4                     7586   The staff was very friendly and helpful Break...   \n",
       "\n",
       "   review_total_positive_word_counts  \\\n",
       "0                                  4   \n",
       "1                                  2   \n",
       "2                                  0   \n",
       "3                                 11   \n",
       "4                                 20   \n",
       "\n",
       "   total_number_of_reviews_reviewer_has_given  reviewer_score  \\\n",
       "0                                           7            10.0   \n",
       "1                                          14             6.3   \n",
       "2                                          14             7.5   \n",
       "3                                           8            10.0   \n",
       "4                                          10             9.6   \n",
       "\n",
       "                                                tags days_since_review  \\\n",
       "0  [' Leisure trip ', ' Couple ', ' Studio Suite ...           531 day   \n",
       "1  [' Business trip ', ' Couple ', ' Standard Dou...           203 day   \n",
       "2  [' Leisure trip ', ' Solo traveler ', ' Modern...           289 day   \n",
       "3  [' Leisure trip ', ' Solo traveler ', ' Standa...           681 day   \n",
       "4  [' Business trip ', ' Couple ', ' Standard Dou...           516 day   \n",
       "\n",
       "         lat       lng  \n",
       "0  51.507894 -0.143671  \n",
       "1  51.521009 -0.123097  \n",
       "2  48.845377  2.325643  \n",
       "3  48.888697  2.394540  \n",
       "4  52.385601  4.847060  "
      ]
     },
     "execution_count": 1,
     "metadata": {},
     "output_type": "execute_result"
    }
   ],
   "source": [
    "import pandas as pd\n",
    "# Считывание данных\n",
    "hotels = pd.read_csv('data/hotels.csv')\n",
    "# Вывод первых нескольких строк\n",
    "hotels.head()"
   ]
  },
  {
   "cell_type": "code",
   "execution_count": 2,
   "id": "115c88c7",
   "metadata": {},
   "outputs": [
    {
     "name": "stdout",
     "output_type": "stream",
     "text": [
      "<class 'pandas.core.frame.DataFrame'>\n",
      "RangeIndex: 386803 entries, 0 to 386802\n",
      "Data columns (total 17 columns):\n",
      " #   Column                                      Non-Null Count   Dtype  \n",
      "---  ------                                      --------------   -----  \n",
      " 0   hotel_address                               386803 non-null  object \n",
      " 1   additional_number_of_scoring                386803 non-null  int64  \n",
      " 2   review_date                                 386803 non-null  object \n",
      " 3   average_score                               386803 non-null  float64\n",
      " 4   hotel_name                                  386803 non-null  object \n",
      " 5   reviewer_nationality                        386803 non-null  object \n",
      " 6   negative_review                             386803 non-null  object \n",
      " 7   review_total_negative_word_counts           386803 non-null  int64  \n",
      " 8   total_number_of_reviews                     386803 non-null  int64  \n",
      " 9   positive_review                             386803 non-null  object \n",
      " 10  review_total_positive_word_counts           386803 non-null  int64  \n",
      " 11  total_number_of_reviews_reviewer_has_given  386803 non-null  int64  \n",
      " 12  reviewer_score                              386803 non-null  float64\n",
      " 13  tags                                        386803 non-null  object \n",
      " 14  days_since_review                           386803 non-null  object \n",
      " 15  lat                                         384355 non-null  float64\n",
      " 16  lng                                         384355 non-null  float64\n",
      "dtypes: float64(4), int64(5), object(8)\n",
      "memory usage: 50.2+ MB\n"
     ]
    }
   ],
   "source": [
    "# Создание копии датасета\n",
    "data = hotels.copy()\n",
    "# Вывод информации о пропусках\n",
    "data.info()"
   ]
  },
  {
   "cell_type": "code",
   "execution_count": 3,
   "id": "5a02964d",
   "metadata": {},
   "outputs": [
    {
     "data": {
      "text/plain": [
       "hotel_address                                  object\n",
       "additional_number_of_scoring                    int64\n",
       "review_date                                    object\n",
       "average_score                                 float64\n",
       "hotel_name                                     object\n",
       "reviewer_nationality                           object\n",
       "negative_review                                object\n",
       "review_total_negative_word_counts               int64\n",
       "total_number_of_reviews                         int64\n",
       "positive_review                                object\n",
       "review_total_positive_word_counts               int64\n",
       "total_number_of_reviews_reviewer_has_given      int64\n",
       "reviewer_score                                float64\n",
       "tags                                           object\n",
       "days_since_review                              object\n",
       "lat                                           float64\n",
       "lng                                           float64\n",
       "dtype: object"
      ]
     },
     "execution_count": 3,
     "metadata": {},
     "output_type": "execute_result"
    }
   ],
   "source": [
    "# Вывод типа данных каждого столбца\n",
    "data.dtypes"
   ]
  },
  {
   "cell_type": "code",
   "execution_count": 4,
   "id": "23ea325f",
   "metadata": {},
   "outputs": [],
   "source": [
    "# Разбиваем датафрейм на части, необходимые для обучения и тестирования модели  \n",
    "# Х — данные с информацией об отелях, у — целевая переменная (рейтинги отелей) \n",
    "X = data.drop(['reviewer_score'], axis = 1)  \n",
    "y = data['reviewer_score']\n",
    "# Загружаем специальный инструмент для разбивки:  \n",
    "from sklearn.model_selection import train_test_split  \n",
    "# Наборы данных с меткой \"train\" будут использоваться для обучения модели, \"test\" - для тестирования.  \n",
    "# Для тестирования мы будем использовать 25% от исходного датасета.  \n",
    "X_train, X_test, y_train, y_test = train_test_split(X, y, test_size=0.25, random_state=42)"
   ]
  },
  {
   "cell_type": "code",
   "execution_count": 5,
   "id": "39c2fb45",
   "metadata": {},
   "outputs": [],
   "source": [
    "# Импортируем необходимые библиотеки:  \n",
    "from sklearn.ensemble import RandomForestRegressor # инструмент для создания и обучения модели  \n",
    "from sklearn import metrics # инструменты для оценки точности модели  \n",
    "# Создаём модель  \n",
    "regr = RandomForestRegressor(n_estimators=100)\n",
    "# Учет только численных данных\n",
    "X_train = X_train.select_dtypes(include=['int64', 'float64'])\n",
    "X_test = X_test.select_dtypes(include=['int64', 'float64'])\n",
    "# Обучаем модель на тестовом наборе данных  \n",
    "regr.fit(X_train, y_train) \n",
    "# Используем обученную модель для предсказания рейтинга отелей в тестовой выборке.  \n",
    "# Предсказанные значения записываем в переменную y_pred  \n",
    "y_pred = regr.predict(X_test)"
   ]
  },
  {
   "cell_type": "code",
   "execution_count": 6,
   "id": "b7c645f2",
   "metadata": {},
   "outputs": [
    {
     "name": "stdout",
     "output_type": "stream",
     "text": [
      "MAPE: 0.1413678461855926\n"
     ]
    }
   ],
   "source": [
    "# Сравниваем предсказанные значения (y_pred) с реальными (y_test), и смотрим насколько они отличаются  \n",
    "# Метрика называется Mean Absolute Percentage Error (MAPE) и показывает среднюю абсолютную процентную ошибку предсказанных значений от фактических.  \n",
    "print('MAPE:', metrics.mean_absolute_percentage_error(y_test, y_pred))"
   ]
  },
  {
   "cell_type": "markdown",
   "id": "d18de4ca",
   "metadata": {},
   "source": [
    "Далее стоит задача повышения точности прогнозов. Нужно подготовить данные"
   ]
  },
  {
   "cell_type": "markdown",
   "id": "da5dfc0f",
   "metadata": {},
   "source": [
    "## 1. Работа со строковыми значениями"
   ]
  },
  {
   "cell_type": "code",
   "execution_count": 7,
   "id": "37b5eb41",
   "metadata": {},
   "outputs": [
    {
     "data": {
      "text/plain": [
       "['hotel_address',\n",
       " 'review_date',\n",
       " 'hotel_name',\n",
       " 'reviewer_nationality',\n",
       " 'negative_review',\n",
       " 'positive_review',\n",
       " 'tags',\n",
       " 'days_since_review']"
      ]
     },
     "execution_count": 7,
     "metadata": {},
     "output_type": "execute_result"
    }
   ],
   "source": [
    "# Вывод столбцов, содержащих строковые значения\n",
    "data_columns_obj = data.select_dtypes(include=['object']).columns.to_list()\n",
    "data_columns_obj "
   ]
  },
  {
   "cell_type": "markdown",
   "id": "6b1a96ee",
   "metadata": {},
   "source": [
    "### 1.1 Адрес отеля"
   ]
  },
  {
   "cell_type": "code",
   "execution_count": 8,
   "id": "105cbb9b",
   "metadata": {},
   "outputs": [
    {
     "data": {
      "text/plain": [
       "0    Stratton Street Mayfair Westminster Borough Lo...\n",
       "1    130 134 Southampton Row Camden London WC1B 5AF...\n",
       "Name: hotel_address, dtype: object"
      ]
     },
     "execution_count": 8,
     "metadata": {},
     "output_type": "execute_result"
    }
   ],
   "source": [
    "data['hotel_address'].head(2)"
   ]
  },
  {
   "cell_type": "code",
   "execution_count": 9,
   "id": "3b8f42f3",
   "metadata": {},
   "outputs": [
    {
     "data": {
      "text/plain": [
       "hotel_address\n",
       "163 Marsh Wall Docklands Tower Hamlets London E14 9SJ United Kingdom              3587\n",
       "372 Strand Westminster Borough London WC2R 0JJ United Kingdom                     3206\n",
       "Westminster Bridge Road Lambeth London SE1 7UT United Kingdom                     3095\n",
       "Scarsdale Place Kensington Kensington and Chelsea London W8 5SY United Kingdom    2688\n",
       "7 Pepys Street City of London London EC3N 4AF United Kingdom                      2379\n",
       "                                                                                  ... \n",
       "Via Palmanova 153 20132 Milan Italy                                                  7\n",
       "40 Rue Rene Boulanger 10th arr 75010 Paris France                                    7\n",
       "Via M Buonarroti 13 Fiera Milano City 20149 Milan Italy                              6\n",
       "Johann Staud Stra e 32 16 Ottakring 1160 Vienna Austria                              6\n",
       "13 Rue Fran ois Ory 92120 Paris France                                               5\n",
       "Name: count, Length: 1493, dtype: int64"
      ]
     },
     "execution_count": 9,
     "metadata": {},
     "output_type": "execute_result"
    }
   ],
   "source": [
    "data['hotel_address'].value_counts()"
   ]
  },
  {
   "cell_type": "markdown",
   "id": "71f1baa6",
   "metadata": {},
   "source": [
    "Столбцы содержат название города и страны расположения отеля, их можно излвечь с помощью регулярных выражений"
   ]
  },
  {
   "cell_type": "code",
   "execution_count": null,
   "id": "e4c99c45",
   "metadata": {},
   "outputs": [],
   "source": [
    "# Импорт бибилиотеки для работы с регулрными выражениями\n",
    "import re\n",
    "# Регулярное выражение для поиска сочетаний слов в конце строки\n",
    "regular_form = r'([A-Z][a-z]+(?: [A-Z][a-z]+)*)$'\n",
    "data['city_country'] = data['hotel_address'].apply(lambda x: re.search(regular_form, x).group())"
   ]
  },
  {
   "cell_type": "code",
   "execution_count": 11,
   "id": "32422b93",
   "metadata": {},
   "outputs": [],
   "source": [
    "# Вычленияем страну\n",
    "data['country'] = data['city_country'].apply(lambda x: x if x == 'United Kingdom' else x.split()[1])\n",
    "# Поиск города\n",
    "data['city'] = data['city_country'].apply(lambda x: 'London' if x == 'United Kingdom' else x.split()[0])\n",
    "# Удаление старого признака\n",
    "data = data.drop(['city_country'], axis=1)"
   ]
  },
  {
   "cell_type": "markdown",
   "id": "09d11372",
   "metadata": {},
   "source": [
    "### 1.2 Дата"
   ]
  },
  {
   "cell_type": "code",
   "execution_count": 12,
   "id": "c0fc64af",
   "metadata": {},
   "outputs": [
    {
     "data": {
      "text/plain": [
       "0    2/19/2016\n",
       "1    1/12/2017\n",
       "Name: review_date, dtype: object"
      ]
     },
     "execution_count": 12,
     "metadata": {},
     "output_type": "execute_result"
    }
   ],
   "source": [
    "data['review_date'].head(2)"
   ]
  },
  {
   "cell_type": "markdown",
   "id": "27cf7029",
   "metadata": {},
   "source": [
    "Можно использовать для извлечения дня, месяца или года"
   ]
  },
  {
   "cell_type": "code",
   "execution_count": 13,
   "id": "8a4dea49",
   "metadata": {},
   "outputs": [],
   "source": [
    "# Пребобразование в формат datetime - удобно извлекать\n",
    "data['review_date'] = pd.to_datetime(data['review_date'])"
   ]
  },
  {
   "cell_type": "markdown",
   "id": "669db072",
   "metadata": {},
   "source": [
    "### 1.3 Название отеля"
   ]
  },
  {
   "cell_type": "code",
   "execution_count": 14,
   "id": "0420df87",
   "metadata": {},
   "outputs": [
    {
     "data": {
      "text/plain": [
       "0                 The May Fair Hotel\n",
       "1    Mercure London Bloomsbury Hotel\n",
       "Name: hotel_name, dtype: object"
      ]
     },
     "execution_count": 14,
     "metadata": {},
     "output_type": "execute_result"
    }
   ],
   "source": [
    "data['hotel_name'].head(2)"
   ]
  },
  {
   "cell_type": "markdown",
   "id": "215bfd30",
   "metadata": {},
   "source": [
    "Можно использовать как наблюдение за самым распространенным в списке отелем. Но для модели создавать численный признак из этого затратно\\\n",
    "Поэтому из названия предлагается вытащить принадлежность отеля к какой-либо категории"
   ]
  },
  {
   "cell_type": "code",
   "execution_count": 15,
   "id": "257603fc",
   "metadata": {},
   "outputs": [
    {
     "data": {
      "text/plain": [
       "hotel_name\n",
       "Britannia International Hotel Canary Wharf           3587\n",
       "Strand Palace Hotel                                  3206\n",
       "Park Plaza Westminster Bridge London                 3095\n",
       "Copthorne Tara Hotel London Kensington               2688\n",
       "DoubleTree by Hilton Hotel London Tower of London    2379\n",
       "                                                     ... \n",
       "Ibis Styles Milano Palmanova                            7\n",
       "Renaissance Paris Republique Hotel Spa                  7\n",
       "Hotel Wagner                                            6\n",
       "Hotel Gallitzinberg                                     6\n",
       "Mercure Paris Porte d Orleans                           5\n",
       "Name: count, Length: 1492, dtype: int64"
      ]
     },
     "execution_count": 15,
     "metadata": {},
     "output_type": "execute_result"
    }
   ],
   "source": [
    "data['hotel_name'].value_counts()"
   ]
  },
  {
   "cell_type": "code",
   "execution_count": null,
   "id": "b1544afb",
   "metadata": {},
   "outputs": [],
   "source": [
    "# Извлечение сетевых брендов\n",
    "data['brand'] = data['hotel_name'].str.extract(r'(Hilton|Marriott|Ibis|Mercure|Renaissance|DoubleTree|Britannia|Park Plaza|Copthorne)')\n",
    "# Статистика по брендам\n",
    "brand_stats = data['brand'].value_counts()"
   ]
  },
  {
   "cell_type": "code",
   "execution_count": 24,
   "id": "70154669",
   "metadata": {},
   "outputs": [],
   "source": [
    "# Создание списков слов-индикаторов для оценки уровня отеля\n",
    "luxury_keywords = ['Plaza', 'Palace', 'Royal', 'Boutique']\n",
    "business_keywords = ['Hilton', 'Marriott', 'DoubleTree']\n",
    "budget_keywords = ['Ibis', 'Travelodge']\n",
    "# Классификация\n",
    "data['class'] = 'other'\n",
    "data.loc[data['hotel_name'].str.contains('|'.join(luxury_keywords)), 'class'] = 'luxury'\n",
    "data.loc[data['hotel_name'].str.contains('|'.join(business_keywords)), 'class'] = 'business'\n",
    "data.loc[data['hotel_name'].str.contains('|'.join(budget_keywords)), 'class'] = 'budget'"
   ]
  },
  {
   "cell_type": "code",
   "execution_count": 25,
   "id": "dca86aba",
   "metadata": {},
   "outputs": [],
   "source": [
    "# Наличие терминов Spa\n",
    "data['has_spa'] = data['hotel_name'].str.contains('Spa').astype(int)\n",
    "# Количество слов\n",
    "data['word_count'] = data['hotel_name'].str.split().str.len()\n",
    "# Извлечение типа заведения\n",
    "hotel_types = ['Hotel', 'Resort', 'Inn', 'Suites', 'Lodge']\n",
    "data['type'] = data['hotel_name'].str.extract(f'({\"|\".join(hotel_types)})')[0]"
   ]
  },
  {
   "cell_type": "markdown",
   "id": "e228d1a0",
   "metadata": {},
   "source": [
    "### 1.4 Национальность рецензента"
   ]
  },
  {
   "cell_type": "code",
   "execution_count": 16,
   "id": "6662bcea",
   "metadata": {},
   "outputs": [
    {
     "data": {
      "text/plain": [
       "0     United Kingdom \n",
       "1     United Kingdom \n",
       "Name: reviewer_nationality, dtype: object"
      ]
     },
     "execution_count": 16,
     "metadata": {},
     "output_type": "execute_result"
    }
   ],
   "source": [
    "data['reviewer_nationality'].head(2)"
   ]
  },
  {
   "cell_type": "code",
   "execution_count": 27,
   "id": "8d6f1b5b",
   "metadata": {},
   "outputs": [],
   "source": [
    "# Извлечение страны\n",
    "data['reviewer_country'] = data['reviewer_nationality'].str.strip()\n",
    "# Группировка по регионам (пример)\n",
    "europe = ['United Kingdom', 'France', 'Germany', 'Spain', 'Italy']\n",
    "asia = ['China', 'Japan', 'India', 'United Arab Emirates']\n",
    "data['reviewer_region'] = data['reviewer_nationality'].apply(\n",
    "    lambda x: 'Europe' if x in europe else ('Asia' if x in asia else 'Other')\n",
    ")\n",
    "# Гость из той же страны, что и отель\n",
    "data['is_local'] = (data['reviewer_nationality'] == data['country']).astype(int)"
   ]
  },
  {
   "cell_type": "markdown",
   "id": "297f2b79",
   "metadata": {},
   "source": [
    "### 1.5 Негативная оценка"
   ]
  },
  {
   "cell_type": "code",
   "execution_count": 17,
   "id": "e252da74",
   "metadata": {},
   "outputs": [
    {
     "data": {
      "text/plain": [
       "0           Leaving \n",
       "1     poor breakfast\n",
       "Name: negative_review, dtype: object"
      ]
     },
     "execution_count": 17,
     "metadata": {},
     "output_type": "execute_result"
    }
   ],
   "source": [
    "data['negative_review'].head(2)"
   ]
  },
  {
   "cell_type": "code",
   "execution_count": 28,
   "id": "80f0a3cf",
   "metadata": {},
   "outputs": [],
   "source": [
    "# Словарь часто распространенных проблем\n",
    "issues = {\n",
    "    'cleanliness': ['dirty', 'clean', 'smell', 'stains'],\n",
    "    'service': ['staff', 'rude', 'service', 'wait'],\n",
    "    'amenities': ['WiFi', 'breakfast', 'bed', 'shower']\n",
    "}\n",
    "# Проверка на наличие проблемы из каждой категории в отзыве\n",
    "for category, keywords in issues.items():\n",
    "    data[f'issue_{category}'] = data['negative_review'].str.contains('|'.join(keywords), case=False).astype(int)"
   ]
  },
  {
   "cell_type": "code",
   "execution_count": 18,
   "id": "280345ea",
   "metadata": {},
   "outputs": [
    {
     "data": {
      "text/plain": [
       "0     Staff were amazing\n",
       "1               location\n",
       "Name: positive_review, dtype: object"
      ]
     },
     "execution_count": 18,
     "metadata": {},
     "output_type": "execute_result"
    }
   ],
   "source": [
    "data['positive_review'].head(2)"
   ]
  },
  {
   "cell_type": "code",
   "execution_count": 19,
   "id": "27aac4c8",
   "metadata": {},
   "outputs": [
    {
     "data": {
      "text/plain": [
       "0    [' Leisure trip ', ' Couple ', ' Studio Suite ...\n",
       "1    [' Business trip ', ' Couple ', ' Standard Dou...\n",
       "Name: tags, dtype: object"
      ]
     },
     "execution_count": 19,
     "metadata": {},
     "output_type": "execute_result"
    }
   ],
   "source": [
    "data['tags'].head(2)"
   ]
  },
  {
   "cell_type": "code",
   "execution_count": 20,
   "id": "1534b9a9",
   "metadata": {},
   "outputs": [
    {
     "data": {
      "text/plain": [
       "0    531 day\n",
       "1    203 day\n",
       "Name: days_since_review, dtype: object"
      ]
     },
     "execution_count": 20,
     "metadata": {},
     "output_type": "execute_result"
    }
   ],
   "source": [
    "data['days_since_review'].head(2)"
   ]
  },
  {
   "cell_type": "markdown",
   "id": "8cd1bc79",
   "metadata": {},
   "source": [
    "## 2. Работа с пропусками в данных"
   ]
  },
  {
   "cell_type": "markdown",
   "id": "b2bab26f",
   "metadata": {},
   "source": [
    "## 3. Создание новых признаков"
   ]
  },
  {
   "cell_type": "markdown",
   "id": "7a94577b",
   "metadata": {},
   "source": [
    "## 4. Преборазование признаков"
   ]
  },
  {
   "cell_type": "markdown",
   "id": "6df75a65",
   "metadata": {},
   "source": [
    "## 5. Отбор признаков"
   ]
  }
 ],
 "metadata": {
  "kernelspec": {
   "display_name": "Python 3",
   "language": "python",
   "name": "python3"
  },
  "language_info": {
   "codemirror_mode": {
    "name": "ipython",
    "version": 3
   },
   "file_extension": ".py",
   "mimetype": "text/x-python",
   "name": "python",
   "nbconvert_exporter": "python",
   "pygments_lexer": "ipython3",
   "version": "3.12.4"
  }
 },
 "nbformat": 4,
 "nbformat_minor": 5
}
