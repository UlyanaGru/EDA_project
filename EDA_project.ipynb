{
 "cells": [
  {
   "cell_type": "code",
   "execution_count": 127,
   "id": "368af0ea",
   "metadata": {},
   "outputs": [
    {
     "data": {
      "text/html": [
       "<div>\n",
       "<style scoped>\n",
       "    .dataframe tbody tr th:only-of-type {\n",
       "        vertical-align: middle;\n",
       "    }\n",
       "\n",
       "    .dataframe tbody tr th {\n",
       "        vertical-align: top;\n",
       "    }\n",
       "\n",
       "    .dataframe thead th {\n",
       "        text-align: right;\n",
       "    }\n",
       "</style>\n",
       "<table border=\"1\" class=\"dataframe\">\n",
       "  <thead>\n",
       "    <tr style=\"text-align: right;\">\n",
       "      <th></th>\n",
       "      <th>hotel_address</th>\n",
       "      <th>additional_number_of_scoring</th>\n",
       "      <th>review_date</th>\n",
       "      <th>average_score</th>\n",
       "      <th>hotel_name</th>\n",
       "      <th>reviewer_nationality</th>\n",
       "      <th>negative_review</th>\n",
       "      <th>review_total_negative_word_counts</th>\n",
       "      <th>total_number_of_reviews</th>\n",
       "      <th>positive_review</th>\n",
       "      <th>review_total_positive_word_counts</th>\n",
       "      <th>total_number_of_reviews_reviewer_has_given</th>\n",
       "      <th>reviewer_score</th>\n",
       "      <th>tags</th>\n",
       "      <th>days_since_review</th>\n",
       "      <th>lat</th>\n",
       "      <th>lng</th>\n",
       "    </tr>\n",
       "  </thead>\n",
       "  <tbody>\n",
       "    <tr>\n",
       "      <th>0</th>\n",
       "      <td>Stratton Street Mayfair Westminster Borough Lo...</td>\n",
       "      <td>581</td>\n",
       "      <td>2/19/2016</td>\n",
       "      <td>8.4</td>\n",
       "      <td>The May Fair Hotel</td>\n",
       "      <td>United Kingdom</td>\n",
       "      <td>Leaving</td>\n",
       "      <td>3</td>\n",
       "      <td>1994</td>\n",
       "      <td>Staff were amazing</td>\n",
       "      <td>4</td>\n",
       "      <td>7</td>\n",
       "      <td>10.0</td>\n",
       "      <td>[' Leisure trip ', ' Couple ', ' Studio Suite ...</td>\n",
       "      <td>531 day</td>\n",
       "      <td>51.507894</td>\n",
       "      <td>-0.143671</td>\n",
       "    </tr>\n",
       "    <tr>\n",
       "      <th>1</th>\n",
       "      <td>130 134 Southampton Row Camden London WC1B 5AF...</td>\n",
       "      <td>299</td>\n",
       "      <td>1/12/2017</td>\n",
       "      <td>8.3</td>\n",
       "      <td>Mercure London Bloomsbury Hotel</td>\n",
       "      <td>United Kingdom</td>\n",
       "      <td>poor breakfast</td>\n",
       "      <td>3</td>\n",
       "      <td>1361</td>\n",
       "      <td>location</td>\n",
       "      <td>2</td>\n",
       "      <td>14</td>\n",
       "      <td>6.3</td>\n",
       "      <td>[' Business trip ', ' Couple ', ' Standard Dou...</td>\n",
       "      <td>203 day</td>\n",
       "      <td>51.521009</td>\n",
       "      <td>-0.123097</td>\n",
       "    </tr>\n",
       "    <tr>\n",
       "      <th>2</th>\n",
       "      <td>151 bis Rue de Rennes 6th arr 75006 Paris France</td>\n",
       "      <td>32</td>\n",
       "      <td>10/18/2016</td>\n",
       "      <td>8.9</td>\n",
       "      <td>Legend Saint Germain by Elegancia</td>\n",
       "      <td>China</td>\n",
       "      <td>No kettle in room</td>\n",
       "      <td>6</td>\n",
       "      <td>406</td>\n",
       "      <td>No Positive</td>\n",
       "      <td>0</td>\n",
       "      <td>14</td>\n",
       "      <td>7.5</td>\n",
       "      <td>[' Leisure trip ', ' Solo traveler ', ' Modern...</td>\n",
       "      <td>289 day</td>\n",
       "      <td>48.845377</td>\n",
       "      <td>2.325643</td>\n",
       "    </tr>\n",
       "    <tr>\n",
       "      <th>3</th>\n",
       "      <td>216 Avenue Jean Jaures 19th arr 75019 Paris Fr...</td>\n",
       "      <td>34</td>\n",
       "      <td>9/22/2015</td>\n",
       "      <td>7.5</td>\n",
       "      <td>Mercure Paris 19 Philharmonie La Villette</td>\n",
       "      <td>United Kingdom</td>\n",
       "      <td>No Negative</td>\n",
       "      <td>0</td>\n",
       "      <td>607</td>\n",
       "      <td>Friendly staff quiet comfortable room spotles...</td>\n",
       "      <td>11</td>\n",
       "      <td>8</td>\n",
       "      <td>10.0</td>\n",
       "      <td>[' Leisure trip ', ' Solo traveler ', ' Standa...</td>\n",
       "      <td>681 day</td>\n",
       "      <td>48.888697</td>\n",
       "      <td>2.394540</td>\n",
       "    </tr>\n",
       "    <tr>\n",
       "      <th>4</th>\n",
       "      <td>Molenwerf 1 1014 AG Amsterdam Netherlands</td>\n",
       "      <td>914</td>\n",
       "      <td>3/5/2016</td>\n",
       "      <td>8.5</td>\n",
       "      <td>Golden Tulip Amsterdam West</td>\n",
       "      <td>Poland</td>\n",
       "      <td>Torn sheets</td>\n",
       "      <td>4</td>\n",
       "      <td>7586</td>\n",
       "      <td>The staff was very friendly and helpful Break...</td>\n",
       "      <td>20</td>\n",
       "      <td>10</td>\n",
       "      <td>9.6</td>\n",
       "      <td>[' Business trip ', ' Couple ', ' Standard Dou...</td>\n",
       "      <td>516 day</td>\n",
       "      <td>52.385601</td>\n",
       "      <td>4.847060</td>\n",
       "    </tr>\n",
       "  </tbody>\n",
       "</table>\n",
       "</div>"
      ],
      "text/plain": [
       "                                       hotel_address  \\\n",
       "0  Stratton Street Mayfair Westminster Borough Lo...   \n",
       "1  130 134 Southampton Row Camden London WC1B 5AF...   \n",
       "2   151 bis Rue de Rennes 6th arr 75006 Paris France   \n",
       "3  216 Avenue Jean Jaures 19th arr 75019 Paris Fr...   \n",
       "4          Molenwerf 1 1014 AG Amsterdam Netherlands   \n",
       "\n",
       "   additional_number_of_scoring review_date  average_score  \\\n",
       "0                           581   2/19/2016            8.4   \n",
       "1                           299   1/12/2017            8.3   \n",
       "2                            32  10/18/2016            8.9   \n",
       "3                            34   9/22/2015            7.5   \n",
       "4                           914    3/5/2016            8.5   \n",
       "\n",
       "                                  hotel_name reviewer_nationality  \\\n",
       "0                         The May Fair Hotel      United Kingdom    \n",
       "1            Mercure London Bloomsbury Hotel      United Kingdom    \n",
       "2          Legend Saint Germain by Elegancia               China    \n",
       "3  Mercure Paris 19 Philharmonie La Villette      United Kingdom    \n",
       "4                Golden Tulip Amsterdam West              Poland    \n",
       "\n",
       "       negative_review  review_total_negative_word_counts  \\\n",
       "0             Leaving                                   3   \n",
       "1       poor breakfast                                  3   \n",
       "2   No kettle in room                                   6   \n",
       "3          No Negative                                  0   \n",
       "4         Torn sheets                                   4   \n",
       "\n",
       "   total_number_of_reviews                                    positive_review  \\\n",
       "0                     1994                                 Staff were amazing   \n",
       "1                     1361                                           location   \n",
       "2                      406                                        No Positive   \n",
       "3                      607   Friendly staff quiet comfortable room spotles...   \n",
       "4                     7586   The staff was very friendly and helpful Break...   \n",
       "\n",
       "   review_total_positive_word_counts  \\\n",
       "0                                  4   \n",
       "1                                  2   \n",
       "2                                  0   \n",
       "3                                 11   \n",
       "4                                 20   \n",
       "\n",
       "   total_number_of_reviews_reviewer_has_given  reviewer_score  \\\n",
       "0                                           7            10.0   \n",
       "1                                          14             6.3   \n",
       "2                                          14             7.5   \n",
       "3                                           8            10.0   \n",
       "4                                          10             9.6   \n",
       "\n",
       "                                                tags days_since_review  \\\n",
       "0  [' Leisure trip ', ' Couple ', ' Studio Suite ...           531 day   \n",
       "1  [' Business trip ', ' Couple ', ' Standard Dou...           203 day   \n",
       "2  [' Leisure trip ', ' Solo traveler ', ' Modern...           289 day   \n",
       "3  [' Leisure trip ', ' Solo traveler ', ' Standa...           681 day   \n",
       "4  [' Business trip ', ' Couple ', ' Standard Dou...           516 day   \n",
       "\n",
       "         lat       lng  \n",
       "0  51.507894 -0.143671  \n",
       "1  51.521009 -0.123097  \n",
       "2  48.845377  2.325643  \n",
       "3  48.888697  2.394540  \n",
       "4  52.385601  4.847060  "
      ]
     },
     "execution_count": 127,
     "metadata": {},
     "output_type": "execute_result"
    }
   ],
   "source": [
    "import pandas as pd\n",
    "# Считывание данных\n",
    "hotels = pd.read_csv(r'D:\\IDE_github\\EDA\\EDA_project\\data\\hotels.csv')\n",
    "# Вывод первых нескольких строк\n",
    "hotels.head()"
   ]
  },
  {
   "cell_type": "code",
   "execution_count": 128,
   "id": "115c88c7",
   "metadata": {},
   "outputs": [
    {
     "name": "stdout",
     "output_type": "stream",
     "text": [
      "<class 'pandas.core.frame.DataFrame'>\n",
      "RangeIndex: 386803 entries, 0 to 386802\n",
      "Data columns (total 17 columns):\n",
      " #   Column                                      Non-Null Count   Dtype  \n",
      "---  ------                                      --------------   -----  \n",
      " 0   hotel_address                               386803 non-null  object \n",
      " 1   additional_number_of_scoring                386803 non-null  int64  \n",
      " 2   review_date                                 386803 non-null  object \n",
      " 3   average_score                               386803 non-null  float64\n",
      " 4   hotel_name                                  386803 non-null  object \n",
      " 5   reviewer_nationality                        386803 non-null  object \n",
      " 6   negative_review                             386803 non-null  object \n",
      " 7   review_total_negative_word_counts           386803 non-null  int64  \n",
      " 8   total_number_of_reviews                     386803 non-null  int64  \n",
      " 9   positive_review                             386803 non-null  object \n",
      " 10  review_total_positive_word_counts           386803 non-null  int64  \n",
      " 11  total_number_of_reviews_reviewer_has_given  386803 non-null  int64  \n",
      " 12  reviewer_score                              386803 non-null  float64\n",
      " 13  tags                                        386803 non-null  object \n",
      " 14  days_since_review                           386803 non-null  object \n",
      " 15  lat                                         384355 non-null  float64\n",
      " 16  lng                                         384355 non-null  float64\n",
      "dtypes: float64(4), int64(5), object(8)\n",
      "memory usage: 50.2+ MB\n"
     ]
    }
   ],
   "source": [
    "# Создание копии датасета\n",
    "data = hotels.copy()\n",
    "# Вывод информации о пропусках\n",
    "data.info()"
   ]
  },
  {
   "cell_type": "code",
   "execution_count": 129,
   "id": "5a02964d",
   "metadata": {},
   "outputs": [
    {
     "data": {
      "text/plain": [
       "hotel_address                                  object\n",
       "additional_number_of_scoring                    int64\n",
       "review_date                                    object\n",
       "average_score                                 float64\n",
       "hotel_name                                     object\n",
       "reviewer_nationality                           object\n",
       "negative_review                                object\n",
       "review_total_negative_word_counts               int64\n",
       "total_number_of_reviews                         int64\n",
       "positive_review                                object\n",
       "review_total_positive_word_counts               int64\n",
       "total_number_of_reviews_reviewer_has_given      int64\n",
       "reviewer_score                                float64\n",
       "tags                                           object\n",
       "days_since_review                              object\n",
       "lat                                           float64\n",
       "lng                                           float64\n",
       "dtype: object"
      ]
     },
     "execution_count": 129,
     "metadata": {},
     "output_type": "execute_result"
    }
   ],
   "source": [
    "# Вывод типа данных каждого столбца\n",
    "data.dtypes"
   ]
  },
  {
   "cell_type": "code",
   "execution_count": 131,
   "id": "471aca5f",
   "metadata": {},
   "outputs": [
    {
     "data": {
      "text/plain": [
       "\"[' Leisure trip ', ' Couple ', ' Studio Suite ', ' Stayed 2 nights ', ' Submitted from a mobile device ']\""
      ]
     },
     "execution_count": 131,
     "metadata": {},
     "output_type": "execute_result"
    }
   ],
   "source": [
    "data['tags'][0]"
   ]
  },
  {
   "cell_type": "code",
   "execution_count": 132,
   "id": "23ea325f",
   "metadata": {},
   "outputs": [],
   "source": [
    "# Разбиваем датафрейм на части, необходимые для обучения и тестирования модели  \n",
    "# Х — данные с информацией об отелях, у — целевая переменная (рейтинги отелей) \n",
    "X = data.drop(['reviewer_score'], axis = 1)  \n",
    "y = data['reviewer_score']\n",
    "# Загружаем специальный инструмент для разбивки:  \n",
    "from sklearn.model_selection import train_test_split  \n",
    "# Наборы данных с меткой \"train\" будут использоваться для обучения модели, \"test\" - для тестирования.  \n",
    "# Для тестирования мы будем использовать 25% от исходного датасета.  \n",
    "X_train, X_test, y_train, y_test = train_test_split(X, y, test_size=0.25, random_state=42)"
   ]
  },
  {
   "cell_type": "code",
   "execution_count": 133,
   "id": "39c2fb45",
   "metadata": {},
   "outputs": [],
   "source": [
    "# Импортируем необходимые библиотеки:  \n",
    "from sklearn.ensemble import RandomForestRegressor # инструмент для создания и обучения модели  \n",
    "from sklearn import metrics # инструменты для оценки точности модели  \n",
    "# Создаём модель  \n",
    "regr = RandomForestRegressor(n_estimators=100)\n",
    "# Учет только численных данных\n",
    "X_train = X_train.select_dtypes(include=['int64', 'float64'])\n",
    "X_test = X_test.select_dtypes(include=['int64', 'float64'])\n",
    "# Обучаем модель на тестовом наборе данных  \n",
    "regr.fit(X_train, y_train) \n",
    "# Используем обученную модель для предсказания рейтинга отелей в тестовой выборке.  \n",
    "# Предсказанные значения записываем в переменную y_pred  \n",
    "y_pred = regr.predict(X_test)"
   ]
  },
  {
   "cell_type": "code",
   "execution_count": 134,
   "id": "b7c645f2",
   "metadata": {},
   "outputs": [
    {
     "name": "stdout",
     "output_type": "stream",
     "text": [
      "MAPE: 0.14124105143524787\n"
     ]
    }
   ],
   "source": [
    "# Сравниваем предсказанные значения (y_pred) с реальными (y_test), и смотрим насколько они отличаются  \n",
    "# Метрика называется Mean Absolute Percentage Error (MAPE) и показывает среднюю абсолютную процентную ошибку предсказанных значений от фактических.  \n",
    "print('MAPE:', metrics.mean_absolute_percentage_error(y_test, y_pred))"
   ]
  },
  {
   "cell_type": "markdown",
   "id": "d18de4ca",
   "metadata": {},
   "source": [
    "Далее стоит задача повышения точности прогнозов. Нужно подготовить данные"
   ]
  },
  {
   "cell_type": "markdown",
   "id": "da5dfc0f",
   "metadata": {},
   "source": [
    "## 1. Работа со строковыми значениями"
   ]
  },
  {
   "cell_type": "code",
   "execution_count": 135,
   "id": "37b5eb41",
   "metadata": {},
   "outputs": [
    {
     "data": {
      "text/plain": [
       "['hotel_address',\n",
       " 'review_date',\n",
       " 'hotel_name',\n",
       " 'reviewer_nationality',\n",
       " 'negative_review',\n",
       " 'positive_review',\n",
       " 'tags',\n",
       " 'days_since_review']"
      ]
     },
     "execution_count": 135,
     "metadata": {},
     "output_type": "execute_result"
    }
   ],
   "source": [
    "# Вывод столбцов, содержащих строковые значения\n",
    "data_columns_obj = data.select_dtypes(include=['object']).columns.to_list()\n",
    "data_columns_obj "
   ]
  },
  {
   "cell_type": "markdown",
   "id": "6b1a96ee",
   "metadata": {},
   "source": [
    "### 1.1 Адрес отеля"
   ]
  },
  {
   "cell_type": "code",
   "execution_count": 136,
   "id": "105cbb9b",
   "metadata": {},
   "outputs": [
    {
     "data": {
      "text/plain": [
       "0    Stratton Street Mayfair Westminster Borough Lo...\n",
       "1    130 134 Southampton Row Camden London WC1B 5AF...\n",
       "Name: hotel_address, dtype: object"
      ]
     },
     "execution_count": 136,
     "metadata": {},
     "output_type": "execute_result"
    }
   ],
   "source": [
    "data['hotel_address'].head(2)"
   ]
  },
  {
   "cell_type": "code",
   "execution_count": 137,
   "id": "3b8f42f3",
   "metadata": {},
   "outputs": [
    {
     "data": {
      "text/plain": [
       "hotel_address\n",
       "163 Marsh Wall Docklands Tower Hamlets London E14 9SJ United Kingdom              3587\n",
       "372 Strand Westminster Borough London WC2R 0JJ United Kingdom                     3206\n",
       "Westminster Bridge Road Lambeth London SE1 7UT United Kingdom                     3095\n",
       "Scarsdale Place Kensington Kensington and Chelsea London W8 5SY United Kingdom    2688\n",
       "7 Pepys Street City of London London EC3N 4AF United Kingdom                      2379\n",
       "                                                                                  ... \n",
       "Via Palmanova 153 20132 Milan Italy                                                  7\n",
       "40 Rue Rene Boulanger 10th arr 75010 Paris France                                    7\n",
       "Via M Buonarroti 13 Fiera Milano City 20149 Milan Italy                              6\n",
       "Johann Staud Stra e 32 16 Ottakring 1160 Vienna Austria                              6\n",
       "13 Rue Fran ois Ory 92120 Paris France                                               5\n",
       "Name: count, Length: 1493, dtype: int64"
      ]
     },
     "execution_count": 137,
     "metadata": {},
     "output_type": "execute_result"
    }
   ],
   "source": [
    "data['hotel_address'].value_counts()"
   ]
  },
  {
   "cell_type": "markdown",
   "id": "71f1baa6",
   "metadata": {},
   "source": [
    "Столбцы содержат название города и страны расположения отеля, их можно излвечь с помощью регулярных выражений"
   ]
  },
  {
   "cell_type": "code",
   "execution_count": 138,
   "id": "e4c99c45",
   "metadata": {},
   "outputs": [],
   "source": [
    "# Импорт бибилиотеки для работы с регулрными выражениями\n",
    "import re\n",
    "# Регулярное выражение для поиска сочетаний слов в конце строки\n",
    "regular_form = r'([A-Z][a-z]+(?: [A-Z][a-z]+)*)$'\n",
    "data['city_country'] = data['hotel_address'].apply(lambda x: re.search(regular_form, x).group())"
   ]
  },
  {
   "cell_type": "code",
   "execution_count": 139,
   "id": "32422b93",
   "metadata": {},
   "outputs": [],
   "source": [
    "# Вычленияем страну\n",
    "data['country'] = data['city_country'].apply(lambda x: x if x == 'United Kingdom' else x.split()[1])\n",
    "# Поиск города\n",
    "data['city'] = data['city_country'].apply(lambda x: 'London' if x == 'United Kingdom' else x.split()[0])"
   ]
  },
  {
   "cell_type": "code",
   "execution_count": 140,
   "id": "d518c97e",
   "metadata": {},
   "outputs": [],
   "source": [
    "# Удаление старого признака\n",
    "data = data.drop(['hotel_address'], axis=1)"
   ]
  },
  {
   "cell_type": "markdown",
   "id": "09d11372",
   "metadata": {},
   "source": [
    "### 1.2 Дата"
   ]
  },
  {
   "cell_type": "code",
   "execution_count": 141,
   "id": "c0fc64af",
   "metadata": {},
   "outputs": [
    {
     "data": {
      "text/plain": [
       "0    2/19/2016\n",
       "1    1/12/2017\n",
       "Name: review_date, dtype: object"
      ]
     },
     "execution_count": 141,
     "metadata": {},
     "output_type": "execute_result"
    }
   ],
   "source": [
    "data['review_date'].head(2)"
   ]
  },
  {
   "cell_type": "markdown",
   "id": "27cf7029",
   "metadata": {},
   "source": [
    "Можно использовать для извлечения дня, месяца или года"
   ]
  },
  {
   "cell_type": "code",
   "execution_count": 142,
   "id": "8a4dea49",
   "metadata": {},
   "outputs": [],
   "source": [
    "# Пребобразование в формат datetime - удобно извлекать\n",
    "data['review_date'] = pd.to_datetime(data['review_date'])"
   ]
  },
  {
   "cell_type": "markdown",
   "id": "669db072",
   "metadata": {},
   "source": [
    "### 1.3 Название отеля"
   ]
  },
  {
   "cell_type": "code",
   "execution_count": 143,
   "id": "0420df87",
   "metadata": {},
   "outputs": [
    {
     "data": {
      "text/plain": [
       "0                 The May Fair Hotel\n",
       "1    Mercure London Bloomsbury Hotel\n",
       "Name: hotel_name, dtype: object"
      ]
     },
     "execution_count": 143,
     "metadata": {},
     "output_type": "execute_result"
    }
   ],
   "source": [
    "data['hotel_name'].head(2)"
   ]
  },
  {
   "cell_type": "markdown",
   "id": "215bfd30",
   "metadata": {},
   "source": [
    "Можно использовать как наблюдение за самым распространенным в списке отелем. Но для модели создавать численный признак из этого затратно\\\n",
    "Поэтому из названия предлагается вытащить принадлежность отеля к какой-либо категории"
   ]
  },
  {
   "cell_type": "code",
   "execution_count": 144,
   "id": "257603fc",
   "metadata": {},
   "outputs": [
    {
     "data": {
      "text/plain": [
       "hotel_name\n",
       "Britannia International Hotel Canary Wharf           3587\n",
       "Strand Palace Hotel                                  3206\n",
       "Park Plaza Westminster Bridge London                 3095\n",
       "Copthorne Tara Hotel London Kensington               2688\n",
       "DoubleTree by Hilton Hotel London Tower of London    2379\n",
       "                                                     ... \n",
       "Ibis Styles Milano Palmanova                            7\n",
       "Renaissance Paris Republique Hotel Spa                  7\n",
       "Hotel Wagner                                            6\n",
       "Hotel Gallitzinberg                                     6\n",
       "Mercure Paris Porte d Orleans                           5\n",
       "Name: count, Length: 1492, dtype: int64"
      ]
     },
     "execution_count": 144,
     "metadata": {},
     "output_type": "execute_result"
    }
   ],
   "source": [
    "data['hotel_name'].value_counts()"
   ]
  },
  {
   "cell_type": "code",
   "execution_count": 145,
   "id": "b1544afb",
   "metadata": {},
   "outputs": [],
   "source": [
    "# Расширенный список брендов с учетом вариаций\n",
    "brand_pattern = r'(?i)\\b(Hilton|Marriott|Ibis|Mercure|Renaissance|DoubleTree|Britannia|Park Plaza|Copthorne|Holiday Inn|Best Western|Hyatt|Radisson|Sheraton|Novotel|InterContinental|Crowne Plaza|Ramada|Wyndham|Four Seasons|Ritz-Carlton|Shangri-La|Sofitel|Westin|W Hotels|St\\.? Regis|Fairmont|Swissotel|Pullman|Grand Hyatt|Kimpton|Mövenpick|Millennium|Thistle|Travelodge|Premier Inn|Motel One|B&B)\\b'\n",
    "# Извлечение с учетом регистра и частичных совпадений\n",
    "data['brand'] = data['hotel_name'].str.extract(brand_pattern, flags=re.IGNORECASE)[0]\n",
    "# Замена похожих названий\n",
    "brand_mapping = {\n",
    "    'Holiday Inn Express': 'Holiday Inn',\n",
    "    'Courtyard by Marriott': 'Marriott',\n",
    "    'JW Marriott': 'Marriott',\n",
    "    'Marriott Hotels': 'Marriott'\n",
    "}\n",
    "# Статистика по брендам\n",
    "brand_stats = data['brand'].value_counts()"
   ]
  },
  {
   "cell_type": "code",
   "execution_count": 146,
   "id": "70154669",
   "metadata": {},
   "outputs": [],
   "source": [
    "# Создание списков слов-индикаторов для оценки уровня отеля\n",
    "luxury_keywords = ['Plaza', 'Palace', 'Royal', 'Boutique']\n",
    "business_keywords = ['Hilton', 'Marriott', 'DoubleTree']\n",
    "budget_keywords = ['Ibis', 'Travelodge']\n",
    "# Классификация\n",
    "data['class'] = 'other'\n",
    "data.loc[data['hotel_name'].str.contains('|'.join(luxury_keywords)), 'class'] = 'luxury'\n",
    "data.loc[data['hotel_name'].str.contains('|'.join(business_keywords)), 'class'] = 'business'\n",
    "data.loc[data['hotel_name'].str.contains('|'.join(budget_keywords)), 'class'] = 'budget'"
   ]
  },
  {
   "cell_type": "code",
   "execution_count": 147,
   "id": "dca86aba",
   "metadata": {},
   "outputs": [],
   "source": [
    "# Наличие терминов Spa\n",
    "data['has_spa'] = data['hotel_name'].str.contains('Spa').astype(int)\n",
    "# Количество слов\n",
    "data['word_count'] = data['hotel_name'].str.split().str.len()\n",
    "# Словарь типов с учетом синонимов и международных вариантов\n",
    "type_patterns = {\n",
    "    'Hotel': r'(?i)\\b(Hotel|Hotels|Hotellerie|Hoteles|Hôtel|Hôtels)\\b',\n",
    "    'Resort': r'(?i)\\b(Resort|Resorts|Complex|Beach Club|Retreat)\\b',\n",
    "    'Boutique': r'(?i)\\b(Boutique|Design Hotel|Chic Hotel|Luxury Lofts)\\b',\n",
    "    'Inn': r'(?i)\\b(Inn|Gasthof|Pension|Guesthouse|Bed & Breakfast|B&B)\\b',\n",
    "    'Apartment': r'(?i)\\b(Apartment|Apartments|Aparthotel|Residence|Suites|Studio|Loft)\\b',\n",
    "    'Hostel': r'(?i)\\b(Hostel|Backpackers|Youth Hostel|Dormitory)\\b',\n",
    "    'Villa': r'(?i)\\b(Villa|Villas|Château|Manor|Mansion|Cottage)\\b',\n",
    "    'Lodge': r'(?i)\\b(Lodge|Cabins|Chalet|Bungalow|Ecolodge)\\b',\n",
    "    'Motel': r'(?i)\\b(Motel|Motor Inn|Roadhouse)\\b',\n",
    "    'Palace': r'(?i)\\b(Palace|Grand Hotel|Luxury Hotel)\\b',\n",
    "    'Ryokan': r'(?i)\\b(Ryokan|Onsen|Minshuku)\\b',\n",
    "    'Capsule': r'(?i)\\b(Capsule|Pod Hotel)\\b'\n",
    "}\n",
    "# Функция для извлечения типа с приоритетом более специфичных совпадений\n",
    "def extract_hotel_type(name):\n",
    "    name = str(name)\n",
    "    matches = []\n",
    "    for type_name, pattern in type_patterns.items():\n",
    "        if re.search(pattern, name):\n",
    "            # Приоритет по длине совпадения (более длинные = более специфичные)\n",
    "            match = re.search(pattern, name).group()\n",
    "            matches.append((len(match), type_name))\n",
    "    if matches:\n",
    "        # Возвращаем самый специфичный тип\n",
    "        return sorted(matches, reverse=True)[0][1]\n",
    "    return 'Other'  # Для неклассифицированных вариантов\n",
    "# Применяем функцию\n",
    "data['type'] = data['hotel_name'].apply(extract_hotel_type)"
   ]
  },
  {
   "cell_type": "code",
   "execution_count": 148,
   "id": "318fe24e",
   "metadata": {},
   "outputs": [
    {
     "data": {
      "text/plain": [
       "type\n",
       "Other        185327\n",
       "Hotel        162571\n",
       "Inn           13180\n",
       "Palace        13098\n",
       "Apartment      6055\n",
       "Boutique       3102\n",
       "Villa          1934\n",
       "Lodge          1536\n",
       "Name: count, dtype: int64"
      ]
     },
     "execution_count": 148,
     "metadata": {},
     "output_type": "execute_result"
    }
   ],
   "source": [
    "data['type'].value_counts()"
   ]
  },
  {
   "cell_type": "markdown",
   "id": "a9253a22",
   "metadata": {},
   "source": [
    "Other много. Имеет смысл заменить его на самый распространенный тип в городе"
   ]
  },
  {
   "cell_type": "code",
   "execution_count": 149,
   "id": "4a1e8d0e",
   "metadata": {},
   "outputs": [],
   "source": [
    "# Находим самый частый тип для каждого города\n",
    "city_type_mapping = (\n",
    "    data[data['type'] != 'Other']  # Исключаем 'Other' при расчете моды\n",
    "    .groupby('city')['type']\n",
    "    .agg(lambda x: x.mode()[0] if not x.mode().empty else 'Hotel')  # По умолчанию 'Hotel'\n",
    "    .to_dict()\n",
    ")\n",
    "\n",
    "# Заменяем 'Other' на самый частый тип в городе\n",
    "data['type'] = data.apply(\n",
    "    lambda row: city_type_mapping.get(row['city'], 'Hotel') \n",
    "    if row['type'] == 'Other' \n",
    "    else row['type'],\n",
    "    axis=1\n",
    ")"
   ]
  },
  {
   "cell_type": "code",
   "execution_count": 150,
   "id": "05d16168",
   "metadata": {},
   "outputs": [],
   "source": [
    "# Удаление старого признака\n",
    "data = data.drop(['hotel_name'], axis=1)"
   ]
  },
  {
   "cell_type": "markdown",
   "id": "e228d1a0",
   "metadata": {},
   "source": [
    "### 1.4 Национальность рецензента"
   ]
  },
  {
   "cell_type": "code",
   "execution_count": 151,
   "id": "6662bcea",
   "metadata": {},
   "outputs": [
    {
     "data": {
      "text/plain": [
       "0     United Kingdom \n",
       "1     United Kingdom \n",
       "Name: reviewer_nationality, dtype: object"
      ]
     },
     "execution_count": 151,
     "metadata": {},
     "output_type": "execute_result"
    }
   ],
   "source": [
    "data['reviewer_nationality'].head(2)"
   ]
  },
  {
   "cell_type": "code",
   "execution_count": 152,
   "id": "8d6f1b5b",
   "metadata": {},
   "outputs": [],
   "source": [
    "# Извлечение страны\n",
    "data['reviewer_country'] = data['reviewer_nationality'].str.strip()\n",
    "# Группировка по регионам (пример)\n",
    "europe = ['United Kingdom', 'France', 'Germany', 'Spain', 'Italy']\n",
    "asia = ['China', 'Japan', 'India', 'United Arab Emirates']\n",
    "data['reviewer_region'] = data['reviewer_nationality'].apply(\n",
    "    lambda x: 'Europe' if x in europe else ('Asia' if x in asia else 'Other')\n",
    ")\n",
    "# Гость из той же страны, что и отель\n",
    "data['is_local'] = (data['reviewer_nationality'] == data['country']).astype(int)"
   ]
  },
  {
   "cell_type": "code",
   "execution_count": 153,
   "id": "b9b405cb",
   "metadata": {},
   "outputs": [],
   "source": [
    "# Удаление старого признака\n",
    "data = data.drop(['reviewer_nationality'], axis=1)"
   ]
  },
  {
   "cell_type": "markdown",
   "id": "297f2b79",
   "metadata": {},
   "source": [
    "### 1.5 Негативная оценка"
   ]
  },
  {
   "cell_type": "code",
   "execution_count": 154,
   "id": "e252da74",
   "metadata": {},
   "outputs": [
    {
     "data": {
      "text/plain": [
       "0           Leaving \n",
       "1     poor breakfast\n",
       "Name: negative_review, dtype: object"
      ]
     },
     "execution_count": 154,
     "metadata": {},
     "output_type": "execute_result"
    }
   ],
   "source": [
    "data['negative_review'].head(2)"
   ]
  },
  {
   "cell_type": "code",
   "execution_count": 155,
   "id": "80f0a3cf",
   "metadata": {},
   "outputs": [],
   "source": [
    "# Словарь часто распространенных проблем\n",
    "issues = {\n",
    "    'cleanliness': ['dirty', 'clean', 'smell', 'stains'],\n",
    "    'service': ['staff', 'rude', 'service', 'wait'],\n",
    "    'amenities': ['WiFi', 'breakfast', 'bed', 'shower']\n",
    "}\n",
    "# Проверка на наличие проблемы из каждой категории в отзыве\n",
    "for category, keywords in issues.items():\n",
    "    data[f'issue_{category}'] = data['negative_review'].str.contains('|'.join(keywords), case=False).astype(int)"
   ]
  },
  {
   "cell_type": "code",
   "execution_count": 156,
   "id": "8927ad59",
   "metadata": {},
   "outputs": [],
   "source": [
    "# Удаление старого признака\n",
    "data = data.drop(['negative_review'], axis=1)"
   ]
  },
  {
   "cell_type": "markdown",
   "id": "909a7331",
   "metadata": {},
   "source": [
    "### 1.6 Положительная оценка"
   ]
  },
  {
   "cell_type": "code",
   "execution_count": 157,
   "id": "280345ea",
   "metadata": {},
   "outputs": [
    {
     "data": {
      "text/plain": [
       "0     Staff were amazing\n",
       "1               location\n",
       "Name: positive_review, dtype: object"
      ]
     },
     "execution_count": 157,
     "metadata": {},
     "output_type": "execute_result"
    }
   ],
   "source": [
    "data['positive_review'].head(2)"
   ]
  },
  {
   "cell_type": "code",
   "execution_count": 158,
   "id": "f6abb133",
   "metadata": {},
   "outputs": [],
   "source": [
    "# Словарь часто распространенных слов в позитивном отзыве\n",
    "pos_categories = {\n",
    "    'staff': ['friendly', 'helpful', 'polite', 'attentive'],\n",
    "    'comfort': ['comfortable', 'cozy', 'spacious', 'quiet'],\n",
    "    'cleanliness': ['clean', 'spotless', 'tidy'],\n",
    "    'location': ['central', 'convenient', 'walkable'],\n",
    "    'amenities': ['breakfast', 'pool', 'view', 'wifi']\n",
    "}\n",
    "# Проверка на наличие слов из каждой категории словаря с положительными сочетаниями в отзыве\n",
    "for cat, keywords in pos_categories.items():\n",
    "    data[f'pos_{cat}'] = data['positive_review'].str.contains('|'.join(keywords), case=False).astype(int)"
   ]
  },
  {
   "cell_type": "code",
   "execution_count": 159,
   "id": "233faad5",
   "metadata": {},
   "outputs": [],
   "source": [
    "# Удаление старого признака\n",
    "data = data.drop(['positive_review'], axis=1)"
   ]
  },
  {
   "cell_type": "markdown",
   "id": "40eaf118",
   "metadata": {},
   "source": [
    "### 1.7 Теги"
   ]
  },
  {
   "cell_type": "code",
   "execution_count": 160,
   "id": "27aac4c8",
   "metadata": {},
   "outputs": [
    {
     "data": {
      "text/plain": [
       "0    [' Leisure trip ', ' Couple ', ' Studio Suite ...\n",
       "1    [' Business trip ', ' Couple ', ' Standard Dou...\n",
       "Name: tags, dtype: object"
      ]
     },
     "execution_count": 160,
     "metadata": {},
     "output_type": "execute_result"
    }
   ],
   "source": [
    "data['tags'].head(2)"
   ]
  },
  {
   "cell_type": "markdown",
   "id": "a3340927",
   "metadata": {},
   "source": [
    "Из тегов можно извлечь множество уникальных и выявить самый распространенный"
   ]
  },
  {
   "cell_type": "code",
   "execution_count": 161,
   "id": "173d544a",
   "metadata": {},
   "outputs": [
    {
     "name": "stdout",
     "output_type": "stream",
     "text": [
      "{' Superior Double or Twin Room with Spa Access ', ' Penthouse Suite Family ', ' Interior Facing Double Room With Natural Light ', ' Superior Queen Suite with Sofa Bed 2 Adults ', ' Parisian Junior Suite ', ' Artist s Studio King Junior Suite with Spa access ', ' Privilege Twin King Room ', ' Twin Guest Room ', ' Comfort Double or Twin Room for Single Use ', ' Art King Room ', ' Three Bedroom Suite ', ' Club Room with Club Lounge Access ', ' Deluxe King Guestroom ', ' Landmark Junior Suite ', ' Suite Room 1 or 2 people ', ' Executive Deluxe Double Room ', ' 2 Double Rooms next to each other ', ' King Grand Premier with Canal View ', ' Deluxe One Bedroom Apartment ', ' Standard Guest Room ', ' Ruyschen Suite ', ' Junior Suite with Private Pool Spa Access ', ' Studio King ', ' 3 rooms ', ' Classic Family Room ', ' Twin Guestroom ', ' Queen Suite with City View ', ' Wonderful Double Room ', ' Junior Suite with Mountain View ', ' Cabin Single Room ', ' Triple Junior Suite ', ' Superior Room with 2 zip beds ', ' Double Twin Rooms Next to Each Other ', ' Double or Twin Room with Parking ', ' Premium Twin Room ', ' Double Room Moulin Rouge with Shower ', ' Queen Double Room ', ' Master Suite with Club Lounge Access ', ' Double Room with Two Double Beds ', ' Deluxe Double with Winter Garden View ', ' Luxury Four Poster ', ' Executive Double ', ' Luxury Triple Room with Garden View ', ' Deluxe Room with 1 Double Bed ', ' Courtyard Suite with St Stephen s Cathedral view ', ' Executive Queen Room with Sofa ', ' Superior King Room Non Smoking ', ' Double or Twin Room with Bathroom ', ' Boudoir Double Room ', ' Deluxe Boulevard Double Room ', ' Executive Premium Queen Room ', ' Two Adjacent Double Rooms with free pool and hammam access ', ' Superior Room with Queen size Bed and Double Sofa Bed ', ' Standard Double Room with Sea View ', ' Superior Junior Suite ', ' Deluxe Double Room with Canal View ', ' Nelson Double Room ', ' Special Offer Standard Double or Twin Room ', ' Business Double Room with WiFi and Breakfast ', ' King Size Double Room ', ' Superior One Bedroom Apartment ', ' Suite with Spa Access 4 Adults ', ' Large Double or Twin Room ', ' Standard Twin Room with Sofa ', ' Superior Double or Twin Room with Free Airport Shuttle Service from 5 00am to 00 30am ', ' 3 Connecting Rooms ', ' Single Hilton Guest Room ', ' Quadruple Room ', ' Executive Queen Room with Lounge Access Mobility Access ', ' Family Queen Room ', ' Nhow Double or Twin Room ', ' Suite with free pool and hammam access ', ' Premium Double or Twin Room XL ', ' Hyde Park Junior Suite with Park View ', ' Privilege Double or Twin Room with Spa Access ', ' Suite Split Level ', ' Twin Room with Courtyard View ', ' Standard Room with 1 Single Bed ', ' River Double Suite ', ' Special Offer Double Room with Continental Breakfast ', ' Double or Twin Room with Terrace and Spa Access ', ' Traditional Double Room ', ' Superior Double Bedroom ', ' Large Double Room with Champs Elysees View ', ' Superior Junior Suite Single Use ', ' Panorama Guest room 1 King or 2 Twin Single Bed s ', ' Double Room Crash Pad ', ' Executive Double Room Eiffel Studio D Artiste with view of Paris ', ' Double Room for Single Use ', ' Junior Suite with Access to Executive Lounge ', ' Family Suite ', ' Junior Suite Tendre Ros e ', ' Eiffel Tower View King Room ', ' Standard Double Room with Two Single Beds ', ' Budget Single Room ', ' Premium Triple Room ', ' Standard Double or Twin Room Annex Building ', ' Special Offer Double Room 3 nights minimum ', ' Triple Room Disability Access ', ' King Room with Courtyard View ', ' Suite with Spa Access 3 Adults ', ' Superior Double Room with Terrace and City View ', ' Luxury Twin Room Solarium ', ' Economy Twin Room ', ' Grand Deluxe Room ', ' Luxury Room 1 Queensize Bed Twin bedded Room On Request ', ' Junior Suite with Private Access to Pool and Spa ', ' Deluxe Double Room ', ' King Hilton Plaza Room ', ' Standard Room with Spa Access ', ' Superior Studio ', ' Junior Suite 3 Adults ', ' Hilton Superior King Room ', ' Standard Room with Mobile Phone ', ' Executive Double or Twin Room La Ravissante ', ' Superior Room with Garden View ', ' Solo traveler ', ' Suite Marignan Eiffel ', ' Premium Lafayette ', ' Loft ', ' Room with View ', ' Twin or Double Room with Terrace ', ' Large Double Room with Garden View ', ' Two Adjoining Superior Suite ', ' Deluxe Double Room with Balcony ', ' Privilege Room with Extra Bed 3 Adults ', ' Quality Double or Twin Room ', ' Double or Twin Room with Extra Bed 2 Adults 1 Child ', ' King Suite Non Smoking ', ' One Bedroom Executive Suite with Lounge Access ', ' Deluxe Double Room with Spa Access Free Wifi ', ' Double or Twin Room with Panoramic View ', ' Superior Double Room New Style ', ' Superior Room with 1 Double Bed and 1 Sofa Bed 2 places ', ' Two Bedroom Deluxe Suite ', ' Stayed 12 nights ', ' Premier Double Room with Panoramic View and Executive Lounge Access ', ' Club King Room ', ' Panoramic Room ', ' Deluxe Double or Twin Room 1 2 Adults ', ' Junior Suite Parisienne ', ' Special Offer Executive Double Twin Room with Access to Nagomi Health ', ' Two Adjacent Rooms ', ' Superior Room with Queen Bed and Sofa ', ' Prestige Double Room with Eiffel Tower View ', ' Minsters Deluxe Two Bedroom Suite ', ' King Guest Room Wheelchair Accessible ', ' King Hilton Waterfront ', ' Superior Queen Room with Sofa Bed Non Smoking ', ' Fabulous Exchange King ', ' Family Room 6 Adults ', ' Deluxe Twin Room 3 Adults ', ' Comfort Twin Room ', ' Comfort Room with Extra Bed ', ' Superior Double Room with Sea View ', ' Classic Double or Twin Room with extra bed ', ' Privilege Room ', ' Club Room ', ' Executive Studio ', ' REN Room Free Wifi ', ' Double or Twin Room ', ' Senior Suite 1 3 Adults ', ' One Bedroom Suite 1 2 Adults ', ' Standard Queen Room with Sofa Bed ', ' Junior Suite 1 2 Adults ', ' Twin Executive Room ', ' Deluxe Double Twin Room ', ' Studio with Spa Access ', ' Deluxe Family Room 4 Adults ', ' Hilton Queen Family Room ', ' Queen Room with Sofa Bed ', ' Superior King with Balcony ', ' Classic Master Suite ', ' Standard Double Room with Terrace ', ' Two Connecting Double or Twin Rooms ', ' Deluxe King Room with Paris View ', ' Superior Double Room ', ' Family Junior Suite ', ' Park Suite King ', ' Special Offer Only For Cruise Passengers ', ' Apartment for 3 to 4 People with Kitchenette ', ' Special Offer Superior Double Room ', ' Special Offer Classic Room with Parking ', ' Executive Club Double Room ', ' Standard Double Room ', ' Wonderful Bank with Canal View ', ' Bunk Bed Room ', ' Superior Double Room with View Non Smoking ', ' King Room with Executive lounge access ', ' Privilege Room with 1 Kingsize Bed ', ' Queen Room Mobility Access ', ' Classic Guest room 1 King or 2 Twin Single Bed s ', ' Eiffel Tower Junior Suite ', ' Superior Room with 1 Queen Bed and Sofa ', ' Superior Double Room with Terrace and Cathedral View ', ' Hyatt King Room ', ' Deluxe Family Room 3 Adults ', ' King Suite with Sofa Bed Non Smoking ', ' Standard Double or Twin Room ', ' Deluxe One Bedroom Suite with River View ', ' Premium Double or Twin Room with Sea View ', ' Double Room Intemporelle ', ' Superior Room with 1 Double Bed ', ' Prestige Room Swimming Pool Hammam Access upon reservation ', ' Twin Room with View ', ' Special Offer Sleep ParK Fly ', ' K Suite ', ' Double Room with River View ', ' Exclusive Guest room 1 King or 2 Twin Single Bed s ', ' Two Connecting Superior Twin Rooms ', ' Imperial Club Double Room with access to the Club Lounge ', ' Duplex Junior Suite with Spa access ', ' Standard Double Room No Window ', ' Garden Room ', ' Privilege Double or Twin Room ', ' Double or Twin Room with Courtyard View ', ' Grand Superior King or Twin Room ', ' Superior Room with Balcony and Opera Garnier View ', ' Deluxe Suite with City View ', ' King Suite with Lounge Access ', ' Double Room Free Wi Fi ', ' One Bedroom Park Suite ', ' Andaz King Twin Room ', ' Deluxe King with Balcony ', ' Family Room with King Bed and Sofa Bed ', ' Privilege Room with Double Bed and Single Sofa Bed 3 Adults ', ' Standard Room with queen size bed and double sofa bed ', ' Deluxe Suite with Executive Lounge Access ', ' Junior Suite Double ', ' Basic Double or Twin Room with Parking ', ' 2 Connecting Rooms 5 Adults ', ' Small Double Room ', ' Family Room ', ' Junior Suite with Courtyard View ', ' Executive Junior Suite with Sea View ', ' Executive Vend me Triple Room ', ' Twin Superior Room ', ' Superior Deluxe Double Room with Canal View ', ' Standard Double Room with Parking ', ' Double Room Capricieuse ', ' Family with older children ', ' Superior King Room with Balcony ', ' Deluxe King Room with Stadium View ', ' Double Room with Courtyard View ', ' Superior Double Room with Massage Chair ', ' Souterrain Double Room ', ' Standard Double Room Non Smoking ', ' Garden Twin Room ', ' Deluxe Quadruple Room with Canal View ', ' Royal Mews View Classic Double ', ' One Bedroom King Suite with Sofa Bed ', ' Executive Room Queen size Bed ', ' Junior Suite with City View ', ' Special Offer Double Room with Parking ', ' Executive King Room with Lounge Access ', ' Privilege Room with 1 Queen Size bed ', ' Deluxe Room Barlow Wing ', ' Superior Double or Twin Room with Landmark View ', ' Level Room with Executive Lounge Access ', ' Standard Double Room with Park View ', ' Classic Quadruple Room ', ' Double or Twin Room In dite ', ' River Twin Suite ', ' Two Connecting Rooms ', ' Single Room Joy ', ' Deluxe Garden Room ', ' One Bed Feature Room ', ' Panorama Double Room ', ' Suite 1 3 Adults ', ' Superior One Bedroom Suite ', ' Junior Deluxe Double Room ', ' Standard Queen Room with Two Queen Beds ', ' Executive Double Room with Square View ', ' Deluxe King Room with Water View ', ' Premium Double or Twin Room with Garden View ', ' New Amsterdam Suite ', ' Triple Room Annex ', ' Double or Twin Room 1 2 Adults ', ' Queen or Two Double Beds Room ', ' Superior Queen Room Non Smoking ', ' Executive Suite 3 Adults ', ' La Mathurin Suite ', ' Deluxe Double or Twin Room ', ' Executive Double or Twin Room ', ' Single Room with Private Bathroom ', ' Queen Suite with Lounge Access ', ' Superior Suite Junior ', ' One Bedroom Apsley Suite ', ' Queen Guest Room with River View ', ' Comfort Plus Twin Room ', ' Deluxe Double Room with View ', ' Suite Deluxe ', ' Hansen Suite ', ' Family Room Free Wi Fi ', ' Single Studio ', ' Junior Suite Double or Twin ', ' Signature Suite ', ' Junior Deluxe Twin Room ', ' Hyatt Queen Room with View ', ' Superior Suite 3 Adults 1 Child ', ' Studio Twin Room 3 adults ', ' Suite without Window ', ' Junior Suite with Canal View ', ' Club Double or Twin Room with Club Lounge Access ', ' Junior Suite with Shower ', ' Suite Room ', ' Standard Double Room Single Use ', ' Standard Room with 2 Double Beds ', ' Executive Club Room ', ' Junior Suite Sans Mod ration ', ' Premium Room 3 adults ', ' Suite 3 Adults ', ' Twin Guest Room Plus ', ' Drop Dead Gorgeous Splash Suite ', ' Deluxe Double Room with View and Disability Access ', ' Deluxe King Room ', ' Classic Double Room with View ', ' Wonderful Exchange King ', ' Marina Twin Suite ', ' Suite Canal View ', ' Privilege Room with Double Bed ', ' Superior Room with Double Bed and Sofa Bed ', ' Executive Suite with View ', ' One Bedroom King Suite with Garden View ', ' Junior Suite with Bath ', ' Romantic Special Offer ', ' Champagne Shopping package Double Room ', ' Deluxe Twin Room ', ' Deluxe Double or Twin Room with Ramblas View ', ' Standard Room with Queen Bed and Sofa Bed ', ' Economy Double or Twin Room ', ' Executive Double Room with Sofa Bed ', ' Double or Twin Room Business Advantage ', ' Stayed 14 nights ', ' Deluxe Double Room with State Opera View ', ' Tower Suite with Lounge Access ', ' Family Two Bedroom Suite ', ' Business Double Room with Courtyard View and Public Transport Ticket ', ' Suite with St Stephen s Cathedral View ', ' Suite Cocotte ', ' Junior King Suite ', ' Double or Twin Room Allergy Free ', ' Cosy Family ', ' Twin Hilton Deluxe ', ' King Duplex Suite ', ' Deluxe Room with view ', ' Penthouse Suite with Terrace and City View ', ' Grand Premier King Room ', ' Club Suite with Club Lounge Access ', ' Deluxe King Room with City View ', ' Trash City Suite ', ' Superior Twin Room with Paris View ', ' Suite 5 Adults ', ' Classic Suite ', ' Superior Family Room ', ' Deluxe Double Room with Garden View ', ' Special Offer Classic Double Room ', ' Superior Room with 2 Double Beds ', ' Stayed 29 nights ', ' Double or Twin Room with Extra Bed ', ' Premium Double Room with Views ', ' Special Offer Comfort Double Room with Breakfast and Parking Included ', ' Superior Room for 1 2 people with Kitchenette ', ' Privilege Top Floor with Terrace ', ' Superior Metropolitan Park Double Room ', ' Executive Room Free Executive Lounge Access ', ' Deluxe King Room Wheelchair Accessible ', ' Double or Twin Junior Suite ', ' Family Room 2 Adults 2 Children ', ' Suite Elys e ', ' Double Room with Shared Bathroom ', ' Single Room Annex ', ' Junior Suite with Kingsize Bed 3 persons ', ' Royal Suite Split Level with Spa Bath Annex building ', ' 2 Connecting Rooms 4 Adults ', ' Economy Quadruple Room ', ' Cosy Room ', ' Premier King Room ', ' Executive Twin Room with City View ', ' Deluxe King Guestroom with view ', ' Queen Room with Two Queen Beds 4 Adults ', ' Comfort Double Room Courtyard Side ', ' Grand Deluxe Double Room ', ' Double Junior Suite ', ' Superior Room with Queensize Bed and Single Sofa Bed ', ' Two Connected Double Rooms ', ' Double Room large ', ' Double or Twin Room with Balcony ', ' Executive Queen Room with Balcony ', ' Two Adjacent Classic Rooms ', ' Deluxe Double Room with Terrace and Private Pool ', ' Luxury Studio Suite ', ' Deluxe Double or Twin Room with Sea View ', ' Classic Single Room with Garden View ', ' Large Penthouse Suite with Terrace and City View ', ' Superior Room Non Smoking ', ' Executive Room with views of Paris Queen size bed and Double Sofa Bed 2 Adults 2 Children ', ' Duplex Family Suite with Spa Bath ', ' Cozy Double or Twin Room ', ' Queen Single Room ', ' Superior Room queen size bed and double sofa bed ', ' Superior Deluxe King or Double Room ', ' Superior King Suite 3 adults ', ' Premium Double or Twin Room with View and Terrace ', ' Park King or Twin ', ' Garden View King ', ' Economy Single Room basement no window ', ' Luxury Suite Conservatory with Lounge Access ', ' Special Offer Comfort Double Room with Parking ', ' Two Adjacent Double Rooms ', ' Two Bedroom Apartment ', ' Superior Double Room with City View ', ' Twin Room with Free Airport Shuttle Service from 5 00am to 00 30am ', ' Comfort Double or Twin Room with Extra Bed ', ' Double Accessible Guest Room ', ' Junior King Suite with Pool Access ', ' Executive Double Room Single Use ', ' Junior Suite with Pool Access ', ' Superior Deluxe Double Room Pigalle 22 ', ' Privilege Superior Room ', ' Double without credit card ', ' Deluxe Double Room with Balcony Non Smoking ', ' Superior Double or Twin Room with Eiffel Tower partial view ', ' Executive King Room with Panoramic View ', ' Fantastic Suite ', ' Prestige Suite with Private Terrace ', ' Deluxe Metropolitan City Double Room ', ' Standard Room ', ' Executive Double Room River View ', ' Classic King View ', ' Premier Room ', ' Suite Breakfast and Bottle of Champagne Included ', ' Classic Studio ', ' Studio Suite with Club Lounge Access ', ' Superior Apartment 3 Adults ', ' Twin Room with Pool View ', ' Twin Hilton Sea View ', ' Park Junior Suite ', ' Prestige King Room Non Smoking ', ' Standard Quadruple Room ', ' Two Connecting Double Rooms ', ' One Bedroom Suite ', ' Classic Twin Room ', ' 2 Connecting Rooms 4 people ', ' Two Bedroom Suite with Two Bathrooms ', ' Twin Room ', ' Comfort King or Twin Room ', ' Deluxe Double Room with Two Double Beds ', ' Executive Studio with London Eye View ', ' Business Double Room Ground Floor ', ' Studio King 3 adults ', ' Principle Double ', ' Penthouse Junior Suite with Access to Executive Lounge ', ' Ground Floor Queen Room Disability Access ', ' Single Room ', ' Loft Suite with Terrace ', ' Standard Double Room with View ', ' Family Room XL ', ' Executive Double or Twin Room With Terrace ', ' Deluxe Double or Twin Room with Spa Bath ', ' Small Twin Room ', ' Special Offer Princess Relax ', ' Comfort Double or Twin Room with Rambla View ', ' Double or Twin Room Non Smoking ', ' King Deluxe Room ', ' Superior Room with Club Lounge Access Free Wifi ', ' Double Room Tour Eiffel with Shower ', ' Privilege Room with 2 Double Beds ', ' Prestige Double Room ', ' Art Deco Room Balcony ', ' Deluxe Executive Room ', ' Superior Double Room with Free Access to Steam Bath ', ' Duplex Suite with Spa Access ', ' Double Queen Family Suite with Access to Executive Lounge ', ' Suite with Rambla View ', ' Standard Twin Room with Arc de Triomphe View ', ' Grand Executive Club Room ', ' Executive Double or Twin Room with Executive Lounge Access ', ' Standard Apartment ', ' Executive room with Executive lounge access Free Wifi ', ' King Junior Suite with View ', ' Executive Suite with Spa Bath ', ' Mandarin Double or Twin Room ', ' Two Double Bed Guest Room ', ' Superior Twin Room with Cathedral View ', ' Superior Room Pigalle ', ' Superior Double Room with Sofa Bed 3 Adults ', ' Junior Suite with Eiffel Tower View ', ' Executive Twin Room with Lounge Access ', ' Junior Queen Suite with Sofa Bed ', ' Double Room with Private Bathroom ', ' Business Double Room ', ' Double Queen Executive Waterfront with Access to Executive Lounge ', ' Executive Queen Room with Lounge Access ', ' Superior Premium Queen Room ', ' Cabaret Junior Suite ', ' Superior Room with canal view ', ' Deluxe Club Double Room ', ' Superior King Room Eiffel Tower View ', ' Double Suite ', ' Two Connecting Executive Rooms ', ' Deluxe Two Bedroom Suite ', ' Canal View Queens ', ' Deluxe Apartment ', ' Deluxe Double Room Swimming Pool Hammam Access upon reservation ', ' Apartment 6 Adults ', ' Urban Deluxe ', ' Jimmie Martin Penthouse Suite ', ' Apartment with City View Top Floor ', ' Fabulous Double or Twin Room ', ' Superior Double Room with Two Double Beds ', ' Double or Twin Room Ladies Special ', ' Prestige Double Room With View ', ' Classic Twin Room with View ', ' Superior Twin Room with Park View ', ' Double Room Annex ', ' Executive Double Room with Spa Access ', ' Basic Double Room NR ', ' Tradition Twin Room ', ' Junior Suite with Lounge Access and City View ', ' Small Double Room with Canal View ', ' King Suite ', ' Stayed 24 nights ', ' Standard Queen or Twin Room Lower Ground Floor ', ' Executive Room with Terrace ', ' Privilege Room with Double Bed and Single Sofa Bed ', ' Classic Double Room with Private Terrace ', ' Double Room with Street View ', ' Ambassador Suite ', ' Economy Double Room ', ' Solo Room ', ' Double Room 3 Adults ', ' Classic Room ', ' Hyatt Twin Room with View ', ' Club Double or Twin Room with Executive Lounge Access ', ' Family Suite with two connecting rooms ', ' Corner Twin Room ', ' Weekend Offer Standard Studio ', ' Club King Room with Lounge Access ', ' Presidential suite with view terrace ', ' Studio Room ', ' Family Apartment ', ' Executive Double or Twin Room with Harbour View ', ' Superior Double Room with Garden View ', ' Deluxe Room with Courtyard View ', ' Exclusive Suite Eiffel ', ' Two Connecting Double Rooms with Pool Access ', ' Special Offer Queen Room ', ' Classic Double Room with Shower ', ' Suite with Spa Access 1 Adult ', ' Double or Twin Room with City View ', ' Superior Single Room ', ' Two Connecting Double and Twin rooms ', ' Executive Room with One Queensize Bed with Balcony ', ' Double Room with Garden View ', ' Suite with Balcony and Spa Access ', ' Mini Room ', ' Classic Room with 1 Queen bed ', ' Deluxe Double Room Pigalle 21 ', ' Classic Double Room with Garden View ', ' Premium Double Room with Garden View ', ' Deluxe King Room with Club Lounge Access and Balcony ', ' Executive Twin Room 1 2 Adults ', ' Superior King Room with Lounge Access ', ' Apartment Suite ', ' Squint Penthouse Suite ', ' Delegate Deluxe Double Room ', ' Executive Double Room Top Floor ', ' Small Double Room 1 2 adults ', ' Superior Double or Twin Room with Balcony ', ' Fabulous Bank Canal ', ' Triple Executive Room ', ' Suite with Eiffel Tower View ', ' Superior Deluxe Room with Spa Bath ', ' Large Double Room ', ' Queen Guestroom ', ' Double Room City ', ' Spring Package Deluxe Double or Twin Room ', ' Executive King or Twin Room ', ' Standard Studio ', ' Superior Twin Room with Eiffel Tower View ', ' Executive Double Room with Two Double Beds with Lounge Access ', ' Single Room with Sauna Access ', ' Delightful Queen Room ', ' Deluxe Double or Twin Room with Mountain View ', ' Xscape King ', ' Superior Double Room with Saint Germain des Pr s Church View ', ' Stayed 6 nights ', ' Kings Junior Suite ', ' Superior Room with City View ', ' Canal View King ', ' Superior room Design Style Free Wifi ', ' Hoxton Family Suite ', ' Stayed 11 nights ', ' One Bedroom Suite with Executive Lounge Access ', ' Souterrain Triple Room ', ' Executive Double Room with Park View ', ' Family Room with Bathroom ', ' Executive Suite with Free Airport Shuttle Service from 5 00am to 00 30am ', ' Family Room 2 Adults 3 Children ', ' Superior Double Room Pigalle 17 ', ' Parisian Suite ', ' Royal Mews View King Room ', ' Superior Queen Suite with Sofa Bed ', ' Deluxe Queen Room with Balcony ', ' Superior Premium Room with Queen Bed Sofa ', ' Executive Suite with Balcony ', ' Stayed 27 nights ', ' Large Suite ', ' Privilege Room With View ', ' Superior Deluxe Double Room ', ' Deluxe Plus Double Room ', ' Royal Suite with Canal View ', ' Studio Suite Bank ', ' Director s Double Room ', ' 2 Connecting Rooms 5 people ', ' Executive Four Poster Room ', ' Deluxe with Garden ', ' King Superior Plus Room ', ' Budget Single Room Non Smoking ', ' Double Room Op ra Garnier with Spa Bath ', ' Deluxe Queen Guestroom ', ' Superior Queen Room with Courtyard Garden or City View ', ' Executive Double Room with Executive Lounge Access ', ' Junior Suite with Gallery View ', ' Suite Avenue ', ' Two Bedroom Suite with Terrace ', ' Chambers Junior Suite with Club Lounge Access ', ' Twin Hilton Plaza Room ', ' Penthouse King Executive Room with Access to Executive Lounge ', ' Superior Double or Twin Room 1 2 Adults ', ' Green Park Suite ', ' Duplex Apartment 6 Adults ', ' Standard Double Room Disability Access ', ' One Bedroom Suite with Kitchen ', ' Room with Paris View ', ' Luxury Double Room Mezzanine ', ' Superior Room with Queen Bed ', ' Studio Disability Access ', ' penta PlayerPad Suite ', ' Falconers One Bedroom Suite ', ' Studio Twin Room ', ' Luxury Quadruple Room ', ' King Room with City View ', ' Deluxe Room With Pool Access ', ' Double Room with Eiffel Tower View ', ' Non Smoking Standard Room with 1 Double Bed ', ' Superior Double Room with Spa Access Free Wifi ', ' Suite with City View ', ' Deluxe Double Room without Window ', ' Executive Double or Twin Room Canal View ', ' Superior Double Room with Tea Time Included ', ' Twin Studio ', ' Club Twin Room with Lounge Access ', ' Junior Suite Twin ', ' Double or Twin Room with Garden View ', ' Executive Room with River View ', ' Standard Double ', ' Family Room 5 Adults ', ' Superior Room with Spa Fitness Access ', ' Prestige Room with Garden View Free WiFi ', ' Deluxe Twin Room with View ', ' Double Room with Parking ', ' Classic King Twin Room ', ' Deluxe Studio Suite ', ' Executive Double or Twin Room with City View ', ' Westminster Suite with King Bed ', ' Junior Suite with Sea View ', ' Art Deco Deluxe Room ', ' Suite Designer ', ' Standard Family Room ', ' Executive Double Room ', ' Special Offer Twin Double Room Stay and Park ', ' Superior Twin Room with Terrace ', ' Standard Room With 2 Zip Beds ', ' Deluxe Family Room with Two Double Beds with Paris View ', ' Standard Room with Double Bed and Sofa Bed ', ' La Petite Maison ', ' King Executive Plus Room ', ' Superior Room with 1 Double Bed and 1 Single Bed ', ' Double Room Trocad ro with Spa Bath ', ' Attic Suite 1 or 2 people ', ' Superior Room with 1 Queensize Bed and Double Sofa bed ', ' Superior Double or Twin Room with Canal View ', ' Double Room ', ' Junior Suite Double 1 2 Adults ', ' King or Twin Room with River View ', ' Eiffel Suite ', ' Club Junior Suite ', ' Deluxe Triple Room with Spa Access ', ' Standard ', ' Deluxe Barcelona city View ', ' Privilege Suite ', ' Duplex Deluxe Triple Room 2 Adults 1 Child ', ' Suite with Garden View and Parking ', ' Superior Double Room 1 2 Adults ', ' Family Room 4 Adults ', ' Premium Room Grand Pigalle ', ' Premium Suite ', ' Premium View Double Room ', ' Deluxe Suite with River View ', ' Family 2 Connecting Rooms ', ' Champs Elys es Prestige Junior Suite ', ' Large Canal View King ', ' Budget Double Room ', ' Studio Double Family ', ' Chambers Grand Junior Suite with Club Lounge Access ', ' Standard Room with Double Bed ', ' King Room with View ', ' Superior Plus Double Room ', ' Club Single Room ', ' Classic Twin View ', ' Imperial Suite ', ' Regency King Suite with Lounge Access ', ' Deluxe Double Room With Free Access to Steam Bath ', ' Double Room with Extra Bed 2 Adults 1 Child ', ' Wonderful Sky Room ', ' Superior Double Room 1 Adult ', ' Studio Suite ', ' Deluxe Double Room with Terrace and Eiffel Tower View ', ' Deluxe Double Room with Free Access to Hamman ', ' Superior Business Room with a Double Bed and Sofa Bed ', ' Double Room Curieuse ', ' Queen Guest Room with Terrace ', ' Superior Duplex Room ', ' Deluxe Family Room with 1 Double and 2 Single Beds ', ' Standard Double or Twin Room with Balcony ', ' King Room with Partial Sea View ', ' Superior Double or Twin Room with Parking ', ' Marquise Superior Double or Twin Room ', ' Queen Guest Room Mobility Accessible ', ' Junior Suite with Private Pool ', ' Privilege Family Room ', ' Two Bedroom Penthouse Apartment ', ' Duplex King Suite 2 Adults 2 Children ', ' Suite with Balcony ', ' Single Room with Shower ', ' Adjacent Rooms ', ' Classic Double Room for Single Use ', ' Executive Room with queen size bed and single sofa bed ', ' Standard Double or Twin Room with Extra Bed ', ' Superior Suite with 1 Double Bed and 1 Single Bed ', ' Premium Deluxe Double Room ', ' Executive Twin Room ', ' Deluxe Eiffel Tower King Room ', ' King Executive Room with Lounge Access ', ' Grand Deluxe Contemporary Room ', ' Double Room GWR Tower ', ' Park Twin ', ' Park Queen ', ' Champs Elys es Prestige Room ', ' Ring Suite ', ' Standard Twin Room Non Smoking ', ' Park King ', ' Double or Twin Room 1 Adult ', ' Junior Suite High Floor ', ' One Double Suite NonSmoking ', ' Executive Room Non Smoking ', ' Suite Juliana ', ' Emotion Room ', ' FAMILY PLAN ', ' Family Room Two Connecting Rooms VIP Welcome for Kids ', ' Superior Premium Room with Queen Bed and Sofa Bed ', ' Club Suite with Executive Lounge Access ', ' King Corner Room ', ' Deluxe Double with Terrace ', ' Superior Double or Twin Room with Balcony 1 Adult ', ' Executive Room with 1 Queen bed ', ' Design Double or Twin Room ', ' One Bedroom River View Suite ', ' Amsterdam Street Art Double Guest Room ', ' Family Room 2 connected Double Rooms ', ' Family Room with King Bed ', ' Queen Superior Room ', ' Junior Suite Courtyard ', ' Superior Double or Twin Room ', ' Deluxe Double Room with City View and Balcony ', ' Deluxe Room 2 Adults 1 Child ', ' Family Room 2 Adults 2 Children with Access to Nagomi Health ', ' Executive Double Room with Double Bed and Sofa Bed ', ' Deluxe Twin Room Annex ', ' Cosy Single Room ', ' Ashburn Suite ', ' Family Room with View 2 Adults 2 Children ', ' Four Poster Suite ', ' Twin Plaza Executive Room ', ' Standard Room with queen size bed and double sofa bed 3 Adults ', ' Large King Room ', ' 4 rooms ', ' Standard Double Room with Panoramic View ', ' Chelsea Double Suite ', ' Double Room with Free Airport Shuttle Service from 5 00am to 00 30am ', ' Superior Twin or Double Room ', ' Deluxe Double Room or Twin Room ', ' View Queen ', ' Classic Double or Twin Room 1 2 Adults ', ' Deluxe Room with Two Double Beds ', ' Standard Double Room with Sofa Bed 3 Adults ', ' Executive Queen Room With Sofa Bed ', ' Small Deluxe Room with Canal View ', ' Double or Twin Room with Terrace ', ' Deluxe Family Room with 1 Double and 2 Single Beds 3 Adults ', ' Deluxe Guest room 1 King or 2 Twin Single Bed s ', ' Superior Room with Two Double Beds and View ', ' Executive Double Room with Air Conditioning ', ' Junior Suite Basement ', ' Spectacular Double Room ', ' Junior Double ', ' Terrace Junior Suite ', ' Executive Studio City View Family ', ' Hyatt Twin Room ', ' Standard Duplex Room 3 Adults ', ' Single Room Tea Time Wine Tasting Included ', ' Executive Deluxe Room ', ' Junior Suite Triple ', ' Double Room Duchesse ', ' Dorsett Double Room ', ' Junior Suite with living room ', ' Queen Guest Room ', ' Falconers Two Bedroom Suite ', ' King Guest Room ', ' Suite 1 2 Adults ', ' Stayed 4 nights ', ' Superior Twin Room with Private Pool ', ' Deluxe double or Twin Room ', ' Standard Double or Twin Room 3 Adults ', ' Deluxe Twin Room with Terrace and Eiffel Tower View ', ' Superior King Room with Sofa Bed ', ' Couple ', ' Accessible King Room with Lounge Access ', ' Executive Suite 2 Adults 2 Children ', ' Emotion Room with Terrace ', ' Executive Apartment ', ' Twin Suite ', ' Family King Room ', ' Twin City View Room ', ' Superior Double or Twin Room with Terrace Spa acces ', ' Champagne Shopping package Twin Room ', ' Family Communicating Rooms ', ' Double Room Lady Soul ', ' Triple Family Guestroom ', ' Room with Park View ', ' Deluxe L Double Room ', ' Montcalm Club Double Room ', ' Double Room with Extra Bed 2 Adults 1 Child with Ramblas View ', ' One Bedroom King Suite 2 Adults ', ' Standard Double or Twin with view ', ' Suite with Hot Tub ', ' Hyatt Queen Room ', ' Park Suite View ', ' King Room ', ' Double Room with Shower ', ' Two Connecting Basic Rooms ', ' Deluxe Queen Room with Sofa ', ' Family Room Free WiFi ', ' Executive Double Room with City View ', ' Superior King ', ' Classic Room with 2 Double Beds 4 Adults ', ' Four Connecting Rooms ', ' Superior Room with 1 Queensize Bed Canal view ', ' Deluxe Contemporary Room ', ' Twin Junior Suite City View with Access to Executive Lounge ', ' Junior Suite Lavender ', ' Double Room Attic ', ' Compact Double Room ', ' Suite with Terrace ', ' Double or Twin Room with Spa Access ', ' Superior Pantheon Room ', ' Standard Room with Queen Bed and Sofa ', ' Superior Room with Two Double Beds and Balcony ', ' Deluxe Single Room ', ' Suite Family and Friends ', ' Room Assigned at Check in ', ' Junior Suite with Extra Bed ', ' King One Bedroom Suite with Lounge Access ', ' Deluxe Double Room with Private Pool ', ' Stayed 7 nights ', ' Double Room with View ', ' Loft Double Room ', ' Superior M Double Room ', ' Single Room Lower Ground Floor ', ' Deluxe King Room with Club Lounge Access ', ' Family Superior Room ', ' One Bedroom Suite with Sea View ', ' Superior Room with Balcony or Terrace ', ' Junior Suite with Spa Bath ', ' Superior Double Room with Extra Bed ', ' Interconnecting Double Rooms ', ' Junior Triple Suite ', ' Standard Double or Twin Room with Extra Bed 3 Adults ', ' Queen Guest Room with Sofa Bed ', ' Room with River View Upper Deck ', ' Suite with Executive Lounge Access ', ' Penthouse Suite with View ', ' Double Room Ground Floor ', ' Deluxe Triple Room ', ' King Hilton Guestroom ', ' Deluxe Double plus Single Bed ', ' Stayed 23 nights ', ' Standard Double Room Ground Floor ', ' Junior Suite Executive ', ' Luxury Suite with whirlpool ', ' Special Offer Twin Room ', ' Large Twin Room ', ' Chic Twin or Double Room ', ' Special Offer Double Room ', ' Deluxe King or Queen Room ', ' Classic Queen Room ', ' Executive Suite 1 King ', ' Duplex ', ' Wonderful Bank King ', ' Standard Triple Room with Queen Bed and Sofa Bed ', ' Queen Room with Balcony ', ' Deluxe King Room with River View ', ' Double Room Insolite ', ' Superior Double Twin Room with Free Parking ', ' Suite Family Room ', ' Classic Apartment ', ' Business Room ', ' Double Superior Room ', ' Double Room with Single Bed ', ' Superior Double Room Les Artys Les Fifties ', ' Executive Room with View and Lounge Access ', ' Deluxe Room Henry Monnier ', ' Deluxe Plus Double or Twin Room ', ' Superior Four Poster Room ', ' Superior Double Room with Sofa ', ' Superior Double or Twin Room XL with View ', ' Townhouse Deluxe ', ' King Room with Pool View ', ' Deluxe King Room Disability Access ', ' Superior King Room ', ' Treat your Partner Package Double Room ', ' Room with Dock View Upper Deck ', ' Deluxe Double Studio ', ' Deluxe Guest Room ', ' Standard Double Room 2 Adults ', ' Standard Compact Double Room ', ' Junior Suite 3 Adults or 2 Adults 1 Child ', ' La Reflet Junior Suite ', ' Deluxe Room with City View ', ' Single Hilton Guestroom ', ' Business Suite ', ' Junior Suite with Queen Bed 3 Adults ', ' Twin Room with City View ', ' Privilege Double Room with Eiffel Tower View ', ' Superior Double Room Breakfast included ', ' Two Adjacent Rooms 6 persons ', ' Junior Suite Royal ', ' One Bedroom Studio Suite ', ' Executive Studio Suite ', ' Deluxe Double Room with Four Poster Bed ', ' Marvelous Suite ', ' Classic Single Room with Spa Access ', ' City Suite ', ' Smart Triple Room ', ' Executive Suite 2 Adults ', ' Standard Duplex Room 1 2 Adults ', ' Executive Suite ', ' Executive Family Room 2 Adults and 2 Children ', ' Classic Triple Room 3 Adults ', ' Balcony Suite with Executive Lounge Access ', ' Stayed 3 nights ', ' Four Seasons King Junior Suite ', ' Large Canal View Queen ', ' City Apartment ', ' Club Deluxe Room ', ' Bridal Suite with view ', ' Grand Junior Suite ', ' Double Room 1 Adult with Free Airport Shuttle Service from 5 00am to 00 30am ', ' Classic Triple Room 2 Adults ', ' Deluxe ', ' Penthouse ', ' Deluxe Room with Club Lounge access ', ' King Superior Room ', ' Corner Suite ', ' Superior Room with 1 Queen Bed ', ' Superior Room 2 Single Beds ', ' One Bedroom Suite with Lounge Access ', ' Superior Room Swimming Pool Hammam Access upon reservation ', ' Single Room with Courtyard View ', ' Royal Duplex Suite ', ' Duke of Monmouth Suite ', ' Loft Double Room with Terrace ', ' Prestige Twin Room ', ' Superior Double or Twin Room XL with Extra Bed 3 Adults ', ' Deluxe Eiffel Twin ', ' Wonderful Room ', ' Triple Room Relax ', ' Privilege Double Room 2 Adults 1 child ', ' Deluxe Designer ', ' King Room Disability Access Non Smoking ', ' Four Seasons Suite ', ' Queen Hilton Guest Room ', ' Cosy Double Room ', ' Privilege Double Room with free pool and hammam access ', ' Executive Room 1 Queen size Bed 1 Sofa Bed Balcony ', ' 2 Connecting Deluxe Rooms with VIP Service for Kids ', ' Superior Double Double ', ' Superior King Room Barlow Wing ', ' Master Bedroom Double ', ' Executive Room Selected at Check In ', ' Business Plus Single Room with Balcony ', ' Two Connecting Rooms with Free Access to Hamman ', ' Superior Double Room Single use ', ' Double or Twin Room with Extra Bed with Balcony ', ' Plaza Club Room ', ' Grand Premium Double or Twin with City View ', ' Executive Double Room With Free Access to Steam Bath ', ' Junior Suite 2 Adults ', ' Suite with Spa Access ', ' Twin Room with Mobile Phone ', ' Superior Queen Room ', ' King Hilton Guest Room ', ' Superior Suite with Garden View ', ' Luxury Double Room ', ' Junior Suite With Free Access to Steam Bath ', ' Deluxe Double Room with Private Patio ', ' Deluxe Double Room with Bath ', ' Standard 1 Bedroom Apartment ', ' Superior Double or Twin Room with Patio ', ' Executive Double Room with Mobile Phone ', ' Comfort Double Room ', ' Classic Double Room with City View ', ' Single Room with Garden View ', ' Twin Room 1 2 Adults ', ' Attach Suite ', ' Club Room with Club Lounge Access Free Wifi ', ' Superior Double or Twin Room with Courtyard view ', ' Family Executive Room 2 Adults 2 Children ', ' Deluxe Double Room with 1 Extra Bed ', ' Family Room Two Connecting Rooms ', ' Executive Deluxe Double Room with Spa Access ', ' Executive Queen Room ', ' Junior Suite Twin 1 2 Adults ', ' Executive Room with 1 Queensize Bed ', ' Superior Double Room 2 Adults 1 Child ', ' Deluxe Double Room with Spa Access ', ' Double Family Guest Room ', ' King Guest Room with Sofa Bed ', ' Comfort Double or Twin Room 1 2 Adults ', ' Magistrate King ', ' Hypoallergenic Double or Twin Room ', ' Superior Double Room with Terrace and Mountain View ', ' Souterrain Executive Double Room ', ' Double Room with City View ', ' Deluxe Double Room 2 Adults 1 Child ', ' Business Plus Double Room with Balcony ', ' King Junior Suite City View with Access to Executive Lounge ', ' Deluxe Queen Room with Pool View ', ' Superior Double Room with Private Patio ', ' Triple Room with Park View ', ' Classic Double Room with Free Access to Hamman ', ' Grand Deluxe Double or Twin Room ', ' Executive Queen Room with Eiffel Tower View ', ' Townhouse Club ', ' Family Junior Suite 3 Adults 1 Child ', ' Deluxe Room 2 Adults ', ' Queen Room with Roll In Shower Mobility Access Non Smoking ', ' Junior Suite Free Wifi ', ' Luxury Room 3 Adults with canal view ', ' Twin Deluxe with Canal View ', ' Superior Queen Room with Double Sofa ', ' Royal Double Room ', ' Art Twin Room ', ' Superior Double or Twin Room with Terrace ', ' 2 Connecting Rooms ', ' Double Room with Mobile Phone ', ' Superior Double or Twin Room XL with Extra Bed 2 Adults 1 Child ', ' Premier Junior Suite 1 2 Adults ', ' Deluxe Double or Twin Room with Terrace ', ' Premier Room with Balcony ', ' Deluxe Double Room with Extra Bed ', ' Premium King Room ', ' Double Room 2 Adults 1 Child ', ' Junior Suite 2 Adults 1 Child ', ' Mezzanine Suite ', ' King Magistrate Suite ', ' Double Room with City View 1 2 Adults ', ' Standard Double Room with City View ', ' King One Bedroom Suite ', ' Superior Twin Room with Tea Time Included ', ' Large Single Room ', ' King Studio ', ' Deluxe Triple Room Swimming Pool Hammam Access upon reservation ', ' Superior Double Room Non Smoking ', ' Standard Room with 1 Queen Bed ', ' Standard Room with One Double Bed and Single Sofa Bed ', ' Twin Room with City View Top Floor ', ' Superior Double Room with View ', ' Executive Room City View ', ' Superior Twin Room with Airconditioning ', ' Andaz Large Suite ', ' Garden View Queen ', ' Superior Double or Twin Room with View ', ' Classic Room with One Queen Bed ', ' Suite Duplex ', ' Standard Room with Queen Bed ', ' Standard Room 1 2 adults ', ' Quality Single Room ', ' Twin Hilton Room Plus ', ' King Room Non Smoking ', ' Deluxe Twin Room 2 Adults ', ' Studio King Family ', ' Emperor Suite ', ' X Ordinary Room ', ' Superior King Room with Iconic View ', ' Executive Room with queen size bed and single sofa bed 2 Adults 1 child ', ' Stayed 18 nights ', ' Deluxe Twin ', ' King Deluxe Room with Canal View ', ' Classic Double or Twin Room with Spa Access ', ' penta Plus Room ', ' Business Double or Twin Room Facing the Sea ', ' Junior Suite with Spa Access Free Wifi ', ' Family Apartment 2 Adults 2 Children ', ' Double Deluxe Suite ', ' Executive King or Twin Room with Lounge Access ', ' Stayed 1 night ', ' Mus e d Orsay Double Room ', ' Secret Room with Spa Access ', ' Superior Double Room Free Wi Fi ', ' Quadruple Room 2 Adults 2 Children ', ' Standard Quad Room ', ' One Bedroom Deluxe Suite ', ' Travelers with friends ', ' Single Room with Spa Access ', ' King Suite with Sofa Bed 3 Adults ', ' Business King Room ', ' Privilege Double Room with Terrace ', ' Superior Queen Single Room ', ' Privilege Super King or Twin Room ', ' Executive Single Room ', ' Double or Twin Room 2 Adult 1 Children ', ' Guest Queen Room with Two Queen Beds ', ' Superior Queen Room with Paris View ', ' One Bedroom Family Suite ', ' Queen Room Disability Access Non Smoking ', ' Stayed 30 nights ', ' Deluxe King Room with Garden View ', ' Executive Room with Queen Bed ', ' Smart Double or Twin Room ', ' Autentic Double Room ', ' Marina Suite with Canal View ', ' Deluxe Double or Twin Room with VIP Services ', ' Mayfair Suite with Lounge Access ', ' Executive Queen Room Mobility Access with Lounge Access ', ' Design One Bedroom Suite ', ' Family Room 3 Adults 1 Child ', ' Family Room with sofa bed ', ' Double Room XL ', ' Superior Queen Room with Sofa ', ' Large Garden View King ', ' The Level Room with Executive Lounge Access ', ' Deluxe Twin or Single Room ', ' Executive Double or Twin Room with Private Terrace ', ' Suite Free Executive Lounge Access ', ' Stayed 13 nights ', ' Double Room Medium ', ' Double Room Crash Pad Under 30s ', ' Executive Twin Room with Access to The Level Lounge ', ' Junior Suite 2 Adults 2 Children ', ' LM Club Double or Twin Room ', ' Queensgate Triple Room ', ' Two Adjacent Deluxe Rooms ', ' Deluxe Junior Suite with Spa Bath ', ' Executive Double Room with Whirlpool ', ' Double Room with Sofa Bed ', ' Executive Business Room with Double Bed ', ' Standard Room with Queensize bed and Single Sofa Bed ', ' Deluxe Room with Whirlpool ', ' Privilege Room with King bed ', ' View Twin ', ' Duplex King Suite 3 Adults ', ' Garden King Room ', ' Executive King Room with Executive Lounge Access ', ' Mandarin Junior Suite ', ' Superior Studio with City View ', ' Queen Hilton Deluxe ', ' Small Double or Twin Room ', ' Superior Twin Room with Free Pool Access ', ' Junior Suite with View of the Eiffel Tower ', ' Business Double Room with 500 Frequent Flyer Miles ', ' Special Offer Double Room Park and Sleep inklusive Breakfast ', ' Classic Double Room Loge Classique ', ' Mandarin Room ', ' Queen Family Room ', ' Privilege Double Room ', ' Standard Studio Suite ', ' Standard Twin Room 2 Adults 1 Child ', ' Double or Twin Room with Bath ', ' Luxury Room Club Sofitel with Spa Access ', ' Elegance Double or Twin Room ', ' Luxury Suite music theme ', ' Executive Double Room with Lounge Access ', ' Deluxe One Bedroom Park Suite ', ' King Guestroom ', ' Montcalm Club Twin Room ', ' Deluxe Family Room with 1 Double and 2 Single Beds 4 Adults ', ' Junior Double Suite ', ' Supreme Double Room ', ' Business Twin Room with Courtyard View and Public Transport Ticket ', ' Junior Suite Avenue ', ' Executive Room with queen size bed and double sofa bed 2 adults 2 children ', ' Executive King Room Non Smoking ', ' Twin Executive Room with Lounge Access ', ' Classic Cosy Room ', ' Urban Suite ', ' Junior Family Suite 3 Adults ', ' Comfort Double Room with Terrace ', ' Deluxe Apartment 4 Adults 2 Children ', ' Double or Twin Room with Sea View ', ' Double Hilton Guest Room Plus ', ' Superior Suite 3 Adults ', ' Discovery Double Room ', ' Single Room with Double Bed ', ' Premium King Room with View ', ' Small Double Room Canal View ', ' Superior Double or Twin Room with Sauna Access ', ' Junior Suite Premium with Spa Access ', ' Deluxe Twin Room with Eiffel Tower View ', ' Premium Double Room ', ' One Bedroom Suite with Courtyard View ', ' Superior Double Room with Spa Access ', ' Comfort Double Room with Park View ', ' Oscar Wilde Room ', ' Premium Junior Suite with King size Bed ', ' Stanhope Suite ', ' Four Seasons Executive King Suite ', ' Luxury Junior Suite ', ' Junior Suite with Spa Access 3 Adults ', ' Luxury Double Room Large ', ' Twin Room Disability Access ', ' Small Double Room with Terrace ', ' Studio Attrape R ve ', ' Standard Double Studio ', ' Deluxe Twin Room Souterrain Basement ', ' Two Connecting Double Rooms 5 adults ', ' Deluxe Premium Double Room ', ' Double Hilton Guestroom ', ' Queen Deluxe Room ', ' Double Room with Four Poster Bed ', ' Standard Double or Twin Room 1 2 Adults ', ' Double Guest Room ', ' Suite with Duomo View ', ' Two Bedroom Superior Suite ', ' Junior Suite Cathedral View with Access to Executive Lounge ', ' Deluxe Double ', ' Double Room Luxury XXL King size bed ', ' Superior Double Room with 1 Double Bed and 1 Sofa Bed 2 places ', ' Prestige Triple Room ', ' Executive Room with queen size bed and single sofa bed 3 Adults ', ' Pasha Suite ', ' Single Room with Bathroom ', ' Basic Double Room ', ' Double Room with Arc de Triomphe View a Glass of Champagne ', ' Superior Twin Room ', ' Deluxe King Room Balcony with Eiffel Tower View ', ' Deluxe Double or Twin Room with Landmark View ', ' Compact Double Room with Private Bathroom ', ' Club Suite ', ' Family Room with View ', ' Superior Double Room with Balcony ', ' Duplex Suite ', ' King Room Mobility Accessible Non Smoking ', ' Superior Room with 1 Double bed and Sofa 3 adults ', ' Superior Plus Room ', ' Suite with Eiffel Tower View VIP welcome ', ' Deluxe Queen Room with View ', ' Suite with Knightsbridge View ', ' Superior Room with Spa Access Free Wifi ', ' Park Suite ', ' Premier King Room Barlow Wing ', ' Suite with Panoramic View ', ' Classic Twin or Double Room ', ' Triple Room 2 Adults 1 Child ', ' Stayed 9 nights ', ' Classic Room Breakfast Included ', ' Superior Double Room with Balcony and City View ', ' Intuition Room ', ' Romantic Offer Double Room ', ' Suite 1 2 Adults with Spa Access ', ' superior Double or Twin Room with extra bed ', ' Superior Twin Room with City View ', ' Hilton Superior Twin Room ', ' Double Room Atelier d Artiste with Spa Bath ', ' Junior King Suite with View 3 Adults ', ' Two Bedroom Family Room ', ' Saint Honor Double Suite ', ' Double Room Radieuse ', ' Wonderful Double or Twin Room ', ' King Plaza Executive Room ', ' Single Room City ', ' Two Connecting Double Rooms 4 Adults ', ' Superior Double Room Plus L Insolente ', ' Double or Twin Room Select ', ' Classic Double Room with free pool and hammam access ', ' Room with River View Main Deck ', ' Basic Double ', ' Double for Single Use ', ' Four Seasons Twin Junior Suite ', ' Studio Triple ', ' Club Double Room with free Internet and Breakfast ', ' City King Room ', ' Twin Room Non Smoking ', ' Executive King ', ' Executive Room with Double Bed ', ' Double Room Single Use ', ' Suite VIP welcome ', ' Stunning City Studio ', ' Junior Suite with Hydromassage Shower ', ' Knightsbridge Suite ', ' Deluxe Quadruple Room with Paris View ', ' Double Room Courtyard ', ' Deluxe Room with Two Single Beds ', ' Deluxe Twin or Double Room ', ' Deluxe Triple Room with View ', ' Family Room Sleeps Four ', ' Congress Suite ', ' Grand Premium Double or Twin with Sea View ', ' Premium Superior Queen Room ', ' Twin Room with Extra Bed ', ' Stayed 5 nights ', ' Superior Queen Room 2 adults ', ' Superior Queen Suite with Sofa ', ' Superior Room with 1 kingsize bed ', ' Executive Queen Room with Two Queen Beds with lounge Access ', ' Loft Suite Disability Access ', ' Executive Double Room Eiffel Tower View with 1 Queensize and Sofa Bed ', ' Deluxe Queen Room with Two Queen Beds ', ' Junior Suite with Queen Size Bed ', ' Superior Deluxe Room ', ' Double Deluxe Room ', ' Junior Suite with Bath and Shower ', ' Small Single Room ', ' Junior Suite Jungle Fever with Hot Tub ', ' Suite King ', ' Standard Double or Twin Room with Extra bed 2 Adults 1 Child ', ' Double room 1 or 2 people ', ' Park Deluxe Suite ', ' Double or Twin Room 2 Adults ', ' Classic Double Room La Parisienne ', ' Twin Room with Private Bathroom ', ' Classic Double Room ', ' Palais Suite ', ' Executive King Room with Sofa Bed Non Smoking ', ' Superior Double Room with Courtyard View ', ' Deluxe Duplex Room ', ' Executive King Twin Room ', ' Park Deluxe Queen ', ' Corner Double Room ', ' Top Deluxe Room ', ' Double Room 1 Adult with Eiffel Tower View ', ' Business Double Room with Balcony ', ' Grand Suite ', ' Premier Suite ', ' Standard Family Suite with Two Connecting Rooms ', ' Economy Double Room basement no window ', ' Art Deco Double Room ', ' Executive Room with City View ', ' King Grand Deluxe Room ', ' Diamond Suite Spa ', ' Superior Executive Room ', ' Family Quadruple Room ', ' Double or Twin Room with Park View ', ' Park Deluxe Twin ', ' Standard Double Room without Window ', ' Deluxe Double Room with Separate Lounge Area ', ' King Family Room ', ' Deluxe Double or Twin Room Light my Fire ', ' Standard Double Room Pigalle 15 ', ' Camper Suite ', ' Double Room Baronne ', ' Business Double Room 1 Adult ', ' Classic Double Room 1 Adult ', ' Superior Double Room with Terrace and View ', ' Deluxe Double Room with Gallery View ', ' Single Room with Park View ', ' Skylight Deluxe Executive Room ', ' City Twin Room ', ' Junior Suite Blue ', ' Comfort Double or Twin Room Non Smoking ', ' Large Room ', ' Club King Room Non Smoking with Executive Lounge Access ', ' Privilege Room with a double bed ', ' Family Room with Spa access ', ' Executive Deluxe ', ' Large One Bedroom Apartment ', ' Classic Double or Twin Room ', ' Standard room with 1 queen bed and sofa ', ' King Room or Twin Room Disability Access ', ' Double Room with City View Top Floor ', ' Economy Plus Double Room ', ' Grand Executive Room ', ' Executive Double Room with Access to The Level Lounge ', ' Apartment 4 Adults ', ' Executive Family Room ', ' Superior Queen Room with 2 Single Sofa Beds ', ' Executive Double or Twin Room with Club Lounge Access ', ' Superior Deluxe Double or Twin Room ', ' Accessible Double Guest Room ', ' Executive King Suite with Lounge Access ', ' Twin Room 1 2 people ', ' Urban Junior Suite ', ' Superior Double Room Disability Access ', ' Studio 2 Adults ', ' Junior King Suite with Lounge Access ', ' Deluxe Triple Suite ', ' Superior Twin Room with Courtyard Garden or City View ', ' Suite Terasse Eiffel ', ' Two Adjoining Rooms with Dock View Upper Deck ', ' Twin Deluxe Guest Room ', ' Superior Double Room with Terrace ', ' Privilege Junior Suite with Terrace and Spa Access ', ' Grand Deluxe King or Twin Room ', ' Single Cabin Room ', ' Privilege Room 3 Adults ', ' Superior Suite ', ' Double Room Mus e d Orsay with Spa Bath ', ' King Room with Sofa Bed ', ' Twin Room with Park View ', ' Deluxe Double Room 1 2 Adults ', ' Privilege King Room ', ' Executive Double or Twin Room with Spa Access ', ' Suite 2 Adults 2 Children ', ' Business Single Room with Courtyard View ', ' Executive Room with Two Double Beds and Executive Lounge Access ', ' King or Double Room with Panoramic View ', ' One Bedroom Suite with City View ', ' Twin Hilton Deluxe Room ', ' Deluxe Double or Twin Room 3 Adults ', ' Superior Room with Queen size bed and Sofa Bed 2 Adults ', ' Deluxe Room with Spa Access Free Wifi ', ' Room with Dock View Main Deck ', ' Hilton Executive Suite with Lounge Access ', ' Business Double or Twin Room ', ' Superior Studio Apartment ', ' Maisonette ', ' Standard Double Room with Sofa ', ' Deluxe Double Room Canal View ', ' Double Deluxe room with Roman Bath ', ' Superior One Bedroom Suite with Executive Lounge Access ', ' Large Deluxe Room ', ' Apartments 4 Adults ', ' Deluxe Double Room with Lounge Access ', ' Executive Deluxe Studio Suite ', ' Standard King Room Non Smoking ', ' Twin Hilton Guest Room ', ' Queen Hilton Superior Room ', ' Deluxe Two Bedroom Apartment ', ' Junior Suite with access to the Club Lounge ', ' Twin Grand Premier with Canal View ', ' King Deluxe Family Room Connecting Doors ', ' Deluxe Room with 1 King bed ', ' Double Room with Public Transport Ticket ', ' Classique Double Room ', ' Executive King or Twin Room with Lounge Access and Park View ', ' Premier Shard Suite ', ' Deluxe Double or Twin Room with Canal View Annex building ', ' Luxury Room 2 Adults with canal view ', ' Comfort Double or Twin Room with Balcony ', ' Superior Double Twin Room ', ' Master Bedroom Suite ', ' Double Room with Balcony ', ' Superior Room with Balcony with Spa Access ', ' Executive Suite with Queen Bed and Sofa Bed 2 Adults ', ' Superior Double or Twin Room Tea Time Wine Tasting Included ', ' Deluxe Double or Twin Room 2 adults 1 child ', ' Double Room D couverte ', ' Executive Room with Two Double Beds ', ' Executive Studio City View ', ' Deluxe Double Room with Spa Bath ', ' Queen Junior Suite ', ' Fabulous Bank King ', ' Signature Luxury King with Balcony ', ' Premium Room ', ' 2 Adjacent Rooms ', ' Deluxe One Bedroom Suite ', ' Deluxe Double Room with City View and Spa Access ', ' Room Selected at Check In ', ' Business Apartment with Public Transport Ticket ', ' Superior Family Room 2 Adults 2 Children ', ' Luxury Triple Room ', ' Double Queen Waterfront ', ' Group ', ' Triple Room with Terrace ', ' King Deluxe One Bedroom Suite with Lounge Access ', ' Grand Duplex Suite ', ' Twin Grand Deluxe Room ', ' Triple Studio ', ' Double Guest Room with River View ', ' Fabulous Room ', ' Standard Room Sopi ', ' King Cathedral View Room ', ' Luxury Family Room ', ' Quintuple Room 5 Adults ', ' Exception Room ', ' Double Room Non Smoking ', ' Executive Double Room with Eiffel Tower View ', ' Grand Superior Room ', ' Premier Single Room ', ' Queen Room Non Smoking ', ' Deluxe Room with Spa Fitness Access ', ' Townhouse Suite ', ' Superior Double Room with London Eye View ', ' Superior Room with Extra Bed 3 Adults ', ' Executive Double Room Studio D Artiste ', ' Deluxe Twin Room with Spa Access ', ' Suite with Spa Bath ', ' Marvellous Suite ', ' Double Room with Extra Bed ', ' Duplex Junior Suite ', ' Urban Triple Room ', ' 2 Connecting Double Rooms ', ' Executive King Room ', ' Junior Suite With Private Garden ', ' Junior Suite with Club Lounge Access ', ' Luxury Double Room with Balcony and River View ', ' Superior King Suite ', ' King Suite with Sofa Bed 4 Adults ', ' Studio My Little Haussmann ', ' Triple Room with Spa Access ', ' Superior Double Studio ', ' Octagon Suite with Lounge Access ', ' Hilton Superior Double Room ', ' Classique Square ', ' Twin Premier Room ', ' Junior Suite 5 Adults ', ' Family Room 4 guest ', ' Luxury Suite ', ' Superior Suite with View ', ' City Garden Room ', ' Canal View Superior Deluxe Room with Spa Bath ', ' Triple Hilton Family Room ', ' Kings Three Bedroom Suite ', ' Club Queen Room ', ' Stayed 28 nights ', ' Sextuple Room ', ' Triple Apartment ', ' Prestige Family Room ', ' Mezzanine Room ', ' Double Room with 2 tickets for a Cruise on the Seine river ', ' Deluxe Room ', ' Signature Double Room ', ' Superior Quadruple Room With Balcony ', ' Twin Deluxe Room ', ' Kings One Bedroom Suite ', ' Luxury Room ', ' Luxury Suite Superior ', ' Ambassadors Room ', ' Modern Double Room Narcisse ', ' Superior Double Room with free unlimited WIFI ', ' Executive Junior Suite ', ' Executive Twin Room with River View ', ' Deluxe Twin Room with City View ', ' Superior Room with 1 Double Bed and 1 Sofa Bed 3 Adults ', ' Kube Double or Twin Room ', ' Special Offer Double or Twin Room with Parking ', ' Kings Deluxe Junior Suite ', ' Executive Club Twin Room ', ' Superior Double or Twin Room for Single Use ', ' Nhow Premium Double or Twin Room ', ' Luxury Double or Twin Room ', ' Twin Room with Partial Sea View ', ' Duplex Double Room ', ' Small Double Room without Window ', ' Club Double Room with Club Lounge Access ', ' Deluxe Double Room with Patio ', ' Executive Double Room Non Smoking ', ' Junior Suite Immersive Art Experience ', ' King Room Mobility Accessible ', ' Classic Double Room Les Pop ', ' Delightful King Twin Room ', ' Superior Double or Twin Room with Extra Bed 3 Adults ', ' Classic Room with Queen Bed ', ' Single Room with Shared Bathroom ', ' Suite with Spa Access 2 Adults ', ' Deluxe Double or Twin Room with Canal View ', ' Deluxe Room with spa access ', ' Suite Aurore ', ' Quadruple Room Annex ', ' 2 double Connecting Rooms ', ' Accessible Studio Suite ', ' Executive Room with Garden View ', ' Superior Double or Twin Room XL with Extra bed ', ' Apartment 1 2 Adults ', ' Deluxe Double or Twin Room with Spa Access ', ' Comfort Room ', ' Comfort Double Room with Extra Bed ', ' The Duplex ', ' Luxury Two Bedroom Apartment ', ' King Room with River View ', ' Deluxe Double or Twin Room Annex ', ' Standard Twin Room with 2 single beds ', ' The Level Executive Service Room ', ' Junior Suite 1 3 Adults ', ' Deluxe Family Room with View ', ' Superior Deluxe Double or Twin Room with Spa Access ', ' Connecting Double Rooms ', ' Superior Double Room with Park View ', ' Twin Room Mobility Access ', ' Deluxe Double Room 1 2 adults ', ' Family Room Two connecting Rooms 3 Adults ', ' Junior Suite My Ch rie Amour ', ' Queensgate Double Room ', ' Art Deco Room Terrace ', ' Basic Twin Room ', ' Deluxe King Plus ', ' penta Standard Room ', ' King Deluxe Family Room ', ' Gallery Suite ', ' Classic Double Room with Street View ', ' Two Adjacent Classic Double Rooms ', ' Superior Twin Room with View ', ' Observatory King ', ' Standard Double Twin Room ', ' Prestige Suite ', ' Stayed 25 nights ', ' Junior Suite with Terrace ', ' Double Room Comtesse ', ' Executive King Room with View ', ' Double or Twin Room with View ', ' Deluxe Studio ', ' Premium Double Twin Room ', ' Family Room 2 Adults 1 Child ', ' Super Deluxe Double Room ', ' Suite Grand Lit ', ' One Bedroom Classic Suite ', ' 2 Adjacent Non Communicating Rooms ', ' Twin Junior Suite ', ' Standard Triple Room ', ' Tiny Single Room ', ' Double Room Cosy ', ' Single Room with Bath ', ' River View Balcony Suite ', ' Deluxe Double or Twin Room with Opera View ', ' Deluxe Junior Partial River View ', ' Double Room with Fitness Equipment ', ' Double Room with Canal View ', ' Standard Room for 1 or 2 people with Kitchenette ', ' Luxury King Room ', ' Family Room with Balcony ', ' Universitat Double or Twin Room ', ' Junior Room ', ' Lower Ground Double Room ', ' penta Junior Suite ', ' Classic Double Room with Breakfast ', ' King City View Room ', ' Junior Suite Give me the night ', ' Superior Room Queen Bed ', ' One Room Suite with Kitchenette ', ' Deluxe Double Room with Panoramic View ', ' Junior Suite Split Level with Lounge Access ', ' Deluxe Triple Room with Paris View ', ' Junior Suite ', ' Park Deluxe King or Twin ', ' Family Suite 2 Adults 2 Children ', ' Chelsea Twin Suite ', ' Superior Room with Sofa Bed ', ' Romantic Double Room ', ' Executive Double Room with Access to Executive Lounge ', ' Standard Double Room with Tea Time Included ', ' Junior Suite with Park View ', ' Superior Room with Queensize Bed and single sofa bed 3 adults ', ' With a pet ', ' King Room Second Floor ', ' Standard Room with 1 Double Bed and 1 Sofa Bed ', ' Double Room with French Bed ', ' Junior Conservatory with King Bed ', ' One Bedroom King Suite ', ' Classic Double or Twin Room with Pool Access ', ' Superior Double or Twin Room Moon Blue ', ' Twin Room with Spa Bath ', ' Cosmopolitan Suite ', ' Luxury King Room with River View ', ' Cozy Exchange King ', ' Superior Double Room with Free Pool Access ', ' Double Room Medium Heritage ', ' Superior Room with Queen Bed Sofa ', ' Junior Suite with Spa Access ', ' Premium Double or Twin Room with Terrace and Spa Access ', ' Premium Double or Twin Room ', ' Superior Triple Room XL ', ' Deluxe Triple Room with Canal View ', ' Deluxe Eiffel Tower Twin Room ', ' Canal View Deluxe Triple Room with Spa Bath Annex building ', ' Classic Double or Twin Room with City View ', ' Deluxe Double Room Non Smoking ', ' Superior Room with View of Big Ben ', ' View King Room ', ' Superior Room with 1 Single Bed ', ' Superior Room with Queen size bed and Sofa Bed ', ' King Room with Hyde Park View ', ' Design Suite ', ' Junior Suite 4 Adults ', ' Family Room 4 People ', ' Executive Queen Suite ', ' Suite with View ', ' Executive Queen Room Non Smoking ', ' King Executive Room ', ' King Double or Twin Room ', ' Stayed 22 nights ', ' Deluxe Boulevard Twin Room ', ' Andaz Large King Room ', ' Comfort Plus Double Room ', ' Standard Double or Twin Room Tea Time Wine Tasting Included ', ' Deluxe King Studio Suite ', ' Family with young children ', ' Business trip ', ' Suite Oc ane ', ' Superior Double or Twin Room XL ', ' Standard Suite ', ' Standard Room with Spa access ', ' Suite ', ' Special Offer Superior Queen Room ', ' Adjacent Double Rooms ', ' Park Studio King ', ' Embassy Suite ', ' Deluxe King or Twin Room ', ' Superior Oversized Queen Room ', ' Executive Deluxe King Room ', ' Executive Master Suite ', ' Club Twin Room ', ' Deluxe Double and Single Room ', ' Luxury Double Room with Balcony ', ' Special Offer Double Twin Room Stay and Park ', ' Eiffel Tower View Twin Room ', ' One Bedroom Queen Suite ', ' Superior Triple Room ', ' Large Comfort Double or Twin Room ', ' Executive Queen Room with Sofa Bed 3 Adults ', ' Terrace Suite with Lounge Access ', ' Superior Classic Double Room ', ' One Bedroom City Suite ', ' Double Room Disability Access Tub ', ' King Suite with Executive Lounge Access ', ' Duplex Room ', ' Deluxe Triple Room with Tea Time Included ', ' Executive Room Swimming Pool Hammam Access upon reservation ', ' Executive Twin Room with Access to Executive Lounge ', ' Grand Suite with Canal View ', ' King Room with City View Top floors ', ' 1 King Bed Guest Room ', ' Elisabeth Suite ', ' Stayed 20 nights ', ' One Bedroom Suite with Air Conditioning ', ' Club King Room with View and Lounge Access ', ' Double or Twin Room with Extra Bed 3 Adults ', ' Deluxe Double Room with Eiffel Tower view ', ' Tradition Double Room ', ' Classic Double Room with Balcony ', ' King Room with Balcony ', ' Double or Twin Room with Terrace and Panoramic View ', ' Deluxe Twin Room Balcony with Eiffel Tower View ', ' Junior Suite with River View ', ' Royal Penthouse with Canal View ', ' Suite with Sofa Bed ', ' Standard Double Room with View Terrace ', ' Easter Special Executive King Room ', ' Compact Double Room shared bathroom ', ' Stayed 26 nights ', ' Twin Hilton Executive Room with Access to Executive Lounge ', ' Superior Twin Room 2 adults ', ' Comfort Triple Room with Spa Bath ', ' Loft Junior Suite ', ' Superior Twin Double Room ', ' Premium Double or Twin Room XL with View ', ' Economy Single Room ', ' Superior Suite with 1 Double Bed and 2 Single Beds ', ' Stayed 2 nights ', ' Suite 4 Adults ', ' Deluxe King ', ' Superior Family Room 2 Adults 1 Child ', ' Standard Room with Queen Bed Renovated ', ' Superior Room with a shower or a bath ', ' Family Apartment 4 Adults with Spa access ', ' Junior Suite with Executive Lounge Access ', ' Double Studio ', ' Leisure trip ', ' Deluxe Double Room with Connecting Doors ', ' Double Room with Spa Bath ', ' Double Executive Room with Lounge Access ', ' Deluxe Family Room ', ' Standard Room with 1 Double Bed and 1 Double Sofa bed ', ' Deluxe Double or Twin Room with City View ', ' Business Studio Suite ', ' King Hilton Sea View ', ' Classic Adjacent Rooms ', ' Suite with Club Lounge Access ', ' Triple Room with City View ', ' Apartment Attic ', ' Executive Double or Twin Room with No view ', ' Two Adjacent Double or Twin Rooms ', ' Deluxe King Suite ', ' Duplex King Suite ', ' Superior Room with Queensize Bed and double couch 2 adults 2 children ', ' Stayed 16 nights ', ' Standard Double Room with Bath ', ' Superior Shard King ', ' Apartment ', ' Executive Room with 1 Queen Bed and 1 Sofa 2 Adults ', ' Standard Twin Room with Tea Time Included ', ' Junior Alcove Suite with Access to Executive Lounge ', ' Superior Double or Twin Room Non Smoking ', ' Hilton Deluxe King Room ', ' Basic Single Room ', ' Club SuperKing Room ', ' Comfort Suite ', ' Single Room with Free Airport Shuttle Service from 5 00am to 00 30am ', ' Executive Double Room with Terrace ', ' Atrium ', ' Standard Double Room with Bridge View ', ' Privil ge Suite with 1 Double Bed and Sofa ', ' Superior King or Double Room ', ' Classic Twin Room with Garden View ', ' Double Room with Small Double Bed ', ' Two Interconnecting Rooms ', ' Superior Room with King Bed ', ' Deluxe Family Room with SPA Access ', ' Stayed 8 nights ', ' Cabine Single Room ', ' Family Room Annex ', ' Paseo de Gracia Double or Twin Room ', ' Corner Larger Executive room with Executive lounge access Free Wifi ', ' Suite Reloj ', ' Executive King Room Non Smoking with Executive Lounge Access ', ' Suite with River View ', ' Confort Queen Room ', ' Superior Double Room with Street View ', ' Master Suite ', ' Studio Deluxe Suite ', ' Park Deluxe Executive King ', ' Interior Double or Twin Room ', ' Luxury 1 Bed Suite ', ' Park Executive Suite ', ' Executive Double or Twin Room 3 Adults ', ' Op ra Junior Suite ', ' Couture Junior Suite ', ' Superior Queen Suite with Sofa Bed 3 Adults ', ' King Room with Sofa Bed and Balcony ', ' Standard Double or Twin Room with View ', ' Exclusive Double or Twin Room ', ' Accessible Twin Room ', ' Deluxe Single Room with View ', ' Executive Room ', ' Privilege Room with Hammam ', ' King Junior Suite with Lounge Access ', ' Triple Room Free Wi Fi ', ' Two Adjacent Rooms 5 Adults ', ' Sensation Room ', ' Comfort Double or Twin Room ', ' Executive Room with Canal View ', ' Junior king Suite 3 Adults ', ' One Bedroom Suite with Sofa Bed ', ' Executive with Two Double Beds ', ' Studio Double Room ', ' Stayed 17 nights ', ' Double Room with Sauna Access ', ' Two Double Adjoining Rooms ', ' Cool Corner Exchange ', ' Couture Deluxe Double Room ', ' Superior Romantic Double Room ', ' Family Suite with Balcony ', ' Duplex Twin Room ', ' Executive Triple Room 2 Adults 1 Child ', ' Spectacular Room ', ' Duplex Suite with State Opera View Top Floor ', ' Halkin Room ', ' Queen Room Upper Floors ', ' Penthouse Suite with Balcony ', ' Quintuple Room ', ' Park Deluxe View Twin ', ' Single Room with Arc de Triomphe View ', ' Superior Room with 1 Queen Bed and Sofa 3 Adults ', ' Superior Double or Twin Room with Extra Bed ', ' River View Deluxe ', ' Comfort Single Room with Window and Double Bed ', ' Standard King Room ', ' Deluxe Single Room with Shared Bathroom ', ' Garden View Twins ', ' Park Deluxe Room ', ' Grand Executive King Room ', ' Premier Double Room ', ' Deluxe Double Room with Private Access to Pool and Spa ', ' Superior Twin Room with Internal View ', ' Double or Twin Ground Floor ', ' Deluxe Double Room with Courtyard View ', ' Comfort Triple Room ', ' Double Room 2 Adults ', ' Junior Suite with Balcony ', ' Premium Family Room ', ' Double Deluxe Plus Room ', ' Superior Double or Twin Room with Free Wifi ', ' La Rouge Suite ', ' Deluxe Double Room with City View ', ' Quality Double or Twin Room with Extra Bed ', ' Urban Double or Twin Room ', ' Deluxe Double Room with River View ', ' Ma tre Superior Double or Twin Room with Street View ', ' Deluxe Quadruple Room ', ' Standard Room with 2 Single Beds ', ' Suite with Extra Bed ', ' Junior Suite with View ', ' Duplex Room 4 Adults ', ' Superior Double Room Loge Sup rieure ', ' Iconic King Room With City View ', ' Regency Suite ', ' Large Comfort Twin Room Disability Access ', ' Double Room with Terrace ', ' Junior Suite with Free Bottle of Champagne ', ' Business Single Room ', ' Superior Triple Room with 3 Single Beds ', ' Deluxe Double or Twin Room with Balcony ', ' One Bedroom Suite with Kitchenette ', ' Queen Room with Executive Lounge Access ', ' 2 Twin Beds Guest Room ', ' Queen Room with Sofa Bed Non Smoking ', ' Small Double Room Annex building ', ' Corner View Suite ', ' Deluxe Double Room with Balcony and Free Pool Access ', ' Superior Twin Room with Sofa Bed Non Smoking ', ' Junior Suite Blue Sunshine ', ' Superior Suite Water Front ', ' Double or Twin Room with Extra Bed 3 Adults with Free Airport Shuttle Service from 5 00am to 00 30am ', ' Suite Parisienne ', ' King Junior Suite with Executive Lounge Access ', ' Superior ', ' Triple Room with Mobile Phone 3 adults ', ' Junior Suite with Terrace and City view ', ' Family Room Two connecting Rooms ', ' Grand Deluxe Imperial Room ', ' Superior Double Room with Terrace and Jacuzzi ', ' Deluxe Double Room with Terrace ', ' Small Single Room with Balcony ', ' Deluxe Park View ', ' Special Offer Deluxe Room ', ' Presidential Suite ', ' Modern Double Room Echo ', ' Superior Triple Room with 1 Double Bed 1 Single Bed ', ' Junior Suite with Extra Bed 3 Adults ', ' Premier Twin Room ', ' Stayed 19 nights ', ' Superior Queen Room with Extra Bed 2 Adults ', ' Residence Suite ', ' Hoxton Studio Suite ', ' Interconnecting Rooms ', ' Marina Double Suite ', ' Prestige Suite 2 Adults with canal view ', ' Grand Premier Family Room ', ' Deluxe with Two Double Beds ', ' Double Room with St Stephen s Cathedral View ', ' Luxury Twin Room ', ' Premier Double or Twin Room with Extra Bed ', ' Loft Suite ', ' Premium Double or Twin Room with View ', ' Large Triple Room ', ' King Hilton Executive Room with Access to Executive Lounge ', ' Privilege Junior Suite with Spa Access ', ' Double Family Guestroom ', ' Deluxe Room 3 Adults ', ' Superior Queen Room with Sofa Bed ', ' Bunk Bed in Twin Room Pigalle 12 ', ' Executive Double Room with Turkish Bath ', ' Penthouse Suite ', ' Universitat Single Room ', ' Standard Double Room with Two Double Beds ', ' Deluxe Double Room Annex ', ' Suite with Glass of Champagne ', ' King Suite Non Smoking with Executive Lounge Access ', ' The Level Grand Premium Double or Twin Room with City View ', ' Superior King Room with Pool View ', ' Standard Room with 1 Double Bed ', ' Deluxe Double Room with Club Lounge Access ', ' Supreme Twin Room ', ' Eiffel Tower Suite ', ' Double Room Relax ', ' 4 Person Suite ', ' Suite Couture ', ' Junior Suite XL ', ' King Double Room ', ' Suite 2 Adults ', ' Club Double or Twin Room ', ' Luxury Room with Spa Access ', ' Deluxe King Room with Terrace ', ' Comfort Single Room with Shower ', ' Superior Capucines Room ', ' King Accessible Superior Room ', ' Queen Suite with Balcony and City View ', ' Standard Room with 1 Kingsize Bed ', ' Junior Suite Saint Honor ', ' Superior Queen Room with Pool Access ', ' Superior Room 3 Adults ', ' Triple Room with Spa Bath ', ' Deluxe Double or Twin Room Disability Access ', ' Executive Black Suite ', ' Room with Ramblas View ', ' Double Double Room ', ' Junior Family Suite 2 Adults ', ' Standard Double or Twin Room with Balcony 1 Adult ', ' Club Double Room ', ' Double Room Disability Access Non Smoking ', ' Junior Suite with 1 King Size Bed ', ' Club Level Classic Rooms ', ' Standard Guestroom ', ' Horizon Suite with Dock View ', ' Family Studio ', ' Suite with Garden View ', ' Quadruple Room with Shower ', ' Deluxe Double Room 3 Adult ', ' Twin Room with Cathedral View ', ' Art Deco Deluxe Room View and Terrace ', ' Deluxe Double Room Corner ', ' King Room with Sea View ', ' Luxury King Room 3 Adults ', ' One Bedroom Suite with Park View ', ' Amsterdam Street Art Queen Guest Room ', ' Suite with hammam ', ' Premier Shard King Room ', ' Triple Room ', ' The Rooks Nest ', ' Premium King or Queen Room ', ' Special Offer Classic Room ', ' Accessible Twin Guest Room ', ' Superior Room with Garden View Free Wifi ', ' Classic Single Room ', ' Superior Double Room La S duisante ', ' Premium Superior Double Room ', ' Corner Suite with Lounge Access ', ' Souterrain Twin Room ', ' Superior Two Bedroom Apartment ', ' Superior Twin Room with Two Double Beds ', ' Rooftop Suite ', ' Double Room Large Heritage ', ' Exclusive Double or Twin Room La Mondaine ', ' Park View Studio ', ' Executive Room with 1 Queen Bed and 1 Sofa 3 Adults ', ' Two Adjoining Rooms with Dock View Main Deck ', ' Deluxe Queen Room with River View ', ' Hilton Relaxation Room ', ' Suite 2 Adults 1 Child ', ' Squint Splash Suite ', ' Standard Twin Room ', ' Junior Triple Room ', ' King Hilton Deluxe Room ', ' Townhouse Apartment ', ' Business Apartment 1 Adult ', ' Comfort Quadruple Room ', ' Double Room 1 2 Adults ', ' Superior Double Room with Free Access to Hamman ', ' Deluxe Double or Twin Room with Pool Access ', ' Double Hilton Deluxe Room ', ' Studio Suite with Lounge Access ', ' Family Duplex Room ', ' Family Premium Room 2 Adults 2 Children ', ' Panorama Suite ', ' Superior Room with 1 Queen Bed 1 Sofa Bed ', ' Superior Suite 2 Adults ', ' Exclusive Suite ', ' Executive Room with Queen Bed and a Sofa Non Smoking ', ' Executive King Room with City View ', ' Junior Suite 3 Adults with Spa Access ', ' Two Adjacent Double Room ', ' Studio ', ' Basic Double or Twin Room ', ' Double Room Disability Access ', ' Double Room 1 Adult ', ' Superior Room with Double Bed ', ' Deluxe Imperial Room ', ' Quadruple Suite ', ' Special Offer Single Room with Continental Breakfast ', ' Double Room with City View 1 Adult ', ' Superior Premium Queen Room with Sofa Bed ', ' Executive Double Room with Spa Fitness Access ', ' Stayed 10 nights ', ' Queen or Twin Room ', ' Comfort Twin Double Room ', ' Couture Suite ', ' Deluxe Studio Apartment 2 Adults ', ' Executive Premium Room with a Queen Bed ', ' Luxury One Bedroom Apartment ', ' Privilege Room with a double bed upper floors ', ' One Bedroom Apartment ', ' Special Offer Deluxe Double Room ', ' Double Room with Club Lounge Access ', ' Art Room XL with Iconic View ', ' Classic Double or Single Room ', ' Two Bedroom Family Joining Suite with Mobile Phone 2 adults 3 children ', ' Junior Suite with VIP Services ', ' Double or Twin Room with Pool View ', ' Penthouse Plaza Suite with Access to Executive Lounge ', ' Luxury Suite Triple ', ' Nadler Deluxe Double Room ', ' Superior Suite with City View ', ' Queen Suite ', ' Comfort Double Room With Sacr Coeur View ', ' Queen One Bedroom Suite ', ' Park Room ', ' Premier Deluxe Twin Room ', ' Deluxe Double Room with Hammam ', ' Andaz Double Room ', ' Premium Double Room with Balcony ', ' Vend me Deluxe Room ', ' Superior Plus Twin Room ', ' Condal Double or Twin Room ', ' Grand Suite Duplex ', ' Suite Trocadero Balcony with Eiffel Tower View ', ' Superior Room with One Double Bed ', ' Queensgate Twin Room ', ' Classic Room with 2 double beds ', ' Twin Executive Plus Room ', ' Double Room Audacieuse ', ' Family Room with Two Double Beds ', ' Studio Apartment ', ' Classic Room with 2 double beds 2 Adults ', ' Classic Junior Suite ', ' Marvelous Suite Exchange ', ' Bobo Queen or Twin Room with Spa access ', ' Standard Room with terrace ', ' Budget Double Room Second Floor ', ' Executive Triple Room with Garden View ', ' Superior Double Room with Sofa Bed ', ' Standard Family Suite with Two Connecting Rooms 4 Adults ', ' Classic Room with Courtyard View ', ' Executive Room 2 adults 2 children ', ' Signature Room ', ' Secret Double Room ', ' Small Queen Room ', ' Premier Double or Twin Room ', ' Aldwych Double Twin Room ', ' Suite with Private Pool ', ' Premium Quadruple Room ', ' Superior Double ', ' Deluxe Accessible Twin Room with View ', ' Executive Premium Queen Room with Sofa Bed ', ' Park Deluxe King ', ' Deluxe King Room with Canary Wharf View ', ' Superior Twin Room Barlow Wing ', ' Superior Garden View Room ', ' Queen Bed Leisure ', ' City Twin Room with Surprise Package ', ' Deluxe Premium King Room ', ' Accessible Queen Guest Room ', ' Superior Suite 4 Adults ', ' Two Adjoining Double Rooms ', ' Suite with City View and Parking ', ' Andaz Suite ', ' Apartement ', ' Twin Bed Suite ', ' Queen Room with Eiffel Tower View ', ' Family Suite 4 Adults ', ' Suite Tea Time Wine Tasting Included ', ' Executive Suite with Lounge Access ', ' Park Deluxe View ', ' King Junior Suite ', ' Luxury Double Room Medium ', ' Standard room with 1 queen bed and sofa 3 Adults ', ' Standard Double Room with Queen Bed ', ' Premium Deluxe Double Room with River View ', ' Superior King Room with River View ', ' Deluxe Suite ', ' King Grand Premier Room ', ' City King or Twin Room ', ' Small Studio ', ' Cool Corner Suite ', ' Queen Room with Mobility Access ', ' Hilton Deluxe Twin Room Plus ', ' Double or Twin Room Single Use ', ' King Executive Waterfront with Access to Executive Lounge ', ' Superior Double or Twin Room with City View ', ' Deluxe King Room 2 Adults ', ' Privilege Room with 1 Double Bed ', ' Standard Triple Room 3 Adults ', ' Stayed 21 nights ', ' Cool Corner Room ', ' Royal Room with Ramblas view ', ' Superior room 3 persons ', ' Standard Single Room ', ' Apartment 3 Adults ', ' Mansart Executive Room ', ' Dalston King ', ' Small Double Room with Extra Bed Annex building ', ' Superior Double Room with Sofa Bed and Pool View ', ' Principe Suite ', ' Twin Room with City View 1 2 Adults ', ' Premier King Room with City View ', ' Quadruple Apartment ', ' Double Room L ', ' Executive Double Room with Spa Bath ', ' Junior King Suite with View 2 Adults ', ' Eiffel Suite with partial view ', ' Deluxe King Room with Balcony ', ' Triple Room Luxury XXL King Size Bed ', ' Deluxe Twin Studio ', ' Superior Room ', ' Executive Room with Queen Bed Renovated ', ' Deluxe Double Room with Two Single Beds ', ' Executive Twin Room with Whirlpool ', ' Luxury Suite antique theme ', ' Stayed 15 nights ', ' Family Room 2 Adults 1 Children ', ' Deluxe room with 1 queen bed ', ' Junior Suite 3 Adults with Paris View ', ' Standard Double Room with Sofa Bed ', ' Two Connecting Rooms 3 persons ', ' Family room Free Wi Fi ', ' Luxury Suite Patio ', ' Superior Suite 2 Adults 2 Children ', ' Twin Room with Public Transport Ticket ', ' Double Hilton Deluxe ', ' Room Sous les Toits 18m with Montmartre View ', ' Hyatt King Room with View ', ' Superior Room with 2 Single Beds ', ' Luxury Double Room Small ', ' Twin Grand Premier Room ', ' Superior Double or Twin Room with Extra Bed 2 Adults 1 Child ', ' Superior Apartment 4 Adults ', ' Executive Suite with River View ', ' Classic Double Single Use ', ' Prestige One Bedroom Suite with River View ', ' Superior Designer ', ' King Atrium Suite with Lounge Access ', ' Deluxe Room with Terrace ', ' Special Room ', ' Double Twin Superior Room ', ' Fabulous Sky Room ', ' Twin Hilton Guestroom ', ' Double or Twin Room with Balcony or Terrace ', ' Double Room Rouge Epic e ', ' Luxury Single Room ', ' Superior Double Room with Queen size bed ', ' Standard Twin Room with Bridge View ', ' Superior Queen Room with Single Sofa Bed ', ' Grande Suite ', ' Two Bedroom Family ', ' Double Room with Sofa Bed Non Smoking ', ' Family Room 3 Adults ', ' Club Eiffel Tower King Room ', ' Deluxe Room 1 or 2 people ', ' Prestige Double or Twin Room ', ' Ambassador Junior Suite ', ' Large Family Suite ', ' Junior Suite with Cathedral View ', ' City Room ', ' Deluxe Double or Twin Room with Parking ', ' Classic King Room ', ' Superior Double Room with Roll In Shower Disability Access ', ' Executive Double Twin City View ', ' King Room with Eiffel Tower View ', ' Superior Apartment 2 Adults ', ' Cosy Twin Room ', ' Souterraine Double or Twin Room ', ' Twin Room with Extra Bed 3 Adults ', ' Royal Suite ', ' King Premier Room ', ' Superior Triple Room 3 Adults ', ' Junior Suite with Double Bed ', ' Classic Designer ', ' Two Connecting Superior Double Rooms ', ' Garden Cottage ', ' Superior Double Room with Terrace and Private Pool ', ' Standard Room with Two Single Beds Renovated ', ' Two Bedroom Suite ', ' Deluxe Balcony Room ', ' Two Connecting Rooms 2 Adults 2 Children ', ' Double or Twin Room 1 or 2 adults ', ' Superior Twin Room with Pool Access ', ' Single Guest Room ', ' Montcalm Club Room ', ' Business Single Room with Balcony ', ' Petite Double Room ', ' Superior Double Room 3 Adults ', ' Privilege Double Room with Saint Germain des Pr s Church View ', ' Superior Queen Room with Extra Bed 3 Adults ', ' Superior Twin Room with Extra Bed ', ' Superior Double Room with free pool and hammam access ', ' Curve Suite with Lounge Access ', ' Superior Guest room 1 King or 2 Twin Single Bed s ', ' Collection Suite ', ' Studio Twin ', ' Premium Room 2 Adults ', ' Premier Deluxe Double Room ', ' Premier River King Room ', ' Belgravia Suite ', ' Cozy Room ', ' Superior Double Room with 1 extra bed ', ' Superior Double or Twin Room with Pool Spa Access ', ' Spare Room Double ', ' One Bedroom Apartment with City View ', ' Superior Room with Spa access ', ' Double Room with Extra Bed 3 Adults ', ' Mosaic Double Room ', ' King Executive Suite with Lounge Access ', ' Junior Suite with River View and Balcony ', ' Classic Double Room with Courtyard View ', ' Family Junior Suite 4 adults ', ' Double Executive Room ', ' Double Room with Patio View ', ' Superior Double Room with Internal View ', ' Executive King Suite ', ' Junior Double Room ', ' Club Double Room with Lounge Access ', ' Souterrain Comfort Room ', ' Junior Suite with Lounge Access ', ' Executive Queen Room 2 adults ', ' Double Room Marquise ', ' Superior King or Twin Room ', ' Mega Room ', ' Privilege Double or Twin Room Courtyard side ', ' Comfort Single Room ', ' Double or Twin Room with Sofa Bed ', ' Junior Suite Attic ', ' Triple Room 3 Adults ', ' Superior Double Room with Duomo View ', ' Superior Executive Twin Room ', ' Two Connecting Double Rooms 2 Adults 2 Children ', ' Exclusive Double Room ', ' Junior Suite with Executive Lounge Access and Free Wifi ', ' Amiral Single Room ', ' Superior Double Room Ground Floor ', ' Classic Triple Room ', ' 5 rooms ', ' King Room with Knightsbridge View ', ' Superior room with Queen bed and sofa ', ' Superior Room with Queensize Bed and Single Sofa Bed 2 Adults 1 Child ', ' Deluxe Junior Suite with Lounge Access ', ' Executive Double or Twin Room with view of Big Ben and Lounge Access ', ' Junior Suite Canal View ', ' Studio with Courtyard View ', ' Superior Double or Twin Room with Garden View ', ' Camper Room ', ' Executive Penthouse with Canal View ', ' Executive Studio Apartment 2 Adults 1 child ', ' Deluxe Junior Suite ', ' Premium Double Room with Terrace ', ' Deluxe Queen Room ', ' Superior Twin Room with Extra Bed 2 adults 1 child ', ' King Deluxe Guest Room ', ' Superior Room with Balcony ', ' Queen Room ', ' Business Class Room ', ' Paris Style Queen or Twin Room with Spa access ', ' Executive Room with Two Queen Beds ', ' Twin Room with Sea View ', ' Junior Suite 2 Adults with Free Airport Shuttle Service from 5 00am to 00 30am ', ' Premier Twin Room with City View ', ' Two Connecting Classic Double Rooms ', ' Twin Room with Executive Lounge access ', ' Superior Queen Suite with Sofa 3 Adults ', ' Duplex Suite with Sofa Bed ', ' 2 rooms ', ' Superior Room with 1 Double Bed and 1 Sofa Bed 1 place ', ' Submitted from a mobile device ', ' Guest Room with Balcony ', ' Gallery Suite with Spa Access Free Wifi ', ' Single Room Non Smoking ', ' Superior Quadruple Room ', ' Classic Room with Garden View ', ' Two Adjoining Rooms ', ' Luxury Duplex Room ', ' Double Room with Park View ', ' Executive Triple Room ', ' Standard Queen Room ', ' Executive King Room with Air Conditioning ', ' Deluxe Double Room 1 Adult ', ' Art Room with Iconic View ', ' Special Offer Double or Twin Room ', ' Superior Room with 1 Double Bed and Sofa ', ' Comfort Family Room '}\n"
     ]
    }
   ],
   "source": [
    "# Множество тегов\n",
    "unique_tags = {\n",
    "    # Разделение строки по пробелу, удаление кавычек\n",
    "    t.strip().strip(\"'\") \n",
    "    for tag_str in data['tags']\n",
    "    # Удаление скобок, разделение по запятой\n",
    "    for t in tag_str.strip(\"[]\").split(\",\")\n",
    "}\n",
    "print(unique_tags)"
   ]
  },
  {
   "cell_type": "code",
   "execution_count": 162,
   "id": "8aba6c16",
   "metadata": {},
   "outputs": [
    {
     "name": "stdout",
     "output_type": "stream",
     "text": [
      "Самый популярный тег: ' Leisure trip ' (встречается 313593 раз(а))\n"
     ]
    }
   ],
   "source": [
    "from collections import Counter\n",
    "# Создаем словарь для подсчета тегов\n",
    "tag_counts = Counter()\n",
    "for tag_str in data['tags']:\n",
    "    # Преобразуем строку в список\n",
    "    tags = [t.strip().strip(\"'\") for t in tag_str.strip(\"[]\").split(\",\")]\n",
    "    # Обновляем счетчик\n",
    "    tag_counts.update(tags)\n",
    "\n",
    "# Находим самый частый тег\n",
    "most_common_tag, count = tag_counts.most_common(1)[0]\n",
    "\n",
    "print(f\"Самый популярный тег: '{most_common_tag}' (встречается {count} раз(а))\")"
   ]
  },
  {
   "cell_type": "markdown",
   "id": "31b85a80",
   "metadata": {},
   "source": [
    "Также можно получить признаки:\n",
    "- тип поездки\n",
    "- тип гостей\n",
    "- категория номера\n",
    "- длительность пребывания"
   ]
  },
  {
   "cell_type": "code",
   "execution_count": 163,
   "id": "36ac69f8",
   "metadata": {},
   "outputs": [],
   "source": [
    "# Список типов поездок с учетом возможных вариантов написания\n",
    "trip_types = {\n",
    "    'Leisure': ['Leisure trip', 'Vacation', 'Holiday', 'Leisure'],\n",
    "    'Business': ['Business trip', 'Work trip', 'Conference', 'Business'],\n",
    "    'Romantic': ['Romantic trip', 'Honeymoon', 'Anniversary', 'Romantic'],\n",
    "    'Family': ['Family trip', 'With children', 'Family'],\n",
    "    'Solo': ['Solo trip', 'Alone', 'Solo']\n",
    "}\n",
    "# Функция извлечения тип поездки\n",
    "def extract_trip_type(tags_str):\n",
    "    tags = str(tags_str).lower()\n",
    "    if re.search(r'leisure|vacation|holiday', tags):\n",
    "        return 'Leisure'\n",
    "    if re.search(r'business|work|conference', tags):\n",
    "        return 'Business'\n",
    "    if re.search(r'romantic|honeymoon|anniversary', tags):\n",
    "        return 'Romantic'\n",
    "    return 'Other'\n",
    "# Применяем функцию\n",
    "data['trip_type'] = data['tags'].apply(extract_trip_type)"
   ]
  },
  {
   "cell_type": "code",
   "execution_count": 164,
   "id": "fa08c024",
   "metadata": {},
   "outputs": [
    {
     "data": {
      "text/plain": [
       "trip_type\n",
       "Leisure     313602\n",
       "Business     61998\n",
       "Other        11202\n",
       "Romantic         1\n",
       "Name: count, dtype: int64"
      ]
     },
     "execution_count": 164,
     "metadata": {},
     "output_type": "execute_result"
    }
   ],
   "source": [
    "data['trip_type'].value_counts()"
   ]
  },
  {
   "cell_type": "code",
   "execution_count": 165,
   "id": "1f725b25",
   "metadata": {},
   "outputs": [],
   "source": [
    "def extract_guests_type(tags_str):\n",
    "    # Cловарь типов гостей с вариантами написания\n",
    "    guests_types = {\n",
    "        'Solo': ['Solo traveler', 'Alone', 'Solo', 'Single', 'Traveled alone', 'Business trip'],\n",
    "        'Couple': ['Couple', 'Two adults', 'Duo', 'Pair', 'Romantic trip', 'Honeymoon'],\n",
    "        'Family': ['Family', 'With children', 'Kids', 'Child', 'Parents', 'Family trip'],\n",
    "        'Group': ['Group', 'Friends', 'Colleagues', 'Team', 'Several people', 'Many travelers'],\n",
    "        'Business': ['Colleague', 'Coworkers', 'Business partners', 'Conference attendees']\n",
    "    }\n",
    "    # Нормализуем строку тегов\n",
    "    tags = str(tags_str).lower()\n",
    "    # Ищем совпадения\n",
    "    for guest_type, keywords in guests_types.items():\n",
    "        for keyword in keywords:\n",
    "            if keyword.lower() in tags:\n",
    "                return guest_type  \n",
    "    # Дополнительные проверки по контексту\n",
    "    if 'child' in tags or 'kid' in tags:\n",
    "        return 'Family'\n",
    "    if 'friend' in tags:\n",
    "        return 'Group'\n",
    "    return 'Unknown'  # Вместо None для сохранения всех записей\n",
    "# Применение\n",
    "data['guests_type'] = data['tags'].apply(extract_guests_type)"
   ]
  },
  {
   "cell_type": "code",
   "execution_count": 166,
   "id": "f61f8356",
   "metadata": {},
   "outputs": [
    {
     "data": {
      "text/plain": [
       "guests_type\n",
       "Couple    177795\n",
       "Solo      102668\n",
       "Family     63161\n",
       "Group      43179\n",
       "Name: count, dtype: int64"
      ]
     },
     "execution_count": 166,
     "metadata": {},
     "output_type": "execute_result"
    }
   ],
   "source": [
    "data['guests_type'].value_counts()"
   ]
  },
  {
   "cell_type": "code",
   "execution_count": 167,
   "id": "50084880",
   "metadata": {},
   "outputs": [],
   "source": [
    "# Функция для извлечения категории номера\n",
    "def extract_category_room(tags_str):\n",
    "    # Полный словарь категорий с приоритетами (от самых специфичных к общим)\n",
    "    categories = [\n",
    "        ('Presidential Suite', ['presidential suite', 'presidential']),\n",
    "        ('Royal Suite', ['royal suite']),\n",
    "        ('Executive Suite', ['executive suite']),\n",
    "        ('Family Suite', ['family suite', 'family room']),\n",
    "        ('Studio Suite', ['studio suite', 'studio']),\n",
    "        ('Business Suite', ['business suite']),\n",
    "        ('Deluxe Room', ['deluxe room', 'deluxe']),\n",
    "        ('Superior Room', ['superior room', 'superior']),\n",
    "        ('Standard Double', ['standard double', 'double room']),\n",
    "        ('Standard Single', ['standard single', 'single room']),\n",
    "        ('Apartment', ['apartment', 'residence']),\n",
    "        ('Villa', ['villa', 'bungalow']),\n",
    "        ('Hostel', ['hostel', 'dormitory'])\n",
    "    ]\n",
    "    # Нормализуем теги\n",
    "    tags = str(tags_str).lower()\n",
    "    # Поиск от самых специфичных к общим категориям\n",
    "    for category, keywords in categories:\n",
    "        if any(f' {kw} ' in f' {tags} ' for kw in keywords):\n",
    "            return category   \n",
    "    # Дополнительные эвристики\n",
    "    if 'suite' in tags:\n",
    "        return 'Studio Suite'\n",
    "    if 'double' in tags or 'twin' in tags:\n",
    "        return 'Standard Double'\n",
    "    if 'single' in tags:\n",
    "        return 'Standard Single'\n",
    "\n",
    "    return 'Other'\n",
    "\n",
    "# Применяем функцию к столбцу с тегами\n",
    "data['category_room'] = data['tags'].apply(extract_category_room)"
   ]
  },
  {
   "cell_type": "code",
   "execution_count": 168,
   "id": "d66f9782",
   "metadata": {},
   "outputs": [
    {
     "data": {
      "text/plain": [
       "category_room\n",
       "Standard Double       180261\n",
       "Superior Room          63766\n",
       "Other                  57933\n",
       "Deluxe Room            48722\n",
       "Studio Suite           15114\n",
       "Standard Single        15067\n",
       "Family Suite            4684\n",
       "Apartment                945\n",
       "Executive Suite          254\n",
       "Royal Suite               50\n",
       "Presidential Suite         6\n",
       "Business Suite             1\n",
       "Name: count, dtype: int64"
      ]
     },
     "execution_count": 168,
     "metadata": {},
     "output_type": "execute_result"
    }
   ],
   "source": [
    "data['category_room'].value_counts()"
   ]
  },
  {
   "cell_type": "code",
   "execution_count": 169,
   "id": "62e31cbe",
   "metadata": {},
   "outputs": [],
   "source": [
    "# Функция для извлечения длительности пребывания\n",
    "def extract_timeofstay(tags_str):\n",
    "    # Словарь вариантов длительности пребывания\n",
    "    stay_patterns = {\n",
    "        '1 night': ['stayed 1 night', '1 night', 'one night'],\n",
    "        '2 nights': ['stayed 2 nights', '2 nights', 'two nights'],\n",
    "        '3-5 nights': ['stayed 3 nights', 'stayed 4 nights', 'stayed 5 nights', \n",
    "                      '3 nights', '4 nights', '5 nights'],\n",
    "        '1 week': ['stayed 1 week', '7 nights', 'one week'],\n",
    "        '2 weeks': ['stayed 2 weeks', '14 nights', 'two weeks'],\n",
    "        'Long stay': ['long stay', 'extended stay', 'month stay', \n",
    "                     'stayed 1 month', 'stayed 2 months'],\n",
    "        'Weekend': ['weekend stay', '2-day stay'],\n",
    "        'Business stay': ['business stay', 'short business trip']\n",
    "    }\n",
    "    # Нормализуем теги (приводим к нижнему регистру и удаляем лишние символы)\n",
    "    tags = [t.strip().strip(\"'\").lower() for t in str(tags_str).strip(\"[]\").split(\",\")]\n",
    "    # Ищем совпадения с учетом всех вариантов\n",
    "    for stay_type, variants in stay_patterns.items():\n",
    "        for variant in variants:\n",
    "            if variant in tags:\n",
    "                return stay_type\n",
    "    # Дополнительные проверки для числовых значений\n",
    "    for tag in tags:\n",
    "        if 'night' in tag or 'day' in tag:\n",
    "            if '1' in tag:\n",
    "                return '1 night'\n",
    "            elif '2' in tag:\n",
    "                return '2 nights'\n",
    "            elif any(str(n) in tag for n in range(3, 6)):\n",
    "                return '3-5 nights'\n",
    "            elif '7' in tag or 'week' in tag:\n",
    "                return '1 week'\n",
    "    return 'Other'\n",
    "\n",
    "# Применяем функцию к столбцу с тегами\n",
    "data['timeofstay'] = data['tags'].apply(extract_timeofstay)"
   ]
  },
  {
   "cell_type": "code",
   "execution_count": 170,
   "id": "aea35867",
   "metadata": {},
   "outputs": [],
   "source": [
    "# Удаление старого признака\n",
    "data = data.drop(['tags'], axis=1)"
   ]
  },
  {
   "cell_type": "markdown",
   "id": "86527551",
   "metadata": {},
   "source": [
    "### 1.8 Дни с даты ревью"
   ]
  },
  {
   "cell_type": "code",
   "execution_count": 171,
   "id": "5808fe4d",
   "metadata": {},
   "outputs": [
    {
     "data": {
      "text/plain": [
       "0    531 day\n",
       "1    203 day\n",
       "Name: days_since_review, dtype: object"
      ]
     },
     "execution_count": 171,
     "metadata": {},
     "output_type": "execute_result"
    }
   ],
   "source": [
    "data['days_since_review'].head(2)"
   ]
  },
  {
   "cell_type": "markdown",
   "id": "09f7f4e2",
   "metadata": {},
   "source": [
    "Можно разделить на группы, насколько давно был оставлен отзыв"
   ]
  },
  {
   "cell_type": "code",
   "execution_count": 172,
   "id": "6881480f",
   "metadata": {},
   "outputs": [
    {
     "data": {
      "text/plain": [
       "days_since_review\n",
       "day     329964\n",
       "days     56839\n",
       "Name: count, dtype: int64"
      ]
     },
     "execution_count": 172,
     "metadata": {},
     "output_type": "execute_result"
    }
   ],
   "source": [
    "data['days_since_review'].apply(lambda x: x.split()[1]).value_counts()"
   ]
  },
  {
   "cell_type": "markdown",
   "id": "5385c145",
   "metadata": {},
   "source": [
    "Содержит только дни, значит можно без перевода из годов в дни получить дни"
   ]
  },
  {
   "cell_type": "code",
   "execution_count": 173,
   "id": "330b4173",
   "metadata": {},
   "outputs": [
    {
     "data": {
      "text/plain": [
       "review_recency\n",
       ">1 year        186079\n",
       "3-12 months    149063\n",
       "1-3 months      33834\n",
       "<1 month        17827\n",
       "Name: count, dtype: int64"
      ]
     },
     "execution_count": 173,
     "metadata": {},
     "output_type": "execute_result"
    }
   ],
   "source": [
    "# Преобразование в числовой признак\n",
    "data['days_since_review'] = data['days_since_review'].apply(lambda x: int(x.split()[0]))\n",
    "# Заполнение пропуска медианным значением по стране/городу\n",
    "data['days_since_review'] = data['days_since_review'].fillna(\n",
    "    data.groupby(['country', 'city'])['days_since_review'].transform('median')\n",
    ")\n",
    "# Если остались пропуск - заполнить общей медианой\n",
    "data['days_since_review'] = data['days_since_review'].fillna(\n",
    "    data['days_since_review'].median()\n",
    ")\n",
    "# Преобразование в целых числа, чтобы избежать артефактов\n",
    "data['days_since_review'] = data['days_since_review'].astype(int)\n",
    "# Создание категорий\n",
    "bins = [0, 30, 90, 365, float('inf')]\n",
    "labels = ['<1 month', '1-3 months', '3-12 months', '>1 year']\n",
    "data['review_recency'] = pd.cut(\n",
    "    data['days_since_review'],\n",
    "    bins=bins,\n",
    "    labels=labels,\n",
    "    right=False\n",
    ")\n",
    "# Частота после обработки\n",
    "data['review_recency'].value_counts()"
   ]
  },
  {
   "cell_type": "code",
   "execution_count": 174,
   "id": "3382e032",
   "metadata": {},
   "outputs": [],
   "source": [
    "# Удаление старого признака\n",
    "data = data.drop(['days_since_review'], axis=1)"
   ]
  },
  {
   "cell_type": "markdown",
   "id": "8cd1bc79",
   "metadata": {},
   "source": [
    "## 2. Работа с пропусками в данных"
   ]
  },
  {
   "cell_type": "code",
   "execution_count": 175,
   "id": "eb97b704",
   "metadata": {},
   "outputs": [
    {
     "name": "stdout",
     "output_type": "stream",
     "text": [
      "<class 'pandas.core.frame.DataFrame'>\n",
      "RangeIndex: 386803 entries, 0 to 386802\n",
      "Data columns (total 34 columns):\n",
      " #   Column                                      Non-Null Count   Dtype         \n",
      "---  ------                                      --------------   -----         \n",
      " 0   additional_number_of_scoring                386803 non-null  int64         \n",
      " 1   review_date                                 386803 non-null  datetime64[ns]\n",
      " 2   average_score                               386803 non-null  float64       \n",
      " 3   review_total_negative_word_counts           386803 non-null  int64         \n",
      " 4   total_number_of_reviews                     386803 non-null  int64         \n",
      " 5   review_total_positive_word_counts           386803 non-null  int64         \n",
      " 6   total_number_of_reviews_reviewer_has_given  386803 non-null  int64         \n",
      " 7   reviewer_score                              386803 non-null  float64       \n",
      " 8   lat                                         384355 non-null  float64       \n",
      " 9   lng                                         384355 non-null  float64       \n",
      " 10  city_country                                386803 non-null  object        \n",
      " 11  country                                     386803 non-null  object        \n",
      " 12  city                                        386803 non-null  object        \n",
      " 13  brand                                       118754 non-null  object        \n",
      " 14  class                                       386803 non-null  object        \n",
      " 15  has_spa                                     386803 non-null  int64         \n",
      " 16  word_count                                  386803 non-null  int64         \n",
      " 17  type                                        386803 non-null  object        \n",
      " 18  reviewer_country                            386803 non-null  object        \n",
      " 19  reviewer_region                             386803 non-null  object        \n",
      " 20  is_local                                    386803 non-null  int64         \n",
      " 21  issue_cleanliness                           386803 non-null  int64         \n",
      " 22  issue_service                               386803 non-null  int64         \n",
      " 23  issue_amenities                             386803 non-null  int64         \n",
      " 24  pos_staff                                   386803 non-null  int64         \n",
      " 25  pos_comfort                                 386803 non-null  int64         \n",
      " 26  pos_cleanliness                             386803 non-null  int64         \n",
      " 27  pos_location                                386803 non-null  int64         \n",
      " 28  pos_amenities                               386803 non-null  int64         \n",
      " 29  trip_type                                   386803 non-null  object        \n",
      " 30  guests_type                                 386803 non-null  object        \n",
      " 31  category_room                               386803 non-null  object        \n",
      " 32  timeofstay                                  386803 non-null  object        \n",
      " 33  review_recency                              386803 non-null  category      \n",
      "dtypes: category(1), datetime64[ns](1), float64(4), int64(16), object(12)\n",
      "memory usage: 97.8+ MB\n"
     ]
    }
   ],
   "source": [
    "# Вывод общей информации о столбцах\n",
    "data.info()"
   ]
  },
  {
   "cell_type": "code",
   "execution_count": 176,
   "id": "7681d6c2",
   "metadata": {},
   "outputs": [
    {
     "name": "stdout",
     "output_type": "stream",
     "text": [
      "Столбцы с пропущенными значениями:\n",
      "['lat', 'lng', 'brand']\n"
     ]
    }
   ],
   "source": [
    "# Получаем список столбцов с пропусками\n",
    "columns_with_nulls = data.columns[data.isnull().any()].tolist()\n",
    "# Выводим результат\n",
    "print(\"Столбцы с пропущенными значениями:\")\n",
    "print(columns_with_nulls)"
   ]
  },
  {
   "cell_type": "markdown",
   "id": "eb8cbee1",
   "metadata": {},
   "source": [
    "### 2.1 Географическая широта"
   ]
  },
  {
   "cell_type": "code",
   "execution_count": 177,
   "id": "99347e7e",
   "metadata": {},
   "outputs": [
    {
     "data": {
      "text/plain": [
       "0    51.507894\n",
       "1    51.521009\n",
       "Name: lat, dtype: float64"
      ]
     },
     "execution_count": 177,
     "metadata": {},
     "output_type": "execute_result"
    }
   ],
   "source": [
    "data['lat'].head(2)"
   ]
  },
  {
   "cell_type": "code",
   "execution_count": 178,
   "id": "4f911e86",
   "metadata": {},
   "outputs": [],
   "source": [
    "# Заполнение медианой в пределах города\n",
    "data['lat'] = data.groupby('city')['lat'].transform(lambda x: x.fillna(x.median()))"
   ]
  },
  {
   "cell_type": "markdown",
   "id": "0beb28f6",
   "metadata": {},
   "source": [
    "Если модель будет плохо сходится - можно попробовать заполнять в пределах региона"
   ]
  },
  {
   "cell_type": "markdown",
   "id": "c2870ffe",
   "metadata": {},
   "source": [
    "### 2.2 Бренд"
   ]
  },
  {
   "cell_type": "markdown",
   "id": "e4293c79",
   "metadata": {},
   "source": [
    "Поскольку этот признак вводился на этапе обработки, огично заполнить то, что не категоризировалось, значением \"другие\""
   ]
  },
  {
   "cell_type": "code",
   "execution_count": 179,
   "id": "28dc74a0",
   "metadata": {},
   "outputs": [],
   "source": [
    "# Находим самый частый бренд (моду)\n",
    "most_common_brand = data['brand'].mode()[0]\n",
    "# Заменяем пропуски на этот бренд\n",
    "data['brand'] = data['brand'].fillna(most_common_brand)"
   ]
  },
  {
   "cell_type": "code",
   "execution_count": 180,
   "id": "59f430e3",
   "metadata": {},
   "outputs": [
    {
     "data": {
      "text/plain": [
       "brand\n",
       "Hilton              281847\n",
       "Holiday Inn          11925\n",
       "DoubleTree           11407\n",
       "Best Western         11325\n",
       "Park Plaza           10163\n",
       "Radisson              8423\n",
       "Mercure               7842\n",
       "Novotel               7365\n",
       "Marriott              4754\n",
       "Millennium            4348\n",
       "Crowne Plaza          3675\n",
       "Britannia             3587\n",
       "Thistle               2718\n",
       "Copthorne             2688\n",
       "Sofitel               2444\n",
       "Pullman               2158\n",
       "Intercontinental      1939\n",
       "Ramada                1543\n",
       "Renaissance           1532\n",
       "Doubletree            1505\n",
       "Hyatt                 1451\n",
       "BEST WESTERN           916\n",
       "InterContinental       397\n",
       "Sheraton               261\n",
       "Westin                 231\n",
       "Four Seasons           194\n",
       "Fairmont               149\n",
       "Ibis                    16\n",
       "Name: count, dtype: int64"
      ]
     },
     "execution_count": 180,
     "metadata": {},
     "output_type": "execute_result"
    }
   ],
   "source": [
    "data['brand'].value_counts()"
   ]
  },
  {
   "cell_type": "markdown",
   "id": "42d401a7",
   "metadata": {},
   "source": [
    "### 2.3 Географическая долгота\n"
   ]
  },
  {
   "cell_type": "code",
   "execution_count": 181,
   "id": "262b04bf",
   "metadata": {},
   "outputs": [
    {
     "data": {
      "text/plain": [
       "0   -0.143671\n",
       "1   -0.123097\n",
       "Name: lng, dtype: float64"
      ]
     },
     "execution_count": 181,
     "metadata": {},
     "output_type": "execute_result"
    }
   ],
   "source": [
    "data['lng'].head(2)"
   ]
  },
  {
   "cell_type": "code",
   "execution_count": 182,
   "id": "0ef637aa",
   "metadata": {},
   "outputs": [],
   "source": [
    "# Заполнение медианой в пределах города\n",
    "data['lng'] = data.groupby('city')['lng'].transform(lambda x: x.fillna(x.median()))"
   ]
  },
  {
   "cell_type": "code",
   "execution_count": 183,
   "id": "daef1e45",
   "metadata": {},
   "outputs": [
    {
     "name": "stdout",
     "output_type": "stream",
     "text": [
      "Столбцы с пропущенными значениями:\n",
      "[]\n"
     ]
    }
   ],
   "source": [
    "# Получаем список столбцов с пропусками\n",
    "columns_with_nulls = data.columns[data.isnull().any()].tolist()\n",
    "# Выводим результат\n",
    "print(\"Столбцы с пропущенными значениями:\")\n",
    "print(columns_with_nulls)"
   ]
  },
  {
   "cell_type": "markdown",
   "id": "b2bab26f",
   "metadata": {},
   "source": [
    "## 3. Создание новых признаков"
   ]
  },
  {
   "cell_type": "markdown",
   "id": "7a94577b",
   "metadata": {},
   "source": [
    "## 4. Преборазование признаков"
   ]
  },
  {
   "cell_type": "markdown",
   "id": "6df75a65",
   "metadata": {},
   "source": [
    "## 5. Отбор признаков"
   ]
  }
 ],
 "metadata": {
  "kernelspec": {
   "display_name": "Python 3",
   "language": "python",
   "name": "python3"
  },
  "language_info": {
   "codemirror_mode": {
    "name": "ipython",
    "version": 3
   },
   "file_extension": ".py",
   "mimetype": "text/x-python",
   "name": "python",
   "nbconvert_exporter": "python",
   "pygments_lexer": "ipython3",
   "version": "3.12.4"
  }
 },
 "nbformat": 4,
 "nbformat_minor": 5
}
