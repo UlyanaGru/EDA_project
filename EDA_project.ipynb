{
 "cells": [
  {
   "cell_type": "code",
   "execution_count": 2,
   "id": "368af0ea",
   "metadata": {},
   "outputs": [
    {
     "data": {
      "text/html": [
       "<div>\n",
       "<style scoped>\n",
       "    .dataframe tbody tr th:only-of-type {\n",
       "        vertical-align: middle;\n",
       "    }\n",
       "\n",
       "    .dataframe tbody tr th {\n",
       "        vertical-align: top;\n",
       "    }\n",
       "\n",
       "    .dataframe thead th {\n",
       "        text-align: right;\n",
       "    }\n",
       "</style>\n",
       "<table border=\"1\" class=\"dataframe\">\n",
       "  <thead>\n",
       "    <tr style=\"text-align: right;\">\n",
       "      <th></th>\n",
       "      <th>hotel_address</th>\n",
       "      <th>additional_number_of_scoring</th>\n",
       "      <th>review_date</th>\n",
       "      <th>average_score</th>\n",
       "      <th>hotel_name</th>\n",
       "      <th>reviewer_nationality</th>\n",
       "      <th>negative_review</th>\n",
       "      <th>review_total_negative_word_counts</th>\n",
       "      <th>total_number_of_reviews</th>\n",
       "      <th>positive_review</th>\n",
       "      <th>review_total_positive_word_counts</th>\n",
       "      <th>total_number_of_reviews_reviewer_has_given</th>\n",
       "      <th>reviewer_score</th>\n",
       "      <th>tags</th>\n",
       "      <th>days_since_review</th>\n",
       "      <th>lat</th>\n",
       "      <th>lng</th>\n",
       "    </tr>\n",
       "  </thead>\n",
       "  <tbody>\n",
       "    <tr>\n",
       "      <th>0</th>\n",
       "      <td>Stratton Street Mayfair Westminster Borough Lo...</td>\n",
       "      <td>581</td>\n",
       "      <td>2/19/2016</td>\n",
       "      <td>8.4</td>\n",
       "      <td>The May Fair Hotel</td>\n",
       "      <td>United Kingdom</td>\n",
       "      <td>Leaving</td>\n",
       "      <td>3</td>\n",
       "      <td>1994</td>\n",
       "      <td>Staff were amazing</td>\n",
       "      <td>4</td>\n",
       "      <td>7</td>\n",
       "      <td>10.0</td>\n",
       "      <td>[' Leisure trip ', ' Couple ', ' Studio Suite ...</td>\n",
       "      <td>531 day</td>\n",
       "      <td>51.507894</td>\n",
       "      <td>-0.143671</td>\n",
       "    </tr>\n",
       "    <tr>\n",
       "      <th>1</th>\n",
       "      <td>130 134 Southampton Row Camden London WC1B 5AF...</td>\n",
       "      <td>299</td>\n",
       "      <td>1/12/2017</td>\n",
       "      <td>8.3</td>\n",
       "      <td>Mercure London Bloomsbury Hotel</td>\n",
       "      <td>United Kingdom</td>\n",
       "      <td>poor breakfast</td>\n",
       "      <td>3</td>\n",
       "      <td>1361</td>\n",
       "      <td>location</td>\n",
       "      <td>2</td>\n",
       "      <td>14</td>\n",
       "      <td>6.3</td>\n",
       "      <td>[' Business trip ', ' Couple ', ' Standard Dou...</td>\n",
       "      <td>203 day</td>\n",
       "      <td>51.521009</td>\n",
       "      <td>-0.123097</td>\n",
       "    </tr>\n",
       "    <tr>\n",
       "      <th>2</th>\n",
       "      <td>151 bis Rue de Rennes 6th arr 75006 Paris France</td>\n",
       "      <td>32</td>\n",
       "      <td>10/18/2016</td>\n",
       "      <td>8.9</td>\n",
       "      <td>Legend Saint Germain by Elegancia</td>\n",
       "      <td>China</td>\n",
       "      <td>No kettle in room</td>\n",
       "      <td>6</td>\n",
       "      <td>406</td>\n",
       "      <td>No Positive</td>\n",
       "      <td>0</td>\n",
       "      <td>14</td>\n",
       "      <td>7.5</td>\n",
       "      <td>[' Leisure trip ', ' Solo traveler ', ' Modern...</td>\n",
       "      <td>289 day</td>\n",
       "      <td>48.845377</td>\n",
       "      <td>2.325643</td>\n",
       "    </tr>\n",
       "    <tr>\n",
       "      <th>3</th>\n",
       "      <td>216 Avenue Jean Jaures 19th arr 75019 Paris Fr...</td>\n",
       "      <td>34</td>\n",
       "      <td>9/22/2015</td>\n",
       "      <td>7.5</td>\n",
       "      <td>Mercure Paris 19 Philharmonie La Villette</td>\n",
       "      <td>United Kingdom</td>\n",
       "      <td>No Negative</td>\n",
       "      <td>0</td>\n",
       "      <td>607</td>\n",
       "      <td>Friendly staff quiet comfortable room spotles...</td>\n",
       "      <td>11</td>\n",
       "      <td>8</td>\n",
       "      <td>10.0</td>\n",
       "      <td>[' Leisure trip ', ' Solo traveler ', ' Standa...</td>\n",
       "      <td>681 day</td>\n",
       "      <td>48.888697</td>\n",
       "      <td>2.394540</td>\n",
       "    </tr>\n",
       "    <tr>\n",
       "      <th>4</th>\n",
       "      <td>Molenwerf 1 1014 AG Amsterdam Netherlands</td>\n",
       "      <td>914</td>\n",
       "      <td>3/5/2016</td>\n",
       "      <td>8.5</td>\n",
       "      <td>Golden Tulip Amsterdam West</td>\n",
       "      <td>Poland</td>\n",
       "      <td>Torn sheets</td>\n",
       "      <td>4</td>\n",
       "      <td>7586</td>\n",
       "      <td>The staff was very friendly and helpful Break...</td>\n",
       "      <td>20</td>\n",
       "      <td>10</td>\n",
       "      <td>9.6</td>\n",
       "      <td>[' Business trip ', ' Couple ', ' Standard Dou...</td>\n",
       "      <td>516 day</td>\n",
       "      <td>52.385601</td>\n",
       "      <td>4.847060</td>\n",
       "    </tr>\n",
       "  </tbody>\n",
       "</table>\n",
       "</div>"
      ],
      "text/plain": [
       "                                       hotel_address  \\\n",
       "0  Stratton Street Mayfair Westminster Borough Lo...   \n",
       "1  130 134 Southampton Row Camden London WC1B 5AF...   \n",
       "2   151 bis Rue de Rennes 6th arr 75006 Paris France   \n",
       "3  216 Avenue Jean Jaures 19th arr 75019 Paris Fr...   \n",
       "4          Molenwerf 1 1014 AG Amsterdam Netherlands   \n",
       "\n",
       "   additional_number_of_scoring review_date  average_score  \\\n",
       "0                           581   2/19/2016            8.4   \n",
       "1                           299   1/12/2017            8.3   \n",
       "2                            32  10/18/2016            8.9   \n",
       "3                            34   9/22/2015            7.5   \n",
       "4                           914    3/5/2016            8.5   \n",
       "\n",
       "                                  hotel_name reviewer_nationality  \\\n",
       "0                         The May Fair Hotel      United Kingdom    \n",
       "1            Mercure London Bloomsbury Hotel      United Kingdom    \n",
       "2          Legend Saint Germain by Elegancia               China    \n",
       "3  Mercure Paris 19 Philharmonie La Villette      United Kingdom    \n",
       "4                Golden Tulip Amsterdam West              Poland    \n",
       "\n",
       "       negative_review  review_total_negative_word_counts  \\\n",
       "0             Leaving                                   3   \n",
       "1       poor breakfast                                  3   \n",
       "2   No kettle in room                                   6   \n",
       "3          No Negative                                  0   \n",
       "4         Torn sheets                                   4   \n",
       "\n",
       "   total_number_of_reviews                                    positive_review  \\\n",
       "0                     1994                                 Staff were amazing   \n",
       "1                     1361                                           location   \n",
       "2                      406                                        No Positive   \n",
       "3                      607   Friendly staff quiet comfortable room spotles...   \n",
       "4                     7586   The staff was very friendly and helpful Break...   \n",
       "\n",
       "   review_total_positive_word_counts  \\\n",
       "0                                  4   \n",
       "1                                  2   \n",
       "2                                  0   \n",
       "3                                 11   \n",
       "4                                 20   \n",
       "\n",
       "   total_number_of_reviews_reviewer_has_given  reviewer_score  \\\n",
       "0                                           7            10.0   \n",
       "1                                          14             6.3   \n",
       "2                                          14             7.5   \n",
       "3                                           8            10.0   \n",
       "4                                          10             9.6   \n",
       "\n",
       "                                                tags days_since_review  \\\n",
       "0  [' Leisure trip ', ' Couple ', ' Studio Suite ...           531 day   \n",
       "1  [' Business trip ', ' Couple ', ' Standard Dou...           203 day   \n",
       "2  [' Leisure trip ', ' Solo traveler ', ' Modern...           289 day   \n",
       "3  [' Leisure trip ', ' Solo traveler ', ' Standa...           681 day   \n",
       "4  [' Business trip ', ' Couple ', ' Standard Dou...           516 day   \n",
       "\n",
       "         lat       lng  \n",
       "0  51.507894 -0.143671  \n",
       "1  51.521009 -0.123097  \n",
       "2  48.845377  2.325643  \n",
       "3  48.888697  2.394540  \n",
       "4  52.385601  4.847060  "
      ]
     },
     "execution_count": 2,
     "metadata": {},
     "output_type": "execute_result"
    }
   ],
   "source": [
    "import pandas as pd\n",
    "# Считывание данных\n",
    "hotels = pd.read_csv(r'D:\\IDE_github\\EDA\\EDA_project\\data\\hotels.csv')\n",
    "# Вывод первых нескольких строк\n",
    "hotels.head()"
   ]
  },
  {
   "cell_type": "code",
   "execution_count": 3,
   "id": "115c88c7",
   "metadata": {},
   "outputs": [
    {
     "name": "stdout",
     "output_type": "stream",
     "text": [
      "<class 'pandas.core.frame.DataFrame'>\n",
      "RangeIndex: 386803 entries, 0 to 386802\n",
      "Data columns (total 17 columns):\n",
      " #   Column                                      Non-Null Count   Dtype  \n",
      "---  ------                                      --------------   -----  \n",
      " 0   hotel_address                               386803 non-null  object \n",
      " 1   additional_number_of_scoring                386803 non-null  int64  \n",
      " 2   review_date                                 386803 non-null  object \n",
      " 3   average_score                               386803 non-null  float64\n",
      " 4   hotel_name                                  386803 non-null  object \n",
      " 5   reviewer_nationality                        386803 non-null  object \n",
      " 6   negative_review                             386803 non-null  object \n",
      " 7   review_total_negative_word_counts           386803 non-null  int64  \n",
      " 8   total_number_of_reviews                     386803 non-null  int64  \n",
      " 9   positive_review                             386803 non-null  object \n",
      " 10  review_total_positive_word_counts           386803 non-null  int64  \n",
      " 11  total_number_of_reviews_reviewer_has_given  386803 non-null  int64  \n",
      " 12  reviewer_score                              386803 non-null  float64\n",
      " 13  tags                                        386803 non-null  object \n",
      " 14  days_since_review                           386803 non-null  object \n",
      " 15  lat                                         384355 non-null  float64\n",
      " 16  lng                                         384355 non-null  float64\n",
      "dtypes: float64(4), int64(5), object(8)\n",
      "memory usage: 50.2+ MB\n"
     ]
    }
   ],
   "source": [
    "# Создание копии датасета\n",
    "data = hotels.copy()\n",
    "# Вывод информации о пропусках\n",
    "data.info()"
   ]
  },
  {
   "cell_type": "code",
   "execution_count": 4,
   "id": "5a02964d",
   "metadata": {},
   "outputs": [
    {
     "data": {
      "text/plain": [
       "hotel_address                                  object\n",
       "additional_number_of_scoring                    int64\n",
       "review_date                                    object\n",
       "average_score                                 float64\n",
       "hotel_name                                     object\n",
       "reviewer_nationality                           object\n",
       "negative_review                                object\n",
       "review_total_negative_word_counts               int64\n",
       "total_number_of_reviews                         int64\n",
       "positive_review                                object\n",
       "review_total_positive_word_counts               int64\n",
       "total_number_of_reviews_reviewer_has_given      int64\n",
       "reviewer_score                                float64\n",
       "tags                                           object\n",
       "days_since_review                              object\n",
       "lat                                           float64\n",
       "lng                                           float64\n",
       "dtype: object"
      ]
     },
     "execution_count": 4,
     "metadata": {},
     "output_type": "execute_result"
    }
   ],
   "source": [
    "# Вывод типа данных каждого столбца\n",
    "data.dtypes"
   ]
  },
  {
   "cell_type": "code",
   "execution_count": 5,
   "id": "23ea325f",
   "metadata": {},
   "outputs": [],
   "source": [
    "# Разбиваем датафрейм на части, необходимые для обучения и тестирования модели  \n",
    "# Х — данные с информацией об отелях, у — целевая переменная (рейтинги отелей) \n",
    "X = data.drop(['reviewer_score'], axis = 1)  \n",
    "y = data['reviewer_score']\n",
    "# Загружаем специальный инструмент для разбивки:  \n",
    "from sklearn.model_selection import train_test_split  \n",
    "# Наборы данных с меткой \"train\" будут использоваться для обучения модели, \"test\" - для тестирования.  \n",
    "# Для тестирования мы будем использовать 25% от исходного датасета.  \n",
    "X_train, X_test, y_train, y_test = train_test_split(X, y, test_size=0.25, random_state=42)"
   ]
  },
  {
   "cell_type": "code",
   "execution_count": 6,
   "id": "39c2fb45",
   "metadata": {},
   "outputs": [],
   "source": [
    "# Импортируем необходимые библиотеки:  \n",
    "from sklearn.ensemble import RandomForestRegressor # инструмент для создания и обучения модели  \n",
    "from sklearn import metrics # инструменты для оценки точности модели  \n",
    "# Создаём модель  \n",
    "regr = RandomForestRegressor(n_estimators=100)\n",
    "# Учет только численных данных\n",
    "X_train = X_train.select_dtypes(include=['int64', 'float64'])\n",
    "X_test = X_test.select_dtypes(include=['int64', 'float64'])\n",
    "# Обучаем модель на тестовом наборе данных  \n",
    "regr.fit(X_train, y_train) \n",
    "# Используем обученную модель для предсказания рейтинга отелей в тестовой выборке.  \n",
    "# Предсказанные значения записываем в переменную y_pred  \n",
    "y_pred = regr.predict(X_test)"
   ]
  },
  {
   "cell_type": "code",
   "execution_count": 7,
   "id": "b7c645f2",
   "metadata": {},
   "outputs": [
    {
     "name": "stdout",
     "output_type": "stream",
     "text": [
      "MAPE: 0.14148203980552745\n"
     ]
    }
   ],
   "source": [
    "# Сравниваем предсказанные значения (y_pred) с реальными (y_test), и смотрим насколько они отличаются  \n",
    "# Метрика называется Mean Absolute Percentage Error (MAPE) и показывает среднюю абсолютную процентную ошибку предсказанных значений от фактических.  \n",
    "print('MAPE:', metrics.mean_absolute_percentage_error(y_test, y_pred))"
   ]
  },
  {
   "cell_type": "markdown",
   "id": "d18de4ca",
   "metadata": {},
   "source": [
    "Далее стоит задача повышения точности прогнозов. Нужно подготовить данные"
   ]
  },
  {
   "cell_type": "markdown",
   "id": "da5dfc0f",
   "metadata": {},
   "source": [
    "## 1. Работа со строковыми значениями"
   ]
  },
  {
   "cell_type": "code",
   "execution_count": 8,
   "id": "37b5eb41",
   "metadata": {},
   "outputs": [
    {
     "data": {
      "text/plain": [
       "['hotel_address',\n",
       " 'review_date',\n",
       " 'hotel_name',\n",
       " 'reviewer_nationality',\n",
       " 'negative_review',\n",
       " 'positive_review',\n",
       " 'tags',\n",
       " 'days_since_review']"
      ]
     },
     "execution_count": 8,
     "metadata": {},
     "output_type": "execute_result"
    }
   ],
   "source": [
    "# Вывод столбцов, содержащих строковые значения\n",
    "data_columns_obj = data.select_dtypes(include=['object']).columns.to_list()\n",
    "data_columns_obj "
   ]
  },
  {
   "cell_type": "markdown",
   "id": "6b1a96ee",
   "metadata": {},
   "source": [
    "### 1.1 Адрес отеля"
   ]
  },
  {
   "cell_type": "code",
   "execution_count": 9,
   "id": "105cbb9b",
   "metadata": {},
   "outputs": [
    {
     "data": {
      "text/plain": [
       "0    Stratton Street Mayfair Westminster Borough Lo...\n",
       "1    130 134 Southampton Row Camden London WC1B 5AF...\n",
       "Name: hotel_address, dtype: object"
      ]
     },
     "execution_count": 9,
     "metadata": {},
     "output_type": "execute_result"
    }
   ],
   "source": [
    "data['hotel_address'].head(2)"
   ]
  },
  {
   "cell_type": "code",
   "execution_count": 10,
   "id": "3b8f42f3",
   "metadata": {},
   "outputs": [
    {
     "data": {
      "text/plain": [
       "hotel_address\n",
       "163 Marsh Wall Docklands Tower Hamlets London E14 9SJ United Kingdom              3587\n",
       "372 Strand Westminster Borough London WC2R 0JJ United Kingdom                     3206\n",
       "Westminster Bridge Road Lambeth London SE1 7UT United Kingdom                     3095\n",
       "Scarsdale Place Kensington Kensington and Chelsea London W8 5SY United Kingdom    2688\n",
       "7 Pepys Street City of London London EC3N 4AF United Kingdom                      2379\n",
       "                                                                                  ... \n",
       "Via Palmanova 153 20132 Milan Italy                                                  7\n",
       "40 Rue Rene Boulanger 10th arr 75010 Paris France                                    7\n",
       "Via M Buonarroti 13 Fiera Milano City 20149 Milan Italy                              6\n",
       "Johann Staud Stra e 32 16 Ottakring 1160 Vienna Austria                              6\n",
       "13 Rue Fran ois Ory 92120 Paris France                                               5\n",
       "Name: count, Length: 1493, dtype: int64"
      ]
     },
     "execution_count": 10,
     "metadata": {},
     "output_type": "execute_result"
    }
   ],
   "source": [
    "data['hotel_address'].value_counts()"
   ]
  },
  {
   "cell_type": "markdown",
   "id": "71f1baa6",
   "metadata": {},
   "source": [
    "Столбцы содержат название города и страны расположения отеля, их можно излвечь с помощью регулярных выражений"
   ]
  },
  {
   "cell_type": "code",
   "execution_count": 11,
   "id": "e4c99c45",
   "metadata": {},
   "outputs": [],
   "source": [
    "# Импорт бибилиотеки для работы с регулрными выражениями\n",
    "import re\n",
    "# Регулярное выражение для поиска сочетаний слов в конце строки\n",
    "regular_form = r'([A-Z][a-z]+(?: [A-Z][a-z]+)*)$'\n",
    "data['city_country'] = data['hotel_address'].apply(lambda x: re.search(regular_form, x).group())"
   ]
  },
  {
   "cell_type": "code",
   "execution_count": 12,
   "id": "32422b93",
   "metadata": {},
   "outputs": [],
   "source": [
    "# Вычленияем страну\n",
    "data['country'] = data['city_country'].apply(lambda x: x if x == 'United Kingdom' else x.split()[1])\n",
    "# Поиск города\n",
    "data['city'] = data['city_country'].apply(lambda x: 'London' if x == 'United Kingdom' else x.split()[0])\n",
    "# Удаление старого признака\n",
    "data = data.drop(['city_country'], axis=1)"
   ]
  },
  {
   "cell_type": "markdown",
   "id": "09d11372",
   "metadata": {},
   "source": [
    "### 1.2 Дата"
   ]
  },
  {
   "cell_type": "code",
   "execution_count": 13,
   "id": "c0fc64af",
   "metadata": {},
   "outputs": [
    {
     "data": {
      "text/plain": [
       "0    2/19/2016\n",
       "1    1/12/2017\n",
       "Name: review_date, dtype: object"
      ]
     },
     "execution_count": 13,
     "metadata": {},
     "output_type": "execute_result"
    }
   ],
   "source": [
    "data['review_date'].head(2)"
   ]
  },
  {
   "cell_type": "markdown",
   "id": "27cf7029",
   "metadata": {},
   "source": [
    "Можно использовать для извлечения дня, месяца или года"
   ]
  },
  {
   "cell_type": "code",
   "execution_count": null,
   "id": "8a4dea49",
   "metadata": {},
   "outputs": [],
   "source": [
    "# Пребобразование в формат datetime - удобно извлекать\n",
    "data['review_date'] = pd.to_datetime(data['review_date'])"
   ]
  },
  {
   "cell_type": "markdown",
   "id": "669db072",
   "metadata": {},
   "source": [
    "### 1.3 Название отеля"
   ]
  },
  {
   "cell_type": "code",
   "execution_count": 15,
   "id": "0420df87",
   "metadata": {},
   "outputs": [
    {
     "data": {
      "text/plain": [
       "0                 The May Fair Hotel\n",
       "1    Mercure London Bloomsbury Hotel\n",
       "Name: hotel_name, dtype: object"
      ]
     },
     "execution_count": 15,
     "metadata": {},
     "output_type": "execute_result"
    }
   ],
   "source": [
    "data['hotel_name'].head(2)"
   ]
  },
  {
   "cell_type": "markdown",
   "id": "215bfd30",
   "metadata": {},
   "source": [
    "Можно использовать как наблюдение за самым распространенным в списке отелем. Но для модели создавать численный признак из этого затратно\\\n",
    "Поэтому из названия предлагается вытащить принадлежность отеля к какой-либо категории"
   ]
  },
  {
   "cell_type": "code",
   "execution_count": 16,
   "id": "257603fc",
   "metadata": {},
   "outputs": [
    {
     "data": {
      "text/plain": [
       "hotel_name\n",
       "Britannia International Hotel Canary Wharf           3587\n",
       "Strand Palace Hotel                                  3206\n",
       "Park Plaza Westminster Bridge London                 3095\n",
       "Copthorne Tara Hotel London Kensington               2688\n",
       "DoubleTree by Hilton Hotel London Tower of London    2379\n",
       "                                                     ... \n",
       "Ibis Styles Milano Palmanova                            7\n",
       "Renaissance Paris Republique Hotel Spa                  7\n",
       "Hotel Wagner                                            6\n",
       "Hotel Gallitzinberg                                     6\n",
       "Mercure Paris Porte d Orleans                           5\n",
       "Name: count, Length: 1492, dtype: int64"
      ]
     },
     "execution_count": 16,
     "metadata": {},
     "output_type": "execute_result"
    }
   ],
   "source": [
    "data['hotel_name'].value_counts()"
   ]
  },
  {
   "cell_type": "code",
   "execution_count": 17,
   "id": "b1544afb",
   "metadata": {},
   "outputs": [],
   "source": [
    "# Извлечение сетевых брендов\n",
    "data['brand'] = data['hotel_name'].str.extract(r'(Hilton|Marriott|Ibis|Mercure|Renaissance|DoubleTree|Britannia|Park Plaza|Copthorne)')\n",
    "# Статистика по брендам\n",
    "brand_stats = data['brand'].value_counts()"
   ]
  },
  {
   "cell_type": "code",
   "execution_count": 18,
   "id": "70154669",
   "metadata": {},
   "outputs": [],
   "source": [
    "# Создание списков слов-индикаторов для оценки уровня отеля\n",
    "luxury_keywords = ['Plaza', 'Palace', 'Royal', 'Boutique']\n",
    "business_keywords = ['Hilton', 'Marriott', 'DoubleTree']\n",
    "budget_keywords = ['Ibis', 'Travelodge']\n",
    "# Классификация\n",
    "data['class'] = 'other'\n",
    "data.loc[data['hotel_name'].str.contains('|'.join(luxury_keywords)), 'class'] = 'luxury'\n",
    "data.loc[data['hotel_name'].str.contains('|'.join(business_keywords)), 'class'] = 'business'\n",
    "data.loc[data['hotel_name'].str.contains('|'.join(budget_keywords)), 'class'] = 'budget'"
   ]
  },
  {
   "cell_type": "code",
   "execution_count": 19,
   "id": "dca86aba",
   "metadata": {},
   "outputs": [],
   "source": [
    "# Наличие терминов Spa\n",
    "data['has_spa'] = data['hotel_name'].str.contains('Spa').astype(int)\n",
    "# Количество слов\n",
    "data['word_count'] = data['hotel_name'].str.split().str.len()\n",
    "# Извлечение типа заведения\n",
    "hotel_types = ['Hotel', 'Resort', 'Inn', 'Suites', 'Lodge']\n",
    "data['type'] = data['hotel_name'].str.extract(f'({\"|\".join(hotel_types)})')[0]"
   ]
  },
  {
   "cell_type": "code",
   "execution_count": null,
   "id": "05d16168",
   "metadata": {},
   "outputs": [],
   "source": [
    "# Удаление старого признака\n",
    "data = data.drop(['hotel_name'], axis=1)"
   ]
  },
  {
   "cell_type": "markdown",
   "id": "e228d1a0",
   "metadata": {},
   "source": [
    "### 1.4 Национальность рецензента"
   ]
  },
  {
   "cell_type": "code",
   "execution_count": 20,
   "id": "6662bcea",
   "metadata": {},
   "outputs": [
    {
     "data": {
      "text/plain": [
       "0     United Kingdom \n",
       "1     United Kingdom \n",
       "Name: reviewer_nationality, dtype: object"
      ]
     },
     "execution_count": 20,
     "metadata": {},
     "output_type": "execute_result"
    }
   ],
   "source": [
    "data['reviewer_nationality'].head(2)"
   ]
  },
  {
   "cell_type": "code",
   "execution_count": 21,
   "id": "8d6f1b5b",
   "metadata": {},
   "outputs": [],
   "source": [
    "# Извлечение страны\n",
    "data['reviewer_country'] = data['reviewer_nationality'].str.strip()\n",
    "# Группировка по регионам (пример)\n",
    "europe = ['United Kingdom', 'France', 'Germany', 'Spain', 'Italy']\n",
    "asia = ['China', 'Japan', 'India', 'United Arab Emirates']\n",
    "data['reviewer_region'] = data['reviewer_nationality'].apply(\n",
    "    lambda x: 'Europe' if x in europe else ('Asia' if x in asia else 'Other')\n",
    ")\n",
    "# Гость из той же страны, что и отель\n",
    "data['is_local'] = (data['reviewer_nationality'] == data['country']).astype(int)"
   ]
  },
  {
   "cell_type": "code",
   "execution_count": null,
   "id": "b9b405cb",
   "metadata": {},
   "outputs": [],
   "source": [
    "# Удаление старого признака\n",
    "data = data.drop(['reviewer_nationality'], axis=1)"
   ]
  },
  {
   "cell_type": "markdown",
   "id": "297f2b79",
   "metadata": {},
   "source": [
    "### 1.5 Негативная оценка"
   ]
  },
  {
   "cell_type": "code",
   "execution_count": 22,
   "id": "e252da74",
   "metadata": {},
   "outputs": [
    {
     "data": {
      "text/plain": [
       "0           Leaving \n",
       "1     poor breakfast\n",
       "Name: negative_review, dtype: object"
      ]
     },
     "execution_count": 22,
     "metadata": {},
     "output_type": "execute_result"
    }
   ],
   "source": [
    "data['negative_review'].head(2)"
   ]
  },
  {
   "cell_type": "code",
   "execution_count": 23,
   "id": "80f0a3cf",
   "metadata": {},
   "outputs": [],
   "source": [
    "# Словарь часто распространенных проблем\n",
    "issues = {\n",
    "    'cleanliness': ['dirty', 'clean', 'smell', 'stains'],\n",
    "    'service': ['staff', 'rude', 'service', 'wait'],\n",
    "    'amenities': ['WiFi', 'breakfast', 'bed', 'shower']\n",
    "}\n",
    "# Проверка на наличие проблемы из каждой категории в отзыве\n",
    "for category, keywords in issues.items():\n",
    "    data[f'issue_{category}'] = data['negative_review'].str.contains('|'.join(keywords), case=False).astype(int)"
   ]
  },
  {
   "cell_type": "code",
   "execution_count": null,
   "id": "8927ad59",
   "metadata": {},
   "outputs": [],
   "source": [
    "# Удаление старого признака\n",
    "data = data.drop(['negative_review'], axis=1)"
   ]
  },
  {
   "cell_type": "markdown",
   "id": "909a7331",
   "metadata": {},
   "source": [
    "### 1.6 Положительная оценка"
   ]
  },
  {
   "cell_type": "code",
   "execution_count": 24,
   "id": "280345ea",
   "metadata": {},
   "outputs": [
    {
     "data": {
      "text/plain": [
       "0     Staff were amazing\n",
       "1               location\n",
       "Name: positive_review, dtype: object"
      ]
     },
     "execution_count": 24,
     "metadata": {},
     "output_type": "execute_result"
    }
   ],
   "source": [
    "data['positive_review'].head(2)"
   ]
  },
  {
   "cell_type": "code",
   "execution_count": 25,
   "id": "f6abb133",
   "metadata": {},
   "outputs": [],
   "source": [
    "# Словарь часто распространенных слов в позитивном отзыве\n",
    "pos_categories = {\n",
    "    'staff': ['friendly', 'helpful', 'polite', 'attentive'],\n",
    "    'comfort': ['comfortable', 'cozy', 'spacious', 'quiet'],\n",
    "    'cleanliness': ['clean', 'spotless', 'tidy'],\n",
    "    'location': ['central', 'convenient', 'walkable'],\n",
    "    'amenities': ['breakfast', 'pool', 'view', 'wifi']\n",
    "}\n",
    "# Проверка на наличие слов из каждой категории словаря с положительными сочетаниями в отзыве\n",
    "for cat, keywords in pos_categories.items():\n",
    "    data[f'pos_{cat}'] = data['positive_review'].str.contains('|'.join(keywords), case=False).astype(int)"
   ]
  },
  {
   "cell_type": "code",
   "execution_count": null,
   "id": "233faad5",
   "metadata": {},
   "outputs": [],
   "source": [
    "# Удаление старого признака\n",
    "data = data.drop(['positive_review'], axis=1)"
   ]
  },
  {
   "cell_type": "markdown",
   "id": "40eaf118",
   "metadata": {},
   "source": [
    "### 1.7 Теги"
   ]
  },
  {
   "cell_type": "code",
   "execution_count": 26,
   "id": "27aac4c8",
   "metadata": {},
   "outputs": [
    {
     "data": {
      "text/plain": [
       "0    [' Leisure trip ', ' Couple ', ' Studio Suite ...\n",
       "1    [' Business trip ', ' Couple ', ' Standard Dou...\n",
       "Name: tags, dtype: object"
      ]
     },
     "execution_count": 26,
     "metadata": {},
     "output_type": "execute_result"
    }
   ],
   "source": [
    "data['tags'].head(2)"
   ]
  },
  {
   "cell_type": "markdown",
   "id": "a3340927",
   "metadata": {},
   "source": [
    "Из тегов можно извлечь множество уникальных и выявить самый распространенный"
   ]
  },
  {
   "cell_type": "code",
   "execution_count": 27,
   "id": "173d544a",
   "metadata": {},
   "outputs": [
    {
     "name": "stdout",
     "output_type": "stream",
     "text": [
      "{' Andaz Large King Room ', ' Signature Luxury King with Balcony ', ' Classic Double Room with Breakfast ', ' Four Seasons Suite ', ' FAMILY PLAN ', ' Superior King Suite ', ' Junior Suite with Spa Access 3 Adults ', ' Cozy Double or Twin Room ', ' Large Room ', ' Junior Suite with View of the Eiffel Tower ', ' Deluxe Room 2 Adults 1 Child ', ' Twin Premier Room ', ' Family Room 6 Adults ', ' Deluxe Double with Winter Garden View ', ' King Deluxe Room ', ' Deluxe Double Twin Room ', ' Grand Suite Duplex ', ' Two Bedroom Suite ', ' Executive Room Non Smoking ', ' Double Deluxe Room ', ' Family Room Free Wi Fi ', ' Superior Room Pigalle ', ' Special Offer Double or Twin Room ', ' Landmark Junior Suite ', ' La Petite Maison ', ' Standard Room 1 2 adults ', ' Ring Suite ', ' Penthouse King Executive Room with Access to Executive Lounge ', ' Queen Room Non Smoking ', ' Club Double or Twin Room ', ' Double Room with Club Lounge Access ', ' Double Room XL ', ' Superior Twin Room with View ', ' King or Twin Room with River View ', ' Special Offer Twin Double Room Stay and Park ', ' Suite 3 Adults ', ' Deluxe King Room Disability Access ', ' Park Deluxe Suite ', ' Queen Room Upper Floors ', ' Family Room with Two Double Beds ', ' Privilege Room With View ', ' Premium Double Room with Terrace ', ' Superior Double or Twin Room XL with Extra Bed 3 Adults ', ' Hyatt King Room with View ', ' Superior Room with Queen Bed and Sofa ', ' Deluxe Junior Suite with Lounge Access ', ' Deluxe Double Room with Garden View ', ' Executive Room with Canal View ', ' Privilege Room with Hammam ', ' Luxury Family Room ', ' King Double Room ', ' Executive Room with 1 Queen Bed and 1 Sofa 2 Adults ', ' Privilege Double Room with Eiffel Tower View ', ' Standard Triple Room ', ' Deluxe Double Room Pigalle 21 ', ' Twin Room with Courtyard View ', ' Superior Double Room with Saint Germain des Pr s Church View ', ' Two Adjacent Deluxe Rooms ', ' Deluxe Suite with Executive Lounge Access ', ' Double Room with Two Double Beds ', ' Deluxe Double Room with City View ', ' Junior Suite 3 Adults or 2 Adults 1 Child ', ' Large Canal View Queen ', ' Premium Double or Twin Room with View ', ' Privilege Double or Twin Room Courtyard side ', ' Privilege Double Room ', ' Double or Twin Room with Bath ', ' 4 rooms ', ' Hyde Park Junior Suite with Park View ', ' Classic Double Room with City View ', ' Urban Junior Suite ', ' Stayed 28 nights ', ' Superior Room with Spa access ', ' Club Level Classic Rooms ', ' Deluxe with Two Double Beds ', ' Queen Suite with City View ', ' Classic Single Room with Spa Access ', ' Standard Room with Double Bed and Sofa Bed ', ' Deluxe Double or Twin Room with Canal View ', ' Standard Duplex Room 3 Adults ', ' Standard Queen or Twin Room Lower Ground Floor ', ' Superior Apartment 2 Adults ', ' Junior King Suite with View 2 Adults ', ' Luxury Studio Suite ', ' Suite Family Room ', ' Special Offer Double or Twin Room with Parking ', ' Superior Double Room Free Wi Fi ', ' Suite 1 2 Adults ', ' Master Suite ', ' Comfort Double or Twin Room ', ' King Hilton Executive Room with Access to Executive Lounge ', ' Superior Queen Room with 2 Single Sofa Beds ', ' Queen Room with Sofa Bed ', ' King Corner Room ', ' Deluxe Double or Twin Room with Spa Bath ', ' Exclusive Double or Twin Room La Mondaine ', ' Premium Deluxe Double Room ', ' Classic Double Room with Shower ', ' Double Room with Eiffel Tower View ', ' Executive Room with City View ', ' Deluxe Barcelona city View ', ' Deluxe Queen Room with View ', ' Classic Double Room Loge Classique ', ' Deluxe Double or Twin Room with City View ', ' Standard Double Room Disability Access ', ' Duplex King Suite 2 Adults 2 Children ', ' Double Superior Room ', ' Superior Double or Twin Room with Terrace Spa acces ', ' 2 Adjacent Rooms ', ' Executive Double Room with Double Bed and Sofa Bed ', ' Deluxe Room 2 Adults ', ' Twin Room with Pool View ', ' Superior Double or Twin Room Moon Blue ', ' Family Suite ', ' Executive Room with queen size bed and double sofa bed 2 adults 2 children ', ' Couture Deluxe Double Room ', ' Comfort Twin Double Room ', ' City Suite ', ' Privilege Suite ', ' Executive Double or Twin Room with City View ', ' Executive Double Room with Park View ', ' King Room or Twin Room Disability Access ', ' Double or Twin Room with Garden View ', ' Superior Double Room with Tea Time Included ', ' Superior Room with 1 Queensize Bed Canal view ', ' Family Room 2 Adults 2 Children with Access to Nagomi Health ', ' Small Double Room with Extra Bed Annex building ', ' Deluxe Twin or Single Room ', ' Triple Family Guestroom ', ' Deluxe One Bedroom Park Suite ', ' Executive Junior Suite with Sea View ', ' Suite Designer ', ' Double Room for Single Use ', ' Comfort Triple Room ', ' Executive Single Room ', ' King Suite with Lounge Access ', ' Double Room Free Wi Fi ', ' Superior Room with Queen size bed and Sofa Bed 2 Adults ', ' Family Room 3 Adults 1 Child ', ' Family Suite with two connecting rooms ', ' Townhouse Apartment ', ' Minsters Deluxe Two Bedroom Suite ', ' Superior Room with Double Bed and Sofa Bed ', ' Superior Queen Suite with Sofa 3 Adults ', ' Business Suite ', ' Cabine Single Room ', ' Single Hilton Guestroom ', ' Double Room City ', ' Superior Double Room with Free Access to Steam Bath ', ' Kings One Bedroom Suite ', ' Executive Room with 1 Queen bed ', ' Executive Room with 1 Queensize Bed ', ' Superior Romantic Double Room ', ' Premium Double or Twin Room with Sea View ', ' Premium Double Room with Garden View ', ' Luxury Room ', ' Family Room with Balcony ', ' Deluxe Double or Twin Room with Balcony ', ' Superior Double or Twin Room with Parking ', ' Double or Twin Room with Extra Bed 2 Adults 1 Child ', ' Master Bedroom Suite ', ' Comfort Double or Twin Room with Extra Bed ', ' Courtyard Suite with St Stephen s Cathedral view ', ' Double Room Lady Soul ', ' Royal Duplex Suite ', ' Superior Double Room with View Non Smoking ', ' Executive Triple Room with Garden View ', ' Stayed 15 nights ', ' Queen Suite with Lounge Access ', ' King Room with Executive lounge access ', ' Junior Queen Suite with Sofa Bed ', ' Park Junior Suite ', ' Two Adjoining Superior Suite ', ' Deluxe Double Room with Private Access to Pool and Spa ', ' Eiffel Suite with partial view ', ' Junior Suite 1 2 Adults ', ' The Level Room with Executive Lounge Access ', ' Family Room with Bathroom ', ' Junior Suite with River View and Balcony ', ' Standard Suite ', ' Superior Room with Garden View ', ' Duplex ', ' One Double Suite NonSmoking ', ' Marvelous Suite ', ' Superior Double Room New Style ', ' Suite with Glass of Champagne ', ' Single Room Non Smoking ', ' Luxury Room 2 Adults with canal view ', ' Comfort King or Twin Room ', ' Executive Room with queen size bed and single sofa bed 3 Adults ', ' Superior room 3 persons ', ' Deluxe Room with Two Double Beds ', ' Prestige Triple Room ', ' Double Room Audacieuse ', ' King Deluxe Family Room ', ' Queen Guest Room Mobility Accessible ', ' Sensation Room ', ' Basic Double or Twin Room ', ' Duplex Room 4 Adults ', ' Deluxe Room with Whirlpool ', ' Junior Suite with VIP Services ', ' Luxury Triple Room ', ' Standard Double Room with Tea Time Included ', ' Double Room L ', ' Deluxe Queen Room with Sofa ', ' Standard Double Room Non Smoking ', ' Deluxe King Room with Garden View ', ' Standard Room with Queen Bed Renovated ', ' Superior Twin Room with Park View ', ' Comfort Family Room ', ' Standard Room with queen size bed and double sofa bed 3 Adults ', ' Standard Double Room with Two Single Beds ', ' Twin Hilton Sea View ', ' penta Standard Room ', ' Privilege Top Floor with Terrace ', ' Superior Double Room Plus L Insolente ', ' Deluxe Double Room with Balcony ', ' Superior Twin Room with Sofa Bed Non Smoking ', ' Classic Single Room ', ' Junior Suite Free Wifi ', ' Classic Triple Room 2 Adults ', ' Classic Room with 2 Double Beds 4 Adults ', ' Executive King ', ' Stayed 21 nights ', ' Cabaret Junior Suite ', ' Nhow Premium Double or Twin Room ', ' Family Room 4 Adults ', ' Special Offer Only For Cruise Passengers ', ' Basic Twin Room ', ' Drop Dead Gorgeous Splash Suite ', ' Standard Double or Twin with view ', ' Superior Triple Room with 3 Single Beds ', ' Single Room with Sauna Access ', ' Deluxe ', ' Superior Queen Room with Paris View ', ' Executive King Room with Air Conditioning ', ' Premium Double or Twin Room with Terrace and Spa Access ', ' Deluxe Family Room with 1 Double and 2 Single Beds 3 Adults ', ' King Guest Room ', ' Deluxe double or Twin Room ', ' Executive Twin Room with Access to Executive Lounge ', ' Studio Twin Room 3 adults ', ' Executive Queen Room with Lounge Access Mobility Access ', ' Royal Double Room ', ' Deluxe King Room with Canary Wharf View ', ' Superior Twin or Double Room ', ' Executive Double Room River View ', ' Deluxe Eiffel Twin ', ' Deluxe L Double Room ', ' Executive King or Twin Room ', ' Junior Alcove Suite with Access to Executive Lounge ', ' Deluxe Twin Room with View ', ' Superior Room with 1 Queensize Bed and Double Sofa bed ', ' Emotion Room with Terrace ', ' Two Bedroom Family Room ', ' Deluxe Double Room with Lounge Access ', ' Executive Suite with Balcony ', ' Junior Suite Double 1 2 Adults ', ' Twin Suite ', ' Double or Twin Room with View ', ' Interconnecting Double Rooms ', ' Triple Apartment ', ' Executive Queen Room with Balcony ', ' Standard Room with queen size bed and double sofa bed ', ' Stayed 14 nights ', ' Suite 2 Adults 2 Children ', ' Superior Quadruple Room ', ' Superior Shard King ', ' Observatory King ', ' Family King Room ', ' Cosy Single Room ', ' Deluxe Double Room with Spa Bath ', ' Small Double or Twin Room ', ' Privilege Superior Room ', ' Stunning City Studio ', ' Executive Room Selected at Check In ', ' Executive Room with Two Queen Beds ', ' Deluxe King Room Wheelchair Accessible ', ' Superior Double Room with Spa Access ', ' Triple Room with City View ', ' Standard Double Room with Sea View ', ' Superior Room with Garden View Free Wifi ', ' Family Apartment 4 Adults with Spa access ', ' Club Twin Room ', ' Queen Suite with Balcony and City View ', ' Classic Double Room with Courtyard View ', ' Deluxe Room Barlow Wing ', ' Classic Guest room 1 King or 2 Twin Single Bed s ', ' Double Room with Small Double Bed ', ' Double Queen Waterfront ', ' Premium Suite ', ' Junior Suite With Free Access to Steam Bath ', ' Loft Double Room ', ' Room with Dock View Main Deck ', ' Premium Room Grand Pigalle ', ' Classic King Room ', ' Horizon Suite with Dock View ', ' Superior Room with Two Double Beds and Balcony ', ' Double Room Non Smoking ', ' Junior Suite with Courtyard View ', ' Double or Twin Room with Bathroom ', ' Hilton Deluxe King Room ', ' Superior Double Room with Roll In Shower Disability Access ', ' Deluxe Double Room Annex ', ' Studio Triple ', ' Privilege Room with Double Bed ', ' Superior Double Twin Room with Free Parking ', ' Classic Double or Single Room ', ' Deluxe Double or Twin Room ', ' Deluxe Twin Room with Eiffel Tower View ', ' Deluxe Double or Twin Room Annex ', ' Four Seasons Executive King Suite ', ' Superior Room with Two Double Beds and View ', ' Junior Suite 3 Adults ', ' Park Deluxe Executive King ', ' Deluxe Twin Room 2 Adults ', ' Twin Hilton Deluxe ', ' Double or Twin Room with Balcony ', ' City Garden Room ', ' Junior Suite 2 Adults 2 Children ', ' Standard 1 Bedroom Apartment ', ' Special Offer Deluxe Double Room ', ' Twin Room with City View Top Floor ', ' Classic Double Room for Single Use ', ' Superior Room with 1 Double Bed ', ' Standard Room Sopi ', ' Junior Suite with Terrace and City view ', ' 4 Person Suite ', ' Executive Twin Room 1 2 Adults ', ' Superior Double Room Non Smoking ', ' Economy Single Room basement no window ', ' Standard Room with Two Single Beds Renovated ', ' Double Twin Rooms Next to Each Other ', ' Deluxe Room with Two Single Beds ', ' Twin Room ', ' Business Double or Twin Room Facing the Sea ', ' Octagon Suite with Lounge Access ', ' Stayed 20 nights ', ' Lower Ground Double Room ', ' Business Single Room with Courtyard View ', ' Superior Double or Twin Room with Canal View ', ' Deluxe Room with Spa Access Free Wifi ', ' Secret Room with Spa Access ', ' Superior Room with Queen Bed ', ' King Guestroom ', ' Standard Double Room Single Use ', ' Twin Room with Public Transport Ticket ', ' Suite 2 Adults ', ' Double or Twin Room with Terrace and Spa Access ', ' Junior Suite with Private Pool ', ' Triple Room Relax ', ' Two Connecting Rooms 2 Adults 2 Children ', ' Single Room with Bath ', ' Family Room Sleeps Four ', ' Deluxe King Room with Club Lounge Access ', ' Special Offer Superior Double Room ', ' Deluxe King Room with Water View ', ' Single Room Lower Ground Floor ', ' Junior king Suite 3 Adults ', ' Superior Double Room with Terrace ', ' Twin Room 1 2 Adults ', ' Family Room with King Bed ', ' Premium Triple Room ', ' Double Room Crash Pad ', ' Twin Room 1 2 people ', ' Panorama Double Room ', ' Double Room Curieuse ', ' Junior Suite with Private Access to Pool and Spa ', ' Deluxe Double Room with Balcony Non Smoking ', ' Park King ', ' Hyatt Queen Room with View ', ' King Room with River View ', ' Superior Double Double ', ' Double or Twin Room with Courtyard View ', ' Business Double Room ', ' Premier Double or Twin Room with Extra Bed ', ' Classic Double or Twin Room ', ' Mandarin Room ', ' Double Guest Room with River View ', ' Suite with Garden View and Parking ', ' Duplex Junior Suite ', ' Small Double Room with Canal View ', ' Standard Room with Queen Bed and Sofa Bed ', ' Modern Double Room Narcisse ', ' Classic Double or Twin Room with Pool Access ', ' Loft Suite with Terrace ', ' Smart Triple Room ', ' Superior King or Double Room ', ' Double Junior Suite ', ' Executive Vend me Triple Room ', ' Cabin Single Room ', ' Vend me Deluxe Room ', ' Budget Single Room ', ' Junior Suite 1 3 Adults ', ' Executive Club Twin Room ', ' Queen Room with Roll In Shower Mobility Access Non Smoking ', ' Classic Room with Garden View ', ' Group ', ' Mini Room ', ' Luxury Junior Suite ', ' Spectacular Room ', ' Deluxe Room 3 Adults ', ' Superior Room with Queensize Bed and double couch 2 adults 2 children ', ' Suite with Extra Bed ', ' City Apartment ', ' Executive Room with queen size bed and single sofa bed ', ' Prestige Double Room with Eiffel Tower View ', ' View Twin ', ' Superior Room with King Bed ', ' Privilege Room with 1 Double Bed ', ' Superior King ', ' Business Twin Room with Courtyard View and Public Transport Ticket ', ' Superior Capucines Room ', ' Deluxe Double Room with State Opera View ', ' 2 double Connecting Rooms ', ' Suite with Private Pool ', ' Deluxe Studio ', ' Junior Suite 3 Adults with Paris View ', ' Double or Twin Room with City View ', ' Standard Triple Room with Queen Bed and Sofa Bed ', ' Executive Premium Queen Room ', ' One Bedroom Queen Suite ', ' Junior Suite With Private Garden ', ' Queen Single Room ', ' Classic Double or Twin Room 1 2 Adults ', ' Cool Corner Exchange ', ' Exclusive Suite Eiffel ', ' Hypoallergenic Double or Twin Room ', ' City Twin Room with Surprise Package ', ' Family Junior Suite 3 Adults 1 Child ', ' Deluxe Double Room with Private Pool ', ' Executive Twin Room with City View ', ' Garden Twin Room ', ' Double Hilton Deluxe ', ' Senior Suite 1 3 Adults ', ' Studio Disability Access ', ' Privilege Super King or Twin Room ', ' Superior Double Room with Duomo View ', ' Grand Deluxe Double Room ', ' Hilton Relaxation Room ', ' Premium Family Room ', ' Deluxe Double or Twin Room Light my Fire ', ' Luxury King Room 3 Adults ', ' Eiffel Suite ', ' Double Deluxe Plus Room ', ' Double Room 2 Adults ', ' Standard Twin Room ', ' Oscar Wilde Room ', ' Superior Double Room with Park View ', ' Level Room with Executive Lounge Access ', ' K Suite ', ' Executive Queen Room 2 adults ', ' Penthouse Plaza Suite with Access to Executive Lounge ', ' Prestige Suite ', ' Suite Oc ane ', ' Premier Double or Twin Room ', ' Premier King Room Barlow Wing ', ' Suite Aurore ', ' Executive Deluxe ', ' One Bedroom Suite with City View ', ' Double Room with Patio View ', ' Double Room Mus e d Orsay with Spa Bath ', ' Deluxe Queen Room ', ' Principle Double ', ' Superior Double or Twin Room XL with Extra bed ', ' Classic Double Single Use ', ' King Suite with Executive Lounge Access ', ' Deluxe Double or Twin Room 2 adults 1 child ', ' King Hilton Guestroom ', ' Double Room Marquise ', ' Corner View Suite ', ' Park Executive Suite ', ' Luxury Suite Superior ', ' Superior Room with 1 Queen Bed and Sofa 3 Adults ', ' Junior Suite with Balcony ', ' Executive Deluxe Double Room with Spa Access ', ' Standard Room with One Double Bed and Single Sofa Bed ', ' Ambassador Suite ', ' King Room Mobility Accessible Non Smoking ', ' Superior Double Room with Terrace and City View ', ' Deluxe Room with view ', ' Comfort Single Room with Shower ', ' Club King Room with View and Lounge Access ', ' Deluxe Double Room with 1 Extra Bed ', ' Junior Suite My Ch rie Amour ', ' Superior Queen Room with Courtyard Garden or City View ', ' Park Room ', ' Wonderful Room ', ' Terrace Suite with Lounge Access ', ' Deluxe King Room with Paris View ', ' Deluxe Twin Room ', ' Suite with St Stephen s Cathedral View ', ' Superior Room with Balcony ', ' Family Suite 4 Adults ', ' Park King or Twin ', ' Superior Room with 1 Queen Bed and Sofa ', ' Large Double Room with Garden View ', ' Superior Apartment 3 Adults ', ' Double or Twin Room with Sofa Bed ', ' Superior Four Poster Room ', ' Grand Executive Room ', ' Iconic King Room With City View ', ' Junior Suite with Private Pool Spa Access ', ' Twin Studio ', ' Two Connecting Classic Double Rooms ', ' Studio My Little Haussmann ', ' Urban Double or Twin Room ', ' Grand Duplex Suite ', ' Classic Queen Room ', ' Double Room Comtesse ', ' Superior Double or Twin Room with Extra Bed 2 Adults 1 Child ', ' Exclusive Double or Twin Room ', ' Privilege King Room ', ' Deluxe Balcony Room ', ' Classic Single Room with Garden View ', ' Superior Double Room Loge Sup rieure ', ' Queen Hilton Deluxe ', ' Business Class Room ', ' Kings Three Bedroom Suite ', ' Executive Double or Twin Room ', ' Loft ', ' Superior Room 3 Adults ', ' Double Room with 2 tickets for a Cruise on the Seine river ', ' Family Studio ', ' Superior Room with 1 Double Bed and 1 Single Bed ', ' Premium Double or Twin Room with View and Terrace ', ' Loft Junior Suite ', ' Special Offer Double Room with Parking ', ' Squint Splash Suite ', ' Single Room with Shower ', ' Superior Double Room with Terrace and Mountain View ', ' Executive Double or Twin Room with Harbour View ', ' Junior Suite Courtyard ', ' Standard Double or Twin Room with Extra bed 2 Adults 1 Child ', ' Deluxe Twin Room 3 Adults ', ' Club Double Room with Club Lounge Access ', ' Junior Suite with Double Bed ', ' Premium Room 2 Adults ', ' Superior Twin Room with Airconditioning ', ' Queen or Two Double Beds Room ', ' Panorama Suite ', ' Andaz King Twin Room ', ' Superior Double Room Disability Access ', ' Condal Double or Twin Room ', ' Pasha Suite ', ' Park View Studio ', ' Double Room D couverte ', ' Suite with Eiffel Tower View ', ' Superior Room with Queen size Bed and Double Sofa Bed ', ' Executive Queen Room with Two Queen Beds with lounge Access ', ' Mosaic Double Room ', ' Executive Deluxe King Room ', ' Superior Duplex Room ', ' Superior Queen Suite with Sofa Bed 3 Adults ', ' Superior Double or Twin Room with Extra Bed 3 Adults ', ' Quadruple Suite ', ' Suite with free pool and hammam access ', ' Queen Guest Room with Sofa Bed ', ' Deluxe Double or Twin Room Disability Access ', ' Secret Double Room ', ' Deluxe One Bedroom Suite with River View ', ' Stayed 5 nights ', ' King Suite with Sofa Bed 3 Adults ', ' Executive Room City View ', ' Superior Deluxe Double Room ', ' Executive Twin Room with Lounge Access ', ' Fabulous Exchange King ', ' Deluxe Two Bedroom Apartment ', ' Chelsea Double Suite ', ' Deluxe Queen Guestroom ', ' Townhouse Club ', ' Garden View King ', ' Superior Double Room with Free Pool Access ', ' Privilege Double or Twin Room ', ' Duplex Apartment 6 Adults ', ' Bobo Queen or Twin Room with Spa access ', ' Superior Queen Room with Sofa Bed Non Smoking ', ' Junior Suite with Queen Bed 3 Adults ', ' Special Offer Single Room with Continental Breakfast ', ' Club Single Room ', ' Art Deco Room Balcony ', ' Classic Twin Room ', ' Standard Room with 1 Single Bed ', ' Deluxe One Bedroom Suite ', ' Master Bedroom Double ', ' Prestige Family Room ', ' Special Offer Double Room 3 nights minimum ', ' Studio Suite ', ' Marquise Superior Double or Twin Room ', ' Premier King Room with City View ', ' Universitat Double or Twin Room ', ' Junior Suite Triple ', ' Double Room Crash Pad Under 30s ', ' Luxury Four Poster ', ' Studio Double Room ', ' Standard Double Room No Window ', ' Superior Plus Room ', ' Executive Room with Double Bed ', ' Executive King Room Non Smoking with Executive Lounge Access ', ' Double Room with Arc de Triomphe View a Glass of Champagne ', ' One Bedroom King Suite ', ' Suite Room ', ' Standard Family Suite with Two Connecting Rooms ', ' Duplex King Suite ', ' Business Apartment with Public Transport Ticket ', ' Deluxe Double Room With Free Access to Steam Bath ', ' Standard Duplex Room 1 2 Adults ', ' Executive Room with One Queensize Bed with Balcony ', ' Executive Double Room with Turkish Bath ', ' Palais Suite ', ' Superior Double Room ', ' King Room with Hyde Park View ', ' Executive Room 2 adults 2 children ', ' Stayed 25 nights ', ' Club Eiffel Tower King Room ', ' Deluxe Double Room with Two Single Beds ', ' Comfort Room ', ' Champagne Shopping package Twin Room ', ' Apartments 4 Adults ', ' Parisian Junior Suite ', ' Special Offer Twin Room ', ' Super Deluxe Double Room ', ' Presidential suite with view terrace ', ' Junior Suite Split Level with Lounge Access ', ' Suite with Spa Access 4 Adults ', ' Room with River View Main Deck ', ' Business Double Room with WiFi and Breakfast ', ' Standard Double Room 2 Adults ', ' Executive Room Queen size Bed ', ' Quadruple Room with Shower ', ' Junior Suite Saint Honor ', ' Double Double Room ', ' King One Bedroom Suite ', ' Premium Deluxe Double Room with River View ', ' Superior Double Room with Courtyard View ', ' Double or Twin Room Non Smoking ', ' Deluxe Double Room 2 Adults 1 Child ', ' Double Executive Room with Lounge Access ', ' Double Room with Private Bathroom ', ' Queen Room with Executive Lounge Access ', ' Economy Plus Double Room ', ' Single Guest Room ', ' Falconers Two Bedroom Suite ', ' Superior One Bedroom Suite with Executive Lounge Access ', ' Twin Hilton Room Plus ', ' Executive Master Suite ', ' Superior Double Room with Massage Chair ', ' Standard Double Studio ', ' Aldwych Double Twin Room ', ' Twin Room with Partial Sea View ', ' Souterrain Comfort Room ', ' Grand Executive King Room ', ' Superior Double Room with Extra Bed ', ' Twin Grand Premier with Canal View ', ' Superior ', ' Luxury Room 3 Adults with canal view ', ' Twin Deluxe with Canal View ', ' Executive Double Room with Lounge Access ', ' Accessible King Room with Lounge Access ', ' Deluxe Double Room with Terrace ', ' Two Adjacent Double or Twin Rooms ', ' Deluxe Double Room with View ', ' King Junior Suite with Lounge Access ', ' Superior Double Bedroom ', ' Executive Double or Twin Room with Club Lounge Access ', ' Park Deluxe Queen ', ' Fabulous Bank King ', ' Exclusive Guest room 1 King or 2 Twin Single Bed s ', ' Standard Double Room with Sofa Bed 3 Adults ', ' One Bedroom City Suite ', ' Standard room with 1 queen bed and sofa ', ' Superior Double or Twin Room with Extra Bed ', ' Standard Twin Room with 2 single beds ', ' Superior Room with Balcony and Opera Garnier View ', ' Triple Room 2 Adults 1 Child ', ' Junior Suite 2 Adults with Free Airport Shuttle Service from 5 00am to 00 30am ', ' King Suite with Sofa Bed Non Smoking ', ' Park Deluxe View ', ' Twin Room with Cathedral View ', ' Deluxe King Room ', ' Double Room Medium ', ' Suite Marignan Eiffel ', ' Superior Double Room 1 2 Adults ', ' Superior Double Room with Private Patio ', ' Executive King Suite ', ' Executive Double or Twin Room with Spa Access ', ' Classic Triple Room ', ' Suite Reloj ', ' Family Room 2 Adults 2 Children ', ' Superior Double Room with Two Double Beds ', ' Cozy Exchange King ', ' Superior Deluxe Double Room with Canal View ', ' Special Offer Classic Room with Parking ', ' Comfort Double Room with Park View ', ' Studio Twin Room ', ' Deluxe Double Room with Eiffel Tower view ', ' Belgravia Suite ', ' Two Adjoining Rooms with Dock View Upper Deck ', ' Deluxe Double plus Single Bed ', ' Twin Junior Suite City View with Access to Executive Lounge ', ' King Executive Room ', ' Souterraine Double or Twin Room ', ' Special Room ', ' Superior Double or Twin Room with Spa Access ', ' Comfort Single Room with Window and Double Bed ', ' Quality Double or Twin Room with Extra Bed ', ' Double without credit card ', ' King Junior Suite ', ' Superior Double or Twin Room with Pool Spa Access ', ' Privilege Room 3 Adults ', ' Urban Triple Room ', ' Superior Triple Room 3 Adults ', ' Two Adjacent Rooms 6 persons ', ' Confort Queen Room ', ' Classic Junior Suite ', ' Andaz Suite ', ' Luxury Twin Room ', ' LM Club Double or Twin Room ', ' One Bedroom Suite with Sea View ', ' Quadruple Room Annex ', ' Executive Double Room Non Smoking ', ' Superior Double or Twin Room XL with View ', ' Junior King Suite with Pool Access ', ' Club Double Room with Lounge Access ', ' Triple Room 3 Adults ', ' Premier Deluxe Double Room ', ' King Room with Knightsbridge View ', ' Family Queen Room ', ' Twin Hilton Guest Room ', ' Amiral Single Room ', ' Junior Suite with Shower ', ' Squint Penthouse Suite ', ' King Accessible Superior Room ', ' Executive Room with Queen Bed ', ' Comfort Single Room ', ' Standard Double Room with City View ', ' Executive Deluxe Double Room ', ' Urban Deluxe ', ' Double Guest Room ', ' Deluxe King Room with Terrace ', ' Deluxe Double Room or Twin Room ', ' Club Double Room with free Internet and Breakfast ', ' Deluxe Two Bedroom Suite ', ' Superior Room with 1 kingsize bed ', ' Double Room 1 Adult with Free Airport Shuttle Service from 5 00am to 00 30am ', ' 2 Connecting Double Rooms ', ' Executive Triple Room ', ' Deluxe Club Double Room ', ' Kings Deluxe Junior Suite ', ' Junior Suite Avenue ', ' Standard Guest Room ', ' Executive Double Room with Sofa Bed ', ' Deluxe with Garden ', ' One Bedroom Suite with Kitchen ', ' Club Double or Twin Room with Club Lounge Access ', ' Wonderful Bank King ', ' Four Seasons King Junior Suite ', ' Stayed 10 nights ', ' Privilege Room with a double bed upper floors ', ' Standard Twin Room with Bridge View ', ' Suite with Terrace ', ' Superior One Bedroom Apartment ', ' Classic Twin View ', ' Junior Suite Twin 1 2 Adults ', ' Duplex Suite ', ' Standard Studio Suite ', ' Queen One Bedroom Suite ', ' Deluxe Twin Room Souterrain Basement ', ' Treat your Partner Package Double Room ', ' Junior Conservatory with King Bed ', ' Deluxe Double Room with Terrace and Private Pool ', ' Large Double Room with Champs Elysees View ', ' Deluxe Garden Room ', ' Two Bedroom Penthouse Apartment ', ' Classic Adjacent Rooms ', ' Suite without Window ', ' Suite with Hot Tub ', ' One Bedroom Executive Suite with Lounge Access ', ' Double Room with Four Poster Bed ', ' Luxury Twin Room Solarium ', ' Classic Twin Room with View ', ' Prestige Room with Garden View Free WiFi ', ' Deluxe Triple Room with View ', ' Standard Double or Twin Room Annex Building ', ' Twin Grand Deluxe Room ', ' Apartement ', ' Deluxe Double Room with View and Disability Access ', ' Superior Triple Room XL ', ' Double room 1 or 2 people ', ' Double Room with View ', ' Club Room with Club Lounge Access Free Wifi ', ' King Double or Twin Room ', ' Suite with Balcony and Spa Access ', ' Queen Room Mobility Access ', ' Double Hilton Guest Room Plus ', ' Room with Paris View ', ' Standard Room with 1 Double Bed and 1 Double Sofa bed ', ' King Room Non Smoking ', ' Eiffel Tower View King Room ', ' Stayed 22 nights ', ' Superior Double or Twin Room with Eiffel Tower partial view ', ' Executive Club Room ', ' Deluxe Boulevard Double Room ', ' Suite Terasse Eiffel ', ' Luxury Double Room Mezzanine ', ' Family Room 4 guest ', ' Standard Double or Twin Room ', ' Luxury Suite Conservatory with Lounge Access ', ' Superior Plus Double Room ', ' Tower Suite with Lounge Access ', ' Executive Studio City View Family ', ' Family Two Bedroom Suite ', ' Superior Premium Room with Queen Bed and Sofa Bed ', ' King Hilton Guest Room ', ' Family Junior Suite 4 adults ', ' Executive Double or Twin Room 3 Adults ', ' Large Comfort Double or Twin Room ', ' Double or Twin Room with Extra Bed with Balcony ', ' King Room Mobility Accessible ', ' Classic Room ', ' Art Room XL with Iconic View ', ' Marvellous Suite ', ' King Room ', ' Family Suite 2 Adults 2 Children ', ' King Suite Non Smoking with Executive Lounge Access ', ' Queen Bed Leisure ', ' Twin Guest Room ', ' Twin City View Room ', ' Smart Double or Twin Room ', ' Superior Room with City View ', ' Large Canal View King ', ' Superior M Double Room ', ' Quadruple Apartment ', ' Comfort Room with Extra Bed ', ' Superior Suite with View ', ' Deluxe Double Room with Extra Bed ', ' Suite Trocadero Balcony with Eiffel Tower View ', ' Luxury King Room ', ' Family Room 2 Adults 1 Child ', ' Four Seasons Twin Junior Suite ', ' Penthouse Suite with Terrace and City View ', ' Junior Suite with Gallery View ', ' River Twin Suite ', ' Suite with City View ', ' Superior Double Room with 1 extra bed ', ' Double or Twin Room with Terrace and Panoramic View ', ' Solo Room ', ' Double Room with City View 1 2 Adults ', ' Single Room City ', ' Standard Twin Room 2 Adults 1 Child ', ' Standard Family Room ', ' Superior Queen Room with Extra Bed 3 Adults ', ' Supreme Twin Room ', ' Double Room with Spa Bath ', ' Suite Split Level ', ' Premier Shard King Room ', ' Montcalm Club Room ', ' Standard Double Room with Terrace ', ' Superior Guest room 1 King or 2 Twin Single Bed s ', ' Double Room with Garden View ', ' Superior Suite 2 Adults 2 Children ', ' The Duplex ', ' Deluxe Double or Twin Room with Terrace ', ' Chambers Grand Junior Suite with Club Lounge Access ', ' Double Room Disability Access ', ' Standard Double Room with Bath ', ' King Room with Balcony ', ' King Room with Partial Sea View ', ' Modern Double Room Echo ', ' Executive King Room with Panoramic View ', ' Privilege Double Room with Saint Germain des Pr s Church View ', ' Executive Room Free Executive Lounge Access ', ' Standard King Room Non Smoking ', ' Twin Room with Park View ', ' Special Offer Double Room with Continental Breakfast ', ' Premium Double or Twin Room ', ' Standard Double or Twin Room with Balcony ', ' Canal View King ', ' Double Room ', ' Superior King Room Non Smoking ', ' superior Double or Twin Room with extra bed ', ' Executive Queen Room Non Smoking ', ' Submitted from a mobile device ', ' Superior Suite with 1 Double Bed and 2 Single Beds ', ' Superior King Room with Balcony ', ' Quality Double or Twin Room ', ' Montcalm Club Double Room ', ' Four Connecting Rooms ', ' Superior Double Room with free unlimited WIFI ', ' Twin Deluxe Guest Room ', ' Economy Twin Room ', ' Superior Room with Club Lounge Access Free Wifi ', ' Deluxe Apartment 4 Adults 2 Children ', ' Single Room with Arc de Triomphe View ', ' King Atrium Suite with Lounge Access ', ' Deluxe Queen Room with Two Queen Beds ', ' Suite Family and Friends ', ' Eiffel Tower View Twin Room ', ' Superior Suite ', ' Park Suite King ', ' Standard Twin Room with Tea Time Included ', ' Privilege Room ', ' Adjacent Rooms ', ' Superior Double or Twin Room with Patio ', ' Economy Double or Twin Room ', ' Easter Special Executive King Room ', ' Superior Room with 1 Single Bed ', ' Classic Cosy Room ', ' Superior Double Room with Terrace and Cathedral View ', ' Queen or Twin Room ', ' Grand Junior Suite ', ' 2 Double Rooms next to each other ', ' Business Double Room Ground Floor ', ' Double or Twin Room with Spa Access ', ' Deluxe Room With Pool Access ', ' Classic Double Room with View ', ' Two Adjoining Rooms ', ' Corner Twin Room ', ' Studio Room ', ' Superior Queen Room with Sofa Bed ', ' Double or Twin Room Select ', ' Queen Hilton Guest Room ', ' Double Room 1 2 Adults ', ' Corner Larger Executive room with Executive lounge access Free Wifi ', ' Executive Room 1 Queen size Bed 1 Sofa Bed Balcony ', ' Deluxe Family Room with 1 Double and 2 Single Beds ', ' Executive Penthouse with Canal View ', ' 5 rooms ', ' Classic Apartment ', ' Executive King Room with View ', ' Family Quadruple Room ', ' Double Room with City View Top Floor ', ' Discovery Double Room ', ' Classic Double Room with Free Access to Hamman ', ' Superior Deluxe Double or Twin Room with Spa Access ', ' Triple Room Free Wi Fi ', ' Suite Cocotte ', ' Family 2 Connecting Rooms ', ' Premium Junior Suite with King size Bed ', ' Emotion Room ', ' Superior Double or Twin Room XL with Extra Bed 2 Adults 1 Child ', ' Deluxe Junior Partial River View ', ' Double or Twin Room 1 2 Adults ', ' Premium Twin Room ', ' Two Double Bed Guest Room ', ' Suite Deluxe ', ' Classic Twin Room with Garden View ', ' Deluxe Double Room with Panoramic View ', ' Standard Room for 1 or 2 people with Kitchenette ', ' Junior Triple Suite ', ' Business Room ', ' Standard Room ', ' Small Double Room without Window ', ' Exclusive Double Room ', ' Executive Deluxe Room ', ' Townhouse Suite ', ' Studio King ', ' Duke of Monmouth Suite ', ' Quadruple Room ', ' Superior Double Room with Sofa Bed 3 Adults ', ' Garden View Queen ', ' Classic Double Room with free pool and hammam access ', ' Executive Double Room with Access to Executive Lounge ', ' Superior Queen Room ', ' Deluxe Plus Double or Twin Room ', ' Suite Room 1 or 2 people ', ' Large Family Suite ', ' Stayed 12 nights ', ' Executive Studio ', ' Souterrain Executive Double Room ', ' Romantic Double Room ', ' Junior Suite High Floor ', ' Executive Suite 3 Adults ', ' Queen Hilton Superior Room ', ' Twin Room with Extra Bed ', ' Executive King Twin Room ', ' Comfort Double Room with Terrace ', ' Deluxe Family Room 3 Adults ', ' Grand Deluxe King or Twin Room ', ' King Hilton Sea View ', ' Small Double Room 1 2 adults ', ' Executive Double Room with Whirlpool ', ' Luxury Suite music theme ', ' One Bedroom Studio Suite ', ' Premium King Room ', ' Deluxe Single Room ', ' Superior Double or Twin Room for Single Use ', ' Executive Double Room with Spa Fitness Access ', ' City King or Twin Room ', ' Marina Suite with Canal View ', ' Double Deluxe room with Roman Bath ', ' Superior Queen Room with Pool Access ', ' Junior Suite with Park View ', ' Junior Suite with Hydromassage Shower ', ' Grand Premium Double or Twin with City View ', ' Superior Studio with City View ', ' Standard Double or Twin Room 1 2 Adults ', ' 2 Connecting Rooms 4 people ', ' Superior Twin Room with Tea Time Included ', ' Stayed 3 nights ', ' Junior Suite Sans Mod ration ', ' Superior Queen Suite with Sofa Bed ', ' Park Studio King ', ' Luxury Double Room Medium ', ' Superior Twin Room with Courtyard Garden or City View ', ' Superior Double Room with Sofa Bed ', ' Double Room Attic ', ' Junior Suite Parisienne ', ' Executive Double Room Studio D Artiste ', ' Executive Suite with Queen Bed and Sofa Bed 2 Adults ', ' Standard Double Room with View ', ' Parisian Suite ', ' King Room with City View Top floors ', ' Twin Hilton Deluxe Room ', ' Premium Lafayette ', ' Superior Executive Twin Room ', ' Executive Double Room with Access to The Level Lounge ', ' Double Room with Fitness Equipment ', ' Superior Twin Double Room ', ' Standard Room with Queensize bed and Single Sofa Bed ', ' Business Studio Suite ', ' Executive Queen Room with Sofa ', ' Executive Room with View and Lounge Access ', ' Superior Double Room with Garden View ', ' Single Room with Double Bed ', ' King Room with Courtyard View ', ' Suite Couture ', ' Executive Double Room with Terrace ', ' Executive Double or Twin Room with Executive Lounge Access ', ' Grand Suite ', ' Executive Double or Twin Room La Ravissante ', ' Standard Double Room with Sofa Bed ', ' Triple Room with Park View ', ' Superior Room with 1 Double bed and Sofa 3 adults ', ' Superior Double or Twin Room Tea Time Wine Tasting Included ', ' Family with older children ', ' Standard Double Room with Queen Bed ', ' Paseo de Gracia Double or Twin Room ', ' Deluxe Triple Suite ', ' Non Smoking Standard Room with 1 Double Bed ', ' Classic Twin or Double Room ', ' Classic Family Room ', ' Standard Double Room with Parking ', ' Double Room 1 Adult with Eiffel Tower View ', ' Maisonette ', ' Terrace Junior Suite ', ' Elisabeth Suite ', ' Double Room Ground Floor ', ' Deluxe Family Room ', ' Deluxe Metropolitan City Double Room ', ' Deluxe Twin Room Balcony with Eiffel Tower View ', ' Basic Double Room ', ' Club Queen Room ', ' Loft Suite Disability Access ', ' Deluxe Double or Twin Room with Opera View ', ' 2 Connecting Rooms ', ' Deluxe Double Room with Terrace and Eiffel Tower View ', ' Deluxe Double Studio ', ' Standard Room with Spa access ', ' Executive with Two Double Beds ', ' Executive King or Twin Room with Lounge Access and Park View ', ' Garden King Room ', ' Stayed 6 nights ', ' Premium Superior Double Room ', ' Double Executive Room ', ' King Deluxe Room with Canal View ', ' Deluxe Double Room with Spa Access Free Wifi ', ' Suite with Eiffel Tower View VIP welcome ', ' Suite with hammam ', ' Studio with Courtyard View ', ' King Cathedral View Room ', ' Superior Suite 3 Adults ', ' Standard Room with 1 Kingsize Bed ', ' Deluxe Family Room with View ', ' Premium Double or Twin Room XL with View ', ' Luxury Double Room Large ', ' Superior King Room Barlow Wing ', ' Luxury Suite with whirlpool ', ' Double Room Duchesse ', ' View King Room ', ' Premier Junior Suite 1 2 Adults ', ' 2 Connecting Rooms 5 people ', ' Executive Premium Room with a Queen Bed ', ' Luxury One Bedroom Apartment ', ' Superior Classic Double Room ', ' Canal View Superior Deluxe Room with Spa Bath ', ' Standard Room with Double Bed ', ' Prestige Room Swimming Pool Hammam Access upon reservation ', ' Ambassadors Room ', ' Twin Room Mobility Access ', ' Delightful King Twin Room ', ' Studio Deluxe Suite ', ' Twin Guest Room Plus ', ' One Bedroom Deluxe Suite ', ' Executive Suite 1 King ', ' Executive Double or Twin Room with Private Terrace ', ' Canal View Queens ', ' Deluxe Double Room with City View and Balcony ', ' Op ra Junior Suite ', ' Junior Room ', ' Ashburn Suite ', ' Deluxe King Plus ', ' Room Selected at Check In ', ' Deluxe King Room Balcony with Eiffel Tower View ', ' King Suite with Sofa Bed 4 Adults ', ' New Amsterdam Suite ', ' Superior Executive Room ', ' Executive Family Room 2 Adults and 2 Children ', ' Two Connecting Double Rooms ', ' King Family Room ', ' One Bedroom Family Suite ', ' Superior Twin Room 2 adults ', ' Deluxe Suite with River View ', ' Superior Room with Extra Bed 3 Adults ', ' penta Plus Room ', ' Junior Double Suite ', ' Hyatt Queen Room ', ' Triple Hilton Family Room ', ' Deluxe Premium Double Room ', ' Family Room with View ', ' Duplex Family Suite with Spa Bath ', ' Junior Suite 5 Adults ', ' Fabulous Sky Room ', ' Suite Free Executive Lounge Access ', ' Suite with Knightsbridge View ', ' Romantic Special Offer ', ' Two Connecting Superior Twin Rooms ', ' Executive Deluxe Studio Suite ', ' Premier Room ', ' Deluxe Executive Room ', ' Deluxe Duplex Room ', ' Master Suite with Club Lounge Access ', ' 3 Connecting Rooms ', ' Small Twin Room ', ' Premium Double or Twin Room with Garden View ', ' Andaz Large Suite ', ' Executive Double Room ', ' Special Offer Executive Double Twin Room with Access to Nagomi Health ', ' Suite Elys e ', ' Park Deluxe Room ', ' Studio ', ' Deluxe Quadruple Room with Canal View ', ' Corner Suite ', ' Executive Double Room with Mobile Phone ', ' Standard Room with 2 Single Beds ', ' Deluxe Double Room with River View ', ' Premier River King Room ', ' Two Connecting Executive Rooms ', ' Classic Double Room with Balcony ', ' Compact Double Room with Private Bathroom ', ' Standard Room with 1 Queen Bed ', ' Emperor Suite ', ' Budget Double Room ', ' Junior Suite with Pool Access ', ' 3 rooms ', ' Superior Double Room 2 Adults 1 Child ', ' Business Plus Double Room with Balcony ', ' Superior Family Room 2 Adults 1 Child ', ' Single Room with Courtyard View ', ' 2 Connecting Rooms 5 Adults ', ' Two Adjoining Rooms with Dock View Main Deck ', ' Executive King Room with Lounge Access ', ' Superior Double or Twin Room with Courtyard view ', ' Junior Suite XL ', ' Executive Suite with View ', ' Stayed 24 nights ', ' Club Room ', ' Hoxton Studio Suite ', ' Suite 5 Adults ', ' Quadruple Room 2 Adults 2 Children ', ' Weekend Offer Standard Studio ', ' Grand Deluxe Imperial Room ', ' Queen Double Room ', ' Deluxe Single Room with View ', ' Two Adjoining Double Rooms ', ' Junior Suite with access to the Club Lounge ', ' Director s Double Room ', ' Premier Twin Room ', ' Suite with Garden View ', ' Superior Metropolitan Park Double Room ', ' King Hilton Deluxe Room ', ' Executive Four Poster Room ', ' Economy Double Room ', ' King Deluxe Family Room Connecting Doors ', ' Loft Double Room with Terrace ', ' Signature Suite ', ' Queen Guest Room with Terrace ', ' Stayed 1 night ', ' Art Deco Double Room ', ' One Bedroom Apsley Suite ', ' Superior Twin Room with Pool Access ', ' Superior Twin Room Barlow Wing ', ' Stayed 7 nights ', ' Deluxe Eiffel Tower King Room ', ' Classic Room with 2 double beds 2 Adults ', ' Special Offer Standard Double or Twin Room ', ' Superior Double Room with Street View ', ' Executive Family Room ', ' Stayed 9 nights ', ' Superior Double Room 1 Adult ', ' Classic Double Room ', ' Superior Double Room with Free Access to Hamman ', ' Park Deluxe Twin ', ' Executive Black Suite ', ' Comfort Double Room with Extra Bed ', ' Imperial Suite ', ' Executive King or Twin Room with Lounge Access ', ' Classique Square ', ' Standard Double or Twin Room with View ', ' Grand Premium Double or Twin with Sea View ', ' Apartment Suite ', ' Superior Queen Room with Sofa ', ' Superior Room with 1 Queen Bed ', ' Superior Studio ', ' Executive Twin Room ', ' Junior Suite with Spa Bath ', ' Classic Room with 1 Queen bed ', ' Queen Room with Two Queen Beds 4 Adults ', ' Junior Suite with Terrace ', ' Triple Junior Suite ', ' Standard Double or Twin Room with Extra Bed 3 Adults ', ' Deluxe Suite ', ' Prestige Double or Twin Room ', ' Standard King Room ', ' Premium Room ', ' Double Room Luxury XXL King size bed ', ' Double or Twin Room with Pool View ', ' Small Queen Room ', ' Deluxe Double or Twin Room with Ramblas View ', ' Deluxe Twin Room Annex ', ' 2 Connecting Deluxe Rooms with VIP Service for Kids ', ' Twin Room with View ', ' Superior Double ', ' Junior Suite Blue ', ' Garden View Twins ', ' Grand Deluxe Contemporary Room ', ' Superior Family Room ', ' Deluxe Double or Twin Room with Parking ', ' Ground Floor Queen Room Disability Access ', ' Sextuple Room ', ' Standard Room with terrace ', ' Deluxe Room with Spa Fitness Access ', ' Business King Room ', ' Double Room with Shared Bathroom ', ' Superior Double or Twin Room XL ', ' Souterrain Twin Room ', ' Principe Suite ', ' Corner Suite with Lounge Access ', ' Privilege Junior Suite with Spa Access ', ' Royal Mews View Classic Double ', ' Large Double Room ', ' Tiny Single Room ', ' Studio with Spa Access ', ' Double or Twin Room with Park View ', ' Family Communicating Rooms ', ' Executive Queen Room with Eiffel Tower View ', ' Special Offer Double Room Park and Sleep inklusive Breakfast ', ' Superior room with Queen bed and sofa ', ' One Bedroom Classic Suite ', ' Queen Guestroom ', ' Comfort Double Room With Sacr Coeur View ', ' Duplex Suite with Spa Access ', ' Apartment with City View Top Floor ', ' Classic Room with 2 double beds ', ' Basic Single Room ', ' Champs Elys es Prestige Room ', ' REN Room Free Wifi ', ' Suite Avenue ', ' Superior Triple Room with 1 Double Bed 1 Single Bed ', ' Interior Double or Twin Room ', ' Deluxe Double Room with Bath ', ' Double Room Medium Heritage ', ' Twin Superior Room ', ' Mezzanine Suite ', ' Two Bedroom Deluxe Suite ', ' Park Deluxe King ', ' Executive Suite 2 Adults 2 Children ', ' Souterrain Double Room ', ' Grand Suite with Canal View ', ' Hoxton Family Suite ', ' Twin Room with Sea View ', ' Privilege Twin King Room ', ' Twin Plaza Executive Room ', ' Standard Double or Twin Room with Extra Bed ', ' Premium Double or Twin Room XL ', ' Double or Twin Room with Extra Bed ', ' King Duplex Suite ', ' Corner Double Room ', ' Camper Suite ', ' Marina Twin Suite ', ' Junior Suite Twin ', ' Double or Twin Room with Panoramic View ', ' Family Room with sofa bed ', ' Queen Room with Eiffel Tower View ', ' Queen Room Disability Access Non Smoking ', ' Art Deco Room Terrace ', ' Deluxe Room 1 or 2 people ', ' Deluxe King Guestroom ', ' Junior Suite with living room ', ' Deluxe Double Room Corner ', ' Superior Twin Room with City View ', ' Double Room with French Bed ', ' Four Poster Suite ', ' Deluxe Double or Twin Room with Sea View ', ' Junior Suite 4 Adults ', ' Canal View Deluxe Triple Room with Spa Bath Annex building ', ' Single Room with Free Airport Shuttle Service from 5 00am to 00 30am ', ' Dorsett Double Room ', ' Room Assigned at Check in ', ' Family Room 4 People ', ' Premier Shard Suite ', ' Deluxe Double Room with Separate Lounge Area ', ' Deluxe Room with Terrace ', ' Suite with Spa Access 3 Adults ', ' Compact Double Room ', ' Junior Suite with Sea View ', ' Junior Suite Basement ', ' Standard Room with Spa Access ', ' Penthouse Suite ', ' Suite with View ', ' Eiffel Tower Suite ', ' View Queen ', ' One Bedroom River View Suite ', ' Large Penthouse Suite with Terrace and City View ', ' Superior Double Room with Terrace and Private Pool ', ' Twin Hilton Plaza Room ', ' Deluxe Triple Room ', ' Deluxe Family Room with SPA Access ', ' Amsterdam Street Art Queen Guest Room ', ' Double Room with Extra Bed 2 Adults 1 Child with Ramblas View ', ' Falconers One Bedroom Suite ', ' Comfort Double or Twin Room with Balcony ', ' Standard Double Room Ground Floor ', ' Deluxe room with 1 queen bed ', ' Classic King Twin Room ', ' Single Hilton Guest Room ', ' Double Room Intemporelle ', ' Double Room Atelier d Artiste with Spa Bath ', ' Art Room with Iconic View ', ' Superior Twin Room with Extra Bed 2 adults 1 child ', ' Executive Business Room with Double Bed ', ' Prestige Twin Room ', ' Deluxe Double Room with Club Lounge Access ', ' Standard Twin Room with Sofa ', ' Luxury Suite ', ' Club SuperKing Room ', ' Romantic Offer Double Room ', ' Deluxe Double Room 1 2 adults ', ' Mansart Executive Room ', ' Double Room with Free Airport Shuttle Service from 5 00am to 00 30am ', ' Single Room with Bathroom ', ' Superior Deluxe King or Double Room ', ' Superior Double Room 3 Adults ', ' Hilton Superior King Room ', ' Family Executive Room 2 Adults 2 Children ', ' Two Adjacent Classic Rooms ', ' Suite ', ' Large One Bedroom Apartment ', ' Two Connected Double Rooms ', ' Business Double Room 1 Adult ', ' Intuition Room ', ' Superior Room with Sofa Bed ', ' Premium View Double Room ', ' Double Room Courtyard ', ' Two Connecting Double or Twin Rooms ', ' Executive Suite ', ' Executive Room ', ' Superior Double Room Single use ', ' Large Suite ', ' Duplex Deluxe Triple Room 2 Adults 1 Child ', ' Superior Double Room with Sofa Bed and Pool View ', ' Mezzanine Room ', ' Suite 1 2 Adults with Spa Access ', ' Deluxe Double or Twin Room 1 2 Adults ', ' Studio Attrape R ve ', ' Suite with Panoramic View ', ' Double or Twin Room 1 or 2 adults ', ' Privilege Room with a double bed ', ' Cool Corner Suite ', ' King Plaza Executive Room ', ' Deluxe Double or Twin Room with Mountain View ', ' Standard Guestroom ', ' Suite with Club Lounge Access ', ' Stayed 29 nights ', ' Double Accessible Guest Room ', ' Classic Double or Twin Room with City View ', ' Standard room with 1 queen bed and sofa 3 Adults ', ' Family Room 5 Adults ', ' Park Deluxe View Twin ', ' Executive Double Room with Spa Access ', ' Suite Juliana ', ' Superior Double Studio ', ' Superior Double Room Pigalle 17 ', ' Executive Double Twin City View ', ' Queen Room with Balcony ', ' Large Double or Twin Room ', ' Standard Double or Twin Room 3 Adults ', ' Regency King Suite with Lounge Access ', ' Junior Suite Tendre Ros e ', ' Deluxe Room Henry Monnier ', ' Small Double Room Canal View ', ' Family Room XL ', ' Art Deco Deluxe Room ', ' Superior Double or Twin Room Non Smoking ', ' Two Connecting Double Rooms 2 Adults 2 Children ', ' Superior One Bedroom Suite ', ' Small Studio ', ' Ambassador Junior Suite ', ' Superior Deluxe Room with Spa Bath ', ' Suite Canal View ', ' River View Balcony Suite ', ' Stayed 13 nights ', ' Executive Suite with Lounge Access ', ' Compact Double Room shared bathroom ', ' Queen Suite ', ' Superior Twin Room with Extra Bed ', ' Executive King Room with City View ', ' Family Premium Room 2 Adults 2 Children ', ' Deluxe Studio Suite ', ' King Room Disability Access Non Smoking ', ' Superior Family Room 2 Adults 2 Children ', ' Small Deluxe Room with Canal View ', ' Superior Double Room Breakfast included ', ' Triple Room Annex ', ' Prestige King Room Non Smoking ', ' Superior Queen Room with Single Sofa Bed ', ' Standard Single Room ', ' Superior Suite with Garden View ', ' Single Room with Garden View ', ' Executive Room with Two Double Beds ', ' Superior Double or Twin Room ', ' One Bedroom Suite 1 2 Adults ', ' Deluxe Studio Apartment 2 Adults ', ' Executive Queen Room with Sofa Bed 3 Adults ', ' Two Connecting Rooms ', ' City Twin Room ', ' Deluxe Twin Room with Spa Access ', ' Deluxe King Studio Suite ', ' Leisure trip ', ' Triple Room with Spa Access ', ' Economy Single Room ', ' Business Single Room ', ' Deluxe Double Room with Connecting Doors ', ' Superior Room with Queensize Bed and Single Sofa Bed ', ' Suite Tea Time Wine Tasting Included ', ' Triple Room with Mobile Phone 3 adults ', ' Executive Room with views of Paris Queen size bed and Double Sofa Bed 2 Adults 2 Children ', ' Junior Suite with Spa Access Free Wifi ', ' Premier King Room ', ' Classic Double Room 1 Adult ', ' Cool Corner Room ', ' Suite Parisienne ', ' Queensgate Double Room ', ' Executive Twin Room with River View ', ' Classic Double Room with Garden View ', ' Single Room with Private Bathroom ', ' Deluxe Apartment ', ' Deluxe Double Room with Spa Access ', ' Executive King Room with Executive Lounge Access ', ' Gallery Suite with Spa Access Free Wifi ', ' The Rooks Nest ', ' Double Room with Extra Bed 2 Adults 1 Child ', ' Executive Queen Room ', ' Superior King Room with Sofa Bed ', ' Suite with Sofa Bed ', ' Single Room Annex ', ' Fabulous Double or Twin Room ', ' Junior Suite 2 Adults 1 Child ', ' Executive Room with Garden View ', ' Apartment Attic ', ' Halkin Room ', ' Rooftop Suite ', ' Junior Suite with Eiffel Tower View ', ' Eiffel Tower Junior Suite ', ' Premier Suite ', ' Double or Twin Room In dite ', ' Superior Designer ', ' Executive Twin Room with Access to The Level Lounge ', ' One Bedroom Suite with Courtyard View ', ' 2 rooms ', ' Deluxe Boulevard Twin Room ', ' The Level Grand Premium Double or Twin Room with City View ', ' Deluxe Twin Room with City View ', ' Double Room with City View ', ' City Room ', ' Junior Deluxe Double Room ', ' Executive Queen Room With Sofa Bed ', ' Executive Room with River View ', ' Westminster Suite with King Bed ', ' Junior Suite with Bath ', ' Prestige Suite with Private Terrace ', ' Twin Junior Suite ', ' Basic Double or Twin Room with Parking ', ' Executive Suite 2 Adults ', ' Presidential Suite ', ' Deluxe Park View ', ' Collection Suite ', ' King Hilton Plaza Room ', ' Nadler Deluxe Double Room ', ' Two Connecting Rooms with Free Access to Hamman ', ' Superior Triple Room ', ' La Rouge Suite ', ' Double Room with Parking ', ' Junior Triple Room ', ' Deluxe Room with spa access ', ' Superior Room with Double Bed ', ' Boudoir Double Room ', ' King Room with City View ', ' Executive room with Executive lounge access Free Wifi ', ' Twin Deluxe Room ', ' Wonderful Exchange King ', ' One Room Suite with Kitchenette ', ' Saint Honor Double Suite ', ' Champs Elys es Prestige Junior Suite ', ' Executive Double Room with Two Double Beds with Lounge Access ', ' Standard Apartment ', ' Family Junior Suite ', ' Superior Pantheon Room ', ' Hilton Queen Family Room ', ' Stayed 8 nights ', ' King Room with Sofa Bed and Balcony ', ' King Studio ', ' Wonderful Sky Room ', ' Family Room Two Connecting Rooms VIP Welcome for Kids ', ' Small Double Room with Terrace ', ' Executive Room Swimming Pool Hammam Access upon reservation ', ' Superior Double or Twin Room with Sauna Access ', ' Duplex Suite with Sofa Bed ', ' Classic Room with Courtyard View ', ' Classic Room with Queen Bed ', ' Premium Superior Queen Room ', ' Stayed 23 nights ', ' Superior Double Room with Queen size bed ', ' Queen Room with Mobility Access ', ' Classique Double Room ', ' Twin Room with Private Bathroom ', ' Double Room Moulin Rouge with Shower ', ' Junior Suite with Spa Access ', ' Luxury Suite antique theme ', ' Deluxe Triple Room with Paris View ', ' Duplex Twin Room ', ' Superior Room with canal view ', ' Penthouse Suite with View ', ' Marina Double Suite ', ' Classic Studio ', ' Wonderful Double Room ', ' Standard Twin Room Non Smoking ', ' Deluxe Queen Room with River View ', ' Executive Suite with Free Airport Shuttle Service from 5 00am to 00 30am ', ' Junior Suite with City View ', ' Double Room 1 Adult ', ' Executive King Room with Sofa Bed Non Smoking ', ' Club King Room Non Smoking with Executive Lounge Access ', ' Gallery Suite ', ' Classic Double Room with Street View ', ' Superior Room with 2 zip beds ', ' Junior Suite Lavender ', ' Twin Room Disability Access ', ' Two Connecting Rooms 3 persons ', ' Urban Suite ', ' Stayed 18 nights ', ' Deluxe One Bedroom Apartment ', ' Top Deluxe Room ', ' Xscape King ', ' Studio Twin ', ' Executive Junior Suite ', ' Family with young children ', ' Superior Single Room ', ' Double or Twin Room with Sea View ', ' Single Room with Park View ', ' King Guest Room Wheelchair Accessible ', ' Garden Cottage ', ' Deluxe Queen Room with Balcony ', ' Deluxe Double and Single Room ', ' Superior Double Room with 1 Double Bed and 1 Sofa Bed 2 places ', ' Classic Double Room with Private Terrace ', ' Business Double Room with Balcony ', ' Family Room 2 connected Double Rooms ', ' Basic Double Room NR ', ' Double Room with Park View ', ' Executive Twin Room with Whirlpool ', ' Luxury Two Bedroom Apartment ', ' Deluxe Double Room 1 Adult ', ' Room with Dock View Upper Deck ', ' Couple ', ' Jimmie Martin Penthouse Suite ', ' Junior Family Suite 2 Adults ', ' Junior Suite with Extra Bed ', ' Executive Studio Apartment 2 Adults 1 child ', ' Room with Ramblas View ', ' King Executive Plus Room ', ' Queensgate Twin Room ', ' Dalston King ', ' Two Double Adjoining Rooms ', ' Luxury Room with Spa Access ', ' Double or Twin Room with Parking ', ' The Level Executive Service Room ', ' Studio Suite with Club Lounge Access ', ' Classic Double Room Les Pop ', ' Premier Twin Room with City View ', ' Classic Suite ', ' Privilege Room with 2 Double Beds ', ' Skylight Deluxe Executive Room ', ' Deluxe Double Room 3 Adult ', ' Large Single Room ', ' Accessible Twin Guest Room ', ' Deluxe Double ', ' Superior Room Queen Bed ', ' Family Room Two Connecting Rooms ', ' Executive Suite with River View ', ' Art Deco Deluxe Room View and Terrace ', ' Deluxe Double Room with Balcony and Free Pool Access ', ' Double or Twin Room Business Advantage ', ' Double or Twin Room with Extra Bed 3 Adults ', ' Exclusive Suite ', ' Queen Family Room ', ' Executive Room with 1 Queen Bed and 1 Sofa 3 Adults ', ' Junior Suite 2 Adults ', ' Luxury King Room with River View ', ' Congress Suite ', ' Prestige Double Room ', ' Family Suite with Balcony ', ' Superior Room 2 Single Beds ', ' Deluxe King Room with Club Lounge Access and Balcony ', ' Two Adjacent Double Rooms with free pool and hammam access ', ' Room Sous les Toits 18m with Montmartre View ', ' Junior Suite with View ', ' Deluxe Double Room with Canal View ', ' Double Room Relax ', ' King or Double Room with Panoramic View ', ' Double Queen Family Suite with Access to Executive Lounge ', ' Deluxe King Room with Stadium View ', ' Deluxe Double or Twin Room 3 Adults ', ' Luxury Room 1 Queensize Bed Twin bedded Room On Request ', ' Superior Room with One Double Bed ', ' Executive Club Double Room ', ' Amsterdam Street Art Double Guest Room ', ' Grand Premier King Room ', ' Duplex Double Room ', ' Superior Double Room with Spa Access Free Wifi ', ' Executive Double Room Top Floor ', ' Junior Suite Jungle Fever with Hot Tub ', ' Deluxe Room ', ' King Suite ', ' Superior Suite 4 Adults ', ' Deluxe Designer ', ' Duplex Suite with State Opera View Top Floor ', ' Executive Double or Twin Room With Terrace ', ' Park Deluxe King or Twin ', ' Superior Room ', ' King Deluxe One Bedroom Suite with Lounge Access ', ' Double or Twin Room 1 Adult ', ' Comfort Double Room ', ' Special Offer Sleep ParK Fly ', ' Grand Superior King or Twin Room ', ' Family Room 2 Adults 1 Children ', ' Loft Suite ', ' Executive Double Room with Eiffel Tower View ', ' Double Room with Mobile Phone ', ' Single Room Tea Time Wine Tasting Included ', ' Superior Room with Spa Fitness Access ', ' Economy Double Room basement no window ', ' Executive Room with Queen Bed Renovated ', ' penta PlayerPad Suite ', ' King Grand Deluxe Room ', ' Two Connecting Double Rooms 4 Adults ', ' 2 Twin Beds Guest Room ', ' Deluxe Family Room with 1 Double and 2 Single Beds 4 Adults ', ' Special Offer Classic Room ', ' Two Bedroom Family Joining Suite with Mobile Phone 2 adults 3 children ', ' Superior Room with Balcony with Spa Access ', ' Superior Queen Room with Extra Bed 2 Adults ', ' Deluxe Double Room with Private Patio ', ' Business Double Room with 500 Frequent Flyer Miles ', ' Standard Queen Room with Two Queen Beds ', ' Garden Room ', ' Deluxe King with Balcony ', ' Classic Designer ', ' Mayfair Suite with Lounge Access ', ' Queen Room ', ' Double Room with River View ', ' Junior Double ', ' Special Offer Comfort Double Room with Breakfast and Parking Included ', ' Budget Single Room Non Smoking ', ' Apartment ', ' Grand Premier Family Room ', ' Adjacent Double Rooms ', ' Apartment 3 Adults ', ' Petite Double Room ', ' Luxury Quadruple Room ', ' Champagne Shopping package Double Room ', ' Standard Room with Mobile Phone ', ' Stayed 27 nights ', ' Deluxe Twin or Double Room ', ' Stanhope Suite ', ' Superior Queen Room 2 adults ', ' Stayed 17 nights ', ' Family Room 3 Adults ', ' Deluxe Double or Twin Room with Landmark View ', ' Junior Suite with Lounge Access and City View ', ' King Guest Room with Sofa Bed ', ' Superior Double or Twin Room with Free Wifi ', ' Deluxe Double Room with Hammam ', ' Queensgate Triple Room ', ' Studio King Family ', ' Small Double Room ', ' Superior Deluxe Double or Twin Room ', ' Superior Double or Twin Room 1 2 Adults ', ' Stayed 2 nights ', ' Andaz Double Room ', ' Tradition Double Room ', ' Luxury Triple Room with Garden View ', ' Superior Twin Room with Free Pool Access ', ' Studio King 3 adults ', ' Junior Suite with Kingsize Bed 3 persons ', ' Cosmopolitan Suite ', ' Suite 4 Adults ', ' Business Single Room with Balcony ', ' Double Room GWR Tower ', ' Privilege Junior Suite with Terrace and Spa Access ', ' Family Room with View 2 Adults 2 Children ', ' Small Double Room Annex building ', ' Apartment 4 Adults ', ' Chic Twin or Double Room ', ' Plaza Club Room ', ' Double Room with Balcony ', ' Two Adjacent Rooms 5 Adults ', ' Special Offer Double Room ', ' Suite Grand Lit ', ' Classic Room Breakfast Included ', ' Junior Suite Give me the night ', ' Double Hilton Guestroom ', ' Quality Single Room ', ' King Grand Premier Room ', ' Deluxe Guest Room ', ' Prestige Suite 2 Adults with canal view ', ' Economy Quadruple Room ', ' Double Room with Street View ', ' Panorama Guest room 1 King or 2 Twin Single Bed s ', ' Deluxe King Room with City View ', ' One Bedroom Suite with Lounge Access ', ' Suite with Spa Access 1 Adult ', ' Junior Suite Executive ', ' With a pet ', ' Classic Double or Twin Room with Spa Access ', ' Deluxe King Room with Balcony ', ' Comfort Double Room Courtyard Side ', ' King Room Second Floor ', ' One Bedroom Suite with Kitchenette ', ' Club Suite with Club Lounge Access ', ' Solo traveler ', ' Deluxe Quadruple Room ', ' Artist s Studio King Junior Suite with Spa access ', ' Premier Double Room ', ' Standard Room with 1 Double Bed ', ' Double Room with Extra Bed 3 Adults ', ' Apartment for 3 to 4 People with Kitchenette ', ' Quintuple Room 5 Adults ', ' Superior Twin Room with Private Pool ', ' Camper Room ', ' X Ordinary Room ', ' 1 King Bed Guest Room ', ' Single Cabin Room ', ' Two Adjacent Rooms ', ' Superior Quadruple Room With Balcony ', ' Cozy Room ', ' Delightful Queen Room ', ' Club King Room ', ' Superior Double Room Ground Floor ', ' Family Room Two connecting Rooms ', ' Deluxe Suite with City View ', ' Two Adjacent Double Rooms ', ' Suite with Executive Lounge Access ', ' Premium Double Twin Room ', ' Standard Double Room with Park View ', ' Standard Room With 2 Zip Beds ', ' Comfort Twin Room ', ' Family Room Free WiFi ', ' Stayed 4 nights ', ' Deluxe Double Room with Patio ', ' King Magistrate Suite ', ' One Bedroom King Suite with Sofa Bed ', ' Double Room Baronne ', ' Superior Room with 1 Double Bed and 1 Sofa Bed 1 place ', ' Double Hilton Deluxe Room ', ' Standard Double Room without Window ', ' Deluxe Double Room with Gallery View ', ' Fabulous Room ', ' Suite King ', ' Superior Double Room with Terrace and Jacuzzi ', ' Privilege Room with 1 Queen Size bed ', ' Nhow Double or Twin Room ', ' Privilege Double Room 2 Adults 1 child ', ' Hansen Suite ', ' Superior Room with Queensize Bed and Single Sofa Bed 2 Adults 1 Child ', ' Deluxe Family Room 4 Adults ', ' Privilege Room with 1 Kingsize Bed ', ' Twin Room Non Smoking ', ' penta Junior Suite ', ' Executive Studio City View ', ' Curve Suite with Lounge Access ', ' Executive Room with Terrace ', ' Deluxe King or Queen Room ', ' Superior Suite 3 Adults 1 Child ', ' Park Twin ', ' Double Queen Executive Waterfront with Access to Executive Lounge ', ' Double Deluxe Suite ', ' Privilege Room with Double Bed and Single Sofa Bed ', ' Attach Suite ', ' Tradition Twin Room ', ' Superior Junior Suite Single Use ', ' Penthouse Suite with Balcony ', ' Junior Suite with Mountain View ', ' Twin Room with Spa Bath ', ' Twin Executive Plus Room ', ' Park Suite View ', ' Double or Twin Room with Terrace ', ' Interior Facing Double Room With Natural Light ', ' Junior Suite Blue Sunshine ', ' Nelson Double Room ', ' Royal Mews View King Room ', ' Family Room Annex ', ' Premium Double Room ', ' Two Bedroom Suite with Terrace ', ' Premium King Room with View ', ' Family Apartment ', ' Two Bedroom Apartment ', ' Studio Suite with Lounge Access ', ' Exception Room ', ' Business Plus Single Room with Balcony ', ' Single Room with Spa Access ', ' Classic Double Room La Parisienne ', ' Grande Suite ', ' Superior Garden View Room ', ' Two Connecting Double and Twin rooms ', ' Two Connecting Double Rooms 5 adults ', ' Superior Suite Water Front ', ' Privilege Family Room ', ' Atrium ', ' Deluxe King Room 2 Adults ', ' Superior Double Room with London Eye View ', ' Deluxe King Guestroom with view ', ' Deluxe Plus Double Room ', ' Panoramic Room ', ' Paris Style Queen or Twin Room with Spa access ', ' King Room with Sofa Bed ', ' Superior Double or Twin Room with Landmark View ', ' King Executive Suite with Lounge Access ', ' Double Room large ', ' Royal Suite Split Level with Spa Bath Annex building ', ' Business Double Room with Courtyard View and Public Transport Ticket ', ' Cosy Family ', ' Two Adjacent Classic Double Rooms ', ' Superior Queen Single Room ', ' King City View Room ', ' One Bedroom Suite with Air Conditioning ', ' Privil ge Suite with 1 Double Bed and Sofa ', ' Executive Double Room with City View ', ' Executive Room with Queen Bed and a Sofa Non Smoking ', ' Executive Studio Suite ', ' Grand Superior Room ', ' Deluxe Double or Twin Room with Canal View Annex building ', ' Regency Suite ', ' Spare Room Double ', ' Luxury Suite Triple ', ' Grand Deluxe Double or Twin Room ', ' Superior King or Twin Room ', ' Standard Queen Room ', ' Deluxe Triple Room with Spa Access ', ' One Bedroom Apartment with City View ', ' Duplex Room ', ' Luxury Room Club Sofitel with Spa Access ', ' Double Room with Shower ', ' Superior Room with a shower or a bath ', ' King Superior Plus Room ', ' Deluxe King Room with River View ', ' King Executive Room with Lounge Access ', ' Room with River View Upper Deck ', ' Family Room 2 Adults 3 Children ', ' Family Apartment 2 Adults 2 Children ', ' Diamond Suite Spa ', ' Queen Junior Suite ', ' Deluxe Eiffel Tower Twin Room ', ' Accessible Queen Guest Room ', ' Superior King Room with Lounge Access ', ' One Bed Feature Room ', ' Hilton Deluxe Twin Room Plus ', ' Superior Double Room with Sea View ', ' Premium Quadruple Room ', ' Junior Suite with Access to Executive Lounge ', ' Single Studio ', ' Executive Double or Twin Room with No view ', ' King Hilton Waterfront ', ' Deluxe Triple Room Swimming Pool Hammam Access upon reservation ', ' Double Suite ', ' Art King Room ', ' Hilton Executive Suite with Lounge Access ', ' Junior Suite with Club Lounge Access ', ' Trash City Suite ', ' Family Room with Spa access ', ' Mus e d Orsay Double Room ', ' Supreme Double Room ', ' Superior Queen Room Non Smoking ', ' Park Suite ', ' Deluxe Triple Room with Canal View ', ' Deluxe Family Room with Two Double Beds with Paris View ', ' Guest Room with Balcony ', ' Prestige Double Room With View ', ' Superior Twin Room with Eiffel Tower View ', ' Wonderful Double or Twin Room ', ' Mandarin Junior Suite ', ' Superior Room with Queensize Bed and single sofa bed 3 adults ', ' Junior Suite Double or Twin ', ' Club Twin Room with Lounge Access ', ' Twin Room with Extra Bed 3 Adults ', ' Twin Room with Mobile Phone ', ' Deluxe Premium King Room ', ' Deluxe Imperial Room ', ' Park Queen ', ' City King Room ', ' Deluxe Single Room with Shared Bathroom ', ' Superior Room with 1 Double Bed and Sofa ', ' Comfort Suite ', ' Double or Twin Room 2 Adults ', ' Hilton Superior Double Room ', ' Luxury 1 Bed Suite ', ' Standard ', ' Large King Room ', ' Junior Suite Immersive Art Experience ', ' Triple Executive Room ', ' Couture Suite ', ' Superior Room with Queen size bed and Sofa Bed ', ' Junior King Suite ', ' Residence Suite ', ' Double or Twin Room with Balcony or Terrace ', ' King Size Double Room ', ' Executive Double Room with Square View ', ' Bunk Bed Room ', ' Double or Twin Junior Suite ', ' Design Suite ', ' Fabulous Bank Canal ', ' 2 Connecting Rooms 4 Adults ', ' Junior Suite with Bath and Shower ', ' Standard Double Twin Room ', ' Double Room 2 Adults 1 Child ', ' Club Double Room ', ' River View Deluxe ', ' Chambers Junior Suite with Club Lounge Access ', ' Superior King Suite 3 adults ', ' Double Room Disability Access Non Smoking ', ' Superior Double Room La S duisante ', ' Queen Guest Room with River View ', ' Suite with Balcony ', ' Connecting Double Rooms ', ' Bunk Bed in Twin Room Pigalle 12 ', ' Classic Double or Twin Room with extra bed ', ' Deluxe Double or Twin Room with Spa Access ', ' Suite with River View ', ' Standard Studio ', ' Spring Package Deluxe Double or Twin Room ', ' Suite Duplex ', ' Club Junior Suite ', ' Design One Bedroom Suite ', ' Deluxe King Suite ', ' King Superior Room ', ' Superior King with Balcony ', ' Superior Double Room with City View ', ' Double for Single Use ', ' Junior Suite Attic ', ' Triple Studio ', ' Club King Room with Lounge Access ', ' Triple Room Luxury XXL King Size Bed ', ' Superior Double Room with Balcony and City View ', ' Montcalm Club Twin Room ', ' Penthouse ', ' Superior King Room Eiffel Tower View ', ' Double Room with Single Bed ', ' Superior Room queen size bed and double sofa bed ', ' Suite with Spa Bath ', ' Deluxe Contemporary Room ', ' Superior Room with 2 Double Beds ', ' Double or Twin Room Single Use ', ' Knightsbridge Suite ', ' Twin Room with Executive Lounge access ', ' Deluxe Junior Suite with Spa Bath ', ' Superior Twin Room with Internal View ', ' Superior Room for 1 2 people with Kitchenette ', ' Stayed 11 nights ', ' Double Room 3 Adults ', ' Twin Room with Free Airport Shuttle Service from 5 00am to 00 30am ', ' Comfort Plus Twin Room ', ' Penthouse Junior Suite with Access to Executive Lounge ', ' Studio Double Family ', ' King Junior Suite City View with Access to Executive Lounge ', ' Triple Room Disability Access ', ' Superior Suite with City View ', ' Mandarin Double or Twin Room ', ' Superior Double Room with Balcony ', ' Junior King Suite with Lounge Access ', ' Ma tre Superior Double or Twin Room with Street View ', ' Suite Breakfast and Bottle of Champagne Included ', ' Three Bedroom Suite ', ' King Junior Suite with View ', ' Standard Triple Room 3 Adults ', ' Superior King Room with Pool View ', ' Superior Queen Suite with Sofa Bed 2 Adults ', ' Junior Suite ', ' Junior Suite with Queen Size Bed ', ' Double Room with St Stephen s Cathedral View ', ' Luxury Suite Patio ', ' Superior room Design Style Free Wifi ', ' Suite with Rambla View ', ' Superior Premium Queen Room with Sofa Bed ', ' Superior Double or Twin Room with Garden View ', ' Double Room with Sauna Access ', ' Interconnecting Rooms ', ' Standard Room with 1 Double Bed and 1 Sofa Bed ', ' Superior Room Swimming Pool Hammam Access upon reservation ', ' Deluxe King or Twin Room ', ' Standard Queen Room with Sofa Bed ', ' Suite 1 3 Adults ', ' Double or Twin Room with Extra Bed 3 Adults with Free Airport Shuttle Service from 5 00am to 00 30am ', ' Signature Room ', ' Standard Double Room with Two Double Beds ', ' Classic Room with One Queen Bed ', ' Executive Double or Twin Room with view of Big Ben and Lounge Access ', ' Twin Executive Room ', ' Junior Suite Royal ', ' Premium Double Room with Views ', ' Studio 2 Adults ', ' Executive Queen Room with Lounge Access ', ' Royal Suite ', ' Superior Double Twin Room ', ' Superior Room with 1 Queen Bed 1 Sofa Bed ', ' Deluxe Accessible Twin Room with View ', ' Club Suite with Executive Lounge Access ', ' Suite with City View and Parking ', ' Green Park Suite ', ' Small Single Room with Balcony ', ' Privilege Double or Twin Room with Spa Access ', ' Standard Double Room ', ' Superior Double or Twin Room with Balcony ', ' Mega Room ', ' Executive King Room ', ' Superior Double or Twin Room with City View ', ' Executive Room with queen size bed and single sofa bed 2 Adults 1 child ', ' Junior King Suite with View 3 Adults ', ' Executive Double ', ' Junior Suite with Lounge Access ', ' Double Room Rouge Epic e ', ' Family Superior Room ', ' Executive King Room Non Smoking ', ' Quintuple Room ', ' Deluxe Double with Terrace ', ' River Double Suite ', ' Deluxe Double Room Canal View ', ' Twin or Double Room with Terrace ', ' Superior Studio Apartment ', ' Superior Two Bedroom Apartment ', ' Autentic Double Room ', ' Deluxe Queen Room with Pool View ', ' Duplex Junior Suite with Spa access ', ' Double Room with Canal View ', ' Superior Plus Twin Room ', ' Duplex King Suite 3 Adults ', ' Superior Suite 2 Adults ', ' Double Room Tour Eiffel with Shower ', ' Suite with Spa Access 2 Adults ', ' Business Apartment 1 Adult ', ' Deluxe Double Room with Courtyard View ', ' Standard Double or Twin Room with Balcony 1 Adult ', ' Superior Oversized Queen Room ', ' Superior Room with 1 Double Bed and 1 Sofa Bed 3 Adults ', ' Two Bedroom Superior Suite ', ' Junior Double Room ', ' Executive Room with Two Double Beds and Executive Lounge Access ', ' Suite with Spa Access ', ' Standard Room with 2 Double Beds ', ' Deluxe Twin ', ' Double Room Radieuse ', ' Superior Room with Queen Bed Sofa ', ' Comfort Quadruple Room ', ' Travelers with friends ', ' One Bedroom Apartment ', ' Deluxe Double or Twin Room with VIP Services ', ' Superior King Room with Iconic View ', ' King Suite Non Smoking ', ' King Grand Premier with Canal View ', ' Executive Double or Twin Room Canal View ', ' Double Room with Sofa Bed Non Smoking ', ' Penthouse Suite Family ', ' Two Connecting Superior Double Rooms ', ' Fantastic Suite ', ' Deluxe Room with City View ', ' Superior Room Non Smoking ', ' Superior Double Room with free pool and hammam access ', ' Family Duplex Room ', ' Superior Double Room with Terrace and View ', ' Deluxe Room with 1 Double Bed ', ' Superior King Room ', ' Twin Room with City View 1 2 Adults ', ' Double Room Cosy ', ' Deluxe Triple Room with Tea Time Included ', ' Special Offer Classic Double Room ', ' Superior Room with View of Big Ben ', ' Delegate Deluxe Double Room ', ' Room with Park View ', ' Double Family Guestroom ', ' Twin Bed Suite ', ' Large Deluxe Room ', ' Accessible Double Guest Room ', ' Classic Quadruple Room ', ' Deluxe Room with Club Lounge access ', ' Queen Superior Room ', ' Superior Premium Queen Room ', ' Business trip ', ' Business Double or Twin Room ', ' Deluxe Double Room with Four Poster Bed ', ' Junior Deluxe Twin Room ', ' Double Room Insolite ', ' Superior Deluxe Double Room Pigalle 22 ', ' King Room with View ', ' King Executive Waterfront with Access to Executive Lounge ', ' Standard Double Room with Panoramic View ', ' Special Offer Princess Relax ', ' Superior Apartment 4 Adults ', ' Executive Double Room With Free Access to Steam Bath ', ' Double Room with City View 1 Adult ', ' Superior Room with 2 Single Beds ', ' Comfort Plus Double Room ', ' Two Connecting Basic Rooms ', ' La Mathurin Suite ', ' Queen Guest Room ', ' Twin Guestroom ', ' Universitat Single Room ', ' Superior Queen Room with Double Sofa ', ' Executive Apartment ', ' Executive Triple Room 2 Adults 1 Child ', ' Deluxe Guest room 1 King or 2 Twin Single Bed s ', ' Deluxe Double Room with Two Double Beds ', ' Attic Suite 1 or 2 people ', ' Townhouse Deluxe ', ' King Junior Suite with Executive Lounge Access ', ' Superior Queen Suite with Sofa ', ' Superior Double or Twin Room with Free Airport Shuttle Service from 5 00am to 00 30am ', ' Superior Junior Suite ', ' King Room with Pool View ', ' Superior Twin Room with Terrace ', ' Kings Junior Suite ', ' Double Room Large Heritage ', ' Double Room Trocad ro with Spa Bath ', ' Single Room Joy ', ' Double Room with Extra Bed ', ' Executive Double Room with Air Conditioning ', ' Superior Premium Room with Queen Bed Sofa ', ' Family Room Two connecting Rooms 3 Adults ', ' Superior Twin Room with Paris View ', ' King Deluxe Guest Room ', ' Triple Room with Terrace ', ' Basic Double ', ' Cosy Twin Room ', ' Deluxe King ', ' La Reflet Junior Suite ', ' Classic Master Suite ', ' Design Double or Twin Room ', ' Premium King or Queen Room ', ' Small Single Room ', ' Club Double or Twin Room with Executive Lounge Access ', ' Junior Suite with Extra Bed 3 Adults ', ' Superior Double Room with Internal View ', ' Accessible Studio Suite ', ' Standard Double or Twin Room Tea Time Wine Tasting Included ', ' Junior Suite Double ', ' Double or Twin Ground Floor ', ' Signature Double Room ', ' Double Room with Public Transport Ticket ', ' Deluxe Room with 1 King bed ', ' Room with View ', ' Double Room Capricieuse ', ' Superior Double Room with Sofa ', ' Superior Double Room Les Artys Les Fifties ', ' Double or Twin Room Allergy Free ', ' Executive Double Room Eiffel Tower View with 1 Queensize and Sofa Bed ', ' Elegance Double or Twin Room ', ' Executive Queen Room Mobility Access with Lounge Access ', ' Hyatt Twin Room with View ', ' Hyatt King Room ', ' King Room with Sea View ', ' Magistrate King ', ' Royal Penthouse with Canal View ', ' One Bedroom King Suite 2 Adults ', ' Superior Twin Room with Two Double Beds ', ' Two Bedroom Suite with Two Bathrooms ', ' One Bedroom Suite with Park View ', ' Double or Twin Room ', ' Family room Free Wi Fi ', ' Twin Room with City View ', ' Privilege Room with King bed ', ' Junior Suite 3 Adults with Spa Access ', ' Two Connecting Double Rooms with Pool Access ', ' Embassy Suite ', ' Standard Room with Queen Bed and Sofa ', ' Deluxe Double Room ', ' Superior Deluxe Room ', ' King Premier Room ', ' Hilton Superior Twin Room ', ' Standard Double Room with View Terrace ', ' Souterrain Triple Room ', ' One Bedroom Park Suite ', ' Spectacular Double Room ', ' Studio Apartment ', ' Double Room with Terrace ', ' Executive Double Room Single Use ', ' Premier Single Room ', ' Comfort Double or Twin Room for Single Use ', ' Standard Family Suite with Two Connecting Rooms 4 Adults ', ' Ruyschen Suite ', ' Studio Suite Bank ', ' Large Comfort Twin Room Disability Access ', ' Executive Premium Queen Room with Sofa Bed ', ' Twin Hilton Guestroom ', ' Junior Suite Cathedral View with Access to Executive Lounge ', ' Junior Suite with Canal View ', ' Standard Double Room with Bridge View ', ' Guest Queen Room with Two Queen Beds ', ' Double Studio ', ' Art Twin Room ', ' Double Twin Superior Room ', ' Standard Room with Queen Bed ', ' Double Family Guest Room ', ' Balcony Suite with Executive Lounge Access ', ' Privilege Room with Extra Bed 3 Adults ', ' Budget Double Room Second Floor ', ' Junior Suite with 1 King Size Bed ', ' Bridal Suite with view ', ' Double Room Single Use ', ' 2 Adjacent Non Communicating Rooms ', ' Comfort Double or Twin Room 1 2 Adults ', ' Queen Room with Sofa Bed Non Smoking ', ' Comfort Double or Twin Room with Rambla View ', ' Double or Twin Room Ladies Special ', ' Family Room with King Bed and Sofa Bed ', ' Apartment 6 Adults ', ' Royal Suite with Canal View ', ' Hyatt Twin Room ', ' Stayed 26 nights ', ' Stayed 19 nights ', ' Kube Double or Twin Room ', ' Twin Executive Room with Lounge Access ', ' Junior Family Suite 3 Adults ', ' Executive Suite with Spa Bath ', ' Large Garden View King ', ' Suite with Duomo View ', ' Double Room Op ra Garnier with Spa Bath ', ' Double or Twin Room 2 Adult 1 Children ', ' Premium Room 3 adults ', ' Junior Suite with Cathedral View ', ' Luxury Duplex Room ', ' Superior Business Room with a Double Bed and Sofa Bed ', ' Deluxe Double Room with City View and Spa Access ', ' Luxury Double Room Small ', ' Deluxe Quadruple Room with Paris View ', ' Standard Double ', ' Triple Room with Spa Bath ', ' Grand Deluxe Room ', ' Double Room Annex ', ' Two Bedroom Family ', ' Executive King Suite with Lounge Access ', ' Wonderful Bank with Canal View ', ' Twin Grand Premier Room ', ' Deluxe Room with Courtyard View ', ' Executive Double Room with Spa Bath ', ' Premier Room with Balcony ', ' Superior Room with Balcony or Terrace ', ' Large Triple Room ', ' Superior Twin Room ', ' Club Room with Club Lounge Access ', ' Traditional Double Room ', ' King Room with Eiffel Tower View ', ' Superior Double Room with View ', ' Premium Double Room with Balcony ', ' Premier Double Room with Panoramic View and Executive Lounge Access ', ' Two Adjacent Double Room ', ' Imperial Club Double Room with access to the Club Lounge ', ' Suite VIP welcome ', ' Deluxe Twin Studio ', ' Executive Studio with London Eye View ', ' Junior Suite Premium with Spa Access ', ' Deluxe Double or Twin Room with Pool Access ', ' Executive Double Room with Executive Lounge Access ', ' Club Deluxe Room ', ' Standard Twin Room with Arc de Triomphe View ', ' Apartment 1 2 Adults ', ' Deluxe Double Room with Free Access to Hamman ', ' Executive Queen Suite ', ' Executive Double Room Eiffel Studio D Artiste with view of Paris ', ' Special Offer Deluxe Room ', ' Single Room with Shared Bathroom ', ' Deluxe Junior Suite ', ' Classic King View ', ' Superior Double or Twin Room with Terrace ', ' Superior Double or Twin Room with View ', ' Classic Triple Room 3 Adults ', ' Twin Hilton Executive Room with Access to Executive Lounge ', ' Double Room Disability Access Tub ', ' Standard Quad Room ', ' Two Interconnecting Rooms ', ' Privilege Double Room with Terrace ', ' Suite 2 Adults 1 Child ', ' One Bedroom Suite with Executive Lounge Access ', ' Double Room with Sofa Bed ', ' Standard Compact Double Room ', ' Privilege Double Room with free pool and hammam access ', ' Luxury Double or Twin Room ', ' Luxury Double Room with Balcony ', ' Comfort Double or Twin Room Non Smoking ', ' Cosy Room ', ' Marvelous Suite Exchange ', ' Superior Twin Room with Cathedral View ', ' Luxury Double Room ', ' Superior Room with 1 Double Bed and 1 Sofa Bed 2 places ', ' Junior Suite with Free Bottle of Champagne ', ' Superior Double or Twin Room with Balcony 1 Adult ', ' Junior Suite with Executive Lounge Access ', ' Royal Room with Ramblas view ', ' Superior King Room with River View ', ' Privilege Room with Double Bed and Single Sofa Bed 3 Adults ', ' King One Bedroom Suite with Lounge Access ', ' One Bedroom Suite ', ' Luxury Single Room ', ' One Bedroom Suite with Sofa Bed ', ' Special Offer Queen Room ', ' Couture Junior Suite ', ' Comfort Triple Room with Spa Bath ', ' Superior Suite Junior ', ' Premier Deluxe Twin Room ', ' Stayed 16 nights ', ' Double Room with Courtyard View ', ' Junior Suite with Executive Lounge Access and Free Wifi ', ' Deluxe Double Room 1 2 Adults ', ' Luxury Double Room with Balcony and River View ', ' Large Twin Room ', ' Accessible Twin Room ', ' Club Suite ', ' Superior Room with Spa Access Free Wifi ', ' Standard Quadruple Room ', ' Special Offer Superior Queen Room ', ' Grand Executive Club Room ', ' Stayed 30 nights ', ' Prestige One Bedroom Suite with River View ', ' Triple Room ', ' Special Offer Double Twin Room Stay and Park ', ' One Bedroom King Suite with Garden View ', ' Special Offer Comfort Double Room with Parking ', ' Single Room ', ' Deluxe Double Room Swimming Pool Hammam Access upon reservation ', ' Junior Suite Canal View ', ' Queen Deluxe Room ', ' Family Room ', ' Junior Suite with River View ', ' Cosy Double Room ', ' Superior Suite with 1 Double Bed and 1 Single Bed ', ' Deluxe Double Room Non Smoking ', ' Deluxe Twin Room with Terrace and Eiffel Tower View ', ' Standard Double Room Pigalle 15 ', ' Chelsea Twin Suite ', ' Standard Double Room with Sofa ', ' Deluxe Double Room without Window '}\n"
     ]
    }
   ],
   "source": [
    "# Множество тегов\n",
    "unique_tags = {\n",
    "    # Разделение строки по пробелу, удаление кавычек\n",
    "    t.strip().strip(\"'\") \n",
    "    for tag_str in data['tags']\n",
    "    # Удаление скобок, разделение по запятой\n",
    "    for t in tag_str.strip(\"[]\").split(\",\")\n",
    "}\n",
    "print(unique_tags)"
   ]
  },
  {
   "cell_type": "code",
   "execution_count": 28,
   "id": "8aba6c16",
   "metadata": {},
   "outputs": [
    {
     "name": "stdout",
     "output_type": "stream",
     "text": [
      "Самый популярный тег: ' Leisure trip ' (встречается 313593 раз(а))\n"
     ]
    }
   ],
   "source": [
    "from collections import Counter\n",
    "# Создаем словарь для подсчета тегов\n",
    "tag_counts = Counter()\n",
    "for tag_str in data['tags']:\n",
    "    # Преобразуем строку в список\n",
    "    tags = [t.strip().strip(\"'\") for t in tag_str.strip(\"[]\").split(\",\")]\n",
    "    # Обновляем счетчик\n",
    "    tag_counts.update(tags)\n",
    "\n",
    "# Находим самый частый тег\n",
    "most_common_tag, count = tag_counts.most_common(1)[0]\n",
    "\n",
    "print(f\"Самый популярный тег: '{most_common_tag}' (встречается {count} раз(а))\")"
   ]
  },
  {
   "cell_type": "markdown",
   "id": "31b85a80",
   "metadata": {},
   "source": [
    "Также можно получить признаки:\n",
    "- тип поездки\n",
    "- тип гостей\n",
    "- категория номера\n",
    "- длительность пребывания"
   ]
  },
  {
   "cell_type": "code",
   "execution_count": 29,
   "id": "36ac69f8",
   "metadata": {},
   "outputs": [],
   "source": [
    "# Функция для извлечения типа поездки\n",
    "def extract_trip_type(tags_str):\n",
    "    tags = [t.strip().strip(\"'\") for t in tags_str.strip(\"[]\").split(\",\")]\n",
    "    trip_types = ['Leisure trip', 'Business trip', 'Romantic trip']\n",
    "    for tag in tags:\n",
    "        if tag in trip_types:\n",
    "            return tag\n",
    "    return None  # если тип поездки не найден\n",
    "\n",
    "# Применяем функцию к столбцу с тегами\n",
    "data['trip_type'] = data['tags'].apply(extract_trip_type)"
   ]
  },
  {
   "cell_type": "code",
   "execution_count": 30,
   "id": "1f725b25",
   "metadata": {},
   "outputs": [],
   "source": [
    "# Функция для извлечения типа гостей\n",
    "def extract_guests_type(tags_str):\n",
    "    tags = [t.strip().strip(\"'\") for t in tags_str.strip(\"[]\").split(\",\")]\n",
    "    trip_types = ['Solo traveler', 'Couple', 'Family', 'Group']\n",
    "    for tag in tags:\n",
    "        if tag in trip_types:\n",
    "            return tag\n",
    "    return None  # если тип гостей не найден\n",
    "\n",
    "# Применяем функцию к столбцу с тегами\n",
    "data['guests_type'] = data['tags'].apply(extract_guests_type)"
   ]
  },
  {
   "cell_type": "code",
   "execution_count": 31,
   "id": "50084880",
   "metadata": {},
   "outputs": [],
   "source": [
    "# Функция для извлечения категории номера\n",
    "def extract_category_room(tags_str):\n",
    "    tags = [t.strip().strip(\"'\") for t in tags_str.strip(\"[]\").split(\",\")]\n",
    "    trip_types = ['Standard Double', 'Studio Suite', 'Deluxe Room']\n",
    "    for tag in tags:\n",
    "        if tag in trip_types:\n",
    "            return tag\n",
    "    return None  # если тип номера не найден\n",
    "\n",
    "# Применяем функцию к столбцу с тегами\n",
    "data['category_room'] = data['tags'].apply(extract_category_room)"
   ]
  },
  {
   "cell_type": "code",
   "execution_count": 32,
   "id": "62e31cbe",
   "metadata": {},
   "outputs": [],
   "source": [
    "# Функция для извлечения длительности пребывания\n",
    "def extract_timeofstay(tags_str):\n",
    "    tags = [t.strip().strip(\"'\") for t in tags_str.strip(\"[]\").split(\",\")]\n",
    "    trip_types = ['Stayed 1 night', 'Stayed 2 nights', 'Long stay']\n",
    "    for tag in tags:\n",
    "        if tag in trip_types:\n",
    "            return tag\n",
    "    return None  # если тип времяпребывания не найден\n",
    "\n",
    "# Применяем функцию к столбцу с тегами\n",
    "data['timeofstay'] = data['tags'].apply(extract_timeofstay)"
   ]
  },
  {
   "cell_type": "code",
   "execution_count": 33,
   "id": "aea35867",
   "metadata": {},
   "outputs": [],
   "source": [
    "# Удаление старого признака\n",
    "data = data.drop(['tags'], axis=1)"
   ]
  },
  {
   "cell_type": "markdown",
   "id": "86527551",
   "metadata": {},
   "source": [
    "### 1.8 Дни с даты ревью"
   ]
  },
  {
   "cell_type": "code",
   "execution_count": 34,
   "id": "5808fe4d",
   "metadata": {},
   "outputs": [
    {
     "data": {
      "text/plain": [
       "0    531 day\n",
       "1    203 day\n",
       "Name: days_since_review, dtype: object"
      ]
     },
     "execution_count": 34,
     "metadata": {},
     "output_type": "execute_result"
    }
   ],
   "source": [
    "data['days_since_review'].head(2)"
   ]
  },
  {
   "cell_type": "markdown",
   "id": "09f7f4e2",
   "metadata": {},
   "source": [
    "Можно разделить на группы, насколько давно был оставлен отзыв"
   ]
  },
  {
   "cell_type": "code",
   "execution_count": 35,
   "id": "6881480f",
   "metadata": {},
   "outputs": [
    {
     "data": {
      "text/plain": [
       "days_since_review\n",
       "day     329964\n",
       "days     56839\n",
       "Name: count, dtype: int64"
      ]
     },
     "execution_count": 35,
     "metadata": {},
     "output_type": "execute_result"
    }
   ],
   "source": [
    "data['days_since_review'].apply(lambda x: x.split()[1]).value_counts()"
   ]
  },
  {
   "cell_type": "markdown",
   "id": "5385c145",
   "metadata": {},
   "source": [
    "Содержит только дни, значит можно без перевода из годов в дни получить дни"
   ]
  },
  {
   "cell_type": "code",
   "execution_count": 36,
   "id": "330b4173",
   "metadata": {},
   "outputs": [],
   "source": [
    "data['days_since_review'] = data['days_since_review'].apply(lambda x: int(x.split()[0]))\n",
    "bins = [0, 30, 90, 365, float('inf')]  # Границы категорий (дни)\n",
    "labels = ['<1 month', '1-3 months', '3-12 months', '>1 year']\n",
    "data['review_recency'] = pd.cut(data['days_since_review'], bins=bins, labels=labels)"
   ]
  },
  {
   "cell_type": "code",
   "execution_count": 37,
   "id": "3382e032",
   "metadata": {},
   "outputs": [],
   "source": [
    "# Удаление старого признака\n",
    "data = data.drop(['days_since_review'], axis=1)"
   ]
  },
  {
   "cell_type": "markdown",
   "id": "8cd1bc79",
   "metadata": {},
   "source": [
    "## 2. Работа с пропусками в данных"
   ]
  },
  {
   "cell_type": "code",
   "execution_count": null,
   "id": "eb97b704",
   "metadata": {},
   "outputs": [
    {
     "name": "stdout",
     "output_type": "stream",
     "text": [
      "<class 'pandas.core.frame.DataFrame'>\n",
      "RangeIndex: 386803 entries, 0 to 386802\n",
      "Data columns (total 38 columns):\n",
      " #   Column                                      Non-Null Count   Dtype         \n",
      "---  ------                                      --------------   -----         \n",
      " 0   hotel_address                               386803 non-null  object        \n",
      " 1   additional_number_of_scoring                386803 non-null  int64         \n",
      " 2   review_date                                 386803 non-null  datetime64[ns]\n",
      " 3   average_score                               386803 non-null  float64       \n",
      " 4   hotel_name                                  386803 non-null  object        \n",
      " 5   reviewer_nationality                        386803 non-null  object        \n",
      " 6   negative_review                             386803 non-null  object        \n",
      " 7   review_total_negative_word_counts           386803 non-null  int64         \n",
      " 8   total_number_of_reviews                     386803 non-null  int64         \n",
      " 9   positive_review                             386803 non-null  object        \n",
      " 10  review_total_positive_word_counts           386803 non-null  int64         \n",
      " 11  total_number_of_reviews_reviewer_has_given  386803 non-null  int64         \n",
      " 12  reviewer_score                              386803 non-null  float64       \n",
      " 13  lat                                         384355 non-null  float64       \n",
      " 14  lng                                         384355 non-null  float64       \n",
      " 15  country                                     386803 non-null  object        \n",
      " 16  city                                        386803 non-null  object        \n",
      " 17  brand                                       57944 non-null   object        \n",
      " 18  class                                       386803 non-null  object        \n",
      " 19  has_spa                                     386803 non-null  int64         \n",
      " 20  word_count                                  386803 non-null  int64         \n",
      " 21  type                                        194072 non-null  object        \n",
      " 22  reviewer_country                            386803 non-null  object        \n",
      " 23  reviewer_region                             386803 non-null  object        \n",
      " 24  is_local                                    386803 non-null  int64         \n",
      " 25  issue_cleanliness                           386803 non-null  int64         \n",
      " 26  issue_service                               386803 non-null  int64         \n",
      " 27  issue_amenities                             386803 non-null  int64         \n",
      " 28  pos_staff                                   386803 non-null  int64         \n",
      " 29  pos_comfort                                 386803 non-null  int64         \n",
      " 30  pos_cleanliness                             386803 non-null  int64         \n",
      " 31  pos_location                                386803 non-null  int64         \n",
      " 32  pos_amenities                               386803 non-null  int64         \n",
      " 33  trip_type                                   0 non-null       object        \n",
      " 34  guests_type                                 0 non-null       object        \n",
      " 35  category_room                               0 non-null       object        \n",
      " 36  timeofstay                                  0 non-null       object        \n",
      " 37  review_recency                              386165 non-null  category      \n",
      "dtypes: category(1), datetime64[ns](1), float64(4), int64(16), object(16)\n",
      "memory usage: 109.6+ MB\n"
     ]
    }
   ],
   "source": [
    "# Вывод общей информации о столбцах\n",
    "data.info()"
   ]
  },
  {
   "cell_type": "code",
   "execution_count": 45,
   "id": "7681d6c2",
   "metadata": {},
   "outputs": [
    {
     "name": "stdout",
     "output_type": "stream",
     "text": [
      "Столбцы с пропущенными значениями:\n",
      "['lng', 'brand', 'type', 'trip_type', 'guests_type', 'category_room', 'timeofstay', 'review_recency']\n"
     ]
    }
   ],
   "source": [
    "# Получаем список столбцов с пропусками\n",
    "columns_with_nulls = data.columns[data.isnull().any()].tolist()\n",
    "# Выводим результат\n",
    "print(\"Столбцы с пропущенными значениями:\")\n",
    "print(columns_with_nulls)"
   ]
  },
  {
   "cell_type": "markdown",
   "id": "eb8cbee1",
   "metadata": {},
   "source": [
    "### 2.1 Географическая широта"
   ]
  },
  {
   "cell_type": "code",
   "execution_count": 40,
   "id": "99347e7e",
   "metadata": {},
   "outputs": [
    {
     "data": {
      "text/plain": [
       "0    51.507894\n",
       "1    51.521009\n",
       "Name: lat, dtype: float64"
      ]
     },
     "execution_count": 40,
     "metadata": {},
     "output_type": "execute_result"
    }
   ],
   "source": [
    "data['lat'].head(2)"
   ]
  },
  {
   "cell_type": "code",
   "execution_count": null,
   "id": "4f911e86",
   "metadata": {},
   "outputs": [],
   "source": [
    "# Заполнение медианой в пределах города\n",
    "data['lat'] = data.groupby('city')['lat'].transform(lambda x: x.fillna(x.median()))"
   ]
  },
  {
   "cell_type": "markdown",
   "id": "0beb28f6",
   "metadata": {},
   "source": [
    "Если модель будет плохо сходится - можно попробовать заполнять в пределах региона"
   ]
  },
  {
   "cell_type": "markdown",
   "id": "c2870ffe",
   "metadata": {},
   "source": [
    "### 2.2 Бренд"
   ]
  },
  {
   "cell_type": "markdown",
   "id": "e4293c79",
   "metadata": {},
   "source": [
    "Поскольку этот признак вводился на этапе обработки, огично заполнить то, что не категоризировалось, значением \"другие\""
   ]
  },
  {
   "cell_type": "code",
   "execution_count": 49,
   "id": "28dc74a0",
   "metadata": {},
   "outputs": [],
   "source": [
    "data['brand'] = data['brand'].fillna('Other')"
   ]
  },
  {
   "cell_type": "markdown",
   "id": "b2bab26f",
   "metadata": {},
   "source": [
    "## 3. Создание новых признаков"
   ]
  },
  {
   "cell_type": "markdown",
   "id": "7a94577b",
   "metadata": {},
   "source": [
    "## 4. Преборазование признаков"
   ]
  },
  {
   "cell_type": "markdown",
   "id": "6df75a65",
   "metadata": {},
   "source": [
    "## 5. Отбор признаков"
   ]
  }
 ],
 "metadata": {
  "kernelspec": {
   "display_name": "Python 3",
   "language": "python",
   "name": "python3"
  },
  "language_info": {
   "codemirror_mode": {
    "name": "ipython",
    "version": 3
   },
   "file_extension": ".py",
   "mimetype": "text/x-python",
   "name": "python",
   "nbconvert_exporter": "python",
   "pygments_lexer": "ipython3",
   "version": "3.12.4"
  }
 },
 "nbformat": 4,
 "nbformat_minor": 5
}
