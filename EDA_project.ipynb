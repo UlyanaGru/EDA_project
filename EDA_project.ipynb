{
 "cells": [
  {
   "cell_type": "code",
   "execution_count": 1,
   "id": "368af0ea",
   "metadata": {},
   "outputs": [
    {
     "data": {
      "text/html": [
       "<div>\n",
       "<style scoped>\n",
       "    .dataframe tbody tr th:only-of-type {\n",
       "        vertical-align: middle;\n",
       "    }\n",
       "\n",
       "    .dataframe tbody tr th {\n",
       "        vertical-align: top;\n",
       "    }\n",
       "\n",
       "    .dataframe thead th {\n",
       "        text-align: right;\n",
       "    }\n",
       "</style>\n",
       "<table border=\"1\" class=\"dataframe\">\n",
       "  <thead>\n",
       "    <tr style=\"text-align: right;\">\n",
       "      <th></th>\n",
       "      <th>hotel_address</th>\n",
       "      <th>additional_number_of_scoring</th>\n",
       "      <th>review_date</th>\n",
       "      <th>average_score</th>\n",
       "      <th>hotel_name</th>\n",
       "      <th>reviewer_nationality</th>\n",
       "      <th>negative_review</th>\n",
       "      <th>review_total_negative_word_counts</th>\n",
       "      <th>total_number_of_reviews</th>\n",
       "      <th>positive_review</th>\n",
       "      <th>review_total_positive_word_counts</th>\n",
       "      <th>total_number_of_reviews_reviewer_has_given</th>\n",
       "      <th>reviewer_score</th>\n",
       "      <th>tags</th>\n",
       "      <th>days_since_review</th>\n",
       "      <th>lat</th>\n",
       "      <th>lng</th>\n",
       "    </tr>\n",
       "  </thead>\n",
       "  <tbody>\n",
       "    <tr>\n",
       "      <th>0</th>\n",
       "      <td>Stratton Street Mayfair Westminster Borough Lo...</td>\n",
       "      <td>581</td>\n",
       "      <td>2/19/2016</td>\n",
       "      <td>8.4</td>\n",
       "      <td>The May Fair Hotel</td>\n",
       "      <td>United Kingdom</td>\n",
       "      <td>Leaving</td>\n",
       "      <td>3</td>\n",
       "      <td>1994</td>\n",
       "      <td>Staff were amazing</td>\n",
       "      <td>4</td>\n",
       "      <td>7</td>\n",
       "      <td>10.0</td>\n",
       "      <td>[' Leisure trip ', ' Couple ', ' Studio Suite ...</td>\n",
       "      <td>531 day</td>\n",
       "      <td>51.507894</td>\n",
       "      <td>-0.143671</td>\n",
       "    </tr>\n",
       "    <tr>\n",
       "      <th>1</th>\n",
       "      <td>130 134 Southampton Row Camden London WC1B 5AF...</td>\n",
       "      <td>299</td>\n",
       "      <td>1/12/2017</td>\n",
       "      <td>8.3</td>\n",
       "      <td>Mercure London Bloomsbury Hotel</td>\n",
       "      <td>United Kingdom</td>\n",
       "      <td>poor breakfast</td>\n",
       "      <td>3</td>\n",
       "      <td>1361</td>\n",
       "      <td>location</td>\n",
       "      <td>2</td>\n",
       "      <td>14</td>\n",
       "      <td>6.3</td>\n",
       "      <td>[' Business trip ', ' Couple ', ' Standard Dou...</td>\n",
       "      <td>203 day</td>\n",
       "      <td>51.521009</td>\n",
       "      <td>-0.123097</td>\n",
       "    </tr>\n",
       "    <tr>\n",
       "      <th>2</th>\n",
       "      <td>151 bis Rue de Rennes 6th arr 75006 Paris France</td>\n",
       "      <td>32</td>\n",
       "      <td>10/18/2016</td>\n",
       "      <td>8.9</td>\n",
       "      <td>Legend Saint Germain by Elegancia</td>\n",
       "      <td>China</td>\n",
       "      <td>No kettle in room</td>\n",
       "      <td>6</td>\n",
       "      <td>406</td>\n",
       "      <td>No Positive</td>\n",
       "      <td>0</td>\n",
       "      <td>14</td>\n",
       "      <td>7.5</td>\n",
       "      <td>[' Leisure trip ', ' Solo traveler ', ' Modern...</td>\n",
       "      <td>289 day</td>\n",
       "      <td>48.845377</td>\n",
       "      <td>2.325643</td>\n",
       "    </tr>\n",
       "    <tr>\n",
       "      <th>3</th>\n",
       "      <td>216 Avenue Jean Jaures 19th arr 75019 Paris Fr...</td>\n",
       "      <td>34</td>\n",
       "      <td>9/22/2015</td>\n",
       "      <td>7.5</td>\n",
       "      <td>Mercure Paris 19 Philharmonie La Villette</td>\n",
       "      <td>United Kingdom</td>\n",
       "      <td>No Negative</td>\n",
       "      <td>0</td>\n",
       "      <td>607</td>\n",
       "      <td>Friendly staff quiet comfortable room spotles...</td>\n",
       "      <td>11</td>\n",
       "      <td>8</td>\n",
       "      <td>10.0</td>\n",
       "      <td>[' Leisure trip ', ' Solo traveler ', ' Standa...</td>\n",
       "      <td>681 day</td>\n",
       "      <td>48.888697</td>\n",
       "      <td>2.394540</td>\n",
       "    </tr>\n",
       "    <tr>\n",
       "      <th>4</th>\n",
       "      <td>Molenwerf 1 1014 AG Amsterdam Netherlands</td>\n",
       "      <td>914</td>\n",
       "      <td>3/5/2016</td>\n",
       "      <td>8.5</td>\n",
       "      <td>Golden Tulip Amsterdam West</td>\n",
       "      <td>Poland</td>\n",
       "      <td>Torn sheets</td>\n",
       "      <td>4</td>\n",
       "      <td>7586</td>\n",
       "      <td>The staff was very friendly and helpful Break...</td>\n",
       "      <td>20</td>\n",
       "      <td>10</td>\n",
       "      <td>9.6</td>\n",
       "      <td>[' Business trip ', ' Couple ', ' Standard Dou...</td>\n",
       "      <td>516 day</td>\n",
       "      <td>52.385601</td>\n",
       "      <td>4.847060</td>\n",
       "    </tr>\n",
       "  </tbody>\n",
       "</table>\n",
       "</div>"
      ],
      "text/plain": [
       "                                       hotel_address  \\\n",
       "0  Stratton Street Mayfair Westminster Borough Lo...   \n",
       "1  130 134 Southampton Row Camden London WC1B 5AF...   \n",
       "2   151 bis Rue de Rennes 6th arr 75006 Paris France   \n",
       "3  216 Avenue Jean Jaures 19th arr 75019 Paris Fr...   \n",
       "4          Molenwerf 1 1014 AG Amsterdam Netherlands   \n",
       "\n",
       "   additional_number_of_scoring review_date  average_score  \\\n",
       "0                           581   2/19/2016            8.4   \n",
       "1                           299   1/12/2017            8.3   \n",
       "2                            32  10/18/2016            8.9   \n",
       "3                            34   9/22/2015            7.5   \n",
       "4                           914    3/5/2016            8.5   \n",
       "\n",
       "                                  hotel_name reviewer_nationality  \\\n",
       "0                         The May Fair Hotel      United Kingdom    \n",
       "1            Mercure London Bloomsbury Hotel      United Kingdom    \n",
       "2          Legend Saint Germain by Elegancia               China    \n",
       "3  Mercure Paris 19 Philharmonie La Villette      United Kingdom    \n",
       "4                Golden Tulip Amsterdam West              Poland    \n",
       "\n",
       "       negative_review  review_total_negative_word_counts  \\\n",
       "0             Leaving                                   3   \n",
       "1       poor breakfast                                  3   \n",
       "2   No kettle in room                                   6   \n",
       "3          No Negative                                  0   \n",
       "4         Torn sheets                                   4   \n",
       "\n",
       "   total_number_of_reviews                                    positive_review  \\\n",
       "0                     1994                                 Staff were amazing   \n",
       "1                     1361                                           location   \n",
       "2                      406                                        No Positive   \n",
       "3                      607   Friendly staff quiet comfortable room spotles...   \n",
       "4                     7586   The staff was very friendly and helpful Break...   \n",
       "\n",
       "   review_total_positive_word_counts  \\\n",
       "0                                  4   \n",
       "1                                  2   \n",
       "2                                  0   \n",
       "3                                 11   \n",
       "4                                 20   \n",
       "\n",
       "   total_number_of_reviews_reviewer_has_given  reviewer_score  \\\n",
       "0                                           7            10.0   \n",
       "1                                          14             6.3   \n",
       "2                                          14             7.5   \n",
       "3                                           8            10.0   \n",
       "4                                          10             9.6   \n",
       "\n",
       "                                                tags days_since_review  \\\n",
       "0  [' Leisure trip ', ' Couple ', ' Studio Suite ...           531 day   \n",
       "1  [' Business trip ', ' Couple ', ' Standard Dou...           203 day   \n",
       "2  [' Leisure trip ', ' Solo traveler ', ' Modern...           289 day   \n",
       "3  [' Leisure trip ', ' Solo traveler ', ' Standa...           681 day   \n",
       "4  [' Business trip ', ' Couple ', ' Standard Dou...           516 day   \n",
       "\n",
       "         lat       lng  \n",
       "0  51.507894 -0.143671  \n",
       "1  51.521009 -0.123097  \n",
       "2  48.845377  2.325643  \n",
       "3  48.888697  2.394540  \n",
       "4  52.385601  4.847060  "
      ]
     },
     "execution_count": 1,
     "metadata": {},
     "output_type": "execute_result"
    }
   ],
   "source": [
    "import pandas as pd\n",
    "# Считывание данных\n",
    "hotels = pd.read_csv(r'D:\\IDE_github\\EDA\\EDA_project\\data\\hotels.csv')\n",
    "# Вывод первых нескольких строк\n",
    "hotels.head()"
   ]
  },
  {
   "cell_type": "code",
   "execution_count": 2,
   "id": "115c88c7",
   "metadata": {},
   "outputs": [
    {
     "name": "stdout",
     "output_type": "stream",
     "text": [
      "<class 'pandas.core.frame.DataFrame'>\n",
      "RangeIndex: 386803 entries, 0 to 386802\n",
      "Data columns (total 17 columns):\n",
      " #   Column                                      Non-Null Count   Dtype  \n",
      "---  ------                                      --------------   -----  \n",
      " 0   hotel_address                               386803 non-null  object \n",
      " 1   additional_number_of_scoring                386803 non-null  int64  \n",
      " 2   review_date                                 386803 non-null  object \n",
      " 3   average_score                               386803 non-null  float64\n",
      " 4   hotel_name                                  386803 non-null  object \n",
      " 5   reviewer_nationality                        386803 non-null  object \n",
      " 6   negative_review                             386803 non-null  object \n",
      " 7   review_total_negative_word_counts           386803 non-null  int64  \n",
      " 8   total_number_of_reviews                     386803 non-null  int64  \n",
      " 9   positive_review                             386803 non-null  object \n",
      " 10  review_total_positive_word_counts           386803 non-null  int64  \n",
      " 11  total_number_of_reviews_reviewer_has_given  386803 non-null  int64  \n",
      " 12  reviewer_score                              386803 non-null  float64\n",
      " 13  tags                                        386803 non-null  object \n",
      " 14  days_since_review                           386803 non-null  object \n",
      " 15  lat                                         384355 non-null  float64\n",
      " 16  lng                                         384355 non-null  float64\n",
      "dtypes: float64(4), int64(5), object(8)\n",
      "memory usage: 50.2+ MB\n"
     ]
    }
   ],
   "source": [
    "# Создание копии датасета\n",
    "data = hotels.copy()\n",
    "# Вывод информации о пропусках\n",
    "data.info()"
   ]
  },
  {
   "cell_type": "code",
   "execution_count": 3,
   "id": "5a02964d",
   "metadata": {},
   "outputs": [
    {
     "data": {
      "text/plain": [
       "hotel_address                                  object\n",
       "additional_number_of_scoring                    int64\n",
       "review_date                                    object\n",
       "average_score                                 float64\n",
       "hotel_name                                     object\n",
       "reviewer_nationality                           object\n",
       "negative_review                                object\n",
       "review_total_negative_word_counts               int64\n",
       "total_number_of_reviews                         int64\n",
       "positive_review                                object\n",
       "review_total_positive_word_counts               int64\n",
       "total_number_of_reviews_reviewer_has_given      int64\n",
       "reviewer_score                                float64\n",
       "tags                                           object\n",
       "days_since_review                              object\n",
       "lat                                           float64\n",
       "lng                                           float64\n",
       "dtype: object"
      ]
     },
     "execution_count": 3,
     "metadata": {},
     "output_type": "execute_result"
    }
   ],
   "source": [
    "# Вывод типа данных каждого столбца\n",
    "data.dtypes"
   ]
  },
  {
   "cell_type": "code",
   "execution_count": 4,
   "id": "23ea325f",
   "metadata": {},
   "outputs": [],
   "source": [
    "# Разбиваем датафрейм на части, необходимые для обучения и тестирования модели  \n",
    "# Х — данные с информацией об отелях, у — целевая переменная (рейтинги отелей) \n",
    "X = data.drop(['reviewer_score'], axis = 1)  \n",
    "y = data['reviewer_score']\n",
    "# Загружаем специальный инструмент для разбивки:  \n",
    "from sklearn.model_selection import train_test_split  \n",
    "# Наборы данных с меткой \"train\" будут использоваться для обучения модели, \"test\" - для тестирования.  \n",
    "# Для тестирования мы будем использовать 25% от исходного датасета.  \n",
    "X_train, X_test, y_train, y_test = train_test_split(X, y, test_size=0.25, random_state=42)"
   ]
  },
  {
   "cell_type": "code",
   "execution_count": 5,
   "id": "39c2fb45",
   "metadata": {},
   "outputs": [],
   "source": [
    "# Импортируем необходимые библиотеки:  \n",
    "from sklearn.ensemble import RandomForestRegressor # инструмент для создания и обучения модели  \n",
    "from sklearn import metrics # инструменты для оценки точности модели  \n",
    "# Создаём модель  \n",
    "regr = RandomForestRegressor(n_estimators=100)\n",
    "# Учет только численных данных\n",
    "X_train = X_train.select_dtypes(include=['int64', 'float64'])\n",
    "X_test = X_test.select_dtypes(include=['int64', 'float64'])\n",
    "# Обучаем модель на тестовом наборе данных  \n",
    "regr.fit(X_train, y_train) \n",
    "# Используем обученную модель для предсказания рейтинга отелей в тестовой выборке.  \n",
    "# Предсказанные значения записываем в переменную y_pred  \n",
    "y_pred = regr.predict(X_test)"
   ]
  },
  {
   "cell_type": "code",
   "execution_count": 6,
   "id": "b7c645f2",
   "metadata": {},
   "outputs": [
    {
     "name": "stdout",
     "output_type": "stream",
     "text": [
      "MAPE: 0.1414300865124694\n"
     ]
    }
   ],
   "source": [
    "# Сравниваем предсказанные значения (y_pred) с реальными (y_test), и смотрим насколько они отличаются  \n",
    "# Метрика называется Mean Absolute Percentage Error (MAPE) и показывает среднюю абсолютную процентную ошибку предсказанных значений от фактических.  \n",
    "print('MAPE:', metrics.mean_absolute_percentage_error(y_test, y_pred))"
   ]
  },
  {
   "cell_type": "markdown",
   "id": "d18de4ca",
   "metadata": {},
   "source": [
    "Далее стоит задача повышения точности прогнозов. Нужно подготовить данные"
   ]
  },
  {
   "cell_type": "markdown",
   "id": "da5dfc0f",
   "metadata": {},
   "source": [
    "## 1. Работа со строковыми значениями"
   ]
  },
  {
   "cell_type": "code",
   "execution_count": 7,
   "id": "37b5eb41",
   "metadata": {},
   "outputs": [
    {
     "data": {
      "text/plain": [
       "['hotel_address',\n",
       " 'review_date',\n",
       " 'hotel_name',\n",
       " 'reviewer_nationality',\n",
       " 'negative_review',\n",
       " 'positive_review',\n",
       " 'tags',\n",
       " 'days_since_review']"
      ]
     },
     "execution_count": 7,
     "metadata": {},
     "output_type": "execute_result"
    }
   ],
   "source": [
    "# Вывод столбцов, содержащих строковые значения\n",
    "data_columns_obj = data.select_dtypes(include=['object']).columns.to_list()\n",
    "data_columns_obj "
   ]
  },
  {
   "cell_type": "markdown",
   "id": "6b1a96ee",
   "metadata": {},
   "source": [
    "### 1.1 Адрес отеля"
   ]
  },
  {
   "cell_type": "code",
   "execution_count": 8,
   "id": "105cbb9b",
   "metadata": {},
   "outputs": [
    {
     "data": {
      "text/plain": [
       "0    Stratton Street Mayfair Westminster Borough Lo...\n",
       "1    130 134 Southampton Row Camden London WC1B 5AF...\n",
       "Name: hotel_address, dtype: object"
      ]
     },
     "execution_count": 8,
     "metadata": {},
     "output_type": "execute_result"
    }
   ],
   "source": [
    "data['hotel_address'].head(2)"
   ]
  },
  {
   "cell_type": "code",
   "execution_count": 9,
   "id": "3b8f42f3",
   "metadata": {},
   "outputs": [
    {
     "data": {
      "text/plain": [
       "hotel_address\n",
       "163 Marsh Wall Docklands Tower Hamlets London E14 9SJ United Kingdom              3587\n",
       "372 Strand Westminster Borough London WC2R 0JJ United Kingdom                     3206\n",
       "Westminster Bridge Road Lambeth London SE1 7UT United Kingdom                     3095\n",
       "Scarsdale Place Kensington Kensington and Chelsea London W8 5SY United Kingdom    2688\n",
       "7 Pepys Street City of London London EC3N 4AF United Kingdom                      2379\n",
       "                                                                                  ... \n",
       "Via Palmanova 153 20132 Milan Italy                                                  7\n",
       "40 Rue Rene Boulanger 10th arr 75010 Paris France                                    7\n",
       "Via M Buonarroti 13 Fiera Milano City 20149 Milan Italy                              6\n",
       "Johann Staud Stra e 32 16 Ottakring 1160 Vienna Austria                              6\n",
       "13 Rue Fran ois Ory 92120 Paris France                                               5\n",
       "Name: count, Length: 1493, dtype: int64"
      ]
     },
     "execution_count": 9,
     "metadata": {},
     "output_type": "execute_result"
    }
   ],
   "source": [
    "data['hotel_address'].value_counts()"
   ]
  },
  {
   "cell_type": "markdown",
   "id": "71f1baa6",
   "metadata": {},
   "source": [
    "Столбцы содержат название города и страны расположения отеля, их можно излвечь с помощью регулярных выражений"
   ]
  },
  {
   "cell_type": "code",
   "execution_count": 10,
   "id": "e4c99c45",
   "metadata": {},
   "outputs": [],
   "source": [
    "# Импорт бибилиотеки для работы с регулрными выражениями\n",
    "import re\n",
    "# Регулярное выражение для поиска сочетаний слов в конце строки\n",
    "regular_form = r'([A-Z][a-z]+(?: [A-Z][a-z]+)*)$'\n",
    "data['city_country'] = data['hotel_address'].apply(lambda x: re.search(regular_form, x).group())"
   ]
  },
  {
   "cell_type": "code",
   "execution_count": 11,
   "id": "32422b93",
   "metadata": {},
   "outputs": [],
   "source": [
    "# Вычленияем страну\n",
    "data['country'] = data['city_country'].apply(lambda x: x if x == 'United Kingdom' else x.split()[1])\n",
    "# Поиск города\n",
    "data['city'] = data['city_country'].apply(lambda x: 'London' if x == 'United Kingdom' else x.split()[0])"
   ]
  },
  {
   "cell_type": "code",
   "execution_count": 12,
   "id": "d518c97e",
   "metadata": {},
   "outputs": [],
   "source": [
    "# Удаление старого признака\n",
    "data = data.drop(['hotel_address'], axis=1)"
   ]
  },
  {
   "cell_type": "markdown",
   "id": "09d11372",
   "metadata": {},
   "source": [
    "### 1.2 Дата"
   ]
  },
  {
   "cell_type": "code",
   "execution_count": 13,
   "id": "c0fc64af",
   "metadata": {},
   "outputs": [
    {
     "data": {
      "text/plain": [
       "0    2/19/2016\n",
       "1    1/12/2017\n",
       "Name: review_date, dtype: object"
      ]
     },
     "execution_count": 13,
     "metadata": {},
     "output_type": "execute_result"
    }
   ],
   "source": [
    "data['review_date'].head(2)"
   ]
  },
  {
   "cell_type": "markdown",
   "id": "27cf7029",
   "metadata": {},
   "source": [
    "Можно использовать для извлечения дня, месяца или года"
   ]
  },
  {
   "cell_type": "code",
   "execution_count": 14,
   "id": "8a4dea49",
   "metadata": {},
   "outputs": [],
   "source": [
    "# Пребобразование в формат datetime - удобно извлекать\n",
    "data['review_date'] = pd.to_datetime(data['review_date'])"
   ]
  },
  {
   "cell_type": "markdown",
   "id": "669db072",
   "metadata": {},
   "source": [
    "### 1.3 Название отеля"
   ]
  },
  {
   "cell_type": "code",
   "execution_count": 15,
   "id": "0420df87",
   "metadata": {},
   "outputs": [
    {
     "data": {
      "text/plain": [
       "0                 The May Fair Hotel\n",
       "1    Mercure London Bloomsbury Hotel\n",
       "Name: hotel_name, dtype: object"
      ]
     },
     "execution_count": 15,
     "metadata": {},
     "output_type": "execute_result"
    }
   ],
   "source": [
    "data['hotel_name'].head(2)"
   ]
  },
  {
   "cell_type": "markdown",
   "id": "215bfd30",
   "metadata": {},
   "source": [
    "Можно использовать как наблюдение за самым распространенным в списке отелем. Но для модели создавать численный признак из этого затратно\\\n",
    "Поэтому из названия предлагается вытащить принадлежность отеля к какой-либо категории"
   ]
  },
  {
   "cell_type": "code",
   "execution_count": 16,
   "id": "257603fc",
   "metadata": {},
   "outputs": [
    {
     "data": {
      "text/plain": [
       "hotel_name\n",
       "Britannia International Hotel Canary Wharf           3587\n",
       "Strand Palace Hotel                                  3206\n",
       "Park Plaza Westminster Bridge London                 3095\n",
       "Copthorne Tara Hotel London Kensington               2688\n",
       "DoubleTree by Hilton Hotel London Tower of London    2379\n",
       "                                                     ... \n",
       "Ibis Styles Milano Palmanova                            7\n",
       "Renaissance Paris Republique Hotel Spa                  7\n",
       "Hotel Wagner                                            6\n",
       "Hotel Gallitzinberg                                     6\n",
       "Mercure Paris Porte d Orleans                           5\n",
       "Name: count, Length: 1492, dtype: int64"
      ]
     },
     "execution_count": 16,
     "metadata": {},
     "output_type": "execute_result"
    }
   ],
   "source": [
    "data['hotel_name'].value_counts()"
   ]
  },
  {
   "cell_type": "code",
   "execution_count": null,
   "id": "b1544afb",
   "metadata": {},
   "outputs": [],
   "source": [
    "# Расширенный список брендов с учетом вариаций\n",
    "brand_pattern = r'(?i)\\b(Hilton|Marriott|Ibis|Mercure|Renaissance|DoubleTree|Britannia|Park Plaza|Copthorne|Holiday Inn|Best Western|Hyatt|Radisson|Sheraton|Novotel|InterContinental|Crowne Plaza|Ramada|Wyndham|Four Seasons|Ritz-Carlton|Shangri-La|Sofitel|Westin|W Hotels|St\\.? Regis|Fairmont|Swissotel|Pullman|Grand Hyatt|Kimpton|Mövenpick|Millennium|Thistle|Travelodge|Premier Inn|Motel One|B&B)\\b'\n",
    "# Извлечение с учетом регистра и частичных совпадений\n",
    "data['brand'] = data['hotel_name'].str.extract(brand_pattern, flags=re.IGNORECASE)[0]\n",
    "# Замена похожих названий\n",
    "brand_mapping = {\n",
    "    'Holiday Inn Express': 'Holiday Inn',\n",
    "    'Courtyard by Marriott': 'Marriott',\n",
    "    'JW Marriott': 'Marriott',\n",
    "    'Marriott Hotels': 'Marriott'\n",
    "}\n",
    "# Статистика по брендам\n",
    "brand_stats = data['brand'].value_counts()"
   ]
  },
  {
   "cell_type": "code",
   "execution_count": null,
   "id": "a0f68ae3",
   "metadata": {},
   "outputs": [
    {
     "name": "stdout",
     "output_type": "stream",
     "text": [
      "<class 'pandas.core.frame.DataFrame'>\n",
      "RangeIndex: 386803 entries, 0 to 386802\n",
      "Data columns (total 20 columns):\n",
      " #   Column                                      Non-Null Count   Dtype         \n",
      "---  ------                                      --------------   -----         \n",
      " 0   additional_number_of_scoring                386803 non-null  int64         \n",
      " 1   review_date                                 386803 non-null  datetime64[ns]\n",
      " 2   average_score                               386803 non-null  float64       \n",
      " 3   hotel_name                                  386803 non-null  object        \n",
      " 4   reviewer_nationality                        386803 non-null  object        \n",
      " 5   negative_review                             386803 non-null  object        \n",
      " 6   review_total_negative_word_counts           386803 non-null  int64         \n",
      " 7   total_number_of_reviews                     386803 non-null  int64         \n",
      " 8   positive_review                             386803 non-null  object        \n",
      " 9   review_total_positive_word_counts           386803 non-null  int64         \n",
      " 10  total_number_of_reviews_reviewer_has_given  386803 non-null  int64         \n",
      " 11  reviewer_score                              386803 non-null  float64       \n",
      " 12  tags                                        386803 non-null  object        \n",
      " 13  days_since_review                           386803 non-null  object        \n",
      " 14  lat                                         384355 non-null  float64       \n",
      " 15  lng                                         384355 non-null  float64       \n",
      " 16  city_country                                386803 non-null  object        \n",
      " 17  country                                     386803 non-null  object        \n",
      " 18  city                                        386803 non-null  object        \n",
      " 19  brand                                       118754 non-null  object        \n",
      "dtypes: datetime64[ns](1), float64(4), int64(5), object(10)\n",
      "memory usage: 59.0+ MB\n"
     ]
    }
   ],
   "source": [
    "brand_stats"
   ]
  },
  {
   "cell_type": "code",
   "execution_count": 30,
   "id": "70154669",
   "metadata": {},
   "outputs": [],
   "source": [
    "# Создание списков слов-индикаторов для оценки уровня отеля\n",
    "luxury_keywords = ['Plaza', 'Palace', 'Royal', 'Boutique']\n",
    "business_keywords = ['Hilton', 'Marriott', 'DoubleTree']\n",
    "budget_keywords = ['Ibis', 'Travelodge']\n",
    "# Классификация\n",
    "data['class'] = 'other'\n",
    "data.loc[data['hotel_name'].str.contains('|'.join(luxury_keywords)), 'class'] = 'luxury'\n",
    "data.loc[data['hotel_name'].str.contains('|'.join(business_keywords)), 'class'] = 'business'\n",
    "data.loc[data['hotel_name'].str.contains('|'.join(budget_keywords)), 'class'] = 'budget'"
   ]
  },
  {
   "cell_type": "code",
   "execution_count": 33,
   "id": "dca86aba",
   "metadata": {},
   "outputs": [],
   "source": [
    "# Наличие терминов Spa\n",
    "data['has_spa'] = data['hotel_name'].str.contains('Spa').astype(int)\n",
    "# Количество слов\n",
    "data['word_count'] = data['hotel_name'].str.split().str.len()\n",
    "# Словарь типов с учетом синонимов и международных вариантов\n",
    "type_patterns = {\n",
    "    'Hotel': r'(?i)\\b(Hotel|Hotels|Hotellerie|Hoteles|Hôtel|Hôtels)\\b',\n",
    "    'Resort': r'(?i)\\b(Resort|Resorts|Complex|Beach Club|Retreat)\\b',\n",
    "    'Boutique': r'(?i)\\b(Boutique|Design Hotel|Chic Hotel|Luxury Lofts)\\b',\n",
    "    'Inn': r'(?i)\\b(Inn|Gasthof|Pension|Guesthouse|Bed & Breakfast|B&B)\\b',\n",
    "    'Apartment': r'(?i)\\b(Apartment|Apartments|Aparthotel|Residence|Suites|Studio|Loft)\\b',\n",
    "    'Hostel': r'(?i)\\b(Hostel|Backpackers|Youth Hostel|Dormitory)\\b',\n",
    "    'Villa': r'(?i)\\b(Villa|Villas|Château|Manor|Mansion|Cottage)\\b',\n",
    "    'Lodge': r'(?i)\\b(Lodge|Cabins|Chalet|Bungalow|Ecolodge)\\b',\n",
    "    'Motel': r'(?i)\\b(Motel|Motor Inn|Roadhouse)\\b',\n",
    "    'Palace': r'(?i)\\b(Palace|Grand Hotel|Luxury Hotel)\\b',\n",
    "    'Ryokan': r'(?i)\\b(Ryokan|Onsen|Minshuku)\\b',\n",
    "    'Capsule': r'(?i)\\b(Capsule|Pod Hotel)\\b'\n",
    "}\n",
    "# Функция для извлечения типа с приоритетом более специфичных совпадений\n",
    "def extract_hotel_type(name):\n",
    "    name = str(name)\n",
    "    matches = []\n",
    "    for type_name, pattern in type_patterns.items():\n",
    "        if re.search(pattern, name):\n",
    "            # Приоритет по длине совпадения (более длинные = более специфичные)\n",
    "            match = re.search(pattern, name).group()\n",
    "            matches.append((len(match), type_name))\n",
    "    if matches:\n",
    "        # Возвращаем самый специфичный тип\n",
    "        return sorted(matches, reverse=True)[0][1]\n",
    "    return 'Other'  # Для неклассифицированных вариантов\n",
    "# Применяем функцию\n",
    "data['type'] = data['hotel_name'].apply(extract_hotel_type)"
   ]
  },
  {
   "cell_type": "code",
   "execution_count": 35,
   "id": "318fe24e",
   "metadata": {},
   "outputs": [
    {
     "data": {
      "text/plain": [
       "type\n",
       "Other        185327\n",
       "Hotel        162571\n",
       "Inn           13180\n",
       "Palace        13098\n",
       "Apartment      6055\n",
       "Boutique       3102\n",
       "Villa          1934\n",
       "Lodge          1536\n",
       "Name: count, dtype: int64"
      ]
     },
     "execution_count": 35,
     "metadata": {},
     "output_type": "execute_result"
    }
   ],
   "source": [
    "data['type'].value_counts()"
   ]
  },
  {
   "cell_type": "markdown",
   "id": "a9253a22",
   "metadata": {},
   "source": [
    "Other много. Имеет смысл заменить его на самый распространенный тип в городе"
   ]
  },
  {
   "cell_type": "code",
   "execution_count": 51,
   "id": "4a1e8d0e",
   "metadata": {},
   "outputs": [],
   "source": [
    "# Находим самый частый тип для каждого города\n",
    "city_type_mapping = (\n",
    "    data[data['type'] != 'Other']  # Исключаем 'Other' при расчете моды\n",
    "    .groupby('city')['type']\n",
    "    .agg(lambda x: x.mode()[0] if not x.mode().empty else 'Hotel')  # По умолчанию 'Hotel'\n",
    "    .to_dict()\n",
    ")\n",
    "\n",
    "# Заменяем 'Other' на самый частый тип в городе\n",
    "data['type'] = data.apply(\n",
    "    lambda row: city_type_mapping.get(row['city'], 'Hotel') \n",
    "    if row['type'] == 'Other' \n",
    "    else row['type'],\n",
    "    axis=1\n",
    ")"
   ]
  },
  {
   "cell_type": "code",
   "execution_count": 36,
   "id": "05d16168",
   "metadata": {},
   "outputs": [],
   "source": [
    "# Удаление старого признака\n",
    "data = data.drop(['hotel_name'], axis=1)"
   ]
  },
  {
   "cell_type": "markdown",
   "id": "e228d1a0",
   "metadata": {},
   "source": [
    "### 1.4 Национальность рецензента"
   ]
  },
  {
   "cell_type": "code",
   "execution_count": 37,
   "id": "6662bcea",
   "metadata": {},
   "outputs": [
    {
     "data": {
      "text/plain": [
       "0     United Kingdom \n",
       "1     United Kingdom \n",
       "Name: reviewer_nationality, dtype: object"
      ]
     },
     "execution_count": 37,
     "metadata": {},
     "output_type": "execute_result"
    }
   ],
   "source": [
    "data['reviewer_nationality'].head(2)"
   ]
  },
  {
   "cell_type": "code",
   "execution_count": 38,
   "id": "8d6f1b5b",
   "metadata": {},
   "outputs": [],
   "source": [
    "# Извлечение страны\n",
    "data['reviewer_country'] = data['reviewer_nationality'].str.strip()\n",
    "# Группировка по регионам (пример)\n",
    "europe = ['United Kingdom', 'France', 'Germany', 'Spain', 'Italy']\n",
    "asia = ['China', 'Japan', 'India', 'United Arab Emirates']\n",
    "data['reviewer_region'] = data['reviewer_nationality'].apply(\n",
    "    lambda x: 'Europe' if x in europe else ('Asia' if x in asia else 'Other')\n",
    ")\n",
    "# Гость из той же страны, что и отель\n",
    "data['is_local'] = (data['reviewer_nationality'] == data['country']).astype(int)"
   ]
  },
  {
   "cell_type": "code",
   "execution_count": 39,
   "id": "b9b405cb",
   "metadata": {},
   "outputs": [],
   "source": [
    "# Удаление старого признака\n",
    "data = data.drop(['reviewer_nationality'], axis=1)"
   ]
  },
  {
   "cell_type": "markdown",
   "id": "297f2b79",
   "metadata": {},
   "source": [
    "### 1.5 Негативная оценка"
   ]
  },
  {
   "cell_type": "code",
   "execution_count": 40,
   "id": "e252da74",
   "metadata": {},
   "outputs": [
    {
     "data": {
      "text/plain": [
       "0           Leaving \n",
       "1     poor breakfast\n",
       "Name: negative_review, dtype: object"
      ]
     },
     "execution_count": 40,
     "metadata": {},
     "output_type": "execute_result"
    }
   ],
   "source": [
    "data['negative_review'].head(2)"
   ]
  },
  {
   "cell_type": "code",
   "execution_count": 41,
   "id": "80f0a3cf",
   "metadata": {},
   "outputs": [],
   "source": [
    "# Словарь часто распространенных проблем\n",
    "issues = {\n",
    "    'cleanliness': ['dirty', 'clean', 'smell', 'stains'],\n",
    "    'service': ['staff', 'rude', 'service', 'wait'],\n",
    "    'amenities': ['WiFi', 'breakfast', 'bed', 'shower']\n",
    "}\n",
    "# Проверка на наличие проблемы из каждой категории в отзыве\n",
    "for category, keywords in issues.items():\n",
    "    data[f'issue_{category}'] = data['negative_review'].str.contains('|'.join(keywords), case=False).astype(int)"
   ]
  },
  {
   "cell_type": "code",
   "execution_count": 42,
   "id": "8927ad59",
   "metadata": {},
   "outputs": [],
   "source": [
    "# Удаление старого признака\n",
    "data = data.drop(['negative_review'], axis=1)"
   ]
  },
  {
   "cell_type": "markdown",
   "id": "909a7331",
   "metadata": {},
   "source": [
    "### 1.6 Положительная оценка"
   ]
  },
  {
   "cell_type": "code",
   "execution_count": 43,
   "id": "280345ea",
   "metadata": {},
   "outputs": [
    {
     "data": {
      "text/plain": [
       "0     Staff were amazing\n",
       "1               location\n",
       "Name: positive_review, dtype: object"
      ]
     },
     "execution_count": 43,
     "metadata": {},
     "output_type": "execute_result"
    }
   ],
   "source": [
    "data['positive_review'].head(2)"
   ]
  },
  {
   "cell_type": "code",
   "execution_count": 44,
   "id": "f6abb133",
   "metadata": {},
   "outputs": [],
   "source": [
    "# Словарь часто распространенных слов в позитивном отзыве\n",
    "pos_categories = {\n",
    "    'staff': ['friendly', 'helpful', 'polite', 'attentive'],\n",
    "    'comfort': ['comfortable', 'cozy', 'spacious', 'quiet'],\n",
    "    'cleanliness': ['clean', 'spotless', 'tidy'],\n",
    "    'location': ['central', 'convenient', 'walkable'],\n",
    "    'amenities': ['breakfast', 'pool', 'view', 'wifi']\n",
    "}\n",
    "# Проверка на наличие слов из каждой категории словаря с положительными сочетаниями в отзыве\n",
    "for cat, keywords in pos_categories.items():\n",
    "    data[f'pos_{cat}'] = data['positive_review'].str.contains('|'.join(keywords), case=False).astype(int)"
   ]
  },
  {
   "cell_type": "code",
   "execution_count": 45,
   "id": "233faad5",
   "metadata": {},
   "outputs": [],
   "source": [
    "# Удаление старого признака\n",
    "data = data.drop(['positive_review'], axis=1)"
   ]
  },
  {
   "cell_type": "markdown",
   "id": "40eaf118",
   "metadata": {},
   "source": [
    "### 1.7 Теги"
   ]
  },
  {
   "cell_type": "code",
   "execution_count": 46,
   "id": "27aac4c8",
   "metadata": {},
   "outputs": [
    {
     "data": {
      "text/plain": [
       "0    [' Leisure trip ', ' Couple ', ' Studio Suite ...\n",
       "1    [' Business trip ', ' Couple ', ' Standard Dou...\n",
       "Name: tags, dtype: object"
      ]
     },
     "execution_count": 46,
     "metadata": {},
     "output_type": "execute_result"
    }
   ],
   "source": [
    "data['tags'].head(2)"
   ]
  },
  {
   "cell_type": "markdown",
   "id": "a3340927",
   "metadata": {},
   "source": [
    "Из тегов можно извлечь множество уникальных и выявить самый распространенный"
   ]
  },
  {
   "cell_type": "code",
   "execution_count": 47,
   "id": "173d544a",
   "metadata": {},
   "outputs": [
    {
     "name": "stdout",
     "output_type": "stream",
     "text": [
      "{' Hilton Queen Family Room ', ' Interconnecting Double Rooms ', ' Superior Room with Queensize Bed and double couch 2 adults 2 children ', ' Double or Twin Room with City View ', ' Duplex ', ' Classic Room ', ' Studio Disability Access ', ' One Bedroom Queen Suite ', ' Deluxe Queen Room with River View ', ' Superior Double Room with London Eye View ', ' Double or Twin Room with Parking ', ' Double Room ', ' Double Room with Extra Bed 2 Adults 1 Child with Ramblas View ', ' Deluxe Duplex Room ', ' Executive Double Room Top Floor ', ' Two Bedroom Deluxe Suite ', ' Superior Double Room with Terrace and Cathedral View ', ' Plaza Club Room ', ' Suite with Eiffel Tower View ', ' Ambassador Suite ', ' Deluxe Double Room with View and Disability Access ', ' Duplex King Suite 2 Adults 2 Children ', ' Double Studio ', ' King Room with Hyde Park View ', ' Four Seasons King Junior Suite ', ' Junior Suite with Private Access to Pool and Spa ', ' King Room with Eiffel Tower View ', ' Panorama Suite ', ' Twin Executive Room with Lounge Access ', ' Superior Room with 1 Double Bed and 1 Single Bed ', ' Special Offer Double Twin Room Stay and Park ', ' Deluxe Double Room with Separate Lounge Area ', ' Champs Elys es Prestige Room ', ' Observatory King ', ' Classic Room with Courtyard View ', ' Cozy Double or Twin Room ', ' Twin Hilton Plaza Room ', ' Comfort Double or Twin Room with Extra Bed ', ' Superior Suite Junior ', ' Queen Guest Room ', ' Family Room with King Bed and Sofa Bed ', ' Double Room with St Stephen s Cathedral View ', ' Deluxe One Bedroom Apartment ', ' King Duplex Suite ', ' Deluxe ', ' Ambassadors Room ', ' Standard Room Sopi ', ' Park Deluxe Room ', ' Twin Room with City View Top Floor ', ' Superior Double Room Breakfast included ', ' Junior Suite 1 3 Adults ', ' Executive Studio ', ' Junior Suite Free Wifi ', ' Grand Junior Suite ', ' Executive Queen Room Non Smoking ', ' Double Room Tour Eiffel with Shower ', ' Superior Queen Room with Pool Access ', ' King Executive Suite with Lounge Access ', ' Exclusive Guest room 1 King or 2 Twin Single Bed s ', ' Superior Room with 1 Double bed and Sofa 3 adults ', ' Classic Double Room ', ' Privilege Room ', ' Single Room with Private Bathroom ', ' Executive Junior Suite ', ' Stayed 7 nights ', ' Superior Queen Suite with Sofa 3 Adults ', ' Business Studio Suite ', ' Cosmopolitan Suite ', ' Executive Double Room with Park View ', ' Deluxe Barcelona city View ', ' One Bedroom Suite 1 2 Adults ', ' Superior King Room with Iconic View ', ' Deluxe Double or Twin Room 2 adults 1 child ', ' King Accessible Superior Room ', ' Duplex Suite with State Opera View Top Floor ', ' Fabulous Sky Room ', ' Souterrain Twin Room ', ' Small Studio ', ' Standard Double Room with Panoramic View ', ' Double Room Atelier d Artiste with Spa Bath ', ' Superior room 3 persons ', ' King Deluxe Room ', ' Family Room with View ', ' Classic Room with 2 double beds 2 Adults ', ' 4 rooms ', ' Stayed 17 nights ', ' Suite Split Level ', ' Premier Deluxe Twin Room ', ' Art Room XL with Iconic View ', ' Superior Metropolitan Park Double Room ', ' Superior Twin Room with Airconditioning ', ' Double Room 1 2 Adults ', ' Superior Room Swimming Pool Hammam Access upon reservation ', ' Family Two Bedroom Suite ', ' Fantastic Suite ', ' Nhow Premium Double or Twin Room ', ' Classic Twin Room with Garden View ', ' Queen Room with Sofa Bed Non Smoking ', ' Deluxe Twin Room 2 Adults ', ' Classic Room with 2 double beds ', ' Ma tre Superior Double or Twin Room with Street View ', ' Deluxe Double Room Canal View ', ' Superior Room with 2 Single Beds ', ' Premier Twin Room with City View ', ' Wonderful Bank with Canal View ', ' King Room with Partial Sea View ', ' Superior Queen Room with Double Sofa ', ' Junior Suite with Spa Access ', ' Double Room Medium Heritage ', ' Luxury Double Room with Balcony ', ' Room with River View Main Deck ', ' Junior Suite with Queen Bed 3 Adults ', ' Superior Executive Room ', ' Superior Garden View Room ', ' Standard 1 Bedroom Apartment ', ' Double or Twin Room 2 Adult 1 Children ', ' Deluxe Family Room 4 Adults ', ' Deluxe Room 2 Adults 1 Child ', ' Romantic Special Offer ', ' Deluxe King Room with Terrace ', ' Executive Double or Twin Room with Club Lounge Access ', ' Landmark Junior Suite ', ' Suite Duplex ', ' Superior Suite Water Front ', ' Queen Single Room ', ' Double Room Annex ', ' Queen Deluxe Room ', ' Four Seasons Executive King Suite ', ' Grand Premium Double or Twin with City View ', ' Double Room Curieuse ', ' Executive Queen Room with Balcony ', ' Prestige One Bedroom Suite with River View ', ' Double Room with City View 1 Adult ', ' Royal Suite with Canal View ', ' Superior Suite with City View ', ' Standard Room with 2 Double Beds ', ' Deluxe Double Room Annex ', ' King Guest Room ', ' Imperial Suite ', ' Executive Double Room with Spa Bath ', ' Standard Apartment ', ' Superior Double Room with Extra Bed ', ' Double Room with Small Double Bed ', ' Business King Room ', ' Classic King Room ', ' Premium View Double Room ', ' Hansen Suite ', ' Luxury King Room ', ' King Room with City View ', ' Suite with City View ', ' Superior Triple Room ', ' Attic Suite 1 or 2 people ', ' Superior Double Room with Roll In Shower Disability Access ', ' Business Double Room ', ' Studio Twin Room ', ' Deluxe Eiffel Tower King Room ', ' Superior Double or Twin Room with Balcony ', ' Tradition Twin Room ', ' Superior Double Room with Sofa Bed 3 Adults ', ' Superior King Suite 3 adults ', ' Twin Junior Suite ', ' Deluxe King Room with Balcony ', ' Executive Room City View ', ' Superior Deluxe Double or Twin Room ', ' Double Room Non Smoking ', ' La Rouge Suite ', ' Mus e d Orsay Double Room ', ' Special Offer Twin Double Room Stay and Park ', ' Double or Twin Room with Extra Bed 3 Adults with Free Airport Shuttle Service from 5 00am to 00 30am ', ' One Bedroom Studio Suite ', ' King Studio ', ' Wonderful Exchange King ', ' Junior Suite with Terrace and City view ', ' Deluxe Triple Room with Spa Access ', ' Queen Guestroom ', ' Business trip ', ' Apartment 1 2 Adults ', ' Superior room with Queen bed and sofa ', ' Superior Queen Room with Extra Bed 3 Adults ', ' Premier Single Room ', ' Royal Penthouse with Canal View ', ' Interconnecting Rooms ', ' Suite Room 1 or 2 people ', ' Park Junior Suite ', ' Design Double or Twin Room ', ' Stayed 4 nights ', ' Deluxe Room Henry Monnier ', ' Deluxe Room with Two Double Beds ', ' Luxury Suite with whirlpool ', ' Special Offer Superior Double Room ', ' Executive Double Room with Mobile Phone ', ' Studio My Little Haussmann ', ' Prestige Suite ', ' Diamond Suite Spa ', ' Superior Double Room with Terrace and City View ', ' Classic Double Room with Private Terrace ', ' Executive Suite with Free Airport Shuttle Service from 5 00am to 00 30am ', ' Duplex King Suite ', ' Standard Double or Twin Room with Extra Bed ', ' King Deluxe One Bedroom Suite with Lounge Access ', ' Falconers Two Bedroom Suite ', ' Classic Double Room for Single Use ', ' Twin Room with Private Bathroom ', ' Club Deluxe Room ', ' Queen Room Disability Access Non Smoking ', ' Suite Juliana ', ' Superior Double or Twin Room Moon Blue ', ' Superior Double or Twin Room Tea Time Wine Tasting Included ', ' Luxury Double Room Medium ', ' Accessible Double Guest Room ', ' Deluxe Imperial Room ', ' Superior Double Room with Private Patio ', ' Special Offer Classic Room with Parking ', ' Executive Black Suite ', ' Duplex Double Room ', ' Tradition Double Room ', ' King Room or Twin Room Disability Access ', ' Family Room 6 Adults ', ' Junior Suite with Private Pool ', ' Executive Room Swimming Pool Hammam Access upon reservation ', ' Classic Quadruple Room ', ' Standard Double Room with Two Single Beds ', ' Privilege Room with 1 Kingsize Bed ', ' Grand Superior Room ', ' Deluxe Double Room ', ' Superior Double or Twin Room with Landmark View ', ' Two Connecting Double Rooms 5 adults ', ' Premium Family Room ', ' Executive Double Room with Spa Access ', ' Luxury Duplex Room ', ' Deluxe Junior Suite ', ' Superior Double or Twin Room with Courtyard view ', ' Luxury Single Room ', ' LM Club Double or Twin Room ', ' Double Room with Balcony ', ' Suite with Spa Access ', ' Master Bedroom Double ', ' Superior One Bedroom Suite with Executive Lounge Access ', ' FAMILY PLAN ', ' Deluxe Double Room without Window ', ' Luxury Suite ', ' Superior Two Bedroom Apartment ', ' Comfort Twin Room ', ' Superior Double Room with Sofa Bed and Pool View ', ' Double or Twin Room 1 Adult ', ' Junior Suite 2 Adults ', ' Premium Double Room with Garden View ', ' Executive Suite 1 King ', ' Standard Double Room with Bath ', ' Superior Double or Twin Room with Free Airport Shuttle Service from 5 00am to 00 30am ', ' Superior room Design Style Free Wifi ', ' Special Offer Comfort Double Room with Breakfast and Parking Included ', ' Superior ', ' Standard Twin Room with Arc de Triomphe View ', ' 2 Connecting Rooms 4 people ', ' Andaz Large Suite ', ' Junior Suite with View of the Eiffel Tower ', ' Superior Deluxe Double or Twin Room with Spa Access ', ' Cosy Single Room ', ' Accessible Studio Suite ', ' Suite with Extra Bed ', ' Double Superior Room ', ' 5 rooms ', ' Junior Suite 5 Adults ', ' Superior Queen Suite with Sofa Bed ', ' Deluxe Double Room Pigalle 21 ', ' Penthouse ', ' Standard King Room ', ' King Room ', ' Small Double Room Annex building ', ' Queen Guest Room with Sofa Bed ', ' Executive Double Room ', ' Secret Room with Spa Access ', ' Luxury Room 2 Adults with canal view ', ' One Bedroom Apartment with City View ', ' Standard Double Room Pigalle 15 ', ' Guest Queen Room with Two Queen Beds ', ' Standard Double Room with Two Double Beds ', ' Classic Double Room with Balcony ', ' Studio King ', ' King City View Room ', ' Standard Room with 1 Double Bed ', ' Deluxe King Room with Canary Wharf View ', ' Superior Twin Room 2 adults ', ' Club Junior Suite ', ' Junior Double Suite ', ' Superior Double Room with City View ', ' Executive Double Room with Sofa Bed ', ' Hyde Park Junior Suite with Park View ', ' Queen Hilton Deluxe ', ' Terrace Suite with Lounge Access ', ' Luxury Double Room with Balcony and River View ', ' Andaz Large King Room ', ' Deluxe Family Room with Two Double Beds with Paris View ', ' Deluxe Double Room Corner ', ' Executive King ', ' Deluxe Double Room With Free Access to Steam Bath ', ' Penthouse King Executive Room with Access to Executive Lounge ', ' Two Adjacent Double Rooms with free pool and hammam access ', ' Suite VIP welcome ', ' Deluxe Two Bedroom Apartment ', ' Standard Room with Double Bed ', ' Non Smoking Standard Room with 1 Double Bed ', ' Double Executive Room with Lounge Access ', ' Twin Room with Park View ', ' Triple Room 2 Adults 1 Child ', ' Standard Room with 1 Kingsize Bed ', ' Deluxe Double Room 1 Adult ', ' Deluxe Room with 1 Double Bed ', ' Superior Twin Room with Private Pool ', ' Pasha Suite ', ' Deluxe Suite with City View ', ' Royal Room with Ramblas view ', ' Regency King Suite with Lounge Access ', ' Deluxe Double Room Non Smoking ', ' Special Offer Comfort Double Room with Parking ', ' Superior Double or Twin Room 1 2 Adults ', ' City King or Twin Room ', ' Autentic Double Room ', ' Double Room with Extra Bed 3 Adults ', ' Double Room with Sofa Bed Non Smoking ', ' Family Junior Suite 4 adults ', ' Basic Single Room ', ' Halkin Room ', ' Junior Suite with Terrace ', ' Garden View Queen ', ' Deluxe Double or Twin Room ', ' Executive Double Room Single Use ', ' Superior Double Room with Balcony ', ' Twin Premier Room ', ' Twin Room with City View ', ' Superior Room with King Bed ', ' Club Room with Club Lounge Access ', ' Superior Guest room 1 King or 2 Twin Single Bed s ', ' Smart Triple Room ', ' Quality Double or Twin Room ', ' Eiffel Suite with partial view ', ' Prestige Suite 2 Adults with canal view ', ' Standard Twin Room ', ' Deluxe Queen Room with View ', ' Superior Double Room with Saint Germain des Pr s Church View ', ' Double Room with City View 1 2 Adults ', ' Executive King Room Non Smoking with Executive Lounge Access ', ' Superior Deluxe Room with Spa Bath ', ' Privilege Junior Suite with Terrace and Spa Access ', ' K Suite ', ' Two Bedroom Penthouse Apartment ', ' Amiral Single Room ', ' Couture Junior Suite ', ' Couture Deluxe Double Room ', ' Twin Room with Cathedral View ', ' Classic Double Room with Breakfast ', ' Standard Family Room ', ' Superior Double Room with Queen size bed ', ' Park Deluxe View Twin ', ' Deluxe Family Room ', ' Eiffel Suite ', ' Stayed 1 night ', ' Superior Room with Queen size Bed and Double Sofa Bed ', ' Universitat Double or Twin Room ', ' Family Room 2 Adults 1 Children ', ' Executive Twin Room 1 2 Adults ', ' Superior Double or Twin Room Non Smoking ', ' Family Room with King Bed ', ' Double Room Marquise ', ' Grand Deluxe Imperial Room ', ' Double Room Disability Access ', ' Superior Double or Twin Room with Garden View ', ' Luxury Triple Room ', ' Quintuple Room 5 Adults ', ' Deluxe Room with Spa Access Free Wifi ', ' Double Room L ', ' Executive King Suite ', ' Luxury Twin Room Solarium ', ' King Suite with Executive Lounge Access ', ' Twin Studio ', ' Twin Hilton Deluxe ', ' Champs Elys es Prestige Junior Suite ', ' Queen or Two Double Beds Room ', ' Signature Double Room ', ' Loft Double Room ', ' Double Room Crash Pad ', ' One Bedroom Suite with City View ', ' View Twin ', ' Junior Suite with Spa Access 3 Adults ', ' Superior Double or Twin Room with Terrace Spa acces ', ' Double or Twin Room Select ', ' Suite Deluxe ', ' Double Room Radieuse ', ' Suite 1 3 Adults ', ' Junior Suite with View ', ' Deluxe Double or Twin Room with VIP Services ', ' Double Room Disability Access Tub ', ' Studio Twin ', ' Club King Room ', ' Privilege Room with 2 Double Beds ', ' Standard Triple Room ', ' Small Double Room with Canal View ', ' Superior Double or Twin Room XL with Extra Bed 2 Adults 1 Child ', ' Large Twin Room ', ' Deluxe Room with Terrace ', ' Superior Room with canal view ', ' Premium Double or Twin Room with View and Terrace ', ' Executive Double Room with Terrace ', ' Club Level Classic Rooms ', ' Executive King or Twin Room with Lounge Access ', ' Executive Queen Room ', ' Executive Room 2 adults 2 children ', ' Double Room 2 Adults ', ' Budget Double Room Second Floor ', ' Easter Special Executive King Room ', ' Family Apartment 2 Adults 2 Children ', ' Two Adjacent Double or Twin Rooms ', ' Studio Suite Bank ', ' Family Room 4 guest ', ' Double or Twin Room with Terrace ', ' Queen Room Non Smoking ', ' Privilege Junior Suite with Spa Access ', ' One Bedroom King Suite with Garden View ', ' Park Room ', ' Collection Suite ', ' King Room with Sea View ', ' Executive Twin Room with City View ', ' King Hilton Guestroom ', ' Confort Queen Room ', ' Junior Suite Executive ', ' Junior Suite with Spa Access Free Wifi ', ' Deluxe Single Room with Shared Bathroom ', ' Double Room with Courtyard View ', ' Special Offer Sleep ParK Fly ', ' Gallery Suite with Spa Access Free Wifi ', ' Budget Single Room Non Smoking ', ' 3 Connecting Rooms ', ' Superior Queen Room 2 adults ', ' King Guest Room with Sofa Bed ', ' Business Plus Single Room with Balcony ', ' 2 Twin Beds Guest Room ', ' Deluxe Double Room with Eiffel Tower view ', ' Junior Suite with Lounge Access ', ' Superior Double Room Les Artys Les Fifties ', ' Classic Room with 2 Double Beds 4 Adults ', ' Superior Room with View of Big Ben ', ' King Guest Room Wheelchair Accessible ', ' Executive Room 1 Queen size Bed 1 Sofa Bed Balcony ', ' Executive Double Room with Air Conditioning ', ' Double or Twin Room with Bath ', ' Deluxe Boulevard Twin Room ', ' Triple Room Relax ', ' Suite with Garden View and Parking ', ' Eiffel Tower View Twin Room ', ' Suite with Sofa Bed ', ' Superior Romantic Double Room ', ' Mayfair Suite with Lounge Access ', ' Double or Twin Room with Panoramic View ', ' Double Room with City View ', ' Two Connecting Classic Double Rooms ', ' Special Room ', ' Double Room Attic ', ' Twin Room ', ' Deluxe Double Room with Connecting Doors ', ' Special Offer Deluxe Room ', ' Superior Double or Twin Room with Patio ', ' Two Adjoining Rooms with Dock View Main Deck ', ' Compact Double Room ', ' Two Double Bed Guest Room ', ' Supreme Twin Room ', ' Chambers Grand Junior Suite with Club Lounge Access ', ' La Mathurin Suite ', ' Standard Double Studio ', ' Exclusive Double Room ', ' Kings Junior Suite ', ' Grand Deluxe King or Twin Room ', ' Junior King Suite ', ' Hilton Superior Twin Room ', ' Executive Room with One Queensize Bed with Balcony ', ' Superior Double Room Single use ', ' Classic Triple Room ', ' Superior Double or Twin Room ', ' King Family Room ', ' Double or Twin Room 2 Adults ', ' Special Offer Superior Queen Room ', ' Studio Suite ', ' Suite Marignan Eiffel ', ' Queen Suite with Lounge Access ', ' One Bedroom Suite with Kitchenette ', ' Deluxe King Room with Club Lounge Access and Balcony ', ' Superior Double Room Free Wi Fi ', ' Superior Room with 1 Double Bed ', ' Club Queen Room ', ' Superior Double or Twin Room XL ', ' Executive Double or Twin Room Canal View ', ' Double Executive Room ', ' Double Room Single Use ', ' Deluxe with Garden ', ' Twin Grand Premier Room ', ' Grand Deluxe Double Room ', ' Standard Compact Double Room ', ' Hyatt King Room with View ', ' Special Offer Double or Twin Room ', ' Executive Studio City View ', ' Gallery Suite ', ' Deluxe Garden Room ', ' Deluxe King Room Balcony with Eiffel Tower View ', ' Family Room 2 Adults 2 Children ', ' Queensgate Twin Room ', ' Classic Double Room La Parisienne ', ' Double Room with River View ', ' Room with Paris View ', ' Club Twin Room with Lounge Access ', ' One Bed Feature Room ', ' Townhouse Apartment ', ' Executive Room with Two Double Beds and Executive Lounge Access ', ' Standard Twin Room with Sofa ', ' Double Room with Extra Bed 2 Adults 1 Child ', ' Room with Dock View Main Deck ', ' Deluxe Double Room with Balcony ', ' Deluxe One Bedroom Suite ', ' Club Double Room ', ' Double or Twin Room In dite ', ' Two Connecting Superior Double Rooms ', ' Triple Room with Spa Access ', ' Junior Suite with Executive Lounge Access and Free Wifi ', ' Art King Room ', ' Double Room with Spa Bath ', ' Sensation Room ', ' Classic Double or Twin Room ', ' Quadruple Room ', ' Executive Double or Twin Room with Harbour View ', ' Premium Junior Suite with King size Bed ', ' Adjacent Double Rooms ', ' Master Suite with Club Lounge Access ', ' Standard Room with terrace ', ' City Garden Room ', ' Deluxe Double Room with Garden View ', ' Deluxe Room 2 Adults ', ' Double or Twin Room with Extra Bed 2 Adults 1 Child ', ' Executive Premium Queen Room with Sofa Bed ', ' Family Quadruple Room ', ' Fabulous Double or Twin Room ', ' Double or Twin Room with Garden View ', ' Three Bedroom Suite ', ' Superior Twin Room with Cathedral View ', ' Suite Room ', ' Suite with Spa Access 4 Adults ', ' Superior Triple Room 3 Adults ', ' Superior Queen Single Room ', ' Deluxe Room with Spa Fitness Access ', ' Triple Room Annex ', ' Corner Larger Executive room with Executive lounge access Free Wifi ', ' Deluxe Room with Whirlpool ', ' Small Double Room 1 2 adults ', ' Suite with Glass of Champagne ', ' Superior Room with Double Bed ', ' Executive Queen Room With Sofa Bed ', ' Spectacular Room ', ' Superior Queen Room with 2 Single Sofa Beds ', ' One Bedroom Suite with Kitchen ', ' Executive Suite ', ' Double or Twin Room Allergy Free ', ' Deluxe Family Room 3 Adults ', ' Montcalm Club Twin Room ', ' Superior Room with Sofa Bed ', ' Executive room with Executive lounge access Free Wifi ', ' Deluxe Guest Room ', ' Eiffel Tower Junior Suite ', ' Deluxe Quadruple Room ', ' Family Executive Room 2 Adults 2 Children ', ' Deluxe Double Room or Twin Room ', ' Junior Suite Lavender ', ' Stayed 28 nights ', ' Twin Hilton Guestroom ', ' Jimmie Martin Penthouse Suite ', ' Superior Family Room 2 Adults 1 Child ', ' Triple Apartment ', ' Art Deco Deluxe Room View and Terrace ', ' Club King Room Non Smoking with Executive Lounge Access ', ' Superior Double Bedroom ', ' Standard Room with Spa access ', ' Executive Double Room with City View ', ' Double Queen Executive Waterfront with Access to Executive Lounge ', ' Deluxe Double or Twin Room with Spa Bath ', ' Privilege Room with Extra Bed 3 Adults ', ' Junior Suite Courtyard ', ' Executive Double Room with Square View ', ' Prestige Double or Twin Room ', ' Exception Room ', ' Stayed 16 nights ', ' Twin Room Mobility Access ', ' Apartment for 3 to 4 People with Kitchenette ', ' Junior Suite 3 Adults with Spa Access ', ' Business Double or Twin Room Facing the Sea ', ' Suite with Spa Access 1 Adult ', ' Family Room 3 Adults ', ' Twin Hilton Sea View ', ' Deluxe Double Twin Room ', ' Standard Double Room Ground Floor ', ' Luxury Room with Spa Access ', ' Park Deluxe Twin ', ' Marvelous Suite ', ' Hilton Deluxe King Room ', ' Classic King View ', ' Classic Cosy Room ', ' One Bedroom King Suite ', ' Double Room with Street View ', ' Double Room XL ', ' Superior King Room with Sofa Bed ', ' Superior Double Room with Free Access to Hamman ', ' Hilton Deluxe Twin Room Plus ', ' Two Connecting Double Rooms ', ' Budget Double Room ', ' Superior Double Room with Terrace ', ' Comfort Double Room with Park View ', ' Premium Double Twin Room ', ' Executive Double Room with Access to Executive Lounge ', ' Park Suite King ', ' Deluxe Room with spa access ', ' King Suite with Sofa Bed 4 Adults ', ' Club Suite with Executive Lounge Access ', ' King One Bedroom Suite with Lounge Access ', ' Privilege Room with a double bed upper floors ', ' Belgravia Suite ', ' Small Double Room Canal View ', ' Premium Double or Twin Room ', ' Superior Room with Queensize Bed and single sofa bed 3 adults ', ' Luxury Double Room Small ', ' Standard Double Room with View ', ' Queen Suite ', ' Superior King or Double Room ', ' Premier Suite ', ' Club Double Room with free Internet and Breakfast ', ' Suite King ', ' Junior Suite Parisienne ', ' Executive Vend me Triple Room ', ' Double or Twin Room Single Use ', ' Superior Room with Queen Bed and Sofa ', ' Deluxe King Room 2 Adults ', ' Club Single Room ', ' Twin Room with City View 1 2 Adults ', ' Canal View King ', ' Two Bedroom Superior Suite ', ' Triple Room with Terrace ', ' Standard Double Room 2 Adults ', ' Kube Double or Twin Room ', ' Deluxe Premium King Room ', ' Small Double or Twin Room ', ' Superior Double Room New Style ', ' Single Room Lower Ground Floor ', ' Twin Hilton Executive Room with Access to Executive Lounge ', ' Junior Suite Avenue ', ' Single Room with Bath ', ' Superior Double Room Ground Floor ', ' Deluxe Double or Twin Room with Opera View ', ' Superior Suite with Garden View ', ' Deluxe Twin Room with Terrace and Eiffel Tower View ', ' Luxury Room ', ' Four Seasons Suite ', ' Emotion Room ', ' Superior Triple Room XL ', ' Deluxe Room With Pool Access ', ' Twin Deluxe Room ', ' Two Connecting Basic Rooms ', ' Double Room D couverte ', ' Garden View King ', ' Junior Suite Double ', ' REN Room Free Wifi ', ' Superior Double Room with Garden View ', ' Double Room with Sauna Access ', ' Premier King Room ', ' Fabulous Bank Canal ', ' Deluxe Quadruple Room with Canal View ', ' Deluxe Queen Room ', ' Stayed 11 nights ', ' Executive Queen Room with Sofa Bed 3 Adults ', ' Comfort Double Room ', ' Regency Suite ', ' Executive Twin Room with Whirlpool ', ' Executive Double Room with Access to The Level Lounge ', ' Hilton Relaxation Room ', ' Superior Executive Twin Room ', ' Superior Double or Twin Room with Spa Access ', ' Triple Executive Room ', ' Twin Executive Plus Room ', ' Executive Queen Room 2 adults ', ' Park Suite ', ' Deluxe Double Room with View ', ' Deluxe Room with City View ', ' Classic Double Room Loge Classique ', ' Studio King 3 adults ', ' Luxury Room Club Sofitel with Spa Access ', ' Superior King Suite ', ' Family Superior Room ', ' Cabine Single Room ', ' Superior Room with Queensize Bed and Single Sofa Bed 2 Adults 1 Child ', ' Twin Deluxe with Canal View ', ' Club SuperKing Room ', ' Standard Guestroom ', ' Family Suite ', ' Deluxe Twin ', ' Queensgate Triple Room ', ' Ashburn Suite ', ' Deluxe Twin Studio ', ' King Hilton Executive Room with Access to Executive Lounge ', ' Executive Twin Room with Access to The Level Lounge ', ' Wonderful Double or Twin Room ', ' Duplex Apartment 6 Adults ', ' Superior One Bedroom Suite ', ' Premium Double Room with Balcony ', ' Privilege Room with 1 Queen Size bed ', ' Exclusive Double or Twin Room ', ' Suite with Spa Access 2 Adults ', ' Family Queen Room ', ' Superior Double Room 3 Adults ', ' Twin Room with Sea View ', ' Standard Twin Room Non Smoking ', ' Comfort Plus Twin Room ', ' Superior Room with 1 Queen Bed and Sofa 3 Adults ', ' Deluxe Double Room with City View and Balcony ', ' Superior Double Room with free unlimited WIFI ', ' Premium Double or Twin Room with Terrace and Spa Access ', ' Junior Suite Blue Sunshine ', ' Stayed 3 nights ', ' Deluxe Suite with River View ', ' Townhouse Deluxe ', ' Business Single Room with Courtyard View ', ' Business Double Room with 500 Frequent Flyer Miles ', ' Club Suite with Club Lounge Access ', ' Urban Triple Room ', ' Junior Suite with Canal View ', ' Superior Double Room with Sofa ', ' Twin Room with Executive Lounge access ', ' Deluxe Junior Suite with Spa Bath ', ' Privilege Double or Twin Room Courtyard side ', ' Superior Twin or Double Room ', ' Room Assigned at Check in ', ' Junior King Suite with View 2 Adults ', ' Executive Double or Twin Room with No view ', ' Junior Suite with Mountain View ', ' Superior Room with Balcony or Terrace ', ' Double Room Moulin Rouge with Shower ', ' Double Junior Suite ', ' Luxury One Bedroom Apartment ', ' King Room with Sofa Bed ', ' Executive King Suite with Lounge Access ', ' King Room Non Smoking ', ' Superior Triple Room with 3 Single Beds ', ' Junior Suite 2 Adults with Free Airport Shuttle Service from 5 00am to 00 30am ', ' Large Double Room ', ' Executive Master Suite ', ' Executive Four Poster Room ', ' Interior Double or Twin Room ', ' Premier Deluxe Double Room ', ' Stayed 24 nights ', ' Standard Double Room without Window ', ' Deluxe Double Room with Patio ', ' Twin Room with Free Airport Shuttle Service from 5 00am to 00 30am ', ' Suite Family and Friends ', ' Queen or Twin Room ', ' Executive Double Room Eiffel Studio D Artiste with view of Paris ', ' Executive Room Selected at Check In ', ' Executive Double Room Studio D Artiste ', ' Park Deluxe Queen ', ' Superior Double Room with Massage Chair ', ' Level Room with Executive Lounge Access ', ' Stayed 29 nights ', ' Deluxe Triple Room with View ', ' Accessible Twin Room ', ' Executive Queen Room Mobility Access with Lounge Access ', ' Small Single Room with Balcony ', ' Standard Double Room with Terrace ', ' One Bedroom King Suite with Sofa Bed ', ' Classic Room with 1 Queen bed ', ' Superior Room with Spa Access Free Wifi ', ' Secret Double Room ', ' Luxury Two Bedroom Apartment ', ' Superior Room with Double Bed and Sofa Bed ', ' Double Deluxe Room ', ' Deluxe Double or Twin Room with Canal View Annex building ', ' Classic Double or Twin Room with City View ', ' Superior Double or Twin Room with Extra Bed ', ' Twin Guest Room Plus ', ' Artist s Studio King Junior Suite with Spa access ', ' Cabaret Junior Suite ', ' Large Garden View King ', ' Junior King Suite with View 3 Adults ', ' Junior Suite with Eiffel Tower View ', ' Two Adjacent Double Room ', ' Executive Double Room with Spa Fitness Access ', ' Superior Double Room with Two Double Beds ', ' Twin Room with Partial Sea View ', ' Double Room with Arc de Triomphe View a Glass of Champagne ', ' Prestige Suite with Private Terrace ', ' Chambers Junior Suite with Club Lounge Access ', ' Standard Double Room No Window ', ' Superior Twin Room with View ', ' Queen Room Mobility Access ', ' Luxury King Room with River View ', ' Superior Suite with View ', ' King Size Double Room ', ' Hyatt Twin Room with View ', ' Superior Four Poster Room ', ' Superior Twin Room with Park View ', ' Standard Double or Twin Room with Extra bed 2 Adults 1 Child ', ' Basic Double or Twin Room with Parking ', ' Executive Room with River View ', ' Deluxe Guest room 1 King or 2 Twin Single Bed s ', ' Cosy Room ', ' Kings Three Bedroom Suite ', ' Superior Double or Twin Room for Single Use ', ' Family Room 4 People ', ' Art Deco Double Room ', ' Twin Bed Suite ', ' Traditional Double Room ', ' Deluxe Twin or Double Room ', ' Park Queen ', ' Double Room 1 Adult with Free Airport Shuttle Service from 5 00am to 00 30am ', ' Junior Alcove Suite with Access to Executive Lounge ', ' Double Guest Room ', ' Suite Oc ane ', ' Junior Suite Double or Twin ', ' Double Room Baronne ', ' King Executive Plus Room ', ' Quality Double or Twin Room with Extra Bed ', ' Deluxe Single Room ', ' Business Suite ', ' Room with River View Upper Deck ', ' King Hilton Waterfront ', ' Double Room Cosy ', ' Suite 1 2 Adults ', ' Deluxe Family Room with SPA Access ', ' King Junior Suite with Executive Lounge Access ', ' Executive Room with Queen Bed Renovated ', ' 2 Adjacent Rooms ', ' Executive King Room with Lounge Access ', ' Corner Suite ', ' Mezzanine Room ', ' Family Junior Suite ', ' Executive Double Room with Whirlpool ', ' Classic Room with Garden View ', ' Junior Suite Double 1 2 Adults ', ' King Suite with Sofa Bed Non Smoking ', ' Stayed 13 nights ', ' Executive Room with Canal View ', ' Large One Bedroom Apartment ', ' Family Suite with Balcony ', ' Classic Double or Twin Room with Spa Access ', ' Master Bedroom Suite ', ' King Room Disability Access Non Smoking ', ' Executive Studio with London Eye View ', ' penta Standard Room ', ' Trash City Suite ', ' Penthouse Suite with View ', ' Double or Twin Room with Extra Bed 3 Adults ', ' Luxury Suite antique theme ', ' Solo traveler ', ' Classic Twin or Double Room ', ' Modern Double Room Echo ', ' Champagne Shopping package Twin Room ', ' Junior Double ', ' Triple Room 3 Adults ', ' Xscape King ', ' Andaz Double Room ', ' Classic Double Room with View ', ' Double Hilton Guestroom ', ' Two Connecting Double and Twin rooms ', ' Comfort Double or Twin Room for Single Use ', ' Ambassador Junior Suite ', ' Double Room with Shower ', ' Club Room ', ' Junior Suite with Balcony ', ' Chic Twin or Double Room ', ' Superior Suite 4 Adults ', ' Prestige Twin Room ', ' Apartment 6 Adults ', ' Luxury Triple Room with Garden View ', ' Executive Double or Twin Room ', ' Superior Suite 2 Adults 2 Children ', ' One Bedroom River View Suite ', ' Deluxe Double or Twin Room with Balcony ', ' Superior Double Room Disability Access ', ' Executive Penthouse with Canal View ', ' Executive Room with 1 Queensize Bed ', ' Comfort Room ', ' Accessible King Room with Lounge Access ', ' Superior Double Room with Street View ', ' Suite with Spa Access 3 Adults ', ' Family Room Two Connecting Rooms ', ' Prestige King Room Non Smoking ', ' Executive Double Room with Eiffel Tower View ', ' Montcalm Club Room ', ' Junior Suite with VIP Services ', ' Junior Suite with Club Lounge Access ', ' Curve Suite with Lounge Access ', ' 2 Connecting Rooms 5 Adults ', ' Suite ', ' Deluxe Triple Room ', ' Deluxe Double or Twin Room with Ramblas View ', ' Queen Bed Leisure ', ' Twin Hilton Room Plus ', ' Two Connecting Double Rooms 2 Adults 2 Children ', ' Single Room with Spa Access ', ' Superior King or Twin Room ', ' Superior Premium Room with Queen Bed and Sofa Bed ', ' King Room with Executive lounge access ', ' Junior Suite with Park View ', ' Junior Suite with living room ', ' penta Plus Room ', ' Studio with Spa Access ', ' Stayed 5 nights ', ' Executive Double or Twin Room 3 Adults ', ' Suite Aurore ', ' Suite with Executive Lounge Access ', ' King Junior Suite City View with Access to Executive Lounge ', ' Duplex Suite ', ' Junior Suite Give me the night ', ' Standard Room with Queen Bed Renovated ', ' Superior Studio with City View ', ' Superior Twin Room ', ' Park Deluxe King or Twin ', ' Presidential Suite ', ' Executive Room with Queen Bed and a Sofa Non Smoking ', ' Standard Duplex Room 3 Adults ', ' Suite Grand Lit ', ' Comfort Suite ', ' Cosy Double Room ', ' Corner View Suite ', ' Superior Room Pigalle ', ' Small Queen Room ', ' Junior Room ', ' Standard Room ', ' Luxury Suite music theme ', ' Discovery Double Room ', ' Dalston King ', ' Economy Quadruple Room ', ' Large Comfort Twin Room Disability Access ', ' Two Adjacent Double Rooms ', ' Comfort Quadruple Room ', ' Deluxe Room ', ' Deluxe Double Room 3 Adult ', ' Superior Double or Twin Room with Sauna Access ', ' Deluxe Triple Room with Canal View ', ' Single Room with Park View ', ' Double Room with Shared Bathroom ', ' Standard Room with One Double Bed and Single Sofa Bed ', ' Superior Double Room with 1 extra bed ', ' Deluxe Double Room 1 2 Adults ', ' Junior Suite Premium with Spa Access ', ' Junior Suite with Access to Executive Lounge ', ' Queen Room with Roll In Shower Mobility Access Non Smoking ', ' Double Room Trocad ro with Spa Bath ', ' Small Double Room with Extra Bed Annex building ', ' Hoxton Studio Suite ', ' Deluxe Double Room with Canal View ', ' Classic Triple Room 2 Adults ', ' Montcalm Club Double Room ', ' Deluxe King Suite ', ' Suite with hammam ', ' Premium Deluxe Double Room ', ' City King Room ', ' Quadruple Apartment ', ' Deluxe Twin Room Balcony with Eiffel Tower View ', ' Superior Double or Twin Room with Eiffel Tower partial view ', ' Large Triple Room ', ' Skylight Deluxe Executive Room ', ' Deluxe Double Room with Club Lounge Access ', ' Executive Room with queen size bed and single sofa bed 2 Adults 1 child ', ' Junior Suite High Floor ', ' Executive King Room with City View ', ' Executive Double or Twin Room La Ravissante ', ' Superior Duplex Room ', ' Superior Room with City View ', ' Special Offer Twin Room ', ' Junior Suite Tendre Ros e ', ' Canal View Superior Deluxe Room with Spa Bath ', ' Deluxe Double Room with Terrace and Private Pool ', ' Deluxe Double Room with Private Access to Pool and Spa ', ' Classic Double Room with Free Access to Hamman ', ' Canal View Queens ', ' Business Single Room ', ' Loft Junior Suite ', ' Standard Room with Spa Access ', ' Classic Twin View ', ' One Bedroom King Suite 2 Adults ', ' Superior Classic Double Room ', ' Loft Suite ', ' Large Double Room with Garden View ', ' Suite Tea Time Wine Tasting Included ', ' Deluxe King Room ', ' Deluxe Plus Double or Twin Room ', ' King Room Mobility Accessible ', ' Executive King Room with Executive Lounge Access ', ' King Hilton Sea View ', ' Comfort Single Room with Window and Double Bed ', ' Family Room 2 connected Double Rooms ', ' Superior Double Room with Terrace and Private Pool ', ' King Executive Room ', ' Triple Junior Suite ', ' Double Deluxe Suite ', ' Quadruple Room 2 Adults 2 Children ', ' Studio King Family ', ' Royal Suite ', ' Stayed 18 nights ', ' Privilege Double Room ', ' Green Park Suite ', ' Standard Double or Twin Room with Extra Bed 3 Adults ', ' Suite with Spa Bath ', ' Large Canal View Queen ', ' Apartment with City View Top Floor ', ' Premier King Room with City View ', ' Vend me Deluxe Room ', ' Special Offer Double or Twin Room with Parking ', ' Double Hilton Deluxe ', ' Comfort Double or Twin Room with Balcony ', ' Superior Twin Room with Extra Bed 2 adults 1 child ', ' Squint Splash Suite ', ' Deluxe King Room with Garden View ', ' Double Room with Extra Bed ', ' Suite Elys e ', ' Urban Deluxe ', ' Royal Double Room ', ' Cabin Single Room ', ' Couture Suite ', ' Standard Double Room with City View ', ' Classic Junior Suite ', ' Premium Double Room with Terrace ', ' Queen Room with Executive Lounge Access ', ' One Bedroom Suite ', ' Executive Deluxe King Room ', ' Business Class Room ', ' Deluxe Eiffel Twin ', ' Senior Suite 1 3 Adults ', ' Single Room Tea Time Wine Tasting Included ', ' Deluxe Junior Partial River View ', ' Superior Twin Room with Tea Time Included ', ' Superior Double Room Plus L Insolente ', ' Classic Triple Room 3 Adults ', ' Single Room with Arc de Triomphe View ', ' Executive Deluxe Studio Suite ', ' Deluxe Double or Twin Room with Pool Access ', ' King Superior Room ', ' Junior Suite with Shower ', ' Superior Room with Garden View Free Wifi ', ' Superior Plus Room ', ' Atrium ', ' Double Room 1 Adult with Eiffel Tower View ', ' Executive Room with queen size bed and double sofa bed 2 adults 2 children ', ' Junior King Suite with Pool Access ', ' Luxury Studio Suite ', ' Room with Park View ', ' Superior Twin Room with Two Double Beds ', ' Double Room with Parking ', ' Club Suite ', ' Junior Suite with Executive Lounge Access ', ' Family Suite 4 Adults ', ' Suite Designer ', ' Suite without Window ', ' Club Double or Twin Room with Executive Lounge Access ', ' Twin Deluxe Guest Room ', ' Penthouse Suite with Balcony ', ' Rooftop Suite ', ' Junior Deluxe Twin Room ', ' Double Room City ', ' Double Room with Sofa Bed ', ' Standard Queen Room with Two Queen Beds ', ' Superior Junior Suite Single Use ', ' Superior Queen Room with Sofa Bed ', ' Park Deluxe King ', ' Deluxe Double or Twin Room with Canal View ', ' Grand Deluxe Room ', ' Wonderful Sky Room ', ' Premium Double or Twin Room with Garden View ', ' Double Room Disability Access Non Smoking ', ' Urban Suite ', ' Junior Suite with 1 King Size Bed ', ' Duplex Suite with Sofa Bed ', ' Twin Room with Spa Bath ', ' Grande Suite ', ' Superior Family Room 2 Adults 2 Children ', ' Superior Double Room with Spa Access ', ' Double or Twin Room Business Advantage ', ' Executive Studio City View Family ', ' Superior King Room ', ' Superior Deluxe Room ', ' Panorama Guest room 1 King or 2 Twin Single Bed s ', ' Double Room with Two Double Beds ', ' Superior Business Room with a Double Bed and Sofa Bed ', ' Grand Premium Double or Twin with Sea View ', ' Superior Studio Apartment ', ' Basic Double Room ', ' Deluxe Double Room with Terrace and Eiffel Tower View ', ' Large Canal View King ', ' One Bedroom Suite with Sofa Bed ', ' Superior Twin Room with Eiffel Tower View ', ' Quality Single Room ', ' Junior Suite Saint Honor ', ' Superior Double Room La S duisante ', ' Deluxe Double Room with City View and Spa Access ', ' Double Family Guest Room ', ' Superior Room with Garden View ', ' Standard Room with Queen Bed ', ' Suite 5 Adults ', ' Standard Double Room with Bridge View ', ' Nelson Double Room ', ' Deluxe Double or Twin Room with Mountain View ', ' Executive King or Twin Room ', ' Classic Suite ', ' Twin Superior Room ', ' Standard Room with 2 Single Beds ', ' Champagne Shopping package Double Room ', ' Apartment Suite ', ' Junior Suite with Kingsize Bed 3 persons ', ' Comfort Single Room with Shower ', ' Standard Studio Suite ', ' Suite 2 Adults ', ' Deluxe King Plus ', ' Stayed 25 nights ', ' King Double Room ', ' Superior Capucines Room ', ' Executive Double or Twin Room with City View ', ' Family Room XL ', ' Economy Plus Double Room ', ' Superior Quadruple Room ', ' Deluxe Triple Room with Paris View ', ' Large Double or Twin Room ', ' Standard Double or Twin Room Annex Building ', ' Stayed 6 nights ', ' Junior Suite with River View ', ' Executive Club Twin Room ', ' Superior Queen Room with Paris View ', ' Family Room Annex ', ' Family Room Two connecting Rooms ', ' Studio ', ' Junior king Suite 3 Adults ', ' Twin Room 1 2 Adults ', ' Double or Twin Room with Extra Bed ', ' Junior Suite Twin 1 2 Adults ', ' Superior Room with 1 kingsize bed ', ' Classic Double or Twin Room 1 2 Adults ', ' Executive Double or Twin Room with Executive Lounge Access ', ' Executive Room with queen size bed and single sofa bed ', ' Standard Twin Room with 2 single beds ', ' Family Room Two Connecting Rooms VIP Welcome for Kids ', ' City Room ', ' Comfort Triple Room ', ' Queen Room with Two Queen Beds 4 Adults ', ' Deluxe Twin Room with City View ', ' Double Twin Superior Room ', ' Two Connected Double Rooms ', ' Deluxe Queen Room with Two Queen Beds ', ' Grand Suite Duplex ', ' Suite Canal View ', ' Club Eiffel Tower King Room ', ' Superior Room with Queen size bed and Sofa Bed ', ' Iconic King Room With City View ', ' Family Room 5 Adults ', ' Penthouse Suite with Terrace and City View ', ' Deluxe Apartment ', ' Superior Queen Suite with Sofa Bed 3 Adults ', ' Double or Twin Room with Courtyard View ', ' Double Guest Room with River View ', ' Small Double Room ', ' Prestige Room with Garden View Free WiFi ', ' Art Deco Room Balcony ', ' Twin or Double Room with Terrace ', ' Superior Room with Queen Bed ', ' Deluxe Room with 1 King bed ', ' Business Double Room with Balcony ', ' Principle Double ', ' Classic Double Room with City View ', ' View King Room ', ' Two Adjoining Superior Suite ', ' Luxury Four Poster ', ' Double or Twin Junior Suite ', ' Superior Room for 1 2 people with Kitchenette ', ' Double or Twin Room with Balcony or Terrace ', ' Two Connecting Rooms with Free Access to Hamman ', ' 2 Adjacent Non Communicating Rooms ', ' Standard Double Room with Parking ', ' Park King ', ' Deluxe Plus Double Room ', ' Superior Queen Room with Sofa Bed Non Smoking ', ' Executive Triple Room 2 Adults 1 Child ', ' King Hilton Guest Room ', ' Superior Room with Queen size bed and Sofa Bed 2 Adults ', ' Executive Double Room River View ', ' Cool Corner Exchange ', ' Premium Superior Double Room ', ' Executive King Room with Sofa Bed Non Smoking ', ' Accessible Twin Guest Room ', ' Superior Double or Twin Room with Terrace ', ' Family Room Two connecting Rooms 3 Adults ', ' Queen Superior Room ', ' Business Double Room 1 Adult ', ' Urban Double or Twin Room ', ' King Junior Suite ', ' Stayed 27 nights ', ' Two Connecting Superior Twin Rooms ', ' 4 Person Suite ', ' 2 double Connecting Rooms ', ' Standard ', ' Grand Deluxe Double or Twin Room ', ' King Atrium Suite with Lounge Access ', ' Superior Queen Suite with Sofa Bed 2 Adults ', ' King Suite Non Smoking ', ' Comfort Room with Extra Bed ', ' Classic Room with One Queen Bed ', ' Superior Apartment 4 Adults ', ' Deluxe Twin Room Souterrain Basement ', ' Studio Suite with Lounge Access ', ' Premier Double Room with Panoramic View and Executive Lounge Access ', ' City Twin Room ', ' Superior Room with 1 Double Bed and 1 Sofa Bed 3 Adults ', ' Quintuple Room ', ' Wonderful Double Room ', ' La Reflet Junior Suite ', ' Executive King Room with Air Conditioning ', ' River Twin Suite ', ' Large Room ', ' Deluxe King Room with City View ', ' Business Double or Twin Room ', ' Privilege Double Room with free pool and hammam access ', ' Club Double Room with Club Lounge Access ', ' Junior Suite Blue ', ' Privilege Double Room with Eiffel Tower View ', ' Triple Studio ', ' Large Deluxe Room ', ' Quadruple Room with Shower ', ' Ring Suite ', ' Comfort Double Room Courtyard Side ', ' Classique Square ', ' Junior Suite Split Level with Lounge Access ', ' Comfort Double or Twin Room with Rambla View ', ' Superior Double Twin Room ', ' Deluxe Room with view ', ' Luxury Suite Patio ', ' Single Room ', ' One Bedroom Suite with Air Conditioning ', ' Basic Double Room NR ', ' Executive Double or Twin Room with Spa Access ', ' Double Accessible Guest Room ', ' Knightsbridge Suite ', ' Classic Master Suite ', ' Eiffel Tower Suite ', ' One Bedroom City Suite ', ' Economy Single Room ', ' King Cathedral View Room ', ' Corner Suite with Lounge Access ', ' Prestige Triple Room ', ' Privilege Suite ', ' Deluxe Double Room with Extra Bed ', ' Smart Double or Twin Room ', ' Executive Room with Garden View ', ' Luxury Suite Triple ', ' Club Double or Twin Room with Club Lounge Access ', ' Grand Superior King or Twin Room ', ' Hyatt King Room ', ' Art Twin Room ', ' Junior Suite XL ', ' Double or Twin Room with Bathroom ', ' Junior Suite with Double Bed ', ' Deluxe Queen Room with Balcony ', ' Executive Room with City View ', ' Special Offer Double Room ', ' Hilton Superior Double Room ', ' Deluxe Double or Twin Room with Terrace ', ' Junior Suite Triple ', ' Deluxe Suite ', ' Junior Double Room ', ' Prestige Double Room With View ', ' Executive Suite with Lounge Access ', ' Premium King or Queen Room ', ' King Executive Waterfront with Access to Executive Lounge ', ' Standard Room with Queensize bed and Single Sofa Bed ', ' Stayed 9 nights ', ' Superior Twin Room with Free Pool Access ', ' Two Connecting Double Rooms with Pool Access ', ' Superior Double Room with Terrace and View ', ' River View Deluxe ', ' Executive Queen Room with Sofa ', ' Junior Deluxe Double Room ', ' Family Room Free WiFi ', ' Premium Suite ', ' Deluxe Double or Twin Room with Landmark View ', ' Superior Queen Room with Courtyard Garden or City View ', ' Triple Room with Spa Bath ', ' Garden View Twins ', ' Double Twin Rooms Next to Each Other ', ' Superior Plus Twin Room ', ' La Petite Maison ', ' Super Deluxe Double Room ', ' Two Connecting Executive Rooms ', ' Classic Family Room ', ' Standard Duplex Room 1 2 Adults ', ' Room Selected at Check In ', ' Executive Double or Twin Room With Terrace ', ' Queen Room with Balcony ', ' Grand Duplex Suite ', ' Classique Double Room ', ' Superior Queen Room with Sofa ', ' Twin Room 1 2 people ', ' Studio Attrape R ve ', ' One Bedroom Apsley Suite ', ' Special Offer Princess Relax ', ' Executive Twin Room ', ' Deluxe Double or Twin Room Light my Fire ', ' Triple Hilton Family Room ', ' Two Adjoining Double Rooms ', ' Premium Double Room ', ' Family Room ', ' Classic Guest room 1 King or 2 Twin Single Bed s ', ' One Bedroom Executive Suite with Lounge Access ', ' Executive Deluxe Double Room ', ' Superior King Room Barlow Wing ', ' King Magistrate Suite ', ' Queen Double Room ', ' Deluxe Double or Twin Room Annex ', ' Executive Studio Suite ', ' Executive Suite with View ', ' Single Room with Free Airport Shuttle Service from 5 00am to 00 30am ', ' Loft ', ' Duplex Room 4 Adults ', ' Two Adjoining Rooms with Dock View Upper Deck ', ' Deluxe double or Twin Room ', ' Deluxe Double Room with Free Access to Hamman ', ' Executive Room with 1 Queen Bed and 1 Sofa 2 Adults ', ' Double Room large ', ' Standard Room with 1 Queen Bed ', ' Double Room Audacieuse ', ' Junior Suite 3 Adults ', ' Single Guest Room ', ' Fabulous Bank King ', ' Standard Quadruple Room ', ' City Twin Room with Surprise Package ', ' Executive Premium Queen Room ', ' Two Adjoining Rooms ', ' Magistrate King ', ' Oscar Wilde Room ', ' Junior Conservatory with King Bed ', ' Deluxe Two Bedroom Suite ', ' Stayed 19 nights ', ' Special Offer Executive Double Twin Room with Access to Nagomi Health ', ' Deluxe Club Double Room ', ' Twin Grand Premier with Canal View ', ' Double Room Insolite ', ' Deluxe Eiffel Tower Twin Room ', ' Superior Family Room ', ' Executive Double ', ' The Level Grand Premium Double or Twin Room with City View ', ' Deluxe Double or Twin Room 1 2 Adults ', ' Superior Room with 1 Double Bed and 1 Sofa Bed 2 places ', ' Superior Apartment 2 Adults ', ' Triple Room Luxury XXL King Size Bed ', ' Deluxe Queen Room with Sofa ', ' Petite Double Room ', ' Superior Double Room with Terrace and Mountain View ', ' Junior Suite Basement ', ' Family with older children ', ' Hyatt Queen Room ', ' Twin Room Non Smoking ', ' Twin Room with Extra Bed ', ' Suite Trocadero Balcony with Eiffel Tower View ', ' Large Double Room with Champs Elysees View ', ' Studio Room ', ' Wonderful Room ', ' Junior Suite With Private Garden ', ' Superior Twin Double Room ', ' Deluxe Family Room with 1 Double and 2 Single Beds ', ' Superior Plus Double Room ', ' 2 Connecting Rooms 4 Adults ', ' Four Poster Suite ', ' Superior Deluxe Double Room with Canal View ', ' One Bedroom Suite with Park View ', ' Suite with View ', ' Deluxe Double Room with Spa Access ', ' Executive Deluxe ', ' Double Room Capricieuse ', ' Deluxe Park View ', ' Comfort Twin Double Room ', ' Bunk Bed in Twin Room Pigalle 12 ', ' Superior Studio ', ' Privilege Super King or Twin Room ', ' Duplex Room ', ' Small Double Room without Window ', ' Two Bedroom Suite with Two Bathrooms ', ' Aldwych Double Twin Room ', ' Duplex Junior Suite ', ' Twin Junior Suite City View with Access to Executive Lounge ', ' Deluxe Family Room with 1 Double and 2 Single Beds 3 Adults ', ' Superior King Room with Lounge Access ', ' Executive Queen Room with Lounge Access Mobility Access ', ' Standard Queen or Twin Room Lower Ground Floor ', ' 1 King Bed Guest Room ', ' Comfort Double or Twin Room Non Smoking ', ' Junior Suite with Courtyard View ', ' Superior Suite 3 Adults 1 Child ', ' King Suite with Sofa Bed 3 Adults ', ' Premier Double Room ', ' Deluxe Double Room with City View ', ' Superior King Room Non Smoking ', ' Penthouse Suite Family ', ' Double Room with Park View ', ' Grand Deluxe Contemporary Room ', ' The Rooks Nest ', ' Suite with Rambla View ', ' Park Executive Suite ', ' Superior Queen Room with Extra Bed 2 Adults ', ' Standard Double Room with Park View ', ' Privilege Room With View ', ' Small Deluxe Room with Canal View ', ' Family King Room ', ' Superior King with Balcony ', ' One Bedroom Suite with Lounge Access ', ' Mandarin Room ', ' Prestige Double Room with Eiffel Tower View ', ' Junior Suite Jungle Fever with Hot Tub ', ' Camper Suite ', ' One Bedroom Suite with Executive Lounge Access ', ' Two Double Adjoining Rooms ', ' Standard Queen Room ', ' Executive Queen Room with Eiffel Tower View ', ' Stayed 10 nights ', ' Deluxe Twin Room 3 Adults ', ' Standard Double or Twin Room 1 2 Adults ', ' Deluxe King Room Wheelchair Accessible ', ' King Hilton Deluxe Room ', ' Comfort Plus Double Room ', ' Executive Single Room ', ' Executive King Room with View ', ' 2 rooms ', ' Amsterdam Street Art Queen Guest Room ', ' Deluxe Double Room with Courtyard View ', ' Special Offer Only For Cruise Passengers ', ' 2 Double Rooms next to each other ', ' King Executive Room with Lounge Access ', ' Junior Suite with Pool Access ', ' Executive Club Room ', ' Park Twin ', ' Classic Double Room with Shower ', ' Single Room Annex ', ' Superior Room with Two Double Beds and Balcony ', ' Four Seasons Twin Junior Suite ', ' Double Queen Waterfront ', ' Stayed 2 nights ', ' Two Bedroom Family Joining Suite with Mobile Phone 2 adults 3 children ', ' Superior Room queen size bed and double sofa bed ', ' Deluxe with Two Double Beds ', ' Minsters Deluxe Two Bedroom Suite ', ' Standard Room With 2 Zip Beds ', ' King Grand Premier Room ', ' Two Connecting Rooms ', ' Executive Suite with Queen Bed and Sofa Bed 2 Adults ', ' Single Hilton Guestroom ', ' Family Junior Suite 3 Adults 1 Child ', ' Deluxe Double Room with Bath ', ' Mezzanine Suite ', ' Superior Premium Queen Room ', ' Deluxe Double or Twin Room with Spa Access ', ' Family Room 2 Adults 3 Children ', ' Superior Shard King ', ' Family with young children ', ' Exclusive Double or Twin Room La Mondaine ', ' Deluxe Balcony Room ', ' Compact Double Room with Private Bathroom ', ' Park Deluxe View ', ' Single Room with Shower ', ' Comfort Double Room With Sacr Coeur View ', ' Executive Double Room Non Smoking ', ' Family Room with Balcony ', ' Economy Double or Twin Room ', ' Junior Family Suite 2 Adults ', ' Deluxe Double Room with State Opera View ', ' King Room with Knightsbridge View ', ' Deluxe Queen Guestroom ', ' Double Room Comtesse ', ' Junior Suite with Sea View ', ' Deluxe King ', ' Family Suite with two connecting rooms ', ' Executive Business Room with Double Bed ', ' Triple Room Disability Access ', ' One Room Suite with Kitchenette ', ' King Suite with Lounge Access ', ' Fabulous Exchange King ', ' Stunning City Studio ', ' Nadler Deluxe Double Room ', ' Deluxe Double or Twin Room with City View ', ' Superior Room with 2 Double Beds ', ' Executive Suite 2 Adults 2 Children ', ' Superior Double Room with Sea View ', ' Queensgate Double Room ', ' Single Room Joy ', ' Cool Corner Suite ', ' Queen Suite with Balcony and City View ', ' Superior Room with Spa Fitness Access ', ' Superior Double Room Non Smoking ', ' Executive Room Free Executive Lounge Access ', ' Superior Deluxe King or Double Room ', ' Luxury Room 3 Adults with canal view ', ' Deluxe Double Room with Balcony and Free Pool Access ', ' Premium Superior Queen Room ', ' Family Room with View 2 Adults 2 Children ', ' Deluxe Double Room 2 Adults 1 Child ', ' Souterrain Comfort Room ', ' Duplex Junior Suite with Spa access ', ' Mandarin Junior Suite ', ' Privilege Double Room with Terrace ', ' Premium Lafayette ', ' Club Room with Club Lounge Access Free Wifi ', ' Luxury Room 1 Queensize Bed Twin bedded Room On Request ', ' Deluxe Studio ', ' Double Room Large Heritage ', ' Solo Room ', ' Deluxe Twin Room with Spa Access ', ' Standard Double Twin Room ', ' Single Room with Courtyard View ', ' Luxury Quadruple Room ', ' Treat your Partner Package Double Room ', ' Standard Twin Room 2 Adults 1 Child ', ' Executive Club Double Room ', ' Suite with Club Lounge Access ', ' Double Room Intemporelle ', ' Classic Double or Single Room ', ' Principe Suite ', ' Stayed 30 nights ', ' Executive Suite with Spa Bath ', ' Family Room 4 Adults ', ' Hypoallergenic Double or Twin Room ', ' Room Sous les Toits 18m with Montmartre View ', ' Premium Room 2 Adults ', ' Superior Room with 1 Queensize Bed and Double Sofa bed ', ' Large Family Suite ', ' Superior Double or Twin Room with Balcony 1 Adult ', ' Triple Room Free Wi Fi ', ' Premium Double or Twin Room with Sea View ', ' Suite Terasse Eiffel ', ' Standard Room with queen size bed and double sofa bed 3 Adults ', ' Premier King Room Barlow Wing ', ' Double Room with Private Bathroom ', ' Deluxe Apartment 4 Adults 2 Children ', ' Classic Double Room Les Pop ', ' Small Double Room with Terrace ', ' Garden Room ', ' Premium Room ', ' Superior Double Double ', ' Park Deluxe Executive King ', ' Privilege Room with Double Bed ', ' Classic Adjacent Rooms ', ' Junior Suite 2 Adults 2 Children ', ' Signature Room ', ' Superior Room with Balcony ', ' Romantic Double Room ', ' King Plaza Executive Room ', ' Family Suite 2 Adults 2 Children ', ' Superior King Room with Balcony ', ' Executive Double Room with Executive Lounge Access ', ' Marina Suite with Canal View ', ' Premier Twin Room ', ' Privilege Room with 1 Double Bed ', ' Basic Double ', ' Design One Bedroom Suite ', ' Standard Double ', ' Palais Suite ', ' Suite with St Stephen s Cathedral View ', ' Superior Room with 1 Queen Bed ', ' Standard Studio ', ' Privilege Double or Twin Room with Spa Access ', ' Double Room with Four Poster Bed ', ' Standard Twin Room with Tea Time Included ', ' Room with Dock View Upper Deck ', ' Standard Double Room ', ' Queen Hilton Guest Room ', ' Junior Suite 3 Adults or 2 Adults 1 Child ', ' Suite with City View and Parking ', ' King Premier Room ', ' 2 Connecting Rooms 5 people ', ' Two Connecting Rooms 3 persons ', ' Standard Guest Room ', ' Interior Facing Double Room With Natural Light ', ' Loft Double Room with Terrace ', ' Comfort Double Room with Terrace ', ' King Junior Suite with Lounge Access ', ' King Superior Plus Room ', ' Large Suite ', ' Standard Double or Twin Room with View ', ' River View Balcony Suite ', ' One Bedroom Classic Suite ', ' Executive Double Room Eiffel Tower View with 1 Queensize and Sofa Bed ', ' Superior Double Room with Duomo View ', ' Superior Double Room with Terrace and Jacuzzi ', ' Travelers with friends ', ' Family Communicating Rooms ', ' The Level Room with Executive Lounge Access ', ' Premier Shard Suite ', ' Spring Package Deluxe Double or Twin Room ', ' Balcony Suite with Executive Lounge Access ', ' Executive Suite 3 Adults ', ' Double or Twin Room with View ', ' Superior Room Non Smoking ', ' 3 rooms ', ' Tower Suite with Lounge Access ', ' Family Room 2 Adults 1 Child ', ' Superior Double or Twin Room with View ', ' Townhouse Suite ', ' Economy Single Room basement no window ', ' Deluxe King or Queen Room ', ' Special Offer Double Room with Parking ', ' Canal View Deluxe Triple Room with Spa Bath Annex building ', ' Luxury Twin Room ', ' Executive Double or Twin Room with view of Big Ben and Lounge Access ', ' Classic Double or Twin Room with Pool Access ', ' Royal Suite Split Level with Spa Bath Annex building ', ' King Suite ', ' Family Apartment ', ' Executive King Room Non Smoking ', ' Park Suite View ', ' Executive Double Room with Lounge Access ', ' Suite with Eiffel Tower View VIP welcome ', ' Large Comfort Double or Twin Room ', ' Twin Room with Public Transport Ticket ', ' Spare Room Double ', ' Junior Suite 1 2 Adults ', ' Superior Premium Room with Queen Bed Sofa ', ' Lower Ground Double Room ', ' Classic Double Room with Street View ', ' Paseo de Gracia Double or Twin Room ', ' Privilege King Room ', ' Apartement ', ' Luxury Suite Conservatory with Lounge Access ', ' Deluxe Double with Winter Garden View ', ' Squint Penthouse Suite ', ' Privilege Double Room with Saint Germain des Pr s Church View ', ' Superior Twin Room with Sofa Bed Non Smoking ', ' Superior Twin Room Barlow Wing ', ' King or Double Room with Panoramic View ', ' Executive Twin Room with River View ', ' Superior Double Room with Park View ', ' Superior Room with Extra Bed 3 Adults ', ' Double Room 2 Adults 1 Child ', ' Twin Room Disability Access ', ' Superior Twin Room with Internal View ', ' Double or Twin Room with Extra Bed with Balcony ', ' Op ra Junior Suite ', ' Accessible Queen Guest Room ', ' Deluxe Double Room with Spa Access Free Wifi ', ' Executive Twin Room with Lounge Access ', ' Executive Double Twin City View ', ' Superior Double Studio ', ' Camper Room ', ' Hyatt Queen Room with View ', ' Executive Suite with Balcony ', ' Junior Suite My Ch rie Amour ', ' King Deluxe Guest Room ', ' Double Room with View ', ' Classic Single Room with Spa Access ', ' Congress Suite ', ' Penthouse Suite ', ' Top Deluxe Room ', ' Royal Mews View Classic Double ', ' Twin Room with View ', ' King Room with Sofa Bed and Balcony ', ' Executive Room with Terrace ', ' Superior Double Room 1 2 Adults ', ' Standard Room with queen size bed and double sofa bed ', ' Urban Junior Suite ', ' Mandarin Double or Twin Room ', ' Double or Twin Room 1 or 2 adults ', ' Studio with Courtyard View ', ' King Deluxe Room with Canal View ', ' Executive Triple Room ', ' Junior Suite Attic ', ' Family 2 Connecting Rooms ', ' Deluxe Double Room with Terrace ', ' King Deluxe Family Room Connecting Doors ', ' Luxury Double Room Mezzanine ', ' With a pet ', ' Standard Twin Room with Bridge View ', ' Queen Room ', ' Double or Twin Room with Park View ', ' Elisabeth Suite ', ' Executive Room with 1 Queen Bed and 1 Sofa 3 Adults ', ' Standard Double Room Single Use ', ' Luxury Family Room ', ' Executive Deluxe Double Room with Spa Access ', ' Junior Queen Suite with Sofa Bed ', ' Stayed 12 nights ', ' Double Hilton Guest Room Plus ', ' Garden Twin Room ', ' Premier Room with Balcony ', ' Saint Honor Double Suite ', ' Standard Double or Twin Room ', ' Superior Room with Balcony and Opera Garnier View ', ' Superior Suite 2 Adults ', ' Bobo Queen or Twin Room with Spa access ', ' Suite 4 Adults ', ' Kings One Bedroom Suite ', ' Studio Triple ', ' Deluxe King or Twin Room ', ' Standard Double Room with View Terrace ', ' Premier Double or Twin Room with Extra Bed ', ' Junior Suite with Extra Bed ', ' Standard Room with Queen Bed and Sofa ', ' Double Hilton Deluxe Room ', ' Double or Twin Room Ladies Special ', ' Business Double Room with WiFi and Breakfast ', ' Cosy Twin Room ', ' Supreme Double Room ', ' Twin Guest Room ', ' Junior Suite with Gallery View ', ' Special Offer Classic Room ', ' City Suite ', ' Large Penthouse Suite with Terrace and City View ', ' King Grand Deluxe Room ', ' Deluxe Room with Two Single Beds ', ' Stayed 23 nights ', ' Corner Double Room ', ' Queen Family Room ', ' Deluxe Double or Twin Room with Parking ', ' Standard Family Suite with Two Connecting Rooms ', ' Superior Room ', ' Twin Grand Deluxe Room ', ' Superior Twin Room with Courtyard Garden or City View ', ' Business Plus Double Room with Balcony ', ' King Room with Pool View ', ' Superior Double Room with Internal View ', ' Duke of Monmouth Suite ', ' Sextuple Room ', ' Classic Queen Room ', ' Classic Twin Room ', ' Premium Double Room with Views ', ' Deluxe King Room with Stadium View ', ' Souterrain Double Room ', ' Executive Double or Twin Room with Private Terrace ', ' Standard Room 1 2 adults ', ' Emperor Suite ', ' Standard Double or Twin Room Tea Time Wine Tasting Included ', ' Family Room with Spa access ', ' Octagon Suite with Lounge Access ', ' Junior Triple Suite ', ' Room with View ', ' Deluxe Family Room with View ', ' Suite 1 2 Adults with Spa Access ', ' Deluxe Double Room with 1 Extra Bed ', ' Prestige Family Room ', ' X Ordinary Room ', ' Deluxe Double Room with River View ', ' Standard Queen Room with Sofa Bed ', ' Couple ', ' King Room with Courtyard View ', ' Group ', ' Executive Queen Suite ', ' Economy Twin Room ', ' Deluxe Quadruple Room with Paris View ', ' Grand Premier King Room ', ' Luxury King Room 3 Adults ', ' Club King Room with Lounge Access ', ' One Bedroom Family Suite ', ' Standard Room for 1 or 2 people with Kitchenette ', ' Suite Free Executive Lounge Access ', ' Luxury Suite Superior ', ' Double Room Medium ', ' Falconers One Bedroom Suite ', ' Executive Queen Room with Lounge Access ', ' Superior Double Room with Sofa Bed ', ' Family Room with Two Double Beds ', ' Business Twin Room with Courtyard View and Public Transport Ticket ', ' Two Connecting Double Rooms 4 Adults ', ' Executive Suite with River View ', ' Privilege Room with a double bed ', ' Two Adjacent Classic Rooms ', ' Privilege Family Room ', ' Luxury Junior Suite ', ' Panorama Double Room ', ' Luxury Double Room ', ' Westminster Suite with King Bed ', ' Superior Deluxe Double Room ', ' Superior Double or Twin Room with Extra Bed 3 Adults ', ' Suite Family Room ', ' Superior Oversized Queen Room ', ' Queen Suite with City View ', ' Standard Double Room with Queen Bed ', ' Grand Suite with Canal View ', ' Superior Triple Room with 1 Double Bed 1 Single Bed ', ' Nhow Double or Twin Room ', ' Twin Room with Mobile Phone ', ' Executive Queen Room with Two Queen Beds with lounge Access ', ' Duplex Suite with Spa Access ', ' Twin Room with Pool View ', ' Executive King Twin Room ', ' Double or Twin Room with Pool View ', ' Deluxe Accessible Twin Room with View ', ' Superior Room with 1 Double Bed and Sofa ', ' Deluxe King Guestroom with view ', ' Business Double Room Ground Floor ', ' One Bedroom Suite with Courtyard View ', ' Classic Double Room with free pool and hammam access ', ' Executive King Room with Panoramic View ', ' Delightful King Twin Room ', ' Deluxe King Studio Suite ', ' Two Adjacent Rooms 6 persons ', ' Superior Double Room Loge Sup rieure ', ' Suite with free pool and hammam access ', ' Deluxe Executive Room ', ' Superior Room with Queen Bed Sofa ', ' Two Bedroom Suite with Terrace ', ' Mega Room ', ' Superior King Room with River View ', ' Classic Twin Room with View ', ' King Hilton Plaza Room ', ' Superior Double or Twin Room with Canal View ', ' Residence Suite ', ' Deluxe Twin Room ', ' Double Family Guestroom ', ' Executive King or Twin Room with Lounge Access and Park View ', ' Standard Double or Twin with view ', ' Duplex Family Suite with Spa Bath ', ' Deluxe Studio Suite ', ' Standard Double Room with Sofa Bed ', ' Two Connecting Rooms 2 Adults 2 Children ', ' Business Apartment 1 Adult ', ' Deluxe Studio Apartment 2 Adults ', ' Leisure trip ', ' Double Room with Public Transport Ticket ', ' Deluxe Double Room with Spa Bath ', ' Superior Room 3 Adults ', ' penta PlayerPad Suite ', ' Executive Room with views of Paris Queen size bed and Double Sofa Bed 2 Adults 2 Children ', ' Suite with Panoramic View ', ' Family Premium Room 2 Adults 2 Children ', ' King Room with River View ', ' Double Deluxe room with Roman Bath ', ' Suite with Balcony ', ' Single Room with Shared Bathroom ', ' Privil ge Suite with 1 Double Bed and Sofa ', ' Executive Room with queen size bed and single sofa bed 3 Adults ', ' Family room Free Wi Fi ', ' Superior Double Room with 1 Double Bed and 1 Sofa Bed 2 places ', ' Andaz King Twin Room ', ' Family Room Free Wi Fi ', ' Prestige Room Swimming Pool Hammam Access upon reservation ', ' King One Bedroom Suite ', ' Standard Double Room with Tea Time Included ', ' Superior Junior Suite ', ' Suite with Terrace ', ' Premium Room Grand Pigalle ', ' Double Room 3 Adults ', ' Superior Room with Two Double Beds and View ', ' Superior Twin Room with City View ', ' Loft Suite with Terrace ', ' The Duplex ', ' Standard Room with 1 Double Bed and 1 Sofa Bed ', ' Park Deluxe Suite ', ' Delightful Queen Room ', ' King Grand Premier with Canal View ', ' Quadruple Suite ', ' Fabulous Room ', ' Family Room with Bathroom ', ' Luxury Double or Twin Room ', ' City Apartment ', ' Marvelous Suite Exchange ', ' Andaz Suite ', ' Superior Room with 2 zip beds ', ' Grand Executive King Room ', ' Deluxe King Room with Club Lounge Access ', ' Park King or Twin ', ' Spectacular Double Room ', ' Executive Deluxe Room ', ' Marina Double Suite ', ' Studio Suite with Club Lounge Access ', ' Economy Double Room basement no window ', ' Junior Family Suite 3 Adults ', ' Junior Suite with Lounge Access and City View ', ' Twin Room with Extra Bed 3 Adults ', ' Standard Double Room with Sofa ', ' Two Adjacent Rooms 5 Adults ', ' Superior King ', ' Club Twin Room ', ' Eiffel Tower View King Room ', ' Economy Double Room ', ' Deluxe Double plus Single Bed ', ' Superior Single Room ', ' King Junior Suite with View ', ' Marina Twin Suite ', ' Double room 1 or 2 people ', ' Chelsea Twin Suite ', ' Apartment 3 Adults ', ' Suite 2 Adults 2 Children ', ' Mosaic Double Room ', ' Ruyschen Suite ', ' Townhouse Club ', ' Double or Twin Ground Floor ', ' Suite with Garden View ', ' Executive Double Room With Free Access to Steam Bath ', ' Queen Guest Room Mobility Accessible ', ' Embassy Suite ', ' Grand Executive Club Room ', ' Garden Cottage ', ' Deluxe Double Room Swimming Pool Hammam Access upon reservation ', ' Special Offer Deluxe Double Room ', ' Suite with Private Pool ', ' Condal Double or Twin Room ', ' Junior Suite With Free Access to Steam Bath ', ' Deluxe Room Barlow Wing ', ' Double Room Courtyard ', ' Triple Family Guestroom ', ' Double Room Ground Floor ', ' Double or Twin Room ', ' Special Offer Double Room 3 nights minimum ', ' Superior Double Room with Tea Time Included ', ' Stayed 15 nights ', ' Superior Twin Room with Extra Bed ', ' Penthouse Junior Suite with Access to Executive Lounge ', ' Superior Double or Twin Room with Free Wifi ', ' Duplex Twin Room ', ' Privilege Top Floor with Terrace ', ' Delegate Deluxe Double Room ', ' Apartment Attic ', ' Garden King Room ', ' Queen Room with Eiffel Tower View ', ' Double Room with Club Lounge Access ', ' Cozy Exchange King ', ' Marvellous Suite ', ' Junior Suite with Spa Bath ', ' Business Apartment with Public Transport Ticket ', ' Family Apartment 4 Adults with Spa access ', ' Deluxe Double Room with Two Single Beds ', ' Junior Suite with Bath ', ' Superior Double Room with free pool and hammam access ', ' Deluxe Room 3 Adults ', ' Loft Suite Disability Access ', ' Double Deluxe Plus Room ', ' Hilton Executive Suite with Lounge Access ', ' Deluxe L Double Room ', ' Guest Room with Balcony ', ' Superior Room with 1 Single Bed ', ' Privilege Room with Hammam ', ' Single Cabin Room ', ' King Room with Balcony ', ' Triple Room with City View ', ' Deluxe One Bedroom Suite with River View ', ' Hyatt Twin Room ', ' Superior Double Room with Spa Access Free Wifi ', ' Royal Mews View King Room ', ' Executive Premium Room with a Queen Bed ', ' Privilege Twin King Room ', ' Deluxe Double or Twin Room with Sea View ', ' Royal Duplex Suite ', ' Kings Deluxe Junior Suite ', ' Emotion Room with Terrace ', ' Suite with Hot Tub ', ' Deluxe Twin Room Annex ', ' Standard Double or Twin Room 3 Adults ', ' Queen Guest Room with Terrace ', ' 2 Connecting Rooms ', ' Deluxe Double Room 1 2 adults ', ' Superior Double Twin Room with Free Parking ', ' Double Room with Free Airport Shuttle Service from 5 00am to 00 30am ', ' Classic Apartment ', ' penta Junior Suite ', ' Romantic Offer Double Room ', ' Modern Double Room Narcisse ', ' Junior Suite Cathedral View with Access to Executive Lounge ', ' Premier Junior Suite 1 2 Adults ', ' Bridal Suite with view ', ' Deluxe Triple Room with Tea Time Included ', ' Double or Twin Room with Sofa Bed ', ' Art Deco Room Terrace ', ' Premium Triple Room ', ' Dorsett Double Room ', ' Standard Quad Room ', ' Superior Twin Room with Pool Access ', ' Standard Room with Queen Bed and Sofa Bed ', ' Superior Double or Twin Room XL with Extra Bed 3 Adults ', ' Stayed 20 nights ', ' Park Studio King ', ' Apartment 4 Adults ', ' Maisonette ', ' Presidential suite with view terrace ', ' Cool Corner Room ', ' Suite Cocotte ', ' Premium Double or Twin Room with View ', ' Studio Deluxe Suite ', ' Exclusive Suite ', ' Junior Suite with Hydromassage Shower ', ' Classic Room with Queen Bed ', ' Standard Triple Room with Queen Bed and Sofa Bed ', ' Classic Double Room with Courtyard View ', ' Deluxe Double or Twin Room 3 Adults ', ' Double Room for Single Use ', ' Double Room with Eiffel Tower View ', ' Penthouse Plaza Suite with Access to Executive Lounge ', ' Deluxe King Room with Water View ', ' Suite Parisienne ', ' Club King Room with View and Lounge Access ', ' Grand Suite ', ' Suite with Balcony and Spa Access ', ' Triple Room with Mobile Phone 3 adults ', ' Two Bedroom Apartment ', ' Superior Double or Twin Room with Parking ', ' Two Interconnecting Rooms ', ' Double Room with 2 tickets for a Cruise on the Seine river ', ' Twin Room with Courtyard View ', ' King Room with City View Top floors ', ' Parisian Suite ', ' Drop Dead Gorgeous Splash Suite ', ' Superior Room with Spa access ', ' Wonderful Bank King ', ' Special Offer Double Room Park and Sleep inklusive Breakfast ', ' Deluxe Metropolitan City Double Room ', ' Twin Guestroom ', ' New Amsterdam Suite ', ' Single Room with Sauna Access ', ' Panoramic Room ', ' Single Room with Double Bed ', ' Stayed 22 nights ', ' Art Room with Iconic View ', ' Double Room with French Bed ', ' Paris Style Queen or Twin Room with Spa access ', ' Stanhope Suite ', ' One Double Suite NonSmoking ', ' Premier River King Room ', ' Double Room with Mobile Phone ', ' Grand Executive Room ', ' Weekend Offer Standard Studio ', ' Executive Room with Queen Bed ', ' Souterrain Executive Double Room ', ' Business Single Room with Balcony ', ' Standard Single Room ', ' Deluxe Double Room with Hammam ', ' Double or Twin Room with Terrace and Spa Access ', ' Double or Twin Room 1 2 Adults ', ' Executive King Room ', ' Superior Room with Balcony with Spa Access ', ' Single Hilton Guest Room ', ' Double or Twin Room Non Smoking ', ' Deluxe King Guestroom ', ' Horizon Suite with Dock View ', ' Superior Designer ', ' Single Room Non Smoking ', ' Standard Family Suite with Two Connecting Rooms 4 Adults ', ' Large King Room ', ' Junior Suite with Queen Size Bed ', ' Junior Triple Room ', ' Standard Room with 1 Double Bed and 1 Double Sofa bed ', ' Twin Executive Room ', ' Superior Double Room with Free Access to Steam Bath ', ' Standard room with 1 queen bed and sofa ', ' Triple Room ', ' Basic Twin Room ', ' Junior King Suite with Lounge Access ', ' Double Room with Garden View ', ' Superior Suite 3 Adults ', ' Deluxe Boulevard Double Room ', ' King Guestroom ', ' Superior Twin Room with Paris View ', ' Two Bedroom Suite ', ' Double or Twin Room with Sea View ', ' Deluxe Double Room with Private Pool ', ' King Room with View ', ' Four Connecting Rooms ', ' Two Bedroom Family Room ', ' Superior Room with One Double Bed ', ' Superior Double Room 2 Adults 1 Child ', ' King or Twin Room with River View ', ' Standard Double Room with Sofa Bed 3 Adults ', ' Executive Room ', ' Deluxe Double and Single Room ', ' Signature Luxury King with Balcony ', ' Deluxe Room with Courtyard View ', ' Twin Hilton Deluxe Room ', ' Queen Room Upper Floors ', ' Deluxe Double Room with Balcony Non Smoking ', ' Cosy Family ', ' Junior Suite with Cathedral View ', ' Deluxe Triple Suite ', ' Superior Twin Room with Terrace ', ' One Bedroom Apartment ', ' Double Room with Patio View ', ' Premium Quadruple Room ', ' Queen Junior Suite ', ' Superior Room with 1 Queensize Bed Canal view ', ' Single Room City ', ' Premium Twin Room ', ' Superior King Room Eiffel Tower View ', ' Junior Suite with River View and Balcony ', ' Superior Double or Twin Room with Extra Bed 2 Adults 1 Child ', ' Double Double Room ', ' Premier Room ', ' Standard Room with Double Bed and Sofa Bed ', ' Executive Room with Double Bed ', ' Superior Room with Queensize Bed and Single Sofa Bed ', ' Twin Plaza Executive Room ', ' Suite Couture ', ' Double Room Relax ', ' Special Offer Single Room with Continental Breakfast ', ' Superior Quadruple Room With Balcony ', ' Classic Studio ', ' Suite with Duomo View ', ' Standard Room with Mobile Phone ', ' Premium Room 3 adults ', ' Junior Suite with Free Bottle of Champagne ', ' Bunk Bed Room ', ' Executive Room with Two Double Beds ', ' Stayed 8 nights ', ' Classic Double Single Use ', ' Premier Shard King Room ', ' Double Room Rouge Epic e ', ' Twin Suite ', ' View Queen ', ' Standard Room with 1 Single Bed ', ' Superior M Double Room ', ' Club Double or Twin Room ', ' Standard King Room Non Smoking ', ' Mini Room ', ' Double Room Luxury XXL King size bed ', ' Submitted from a mobile device ', ' Premium Double or Twin Room XL ', ' Classic Double Room with Garden View ', ' Business Double Room with Courtyard View and Public Transport Ticket ', ' Double Room Op ra Garnier with Spa Bath ', ' Queen Hilton Superior Room ', ' Double for Single Use ', ' Two Bedroom Family ', ' Executive Room with Two Queen Beds ', ' Executive Room with 1 Queen bed ', ' Premium King Room with View ', ' Privilege Room 3 Adults ', ' Double Room with Terrace ', ' Comfort Double or Twin Room 1 2 Adults ', ' Superior Room with Club Lounge Access Free Wifi ', ' Deluxe Queen Room with Pool View ', ' Stayed 14 nights ', ' Special Offer Classic Double Room ', ' Executive with Two Double Beds ', ' Queen One Bedroom Suite ', ' Deluxe Designer ', ' Adjacent Rooms ', ' Deluxe Double Room with Two Double Beds ', ' Superior Double Room 1 Adult ', ' Deluxe Family Room with 1 Double and 2 Single Beds 4 Adults ', ' Studio Twin Room 3 adults ', ' Classic Single Room with Garden View ', ' Suite 2 Adults 1 Child ', ' Deluxe Double or Twin Room Disability Access ', ' Triple Room with Park View ', ' Two Adjacent Deluxe Rooms ', ' Deluxe Double ', ' Executive Double Room with Double Bed and Sofa Bed ', ' Family Room with sofa bed ', ' Junior Suite Sans Mod ration ', ' Double Room Crash Pad Under 30s ', ' Double Room Mus e d Orsay with Spa Bath ', ' Deluxe Room 1 or 2 people ', ' Special Offer Queen Room ', ' Standard Double Room Disability Access ', ' Two Connecting Double or Twin Rooms ', ' Comfort Double or Twin Room ', ' Standard Double or Twin Room with Balcony ', ' Suite Avenue ', ' Deluxe Double Room with Private Patio ', ' King Room Mobility Accessible Non Smoking ', ' Double Room with City View Top Floor ', ' Intuition Room ', ' Standard Double Room with Sea View ', ' Deluxe Triple Room Swimming Pool Hammam Access upon reservation ', ' Superior King Room with Pool View ', ' Superior Double Room ', ' Suite 3 Adults ', ' Superior Room with 1 Queen Bed and Sofa ', ' Room with Ramblas View ', ' Studio 2 Adults ', ' Executive Studio Apartment 2 Adults 1 child ', ' King Room Second Floor ', ' Two Adjacent Classic Double Rooms ', ' Classic Designer ', ' Duplex Deluxe Triple Room 2 Adults 1 Child ', ' Junior Suite with access to the Club Lounge ', ' Imperial Club Double Room with access to the Club Lounge ', ' Souterrain Triple Room ', ' Studio Double Room ', ' Single Room with Garden View ', ' Premium King Room ', ' Superior Double or Twin Room XL with Extra bed ', ' Executive Triple Room with Garden View ', ' Junior Suite with Extra Bed 3 Adults ', ' Attach Suite ', ' Superior Suite with 1 Double Bed and 2 Single Beds ', ' Deluxe Double Studio ', ' Director s Double Room ', ' Junior Suite with Bath and Shower ', ' Superior Room with 1 Queen Bed 1 Sofa Bed ', ' Deluxe Premium Double Room ', ' Stayed 21 nights ', ' Superior Double or Twin Room with City View ', ' Superior Queen Suite with Sofa ', ' Deluxe King Room Disability Access ', ' Classic Single Room ', ' The Level Executive Service Room ', ' Stayed 26 nights ', ' Queen Room with Sofa Bed ', ' Classic Double or Twin Room with extra bed ', ' Comfort Triple Room with Spa Bath ', ' Queen Room with Mobility Access ', ' Universitat Single Room ', ' Deluxe Twin Room with Eiffel Tower View ', ' Souterraine Double or Twin Room ', ' Privilege Double Room 2 Adults 1 child ', ' Deluxe Junior Suite with Lounge Access ', ' Ground Floor Queen Room Disability Access ', ' Superior Queen Room Non Smoking ', ' Suite Breakfast and Bottle of Champagne Included ', ' Superior Double Room with Free Pool Access ', ' Family Room 2 Adults 2 Children with Access to Nagomi Health ', ' 2 Connecting Double Rooms ', ' Twin City View Room ', ' Superior Queen Room ', ' Corner Twin Room ', ' Double Room with Single Bed ', ' Elegance Double or Twin Room ', ' 2 Connecting Deluxe Rooms with VIP Service for Kids ', ' Executive Room Non Smoking ', ' Double or Twin Room with Spa Access ', ' Deluxe One Bedroom Park Suite ', ' Superior Room with 1 Double Bed and 1 Sofa Bed 1 place ', ' Junior Suite 3 Adults with Paris View ', ' Superior Double Room Pigalle 17 ', ' Superior Double Room with Balcony and City View ', ' Design Suite ', ' Family Room Sleeps Four ', ' Junior Suite Canal View ', ' Double Queen Family Suite with Access to Executive Lounge ', ' Luxury 1 Bed Suite ', ' Superior Room Queen Bed ', ' King Corner Room ', ' Double Suite ', ' Business Room ', ' Deluxe King Room with Paris View ', ' Standard room with 1 queen bed and sofa 3 Adults ', ' Marquise Superior Double or Twin Room ', ' Small Single Room ', ' Large Single Room ', ' Double Room Duchesse ', ' Superior Double Room with Courtyard View ', ' Classic Double Room 1 Adult ', ' Prestige Double Room ', ' Classic King Twin Room ', ' Junior Suite Twin ', ' Superior Double or Twin Room with Pool Spa Access ', ' Tiny Single Room ', ' Amsterdam Street Art Double Guest Room ', ' Executive Twin Room with Access to Executive Lounge ', ' Special Offer Double Room with Continental Breakfast ', ' Premium Deluxe Double Room with River View ', ' Deluxe Double Room with Panoramic View ', ' Suite with Knightsbridge View ', ' Parisian Junior Suite ', ' One Bedroom Suite with Sea View ', ' Privilege Room with Double Bed and Single Sofa Bed 3 Adults ', ' Hilton Superior King Room ', ' Basic Double or Twin Room ', ' King Double or Twin Room ', ' Superior Suite ', ' Quadruple Room Annex ', ' Premier Double or Twin Room ', ' Superior Double ', ' Standard Double or Twin Room with Balcony 1 Adult ', ' Twin Hilton Guest Room ', ' Superior Double Room with View Non Smoking ', ' Queen Guest Room with River View ', ' Deluxe King with Balcony ', ' Mansart Executive Room ', ' Superior Suite with 1 Double Bed and 1 Single Bed ', ' Suite with River View ', ' Executive Double Room with Two Double Beds with Lounge Access ', ' Executive Suite 2 Adults ', ' Suite Reloj ', ' Executive Family Room 2 Adults and 2 Children ', ' Apartment ', ' Deluxe Room with Club Lounge access ', ' Comfort King or Twin Room ', ' Deluxe Single Room with View ', ' Privilege Room with Double Bed and Single Sofa Bed ', ' Double Room Free Wi Fi ', ' Superior Apartment 3 Adults ', ' Double Room GWR Tower ', ' Single Studio ', ' Studio Apartment ', ' Family Studio ', ' Deluxe Double Room with Lounge Access ', ' Standard Suite ', ' Junior Suite ', ' Standard Room with Two Single Beds Renovated ', ' Compact Double Room shared bathroom ', ' Two Adjacent Rooms ', ' Privilege Superior Room ', ' Superior Double or Twin Room XL with View ', ' Deluxe Double with Terrace ', ' Premium Double or Twin Room XL with View ', ' Double Room 1 Adult ', ' Junior Suite 4 Adults ', ' One Bedroom Park Suite ', ' Park View Studio ', ' Standard Triple Room 3 Adults ', ' Deluxe room with 1 queen bed ', ' Double or Twin Room with Balcony ', ' Connecting Double Rooms ', ' Privilege Double or Twin Room ', ' Terrace Junior Suite ', ' Single Room with Bathroom ', ' Superior Deluxe Double Room Pigalle 22 ', ' Superior Double Room with View ', ' Executive Room Queen size Bed ', ' Deluxe Twin or Single Room ', ' Double Room with Fitness Equipment ', ' Studio Double Family ', ' Family Room 3 Adults 1 Child ', ' Executive Room with View and Lounge Access ', ' Superior Queen Room with Single Sofa Bed ', ' Comfort Double Room with Extra Bed ', ' Junior Suite Royal ', ' Executive Junior Suite with Sea View ', ' Executive Double Room with Turkish Bath ', ' Superior Room with a shower or a bath ', ' Art Deco Deluxe Room ', ' Comfort Single Room ', ' Cozy Room ', ' River Double Suite ', ' Small Twin Room ', ' Chelsea Double Suite ', ' Superior One Bedroom Apartment ', ' Junior Suite Immersive Art Experience ', ' Junior Suite 2 Adults 1 Child ', ' Luxury Double Room Large ', ' Grand Premier Family Room ', ' Club Double Room with Lounge Access ', ' Double or Twin Room with Terrace and Panoramic View ', ' Deluxe Double Room with Four Poster Bed ', ' Courtyard Suite with St Stephen s Cathedral view ', ' King Deluxe Family Room ', ' Budget Single Room ', ' One Bedroom Deluxe Suite ', ' Deluxe Twin Room with View ', ' Classic Room Breakfast Included ', ' Signature Suite ', ' Superior Pantheon Room ', ' Special Offer Standard Double or Twin Room ', ' Deluxe King Room with River View ', ' Junior Suite with City View ', ' Double Room with Canal View ', ' Comfort Family Room ', ' King Suite Non Smoking with Executive Lounge Access ', ' Family Duplex Room ', ' Apartments 4 Adults ', ' Superior Room 2 Single Beds ', ' Duplex King Suite 3 Adults ', ' Deluxe Suite with Executive Lounge Access ', ' Executive Family Room ', ' Standard Double Room Non Smoking ', ' Executive Apartment ', ' Double Room Lady Soul ', ' Boudoir Double Room ', ' Superior Premium Queen Room with Sofa Bed ', ' Double without credit card ', ' Master Suite ', ' Deluxe Double Room with Gallery View ', ' Deluxe Contemporary Room ', ' Junior Suite with Private Pool Spa Access ', ' Hoxton Family Suite ', ' Privilege Room with King bed ', ' Exclusive Suite Eiffel ', ' superior Double or Twin Room with extra bed '}\n"
     ]
    }
   ],
   "source": [
    "# Множество тегов\n",
    "unique_tags = {\n",
    "    # Разделение строки по пробелу, удаление кавычек\n",
    "    t.strip().strip(\"'\") \n",
    "    for tag_str in data['tags']\n",
    "    # Удаление скобок, разделение по запятой\n",
    "    for t in tag_str.strip(\"[]\").split(\",\")\n",
    "}\n",
    "print(unique_tags)"
   ]
  },
  {
   "cell_type": "code",
   "execution_count": 48,
   "id": "8aba6c16",
   "metadata": {},
   "outputs": [
    {
     "name": "stdout",
     "output_type": "stream",
     "text": [
      "Самый популярный тег: ' Leisure trip ' (встречается 313593 раз(а))\n"
     ]
    }
   ],
   "source": [
    "from collections import Counter\n",
    "# Создаем словарь для подсчета тегов\n",
    "tag_counts = Counter()\n",
    "for tag_str in data['tags']:\n",
    "    # Преобразуем строку в список\n",
    "    tags = [t.strip().strip(\"'\") for t in tag_str.strip(\"[]\").split(\",\")]\n",
    "    # Обновляем счетчик\n",
    "    tag_counts.update(tags)\n",
    "\n",
    "# Находим самый частый тег\n",
    "most_common_tag, count = tag_counts.most_common(1)[0]\n",
    "\n",
    "print(f\"Самый популярный тег: '{most_common_tag}' (встречается {count} раз(а))\")"
   ]
  },
  {
   "cell_type": "markdown",
   "id": "31b85a80",
   "metadata": {},
   "source": [
    "Также можно получить признаки:\n",
    "- тип поездки\n",
    "- тип гостей\n",
    "- категория номера\n",
    "- длительность пребывания"
   ]
  },
  {
   "cell_type": "code",
   "execution_count": 52,
   "id": "36ac69f8",
   "metadata": {},
   "outputs": [],
   "source": [
    "# Список типов поездок с учетом возможных вариантов написания\n",
    "trip_types = {\n",
    "    'Leisure': ['Leisure trip', 'Vacation', 'Holiday', 'Leisure'],\n",
    "    'Business': ['Business trip', 'Work trip', 'Conference', 'Business'],\n",
    "    'Romantic': ['Romantic trip', 'Honeymoon', 'Anniversary', 'Romantic'],\n",
    "    'Family': ['Family trip', 'With children', 'Family'],\n",
    "    'Solo': ['Solo trip', 'Alone', 'Solo']\n",
    "}\n",
    "# Функция извлечения тип поездки\n",
    "def extract_trip_type(tags_str):\n",
    "    tags = str(tags_str).lower()\n",
    "    if re.search(r'leisure|vacation|holiday', tags):\n",
    "        return 'Leisure'\n",
    "    if re.search(r'business|work|conference', tags):\n",
    "        return 'Business'\n",
    "    if re.search(r'romantic|honeymoon|anniversary', tags):\n",
    "        return 'Romantic'\n",
    "    return 'Other'\n",
    "# Применяем функцию\n",
    "data['trip_type'] = data['tags'].apply(extract_trip_type)"
   ]
  },
  {
   "cell_type": "code",
   "execution_count": 55,
   "id": "fa08c024",
   "metadata": {},
   "outputs": [
    {
     "data": {
      "text/plain": [
       "trip_type\n",
       "Leisure     313602\n",
       "Business     61998\n",
       "Other        11202\n",
       "Romantic         1\n",
       "Name: count, dtype: int64"
      ]
     },
     "execution_count": 55,
     "metadata": {},
     "output_type": "execute_result"
    }
   ],
   "source": [
    "data['trip_type'].value_counts()"
   ]
  },
  {
   "cell_type": "code",
   "execution_count": 57,
   "id": "1f725b25",
   "metadata": {},
   "outputs": [],
   "source": [
    "def extract_guests_type(tags_str):\n",
    "    # Cловарь типов гостей с вариантами написания\n",
    "    guests_types = {\n",
    "        'Solo': ['Solo traveler', 'Alone', 'Solo', 'Single', 'Traveled alone', 'Business trip'],\n",
    "        'Couple': ['Couple', 'Two adults', 'Duo', 'Pair', 'Romantic trip', 'Honeymoon'],\n",
    "        'Family': ['Family', 'With children', 'Kids', 'Child', 'Parents', 'Family trip'],\n",
    "        'Group': ['Group', 'Friends', 'Colleagues', 'Team', 'Several people', 'Many travelers'],\n",
    "        'Business': ['Colleague', 'Coworkers', 'Business partners', 'Conference attendees']\n",
    "    }\n",
    "    # Нормализуем строку тегов\n",
    "    tags = str(tags_str).lower()\n",
    "    # Ищем совпадения\n",
    "    for guest_type, keywords in guests_types.items():\n",
    "        for keyword in keywords:\n",
    "            if keyword.lower() in tags:\n",
    "                return guest_type  \n",
    "    # Дополнительные проверки по контексту\n",
    "    if 'child' in tags or 'kid' in tags:\n",
    "        return 'Family'\n",
    "    if 'friend' in tags:\n",
    "        return 'Group'\n",
    "    return 'Unknown'  # Вместо None для сохранения всех записей\n",
    "# Применение\n",
    "data['guests_type'] = data['tags'].apply(extract_guests_type)"
   ]
  },
  {
   "cell_type": "code",
   "execution_count": 58,
   "id": "f61f8356",
   "metadata": {},
   "outputs": [
    {
     "data": {
      "text/plain": [
       "guests_type\n",
       "Couple    177795\n",
       "Solo      102668\n",
       "Family     63161\n",
       "Group      43179\n",
       "Name: count, dtype: int64"
      ]
     },
     "execution_count": 58,
     "metadata": {},
     "output_type": "execute_result"
    }
   ],
   "source": [
    "data['guests_type'].value_counts()"
   ]
  },
  {
   "cell_type": "code",
   "execution_count": null,
   "id": "50084880",
   "metadata": {},
   "outputs": [],
   "source": [
    "# Функция для извлечения категории номера\n",
    "def extract_category_room(tags_str):\n",
    "    tags = [t.strip().strip(\"'\") for t in tags_str.strip(\"[]\").split(\",\")]\n",
    "    trip_types = ['Standard Double', 'Studio Suite', 'Deluxe Room']\n",
    "    for tag in tags:\n",
    "        if tag in trip_types:\n",
    "            return tag\n",
    "    return None  # если тип номера не найден\n",
    "\n",
    "# Применяем функцию к столбцу с тегами\n",
    "data['category_room'] = data['tags'].apply(extract_category_room)"
   ]
  },
  {
   "cell_type": "code",
   "execution_count": null,
   "id": "62e31cbe",
   "metadata": {},
   "outputs": [],
   "source": [
    "# Функция для извлечения длительности пребывания\n",
    "def extract_timeofstay(tags_str):\n",
    "    tags = [t.strip().strip(\"'\") for t in tags_str.strip(\"[]\").split(\",\")]\n",
    "    trip_types = ['Stayed 1 night', 'Stayed 2 nights', 'Long stay']\n",
    "    for tag in tags:\n",
    "        if tag in trip_types:\n",
    "            return tag\n",
    "    return None  # если тип времяпребывания не найден\n",
    "\n",
    "# Применяем функцию к столбцу с тегами\n",
    "data['timeofstay'] = data['tags'].apply(extract_timeofstay)"
   ]
  },
  {
   "cell_type": "code",
   "execution_count": null,
   "id": "aea35867",
   "metadata": {},
   "outputs": [],
   "source": [
    "# Удаление старого признака\n",
    "data = data.drop(['tags'], axis=1)"
   ]
  },
  {
   "cell_type": "markdown",
   "id": "86527551",
   "metadata": {},
   "source": [
    "### 1.8 Дни с даты ревью"
   ]
  },
  {
   "cell_type": "code",
   "execution_count": null,
   "id": "5808fe4d",
   "metadata": {},
   "outputs": [],
   "source": [
    "data['days_since_review'].head(2)"
   ]
  },
  {
   "cell_type": "markdown",
   "id": "09f7f4e2",
   "metadata": {},
   "source": [
    "Можно разделить на группы, насколько давно был оставлен отзыв"
   ]
  },
  {
   "cell_type": "code",
   "execution_count": null,
   "id": "6881480f",
   "metadata": {},
   "outputs": [],
   "source": [
    "data['days_since_review'].apply(lambda x: x.split()[1]).value_counts()"
   ]
  },
  {
   "cell_type": "markdown",
   "id": "5385c145",
   "metadata": {},
   "source": [
    "Содержит только дни, значит можно без перевода из годов в дни получить дни"
   ]
  },
  {
   "cell_type": "code",
   "execution_count": null,
   "id": "330b4173",
   "metadata": {},
   "outputs": [],
   "source": [
    "data['days_since_review'] = data['days_since_review'].apply(lambda x: int(x.split()[0]))\n",
    "bins = [0, 30, 90, 365, float('inf')]  # Границы категорий (дни)\n",
    "labels = ['<1 month', '1-3 months', '3-12 months', '>1 year']\n",
    "data['review_recency'] = pd.cut(data['days_since_review'], bins=bins, labels=labels)"
   ]
  },
  {
   "cell_type": "code",
   "execution_count": null,
   "id": "3382e032",
   "metadata": {},
   "outputs": [],
   "source": [
    "# Удаление старого признака\n",
    "data = data.drop(['days_since_review'], axis=1)"
   ]
  },
  {
   "cell_type": "markdown",
   "id": "8cd1bc79",
   "metadata": {},
   "source": [
    "## 2. Работа с пропусками в данных"
   ]
  },
  {
   "cell_type": "code",
   "execution_count": null,
   "id": "eb97b704",
   "metadata": {},
   "outputs": [],
   "source": [
    "# Вывод общей информации о столбцах\n",
    "data.info()"
   ]
  },
  {
   "cell_type": "code",
   "execution_count": null,
   "id": "7681d6c2",
   "metadata": {},
   "outputs": [],
   "source": [
    "# Получаем список столбцов с пропусками\n",
    "columns_with_nulls = data.columns[data.isnull().any()].tolist()\n",
    "# Выводим результат\n",
    "print(\"Столбцы с пропущенными значениями:\")\n",
    "print(columns_with_nulls)"
   ]
  },
  {
   "cell_type": "markdown",
   "id": "eb8cbee1",
   "metadata": {},
   "source": [
    "### 2.1 Географическая широта"
   ]
  },
  {
   "cell_type": "code",
   "execution_count": null,
   "id": "99347e7e",
   "metadata": {},
   "outputs": [],
   "source": [
    "data['lat'].head(2)"
   ]
  },
  {
   "cell_type": "code",
   "execution_count": null,
   "id": "4f911e86",
   "metadata": {},
   "outputs": [],
   "source": [
    "# Заполнение медианой в пределах города\n",
    "data['lat'] = data.groupby('city')['lat'].transform(lambda x: x.fillna(x.median()))"
   ]
  },
  {
   "cell_type": "markdown",
   "id": "0beb28f6",
   "metadata": {},
   "source": [
    "Если модель будет плохо сходится - можно попробовать заполнять в пределах региона"
   ]
  },
  {
   "cell_type": "markdown",
   "id": "c2870ffe",
   "metadata": {},
   "source": [
    "### 2.2 Бренд"
   ]
  },
  {
   "cell_type": "markdown",
   "id": "e4293c79",
   "metadata": {},
   "source": [
    "Поскольку этот признак вводился на этапе обработки, огично заполнить то, что не категоризировалось, значением \"другие\""
   ]
  },
  {
   "cell_type": "code",
   "execution_count": null,
   "id": "28dc74a0",
   "metadata": {},
   "outputs": [],
   "source": [
    "# Находим самый частый бренд (моду)\n",
    "most_common_brand = data['brand'].mode()[0]\n",
    "# Заменяем пропуски на этот бренд\n",
    "data['brand'] = data['brand'].fillna(most_common_brand)"
   ]
  },
  {
   "cell_type": "code",
   "execution_count": null,
   "id": "59f430e3",
   "metadata": {},
   "outputs": [],
   "source": [
    "data['brand'].value_counts()"
   ]
  },
  {
   "cell_type": "markdown",
   "id": "4b68cee4",
   "metadata": {},
   "source": [
    "### 2.3 Тип заведения"
   ]
  },
  {
   "cell_type": "code",
   "execution_count": null,
   "id": "da7c5eeb",
   "metadata": {},
   "outputs": [],
   "source": [
    "data['type'] = data['type'].fillna('Other')"
   ]
  },
  {
   "cell_type": "code",
   "execution_count": null,
   "id": "78ccdee3",
   "metadata": {},
   "outputs": [],
   "source": [
    "data['type'].value_counts()"
   ]
  },
  {
   "cell_type": "markdown",
   "id": "491606f9",
   "metadata": {},
   "source": [
    "### 2.4 Тип поездки"
   ]
  },
  {
   "cell_type": "code",
   "execution_count": null,
   "id": "7456cb4e",
   "metadata": {},
   "outputs": [],
   "source": [
    "data['trip_type']"
   ]
  },
  {
   "cell_type": "markdown",
   "id": "0a2fdd03",
   "metadata": {},
   "source": [
    "Видимо я опрометчиво выбрала категории. Надо посмотреть на исходный"
   ]
  },
  {
   "cell_type": "markdown",
   "id": "4509208e",
   "metadata": {},
   "source": [
    "### 2.5 Тип гостей"
   ]
  },
  {
   "cell_type": "code",
   "execution_count": null,
   "id": "fc5358e0",
   "metadata": {},
   "outputs": [],
   "source": [
    "data['guests_type'].value_counts()"
   ]
  },
  {
   "cell_type": "markdown",
   "id": "7022a184",
   "metadata": {},
   "source": [
    "### 2.6 Категория комнаты"
   ]
  },
  {
   "cell_type": "code",
   "execution_count": null,
   "id": "6326d379",
   "metadata": {},
   "outputs": [],
   "source": [
    "data['category_room'].value_counts()"
   ]
  },
  {
   "cell_type": "markdown",
   "id": "c19090ca",
   "metadata": {},
   "source": [
    "### 2.7 Время остановки"
   ]
  },
  {
   "cell_type": "code",
   "execution_count": null,
   "id": "cf5733ca",
   "metadata": {},
   "outputs": [],
   "source": [
    "data['timeofstay'].value_counts()"
   ]
  },
  {
   "cell_type": "markdown",
   "id": "b2bab26f",
   "metadata": {},
   "source": [
    "## 3. Создание новых признаков"
   ]
  },
  {
   "cell_type": "markdown",
   "id": "7a94577b",
   "metadata": {},
   "source": [
    "## 4. Преборазование признаков"
   ]
  },
  {
   "cell_type": "markdown",
   "id": "6df75a65",
   "metadata": {},
   "source": [
    "## 5. Отбор признаков"
   ]
  }
 ],
 "metadata": {
  "kernelspec": {
   "display_name": "Python 3",
   "language": "python",
   "name": "python3"
  },
  "language_info": {
   "codemirror_mode": {
    "name": "ipython",
    "version": 3
   },
   "file_extension": ".py",
   "mimetype": "text/x-python",
   "name": "python",
   "nbconvert_exporter": "python",
   "pygments_lexer": "ipython3",
   "version": "3.12.4"
  }
 },
 "nbformat": 4,
 "nbformat_minor": 5
}
